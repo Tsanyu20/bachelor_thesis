{
  "cells": [
    {
      "cell_type": "markdown",
      "metadata": {
        "id": "view-in-github",
        "colab_type": "text"
      },
      "source": [
        "<a href=\"https://colab.research.google.com/github/Tsanyu20/bachelor_thesis/blob/main/Copy_of_Preview_Copy_of_Social_Media_Analysis_101.ipynb\" target=\"_parent\"><img src=\"https://colab.research.google.com/assets/colab-badge.svg\" alt=\"Open In Colab\"/></a>"
      ]
    },
    {
      "cell_type": "markdown",
      "metadata": {
        "id": "y6rVHL7U5qoD"
      },
      "source": [
        "# Social Media Analysis 101\n",
        "\n",
        "**Author**: [Yara Kyrychenko](https://www.sdmlab.psychol.cam.ac.uk/staff/yara-kyrychenko).\n",
        "\n",
        "\n",
        "\n",
        "**Contents**:\n",
        "1.   Scraping Telegram\n",
        "2.   Text Analysis\n",
        "3.   Statistics\n",
        "\n",
        "Add your secrets in the panel to the left under the key sign.\n",
        "  - You will need: `api_id`, `api_hash`, and `openai_key`.\n",
        "  \n",
        "Change runtime to GPU if you want to use GPU for open source zero shot classification.\n",
        "\n",
        "**Don't forget to validate your LLM labels for real studies!!!**\n"
      ]
    },
    {
      "cell_type": "code",
      "source": [
        "!git remote add origin https://github.com/Tsanyu20/bachelor_thesis.git"
      ],
      "metadata": {
        "colab": {
          "base_uri": "https://localhost:8080/"
        },
        "id": "KRSj3a79Bk_t",
        "outputId": "3298127c-3426-40fc-b7d9-150182a40f1c"
      },
      "execution_count": 1,
      "outputs": [
        {
          "output_type": "stream",
          "name": "stdout",
          "text": [
            "fatal: not a git repository (or any of the parent directories): .git\n"
          ]
        }
      ]
    },
    {
      "cell_type": "code",
      "execution_count": null,
      "metadata": {
        "colab": {
          "base_uri": "https://localhost:8080/"
        },
        "id": "7TegdcizaN4Z",
        "outputId": "9c8b5e9b-3f01-4daf-c26b-ae7ae27195b5"
      },
      "outputs": [
        {
          "output_type": "stream",
          "name": "stdout",
          "text": [
            "Requirement already satisfied: setuptools in /usr/local/lib/python3.11/dist-packages (78.1.1)\n",
            "Requirement already satisfied: gensim in /usr/local/lib/python3.11/dist-packages (4.3.3)\n",
            "Requirement already satisfied: numpy<2.0,>=1.18.5 in /usr/local/lib/python3.11/dist-packages (from gensim) (1.26.4)\n",
            "Requirement already satisfied: scipy<1.14.0,>=1.7.0 in /usr/local/lib/python3.11/dist-packages (from gensim) (1.13.1)\n",
            "Requirement already satisfied: smart-open>=1.8.1 in /usr/local/lib/python3.11/dist-packages (from gensim) (7.1.0)\n",
            "Requirement already satisfied: wrapt in /usr/local/lib/python3.11/dist-packages (from smart-open>=1.8.1->gensim) (1.17.2)\n"
          ]
        }
      ],
      "source": [
        "!pip install -U setuptools gensim"
      ]
    },
    {
      "cell_type": "code",
      "source": [
        "!pip show langdetect setuptools gensim"
      ],
      "metadata": {
        "colab": {
          "base_uri": "https://localhost:8080/"
        },
        "id": "AHzuBCL7A7vJ",
        "outputId": "f55e911e-ca45-485b-e594-e722097c7e06"
      },
      "execution_count": null,
      "outputs": [
        {
          "output_type": "stream",
          "name": "stdout",
          "text": [
            "\u001b[33mWARNING: Package(s) not found: langdetect\u001b[0m\u001b[33m\n",
            "\u001b[0mName: setuptools\n",
            "Version: 75.2.0\n",
            "Summary: Easily download, build, install, upgrade, and uninstall Python packages\n",
            "Home-page: \n",
            "Author: \n",
            "Author-email: Python Packaging Authority <distutils-sig@python.org>\n",
            "License: \n",
            "Location: /usr/local/lib/python3.11/dist-packages\n",
            "Requires: \n",
            "Required-by: arviz, cufflinks, datascience, ipython, kaggle, marisa-trie, osqp, pandas-gbq, pydata-google-auth, pytensor, spacy, tensorboard, tensorflow, thinc, types-setuptools, wandb\n",
            "---\n",
            "Name: gensim\n",
            "Version: 4.3.3\n",
            "Summary: Python framework for fast Vector Space Modelling\n",
            "Home-page: https://radimrehurek.com/gensim/\n",
            "Author: Radim Rehurek\n",
            "Author-email: me@radimrehurek.com\n",
            "License: LGPL-2.1-only\n",
            "Location: /usr/local/lib/python3.11/dist-packages\n",
            "Requires: numpy, scipy, smart-open\n",
            "Required-by: \n"
          ]
        }
      ]
    },
    {
      "cell_type": "code",
      "execution_count": null,
      "metadata": {
        "colab": {
          "base_uri": "https://localhost:8080/"
        },
        "id": "MPsMYITvacsT",
        "outputId": "c098adb6-df7d-4972-b713-81ec5f38b504"
      },
      "outputs": [
        {
          "output_type": "stream",
          "name": "stdout",
          "text": [
            "Collecting uk-core-news-sm==3.8.0\n",
            "  Downloading https://github.com/explosion/spacy-models/releases/download/uk_core_news_sm-3.8.0/uk_core_news_sm-3.8.0-py3-none-any.whl (14.9 MB)\n",
            "\u001b[2K     \u001b[90m━━━━━━━━━━━━━━━━━━━━━━━━━━━━━━━━━━━━━━━━\u001b[0m \u001b[32m14.9/14.9 MB\u001b[0m \u001b[31m46.2 MB/s\u001b[0m eta \u001b[36m0:00:00\u001b[0m\n",
            "\u001b[?25hRequirement already satisfied: pymorphy3>=1.0.0 in /usr/local/lib/python3.11/dist-packages (from uk-core-news-sm==3.8.0) (2.0.3)\n",
            "Requirement already satisfied: pymorphy3-dicts-uk in /usr/local/lib/python3.11/dist-packages (from uk-core-news-sm==3.8.0) (2.4.1.1.1663094765)\n",
            "Requirement already satisfied: dawg2-python>=0.8.0 in /usr/local/lib/python3.11/dist-packages (from pymorphy3>=1.0.0->uk-core-news-sm==3.8.0) (0.9.0)\n",
            "Requirement already satisfied: pymorphy3-dicts-ru in /usr/local/lib/python3.11/dist-packages (from pymorphy3>=1.0.0->uk-core-news-sm==3.8.0) (2.4.417150.4580142)\n",
            "Installing collected packages: uk-core-news-sm\n",
            "Successfully installed uk-core-news-sm-3.8.0\n",
            "\u001b[38;5;2m✔ Download and installation successful\u001b[0m\n",
            "You can now load the package via spacy.load('uk_core_news_sm')\n",
            "\u001b[38;5;3m⚠ Restart to reload dependencies\u001b[0m\n",
            "If you are in a Jupyter or Colab notebook, you may need to restart Python in\n",
            "order to load all the package's dependencies. You can do this by selecting the\n",
            "'Restart kernel' or 'Restart runtime' option.\n"
          ]
        }
      ],
      "source": [
        "!python -m spacy download uk_core_news_sm"
      ]
    },
    {
      "cell_type": "code",
      "execution_count": null,
      "metadata": {
        "colab": {
          "base_uri": "https://localhost:8080/"
        },
        "id": "Mpahbw2MiqZe",
        "outputId": "17bb21e1-e152-4843-9ca5-76550879137e"
      },
      "outputs": [
        {
          "output_type": "stream",
          "name": "stdout",
          "text": [
            "2024-12-08T07:55:40\n",
            "2024-12-08T04:20:37\n",
            "2024-11-28T13:39:49\n",
            "2024-11-05T02:59:50\n",
            "2024-11-05T02:27:36\n",
            "2024-11-04T11:59:33\n",
            "2024-11-04T11:41:38\n",
            "2024-11-01T01:07:29\n",
            "2024-10-30T07:28:09\n",
            "2024-10-30T06:49:42\n",
            "2024-10-30T06:42:24\n",
            "2024-10-30T06:26:27\n",
            "2024-10-30T05:31:14\n",
            "2024-10-30T03:47:52\n",
            "2024-10-30T02:18:45\n",
            "2024-10-30T02:18:45\n",
            "2024-10-30T02:18:45\n",
            "2024-10-30T02:18:45\n",
            "2024-10-29T04:47:20\n",
            "2024-10-28T13:43:20\n",
            "2024-10-28T04:56:04\n",
            "2024-10-03T05:31:31\n",
            "2024-10-01T04:24:40\n",
            "2024-10-01T01:25:06\n"
          ]
        }
      ],
      "source": [
        "import json\n",
        "import re\n",
        "\n",
        "with open('/content/dntormozok.json', encoding='utf-8') as f:\n",
        "  data = json.load(f)\n",
        "li = []\n",
        "for dic in data:\n",
        "  if re.findall(\"2024-(10|11|12)\", dic['date']):\n",
        "    print(dic['date'])\n"
      ]
    },
    {
      "cell_type": "code",
      "execution_count": null,
      "metadata": {
        "id": "9CEzXMw-g26x"
      },
      "outputs": [],
      "source": [
        "import glob\n",
        "import json\n",
        "\n",
        "# Use this function to get all non-empty text/caption\n",
        "def extract_text(json_files):\n",
        "  all_content=[]\n",
        "  for file in json_files:\n",
        "        try:\n",
        "            with open(file, 'r', encoding='utf-8') as f:\n",
        "                data = json.load(f)\n",
        "                for dic in data:\n",
        "                  if dic['text']:\n",
        "                    all_content.append(dic['text'])\n",
        "                  if dic['caption']:\n",
        "                    all_content.append(dic['caption'])\n",
        "\n",
        "        except json.JSONDecodeError as e:\n",
        "            print(f\"Error decoding JSON in file {file}: {e}\")\n",
        "\n",
        "  if all_content:\n",
        "    return all_content\n",
        "  else:\n",
        "      print(\"No data found in JSON files.\")\n",
        "      return None\n",
        "\n",
        "oc_json = glob.glob('/content/occupied/*.json')\n",
        "oc_content = extract_text(oc_json)\n",
        "de_json = glob.glob('/content/deoccupied/*.json')\n",
        "de_content = extract_text(de_json)"
      ]
    },
    {
      "cell_type": "code",
      "execution_count": null,
      "metadata": {
        "colab": {
          "base_uri": "https://localhost:8080/"
        },
        "id": "BiCg42rhnXxH",
        "outputId": "72654e15-0656-4a9a-ffa4-fbf41b3f1e35"
      },
      "outputs": [
        {
          "output_type": "stream",
          "name": "stdout",
          "text": [
            "Count for Russian: 167, Count for Ukrainian 219\n"
          ]
        }
      ],
      "source": [
        "from langdetect import detect\n",
        "\n",
        "count_ru = 0\n",
        "count_uk = 0\n",
        "\n",
        "de_uk = []\n",
        "for sentence in de_content:\n",
        "  try :\n",
        "    # Detect if it's uk or ru\n",
        "    lang = detect(sentence)\n",
        "    if (lang == 'ru'):\n",
        "      count_ru += 1\n",
        "    elif (lang == 'uk'):\n",
        "      count_uk += 1\n",
        "      de_uk.append(sentence)\n",
        "  except Exception as e:\n",
        "    # Remove the messages that can't be distinguished to one language\n",
        "    de_content.remove(sentence)\n",
        "\n",
        "print(f\"Count for Russian: {count_ru}, Count for Ukrainian {count_uk}\")"
      ]
    },
    {
      "cell_type": "code",
      "execution_count": null,
      "metadata": {
        "id": "hIvynhbpdXIF"
      },
      "outputs": [],
      "source": [
        "import spacy\n",
        "\n",
        "#nlp_r = spacy.load('ru_core_news_sm')\n",
        "nlp_u = spacy.load('uk_core_news_sm')\n",
        "\n",
        "doc = []\n",
        "for sen in de_uk:\n",
        "  doc.append(nlp_u(sen))\n"
      ]
    },
    {
      "cell_type": "code",
      "execution_count": null,
      "metadata": {
        "colab": {
          "base_uri": "https://localhost:8080/",
          "height": 763
        },
        "id": "zggE7ZzseP82",
        "outputId": "5679dbef-6160-47c5-bb7e-0971d148fe77"
      },
      "outputs": [
        {
          "output_type": "stream",
          "name": "stderr",
          "text": [
            "/usr/local/lib/python3.11/dist-packages/spacy/displacy/__init__.py:106: UserWarning: [W011] It looks like you're calling displacy.serve from within a Jupyter notebook or a similar environment. This likely means you're already running a local web server, so there's no need to make displaCy start another one. Instead, you should be able to replace displacy.serve with displacy.render to show the visualization.\n",
            "  warnings.warn(Warnings.W011)\n"
          ]
        },
        {
          "output_type": "display_data",
          "data": {
            "text/plain": [
              "<IPython.core.display.HTML object>"
            ],
            "text/html": [
              "<span class=\"tex2jax_ignore\"><!DOCTYPE html>\n",
              "<html lang=\"uk\">\n",
              "    <head>\n",
              "        <title>displaCy</title>\n",
              "    </head>\n",
              "\n",
              "    <body style=\"font-size: 16px; font-family: -apple-system, BlinkMacSystemFont, 'Segoe UI', Helvetica, Arial, sans-serif, 'Apple Color Emoji', 'Segoe UI Emoji', 'Segoe UI Symbol'; padding: 4rem 2rem; direction: ltr\">\n",
              "<figure style=\"margin-bottom: 6rem\">\n",
              "<svg xmlns=\"http://www.w3.org/2000/svg\" xmlns:xlink=\"http://www.w3.org/1999/xlink\" xml:lang=\"uk\" id=\"c8908e7992274951a113d8444aff28c1-0\" class=\"displacy\" width=\"10025\" height=\"487.0\" direction=\"ltr\" style=\"max-width: none; height: 487.0px; color: #000000; background: #ffffff; font-family: Arial; direction: ltr\">\n",
              "<text class=\"displacy-token\" fill=\"currentColor\" text-anchor=\"middle\" y=\"397.0\">\n",
              "    <tspan class=\"displacy-word\" fill=\"currentColor\" x=\"50\">Зустрічі</tspan>\n",
              "    <tspan class=\"displacy-tag\" dy=\"2em\" fill=\"currentColor\" x=\"50\">NOUN</tspan>\n",
              "</text>\n",
              "\n",
              "<text class=\"displacy-token\" fill=\"currentColor\" text-anchor=\"middle\" y=\"397.0\">\n",
              "    <tspan class=\"displacy-word\" fill=\"currentColor\" x=\"225\">між</tspan>\n",
              "    <tspan class=\"displacy-tag\" dy=\"2em\" fill=\"currentColor\" x=\"225\">ADP</tspan>\n",
              "</text>\n",
              "\n",
              "<text class=\"displacy-token\" fill=\"currentColor\" text-anchor=\"middle\" y=\"397.0\">\n",
              "    <tspan class=\"displacy-word\" fill=\"currentColor\" x=\"400\">Україною</tspan>\n",
              "    <tspan class=\"displacy-tag\" dy=\"2em\" fill=\"currentColor\" x=\"400\">PROPN</tspan>\n",
              "</text>\n",
              "\n",
              "<text class=\"displacy-token\" fill=\"currentColor\" text-anchor=\"middle\" y=\"397.0\">\n",
              "    <tspan class=\"displacy-word\" fill=\"currentColor\" x=\"575\">та</tspan>\n",
              "    <tspan class=\"displacy-tag\" dy=\"2em\" fill=\"currentColor\" x=\"575\">CCONJ</tspan>\n",
              "</text>\n",
              "\n",
              "<text class=\"displacy-token\" fill=\"currentColor\" text-anchor=\"middle\" y=\"397.0\">\n",
              "    <tspan class=\"displacy-word\" fill=\"currentColor\" x=\"750\">США:</tspan>\n",
              "    <tspan class=\"displacy-tag\" dy=\"2em\" fill=\"currentColor\" x=\"750\">PROPN</tspan>\n",
              "</text>\n",
              "\n",
              "<text class=\"displacy-token\" fill=\"currentColor\" text-anchor=\"middle\" y=\"397.0\">\n",
              "    <tspan class=\"displacy-word\" fill=\"currentColor\" x=\"925\">плани</tspan>\n",
              "    <tspan class=\"displacy-tag\" dy=\"2em\" fill=\"currentColor\" x=\"925\">NOUN</tspan>\n",
              "</text>\n",
              "\n",
              "<text class=\"displacy-token\" fill=\"currentColor\" text-anchor=\"middle\" y=\"397.0\">\n",
              "    <tspan class=\"displacy-word\" fill=\"currentColor\" x=\"1100\">Зеленського</tspan>\n",
              "    <tspan class=\"displacy-tag\" dy=\"2em\" fill=\"currentColor\" x=\"1100\">PROPN</tspan>\n",
              "</text>\n",
              "\n",
              "<text class=\"displacy-token\" fill=\"currentColor\" text-anchor=\"middle\" y=\"397.0\">\n",
              "    <tspan class=\"displacy-word\" fill=\"currentColor\" x=\"1275\">\n",
              "\n",
              "</tspan>\n",
              "    <tspan class=\"displacy-tag\" dy=\"2em\" fill=\"currentColor\" x=\"1275\">SPACE</tspan>\n",
              "</text>\n",
              "\n",
              "<text class=\"displacy-token\" fill=\"currentColor\" text-anchor=\"middle\" y=\"397.0\">\n",
              "    <tspan class=\"displacy-word\" fill=\"currentColor\" x=\"1450\">Президент</tspan>\n",
              "    <tspan class=\"displacy-tag\" dy=\"2em\" fill=\"currentColor\" x=\"1450\">NOUN</tspan>\n",
              "</text>\n",
              "\n",
              "<text class=\"displacy-token\" fill=\"currentColor\" text-anchor=\"middle\" y=\"397.0\">\n",
              "    <tspan class=\"displacy-word\" fill=\"currentColor\" x=\"1625\">України</tspan>\n",
              "    <tspan class=\"displacy-tag\" dy=\"2em\" fill=\"currentColor\" x=\"1625\">PROPN</tspan>\n",
              "</text>\n",
              "\n",
              "<text class=\"displacy-token\" fill=\"currentColor\" text-anchor=\"middle\" y=\"397.0\">\n",
              "    <tspan class=\"displacy-word\" fill=\"currentColor\" x=\"1800\">Володимир</tspan>\n",
              "    <tspan class=\"displacy-tag\" dy=\"2em\" fill=\"currentColor\" x=\"1800\">PROPN</tspan>\n",
              "</text>\n",
              "\n",
              "<text class=\"displacy-token\" fill=\"currentColor\" text-anchor=\"middle\" y=\"397.0\">\n",
              "    <tspan class=\"displacy-word\" fill=\"currentColor\" x=\"1975\">Зеленський</tspan>\n",
              "    <tspan class=\"displacy-tag\" dy=\"2em\" fill=\"currentColor\" x=\"1975\">PROPN</tspan>\n",
              "</text>\n",
              "\n",
              "<text class=\"displacy-token\" fill=\"currentColor\" text-anchor=\"middle\" y=\"397.0\">\n",
              "    <tspan class=\"displacy-word\" fill=\"currentColor\" x=\"2150\">анонсував,</tspan>\n",
              "    <tspan class=\"displacy-tag\" dy=\"2em\" fill=\"currentColor\" x=\"2150\">VERB</tspan>\n",
              "</text>\n",
              "\n",
              "<text class=\"displacy-token\" fill=\"currentColor\" text-anchor=\"middle\" y=\"397.0\">\n",
              "    <tspan class=\"displacy-word\" fill=\"currentColor\" x=\"2325\">що</tspan>\n",
              "    <tspan class=\"displacy-tag\" dy=\"2em\" fill=\"currentColor\" x=\"2325\">SCONJ</tspan>\n",
              "</text>\n",
              "\n",
              "<text class=\"displacy-token\" fill=\"currentColor\" text-anchor=\"middle\" y=\"397.0\">\n",
              "    <tspan class=\"displacy-word\" fill=\"currentColor\" x=\"2500\">спочатку</tspan>\n",
              "    <tspan class=\"displacy-tag\" dy=\"2em\" fill=\"currentColor\" x=\"2500\">ADV</tspan>\n",
              "</text>\n",
              "\n",
              "<text class=\"displacy-token\" fill=\"currentColor\" text-anchor=\"middle\" y=\"397.0\">\n",
              "    <tspan class=\"displacy-word\" fill=\"currentColor\" x=\"2675\">відбудуться</tspan>\n",
              "    <tspan class=\"displacy-tag\" dy=\"2em\" fill=\"currentColor\" x=\"2675\">VERB</tspan>\n",
              "</text>\n",
              "\n",
              "<text class=\"displacy-token\" fill=\"currentColor\" text-anchor=\"middle\" y=\"397.0\">\n",
              "    <tspan class=\"displacy-word\" fill=\"currentColor\" x=\"2850\">командні</tspan>\n",
              "    <tspan class=\"displacy-tag\" dy=\"2em\" fill=\"currentColor\" x=\"2850\">ADJ</tspan>\n",
              "</text>\n",
              "\n",
              "<text class=\"displacy-token\" fill=\"currentColor\" text-anchor=\"middle\" y=\"397.0\">\n",
              "    <tspan class=\"displacy-word\" fill=\"currentColor\" x=\"3025\">зустрічі</tspan>\n",
              "    <tspan class=\"displacy-tag\" dy=\"2em\" fill=\"currentColor\" x=\"3025\">NOUN</tspan>\n",
              "</text>\n",
              "\n",
              "<text class=\"displacy-token\" fill=\"currentColor\" text-anchor=\"middle\" y=\"397.0\">\n",
              "    <tspan class=\"displacy-word\" fill=\"currentColor\" x=\"3200\">адміністрацій</tspan>\n",
              "    <tspan class=\"displacy-tag\" dy=\"2em\" fill=\"currentColor\" x=\"3200\">NOUN</tspan>\n",
              "</text>\n",
              "\n",
              "<text class=\"displacy-token\" fill=\"currentColor\" text-anchor=\"middle\" y=\"397.0\">\n",
              "    <tspan class=\"displacy-word\" fill=\"currentColor\" x=\"3375\">України</tspan>\n",
              "    <tspan class=\"displacy-tag\" dy=\"2em\" fill=\"currentColor\" x=\"3375\">PROPN</tspan>\n",
              "</text>\n",
              "\n",
              "<text class=\"displacy-token\" fill=\"currentColor\" text-anchor=\"middle\" y=\"397.0\">\n",
              "    <tspan class=\"displacy-word\" fill=\"currentColor\" x=\"3550\">та</tspan>\n",
              "    <tspan class=\"displacy-tag\" dy=\"2em\" fill=\"currentColor\" x=\"3550\">CCONJ</tspan>\n",
              "</text>\n",
              "\n",
              "<text class=\"displacy-token\" fill=\"currentColor\" text-anchor=\"middle\" y=\"397.0\">\n",
              "    <tspan class=\"displacy-word\" fill=\"currentColor\" x=\"3725\">США.</tspan>\n",
              "    <tspan class=\"displacy-tag\" dy=\"2em\" fill=\"currentColor\" x=\"3725\">PROPN</tspan>\n",
              "</text>\n",
              "\n",
              "<text class=\"displacy-token\" fill=\"currentColor\" text-anchor=\"middle\" y=\"397.0\">\n",
              "    <tspan class=\"displacy-word\" fill=\"currentColor\" x=\"3900\">Після</tspan>\n",
              "    <tspan class=\"displacy-tag\" dy=\"2em\" fill=\"currentColor\" x=\"3900\">ADP</tspan>\n",
              "</text>\n",
              "\n",
              "<text class=\"displacy-token\" fill=\"currentColor\" text-anchor=\"middle\" y=\"397.0\">\n",
              "    <tspan class=\"displacy-word\" fill=\"currentColor\" x=\"4075\">цього</tspan>\n",
              "    <tspan class=\"displacy-tag\" dy=\"2em\" fill=\"currentColor\" x=\"4075\">PRON</tspan>\n",
              "</text>\n",
              "\n",
              "<text class=\"displacy-token\" fill=\"currentColor\" text-anchor=\"middle\" y=\"397.0\">\n",
              "    <tspan class=\"displacy-word\" fill=\"currentColor\" x=\"4250\">планується</tspan>\n",
              "    <tspan class=\"displacy-tag\" dy=\"2em\" fill=\"currentColor\" x=\"4250\">VERB</tspan>\n",
              "</text>\n",
              "\n",
              "<text class=\"displacy-token\" fill=\"currentColor\" text-anchor=\"middle\" y=\"397.0\">\n",
              "    <tspan class=\"displacy-word\" fill=\"currentColor\" x=\"4425\">робота</tspan>\n",
              "    <tspan class=\"displacy-tag\" dy=\"2em\" fill=\"currentColor\" x=\"4425\">NOUN</tspan>\n",
              "</text>\n",
              "\n",
              "<text class=\"displacy-token\" fill=\"currentColor\" text-anchor=\"middle\" y=\"397.0\">\n",
              "    <tspan class=\"displacy-word\" fill=\"currentColor\" x=\"4600\">над</tspan>\n",
              "    <tspan class=\"displacy-tag\" dy=\"2em\" fill=\"currentColor\" x=\"4600\">ADP</tspan>\n",
              "</text>\n",
              "\n",
              "<text class=\"displacy-token\" fill=\"currentColor\" text-anchor=\"middle\" y=\"397.0\">\n",
              "    <tspan class=\"displacy-word\" fill=\"currentColor\" x=\"4775\">зустріччю</tspan>\n",
              "    <tspan class=\"displacy-tag\" dy=\"2em\" fill=\"currentColor\" x=\"4775\">NOUN</tspan>\n",
              "</text>\n",
              "\n",
              "<text class=\"displacy-token\" fill=\"currentColor\" text-anchor=\"middle\" y=\"397.0\">\n",
              "    <tspan class=\"displacy-word\" fill=\"currentColor\" x=\"4950\">з</tspan>\n",
              "    <tspan class=\"displacy-tag\" dy=\"2em\" fill=\"currentColor\" x=\"4950\">ADP</tspan>\n",
              "</text>\n",
              "\n",
              "<text class=\"displacy-token\" fill=\"currentColor\" text-anchor=\"middle\" y=\"397.0\">\n",
              "    <tspan class=\"displacy-word\" fill=\"currentColor\" x=\"5125\">президентом</tspan>\n",
              "    <tspan class=\"displacy-tag\" dy=\"2em\" fill=\"currentColor\" x=\"5125\">NOUN</tspan>\n",
              "</text>\n",
              "\n",
              "<text class=\"displacy-token\" fill=\"currentColor\" text-anchor=\"middle\" y=\"397.0\">\n",
              "    <tspan class=\"displacy-word\" fill=\"currentColor\" x=\"5300\">США</tspan>\n",
              "    <tspan class=\"displacy-tag\" dy=\"2em\" fill=\"currentColor\" x=\"5300\">PROPN</tspan>\n",
              "</text>\n",
              "\n",
              "<text class=\"displacy-token\" fill=\"currentColor\" text-anchor=\"middle\" y=\"397.0\">\n",
              "    <tspan class=\"displacy-word\" fill=\"currentColor\" x=\"5475\">Дональдом</tspan>\n",
              "    <tspan class=\"displacy-tag\" dy=\"2em\" fill=\"currentColor\" x=\"5475\">PROPN</tspan>\n",
              "</text>\n",
              "\n",
              "<text class=\"displacy-token\" fill=\"currentColor\" text-anchor=\"middle\" y=\"397.0\">\n",
              "    <tspan class=\"displacy-word\" fill=\"currentColor\" x=\"5650\">Трампом.</tspan>\n",
              "    <tspan class=\"displacy-tag\" dy=\"2em\" fill=\"currentColor\" x=\"5650\">PUNCT</tspan>\n",
              "</text>\n",
              "\n",
              "<text class=\"displacy-token\" fill=\"currentColor\" text-anchor=\"middle\" y=\"397.0\">\n",
              "    <tspan class=\"displacy-word\" fill=\"currentColor\" x=\"5825\">\n",
              "\n",
              "</tspan>\n",
              "    <tspan class=\"displacy-tag\" dy=\"2em\" fill=\"currentColor\" x=\"5825\">SPACE</tspan>\n",
              "</text>\n",
              "\n",
              "<text class=\"displacy-token\" fill=\"currentColor\" text-anchor=\"middle\" y=\"397.0\">\n",
              "    <tspan class=\"displacy-word\" fill=\"currentColor\" x=\"6000\">На</tspan>\n",
              "    <tspan class=\"displacy-tag\" dy=\"2em\" fill=\"currentColor\" x=\"6000\">ADP</tspan>\n",
              "</text>\n",
              "\n",
              "<text class=\"displacy-token\" fill=\"currentColor\" text-anchor=\"middle\" y=\"397.0\">\n",
              "    <tspan class=\"displacy-word\" fill=\"currentColor\" x=\"6175\">запитання</tspan>\n",
              "    <tspan class=\"displacy-tag\" dy=\"2em\" fill=\"currentColor\" x=\"6175\">NOUN</tspan>\n",
              "</text>\n",
              "\n",
              "<text class=\"displacy-token\" fill=\"currentColor\" text-anchor=\"middle\" y=\"397.0\">\n",
              "    <tspan class=\"displacy-word\" fill=\"currentColor\" x=\"6350\">про</tspan>\n",
              "    <tspan class=\"displacy-tag\" dy=\"2em\" fill=\"currentColor\" x=\"6350\">ADP</tspan>\n",
              "</text>\n",
              "\n",
              "<text class=\"displacy-token\" fill=\"currentColor\" text-anchor=\"middle\" y=\"397.0\">\n",
              "    <tspan class=\"displacy-word\" fill=\"currentColor\" x=\"6525\">можливе</tspan>\n",
              "    <tspan class=\"displacy-tag\" dy=\"2em\" fill=\"currentColor\" x=\"6525\">ADJ</tspan>\n",
              "</text>\n",
              "\n",
              "<text class=\"displacy-token\" fill=\"currentColor\" text-anchor=\"middle\" y=\"397.0\">\n",
              "    <tspan class=\"displacy-word\" fill=\"currentColor\" x=\"6700\">скорочення</tspan>\n",
              "    <tspan class=\"displacy-tag\" dy=\"2em\" fill=\"currentColor\" x=\"6700\">NOUN</tspan>\n",
              "</text>\n",
              "\n",
              "<text class=\"displacy-token\" fill=\"currentColor\" text-anchor=\"middle\" y=\"397.0\">\n",
              "    <tspan class=\"displacy-word\" fill=\"currentColor\" x=\"6875\">допомоги</tspan>\n",
              "    <tspan class=\"displacy-tag\" dy=\"2em\" fill=\"currentColor\" x=\"6875\">NOUN</tspan>\n",
              "</text>\n",
              "\n",
              "<text class=\"displacy-token\" fill=\"currentColor\" text-anchor=\"middle\" y=\"397.0\">\n",
              "    <tspan class=\"displacy-word\" fill=\"currentColor\" x=\"7050\">з</tspan>\n",
              "    <tspan class=\"displacy-tag\" dy=\"2em\" fill=\"currentColor\" x=\"7050\">ADP</tspan>\n",
              "</text>\n",
              "\n",
              "<text class=\"displacy-token\" fill=\"currentColor\" text-anchor=\"middle\" y=\"397.0\">\n",
              "    <tspan class=\"displacy-word\" fill=\"currentColor\" x=\"7225\">боку</tspan>\n",
              "    <tspan class=\"displacy-tag\" dy=\"2em\" fill=\"currentColor\" x=\"7225\">NOUN</tspan>\n",
              "</text>\n",
              "\n",
              "<text class=\"displacy-token\" fill=\"currentColor\" text-anchor=\"middle\" y=\"397.0\">\n",
              "    <tspan class=\"displacy-word\" fill=\"currentColor\" x=\"7400\">США,</tspan>\n",
              "    <tspan class=\"displacy-tag\" dy=\"2em\" fill=\"currentColor\" x=\"7400\">PROPN</tspan>\n",
              "</text>\n",
              "\n",
              "<text class=\"displacy-token\" fill=\"currentColor\" text-anchor=\"middle\" y=\"397.0\">\n",
              "    <tspan class=\"displacy-word\" fill=\"currentColor\" x=\"7575\">Зеленський</tspan>\n",
              "    <tspan class=\"displacy-tag\" dy=\"2em\" fill=\"currentColor\" x=\"7575\">PROPN</tspan>\n",
              "</text>\n",
              "\n",
              "<text class=\"displacy-token\" fill=\"currentColor\" text-anchor=\"middle\" y=\"397.0\">\n",
              "    <tspan class=\"displacy-word\" fill=\"currentColor\" x=\"7750\">заявив: «</tspan>\n",
              "    <tspan class=\"displacy-tag\" dy=\"2em\" fill=\"currentColor\" x=\"7750\">VERB</tspan>\n",
              "</text>\n",
              "\n",
              "<text class=\"displacy-token\" fill=\"currentColor\" text-anchor=\"middle\" y=\"397.0\">\n",
              "    <tspan class=\"displacy-word\" fill=\"currentColor\" x=\"7925\">Поки</tspan>\n",
              "    <tspan class=\"displacy-tag\" dy=\"2em\" fill=\"currentColor\" x=\"7925\">ADV</tspan>\n",
              "</text>\n",
              "\n",
              "<text class=\"displacy-token\" fill=\"currentColor\" text-anchor=\"middle\" y=\"397.0\">\n",
              "    <tspan class=\"displacy-word\" fill=\"currentColor\" x=\"8100\">що</tspan>\n",
              "    <tspan class=\"displacy-tag\" dy=\"2em\" fill=\"currentColor\" x=\"8100\">PART</tspan>\n",
              "</text>\n",
              "\n",
              "<text class=\"displacy-token\" fill=\"currentColor\" text-anchor=\"middle\" y=\"397.0\">\n",
              "    <tspan class=\"displacy-word\" fill=\"currentColor\" x=\"8275\">все</tspan>\n",
              "    <tspan class=\"displacy-tag\" dy=\"2em\" fill=\"currentColor\" x=\"8275\">PRON</tspan>\n",
              "</text>\n",
              "\n",
              "<text class=\"displacy-token\" fill=\"currentColor\" text-anchor=\"middle\" y=\"397.0\">\n",
              "    <tspan class=\"displacy-word\" fill=\"currentColor\" x=\"8450\">йде,</tspan>\n",
              "    <tspan class=\"displacy-tag\" dy=\"2em\" fill=\"currentColor\" x=\"8450\">VERB</tspan>\n",
              "</text>\n",
              "\n",
              "<text class=\"displacy-token\" fill=\"currentColor\" text-anchor=\"middle\" y=\"397.0\">\n",
              "    <tspan class=\"displacy-word\" fill=\"currentColor\" x=\"8625\">як</tspan>\n",
              "    <tspan class=\"displacy-tag\" dy=\"2em\" fill=\"currentColor\" x=\"8625\">SCONJ</tspan>\n",
              "</text>\n",
              "\n",
              "<text class=\"displacy-token\" fill=\"currentColor\" text-anchor=\"middle\" y=\"397.0\">\n",
              "    <tspan class=\"displacy-word\" fill=\"currentColor\" x=\"8800\">іде».</tspan>\n",
              "    <tspan class=\"displacy-tag\" dy=\"2em\" fill=\"currentColor\" x=\"8800\">PUNCT</tspan>\n",
              "</text>\n",
              "\n",
              "<text class=\"displacy-token\" fill=\"currentColor\" text-anchor=\"middle\" y=\"397.0\">\n",
              "    <tspan class=\"displacy-word\" fill=\"currentColor\" x=\"8975\">\n",
              "\n",
              "</tspan>\n",
              "    <tspan class=\"displacy-tag\" dy=\"2em\" fill=\"currentColor\" x=\"8975\">SPACE</tspan>\n",
              "</text>\n",
              "\n",
              "<text class=\"displacy-token\" fill=\"currentColor\" text-anchor=\"middle\" y=\"397.0\">\n",
              "    <tspan class=\"displacy-word\" fill=\"currentColor\" x=\"9150\">🔗</tspan>\n",
              "    <tspan class=\"displacy-tag\" dy=\"2em\" fill=\"currentColor\" x=\"9150\">NOUN</tspan>\n",
              "</text>\n",
              "\n",
              "<text class=\"displacy-token\" fill=\"currentColor\" text-anchor=\"middle\" y=\"397.0\">\n",
              "    <tspan class=\"displacy-word\" fill=\"currentColor\" x=\"9325\">Далі</tspan>\n",
              "    <tspan class=\"displacy-tag\" dy=\"2em\" fill=\"currentColor\" x=\"9325\">ADV</tspan>\n",
              "</text>\n",
              "\n",
              "<text class=\"displacy-token\" fill=\"currentColor\" text-anchor=\"middle\" y=\"397.0\">\n",
              "    <tspan class=\"displacy-word\" fill=\"currentColor\" x=\"9500\">стежте</tspan>\n",
              "    <tspan class=\"displacy-tag\" dy=\"2em\" fill=\"currentColor\" x=\"9500\">VERB</tspan>\n",
              "</text>\n",
              "\n",
              "<text class=\"displacy-token\" fill=\"currentColor\" text-anchor=\"middle\" y=\"397.0\">\n",
              "    <tspan class=\"displacy-word\" fill=\"currentColor\" x=\"9675\">за</tspan>\n",
              "    <tspan class=\"displacy-tag\" dy=\"2em\" fill=\"currentColor\" x=\"9675\">ADP</tspan>\n",
              "</text>\n",
              "\n",
              "<text class=\"displacy-token\" fill=\"currentColor\" text-anchor=\"middle\" y=\"397.0\">\n",
              "    <tspan class=\"displacy-word\" fill=\"currentColor\" x=\"9850\">новинами!</tspan>\n",
              "    <tspan class=\"displacy-tag\" dy=\"2em\" fill=\"currentColor\" x=\"9850\">NOUN</tspan>\n",
              "</text>\n",
              "\n",
              "<g class=\"displacy-arrow\">\n",
              "    <path class=\"displacy-arc\" id=\"arrow-c8908e7992274951a113d8444aff28c1-0-0\" stroke-width=\"2px\" d=\"M70,352.0 C70,2.0 2150.0,2.0 2150.0,352.0\" fill=\"none\" stroke=\"currentColor\"/>\n",
              "    <text dy=\"1.25em\" style=\"font-size: 0.8em; letter-spacing: 1px\">\n",
              "        <textPath xlink:href=\"#arrow-c8908e7992274951a113d8444aff28c1-0-0\" class=\"displacy-label\" startOffset=\"50%\" side=\"left\" fill=\"currentColor\" text-anchor=\"middle\">obj</textPath>\n",
              "    </text>\n",
              "    <path class=\"displacy-arrowhead\" d=\"M70,354.0 L62,342.0 78,342.0\" fill=\"currentColor\"/>\n",
              "</g>\n",
              "\n",
              "<g class=\"displacy-arrow\">\n",
              "    <path class=\"displacy-arc\" id=\"arrow-c8908e7992274951a113d8444aff28c1-0-1\" stroke-width=\"2px\" d=\"M245,352.0 C245,264.5 385.0,264.5 385.0,352.0\" fill=\"none\" stroke=\"currentColor\"/>\n",
              "    <text dy=\"1.25em\" style=\"font-size: 0.8em; letter-spacing: 1px\">\n",
              "        <textPath xlink:href=\"#arrow-c8908e7992274951a113d8444aff28c1-0-1\" class=\"displacy-label\" startOffset=\"50%\" side=\"left\" fill=\"currentColor\" text-anchor=\"middle\">case</textPath>\n",
              "    </text>\n",
              "    <path class=\"displacy-arrowhead\" d=\"M245,354.0 L237,342.0 253,342.0\" fill=\"currentColor\"/>\n",
              "</g>\n",
              "\n",
              "<g class=\"displacy-arrow\">\n",
              "    <path class=\"displacy-arc\" id=\"arrow-c8908e7992274951a113d8444aff28c1-0-2\" stroke-width=\"2px\" d=\"M70,352.0 C70,177.0 390.0,177.0 390.0,352.0\" fill=\"none\" stroke=\"currentColor\"/>\n",
              "    <text dy=\"1.25em\" style=\"font-size: 0.8em; letter-spacing: 1px\">\n",
              "        <textPath xlink:href=\"#arrow-c8908e7992274951a113d8444aff28c1-0-2\" class=\"displacy-label\" startOffset=\"50%\" side=\"left\" fill=\"currentColor\" text-anchor=\"middle\">nmod</textPath>\n",
              "    </text>\n",
              "    <path class=\"displacy-arrowhead\" d=\"M390.0,354.0 L398.0,342.0 382.0,342.0\" fill=\"currentColor\"/>\n",
              "</g>\n",
              "\n",
              "<g class=\"displacy-arrow\">\n",
              "    <path class=\"displacy-arc\" id=\"arrow-c8908e7992274951a113d8444aff28c1-0-3\" stroke-width=\"2px\" d=\"M595,352.0 C595,264.5 735.0,264.5 735.0,352.0\" fill=\"none\" stroke=\"currentColor\"/>\n",
              "    <text dy=\"1.25em\" style=\"font-size: 0.8em; letter-spacing: 1px\">\n",
              "        <textPath xlink:href=\"#arrow-c8908e7992274951a113d8444aff28c1-0-3\" class=\"displacy-label\" startOffset=\"50%\" side=\"left\" fill=\"currentColor\" text-anchor=\"middle\">cc</textPath>\n",
              "    </text>\n",
              "    <path class=\"displacy-arrowhead\" d=\"M595,354.0 L587,342.0 603,342.0\" fill=\"currentColor\"/>\n",
              "</g>\n",
              "\n",
              "<g class=\"displacy-arrow\">\n",
              "    <path class=\"displacy-arc\" id=\"arrow-c8908e7992274951a113d8444aff28c1-0-4\" stroke-width=\"2px\" d=\"M420,352.0 C420,177.0 740.0,177.0 740.0,352.0\" fill=\"none\" stroke=\"currentColor\"/>\n",
              "    <text dy=\"1.25em\" style=\"font-size: 0.8em; letter-spacing: 1px\">\n",
              "        <textPath xlink:href=\"#arrow-c8908e7992274951a113d8444aff28c1-0-4\" class=\"displacy-label\" startOffset=\"50%\" side=\"left\" fill=\"currentColor\" text-anchor=\"middle\">conj</textPath>\n",
              "    </text>\n",
              "    <path class=\"displacy-arrowhead\" d=\"M740.0,354.0 L748.0,342.0 732.0,342.0\" fill=\"currentColor\"/>\n",
              "</g>\n",
              "\n",
              "<g class=\"displacy-arrow\">\n",
              "    <path class=\"displacy-arc\" id=\"arrow-c8908e7992274951a113d8444aff28c1-0-5\" stroke-width=\"2px\" d=\"M70,352.0 C70,89.5 920.0,89.5 920.0,352.0\" fill=\"none\" stroke=\"currentColor\"/>\n",
              "    <text dy=\"1.25em\" style=\"font-size: 0.8em; letter-spacing: 1px\">\n",
              "        <textPath xlink:href=\"#arrow-c8908e7992274951a113d8444aff28c1-0-5\" class=\"displacy-label\" startOffset=\"50%\" side=\"left\" fill=\"currentColor\" text-anchor=\"middle\">appos</textPath>\n",
              "    </text>\n",
              "    <path class=\"displacy-arrowhead\" d=\"M920.0,354.0 L928.0,342.0 912.0,342.0\" fill=\"currentColor\"/>\n",
              "</g>\n",
              "\n",
              "<g class=\"displacy-arrow\">\n",
              "    <path class=\"displacy-arc\" id=\"arrow-c8908e7992274951a113d8444aff28c1-0-6\" stroke-width=\"2px\" d=\"M945,352.0 C945,264.5 1085.0,264.5 1085.0,352.0\" fill=\"none\" stroke=\"currentColor\"/>\n",
              "    <text dy=\"1.25em\" style=\"font-size: 0.8em; letter-spacing: 1px\">\n",
              "        <textPath xlink:href=\"#arrow-c8908e7992274951a113d8444aff28c1-0-6\" class=\"displacy-label\" startOffset=\"50%\" side=\"left\" fill=\"currentColor\" text-anchor=\"middle\">nmod</textPath>\n",
              "    </text>\n",
              "    <path class=\"displacy-arrowhead\" d=\"M1085.0,354.0 L1093.0,342.0 1077.0,342.0\" fill=\"currentColor\"/>\n",
              "</g>\n",
              "\n",
              "<g class=\"displacy-arrow\">\n",
              "    <path class=\"displacy-arc\" id=\"arrow-c8908e7992274951a113d8444aff28c1-0-7\" stroke-width=\"2px\" d=\"M1120,352.0 C1120,264.5 1260.0,264.5 1260.0,352.0\" fill=\"none\" stroke=\"currentColor\"/>\n",
              "    <text dy=\"1.25em\" style=\"font-size: 0.8em; letter-spacing: 1px\">\n",
              "        <textPath xlink:href=\"#arrow-c8908e7992274951a113d8444aff28c1-0-7\" class=\"displacy-label\" startOffset=\"50%\" side=\"left\" fill=\"currentColor\" text-anchor=\"middle\">dep</textPath>\n",
              "    </text>\n",
              "    <path class=\"displacy-arrowhead\" d=\"M1260.0,354.0 L1268.0,342.0 1252.0,342.0\" fill=\"currentColor\"/>\n",
              "</g>\n",
              "\n",
              "<g class=\"displacy-arrow\">\n",
              "    <path class=\"displacy-arc\" id=\"arrow-c8908e7992274951a113d8444aff28c1-0-8\" stroke-width=\"2px\" d=\"M1470,352.0 C1470,89.5 2145.0,89.5 2145.0,352.0\" fill=\"none\" stroke=\"currentColor\"/>\n",
              "    <text dy=\"1.25em\" style=\"font-size: 0.8em; letter-spacing: 1px\">\n",
              "        <textPath xlink:href=\"#arrow-c8908e7992274951a113d8444aff28c1-0-8\" class=\"displacy-label\" startOffset=\"50%\" side=\"left\" fill=\"currentColor\" text-anchor=\"middle\">nsubj</textPath>\n",
              "    </text>\n",
              "    <path class=\"displacy-arrowhead\" d=\"M1470,354.0 L1462,342.0 1478,342.0\" fill=\"currentColor\"/>\n",
              "</g>\n",
              "\n",
              "<g class=\"displacy-arrow\">\n",
              "    <path class=\"displacy-arc\" id=\"arrow-c8908e7992274951a113d8444aff28c1-0-9\" stroke-width=\"2px\" d=\"M1470,352.0 C1470,264.5 1610.0,264.5 1610.0,352.0\" fill=\"none\" stroke=\"currentColor\"/>\n",
              "    <text dy=\"1.25em\" style=\"font-size: 0.8em; letter-spacing: 1px\">\n",
              "        <textPath xlink:href=\"#arrow-c8908e7992274951a113d8444aff28c1-0-9\" class=\"displacy-label\" startOffset=\"50%\" side=\"left\" fill=\"currentColor\" text-anchor=\"middle\">nmod</textPath>\n",
              "    </text>\n",
              "    <path class=\"displacy-arrowhead\" d=\"M1610.0,354.0 L1618.0,342.0 1602.0,342.0\" fill=\"currentColor\"/>\n",
              "</g>\n",
              "\n",
              "<g class=\"displacy-arrow\">\n",
              "    <path class=\"displacy-arc\" id=\"arrow-c8908e7992274951a113d8444aff28c1-0-10\" stroke-width=\"2px\" d=\"M1470,352.0 C1470,177.0 1790.0,177.0 1790.0,352.0\" fill=\"none\" stroke=\"currentColor\"/>\n",
              "    <text dy=\"1.25em\" style=\"font-size: 0.8em; letter-spacing: 1px\">\n",
              "        <textPath xlink:href=\"#arrow-c8908e7992274951a113d8444aff28c1-0-10\" class=\"displacy-label\" startOffset=\"50%\" side=\"left\" fill=\"currentColor\" text-anchor=\"middle\">flat:title</textPath>\n",
              "    </text>\n",
              "    <path class=\"displacy-arrowhead\" d=\"M1790.0,354.0 L1798.0,342.0 1782.0,342.0\" fill=\"currentColor\"/>\n",
              "</g>\n",
              "\n",
              "<g class=\"displacy-arrow\">\n",
              "    <path class=\"displacy-arc\" id=\"arrow-c8908e7992274951a113d8444aff28c1-0-11\" stroke-width=\"2px\" d=\"M1820,352.0 C1820,264.5 1960.0,264.5 1960.0,352.0\" fill=\"none\" stroke=\"currentColor\"/>\n",
              "    <text dy=\"1.25em\" style=\"font-size: 0.8em; letter-spacing: 1px\">\n",
              "        <textPath xlink:href=\"#arrow-c8908e7992274951a113d8444aff28c1-0-11\" class=\"displacy-label\" startOffset=\"50%\" side=\"left\" fill=\"currentColor\" text-anchor=\"middle\">flat:name</textPath>\n",
              "    </text>\n",
              "    <path class=\"displacy-arrowhead\" d=\"M1960.0,354.0 L1968.0,342.0 1952.0,342.0\" fill=\"currentColor\"/>\n",
              "</g>\n",
              "\n",
              "<g class=\"displacy-arrow\">\n",
              "    <path class=\"displacy-arc\" id=\"arrow-c8908e7992274951a113d8444aff28c1-0-12\" stroke-width=\"2px\" d=\"M2345,352.0 C2345,177.0 2665.0,177.0 2665.0,352.0\" fill=\"none\" stroke=\"currentColor\"/>\n",
              "    <text dy=\"1.25em\" style=\"font-size: 0.8em; letter-spacing: 1px\">\n",
              "        <textPath xlink:href=\"#arrow-c8908e7992274951a113d8444aff28c1-0-12\" class=\"displacy-label\" startOffset=\"50%\" side=\"left\" fill=\"currentColor\" text-anchor=\"middle\">mark</textPath>\n",
              "    </text>\n",
              "    <path class=\"displacy-arrowhead\" d=\"M2345,354.0 L2337,342.0 2353,342.0\" fill=\"currentColor\"/>\n",
              "</g>\n",
              "\n",
              "<g class=\"displacy-arrow\">\n",
              "    <path class=\"displacy-arc\" id=\"arrow-c8908e7992274951a113d8444aff28c1-0-13\" stroke-width=\"2px\" d=\"M2520,352.0 C2520,264.5 2660.0,264.5 2660.0,352.0\" fill=\"none\" stroke=\"currentColor\"/>\n",
              "    <text dy=\"1.25em\" style=\"font-size: 0.8em; letter-spacing: 1px\">\n",
              "        <textPath xlink:href=\"#arrow-c8908e7992274951a113d8444aff28c1-0-13\" class=\"displacy-label\" startOffset=\"50%\" side=\"left\" fill=\"currentColor\" text-anchor=\"middle\">advmod</textPath>\n",
              "    </text>\n",
              "    <path class=\"displacy-arrowhead\" d=\"M2520,354.0 L2512,342.0 2528,342.0\" fill=\"currentColor\"/>\n",
              "</g>\n",
              "\n",
              "<g class=\"displacy-arrow\">\n",
              "    <path class=\"displacy-arc\" id=\"arrow-c8908e7992274951a113d8444aff28c1-0-14\" stroke-width=\"2px\" d=\"M2170,352.0 C2170,89.5 2670.0,89.5 2670.0,352.0\" fill=\"none\" stroke=\"currentColor\"/>\n",
              "    <text dy=\"1.25em\" style=\"font-size: 0.8em; letter-spacing: 1px\">\n",
              "        <textPath xlink:href=\"#arrow-c8908e7992274951a113d8444aff28c1-0-14\" class=\"displacy-label\" startOffset=\"50%\" side=\"left\" fill=\"currentColor\" text-anchor=\"middle\">ccomp</textPath>\n",
              "    </text>\n",
              "    <path class=\"displacy-arrowhead\" d=\"M2670.0,354.0 L2678.0,342.0 2662.0,342.0\" fill=\"currentColor\"/>\n",
              "</g>\n",
              "\n",
              "<g class=\"displacy-arrow\">\n",
              "    <path class=\"displacy-arc\" id=\"arrow-c8908e7992274951a113d8444aff28c1-0-15\" stroke-width=\"2px\" d=\"M2870,352.0 C2870,264.5 3010.0,264.5 3010.0,352.0\" fill=\"none\" stroke=\"currentColor\"/>\n",
              "    <text dy=\"1.25em\" style=\"font-size: 0.8em; letter-spacing: 1px\">\n",
              "        <textPath xlink:href=\"#arrow-c8908e7992274951a113d8444aff28c1-0-15\" class=\"displacy-label\" startOffset=\"50%\" side=\"left\" fill=\"currentColor\" text-anchor=\"middle\">amod</textPath>\n",
              "    </text>\n",
              "    <path class=\"displacy-arrowhead\" d=\"M2870,354.0 L2862,342.0 2878,342.0\" fill=\"currentColor\"/>\n",
              "</g>\n",
              "\n",
              "<g class=\"displacy-arrow\">\n",
              "    <path class=\"displacy-arc\" id=\"arrow-c8908e7992274951a113d8444aff28c1-0-16\" stroke-width=\"2px\" d=\"M2695,352.0 C2695,177.0 3015.0,177.0 3015.0,352.0\" fill=\"none\" stroke=\"currentColor\"/>\n",
              "    <text dy=\"1.25em\" style=\"font-size: 0.8em; letter-spacing: 1px\">\n",
              "        <textPath xlink:href=\"#arrow-c8908e7992274951a113d8444aff28c1-0-16\" class=\"displacy-label\" startOffset=\"50%\" side=\"left\" fill=\"currentColor\" text-anchor=\"middle\">nsubj</textPath>\n",
              "    </text>\n",
              "    <path class=\"displacy-arrowhead\" d=\"M3015.0,354.0 L3023.0,342.0 3007.0,342.0\" fill=\"currentColor\"/>\n",
              "</g>\n",
              "\n",
              "<g class=\"displacy-arrow\">\n",
              "    <path class=\"displacy-arc\" id=\"arrow-c8908e7992274951a113d8444aff28c1-0-17\" stroke-width=\"2px\" d=\"M3045,352.0 C3045,264.5 3185.0,264.5 3185.0,352.0\" fill=\"none\" stroke=\"currentColor\"/>\n",
              "    <text dy=\"1.25em\" style=\"font-size: 0.8em; letter-spacing: 1px\">\n",
              "        <textPath xlink:href=\"#arrow-c8908e7992274951a113d8444aff28c1-0-17\" class=\"displacy-label\" startOffset=\"50%\" side=\"left\" fill=\"currentColor\" text-anchor=\"middle\">nmod</textPath>\n",
              "    </text>\n",
              "    <path class=\"displacy-arrowhead\" d=\"M3185.0,354.0 L3193.0,342.0 3177.0,342.0\" fill=\"currentColor\"/>\n",
              "</g>\n",
              "\n",
              "<g class=\"displacy-arrow\">\n",
              "    <path class=\"displacy-arc\" id=\"arrow-c8908e7992274951a113d8444aff28c1-0-18\" stroke-width=\"2px\" d=\"M3220,352.0 C3220,264.5 3360.0,264.5 3360.0,352.0\" fill=\"none\" stroke=\"currentColor\"/>\n",
              "    <text dy=\"1.25em\" style=\"font-size: 0.8em; letter-spacing: 1px\">\n",
              "        <textPath xlink:href=\"#arrow-c8908e7992274951a113d8444aff28c1-0-18\" class=\"displacy-label\" startOffset=\"50%\" side=\"left\" fill=\"currentColor\" text-anchor=\"middle\">nmod</textPath>\n",
              "    </text>\n",
              "    <path class=\"displacy-arrowhead\" d=\"M3360.0,354.0 L3368.0,342.0 3352.0,342.0\" fill=\"currentColor\"/>\n",
              "</g>\n",
              "\n",
              "<g class=\"displacy-arrow\">\n",
              "    <path class=\"displacy-arc\" id=\"arrow-c8908e7992274951a113d8444aff28c1-0-19\" stroke-width=\"2px\" d=\"M3570,352.0 C3570,264.5 3710.0,264.5 3710.0,352.0\" fill=\"none\" stroke=\"currentColor\"/>\n",
              "    <text dy=\"1.25em\" style=\"font-size: 0.8em; letter-spacing: 1px\">\n",
              "        <textPath xlink:href=\"#arrow-c8908e7992274951a113d8444aff28c1-0-19\" class=\"displacy-label\" startOffset=\"50%\" side=\"left\" fill=\"currentColor\" text-anchor=\"middle\">cc</textPath>\n",
              "    </text>\n",
              "    <path class=\"displacy-arrowhead\" d=\"M3570,354.0 L3562,342.0 3578,342.0\" fill=\"currentColor\"/>\n",
              "</g>\n",
              "\n",
              "<g class=\"displacy-arrow\">\n",
              "    <path class=\"displacy-arc\" id=\"arrow-c8908e7992274951a113d8444aff28c1-0-20\" stroke-width=\"2px\" d=\"M3395,352.0 C3395,177.0 3715.0,177.0 3715.0,352.0\" fill=\"none\" stroke=\"currentColor\"/>\n",
              "    <text dy=\"1.25em\" style=\"font-size: 0.8em; letter-spacing: 1px\">\n",
              "        <textPath xlink:href=\"#arrow-c8908e7992274951a113d8444aff28c1-0-20\" class=\"displacy-label\" startOffset=\"50%\" side=\"left\" fill=\"currentColor\" text-anchor=\"middle\">conj</textPath>\n",
              "    </text>\n",
              "    <path class=\"displacy-arrowhead\" d=\"M3715.0,354.0 L3723.0,342.0 3707.0,342.0\" fill=\"currentColor\"/>\n",
              "</g>\n",
              "\n",
              "<g class=\"displacy-arrow\">\n",
              "    <path class=\"displacy-arc\" id=\"arrow-c8908e7992274951a113d8444aff28c1-0-21\" stroke-width=\"2px\" d=\"M3920,352.0 C3920,264.5 4060.0,264.5 4060.0,352.0\" fill=\"none\" stroke=\"currentColor\"/>\n",
              "    <text dy=\"1.25em\" style=\"font-size: 0.8em; letter-spacing: 1px\">\n",
              "        <textPath xlink:href=\"#arrow-c8908e7992274951a113d8444aff28c1-0-21\" class=\"displacy-label\" startOffset=\"50%\" side=\"left\" fill=\"currentColor\" text-anchor=\"middle\">case</textPath>\n",
              "    </text>\n",
              "    <path class=\"displacy-arrowhead\" d=\"M3920,354.0 L3912,342.0 3928,342.0\" fill=\"currentColor\"/>\n",
              "</g>\n",
              "\n",
              "<g class=\"displacy-arrow\">\n",
              "    <path class=\"displacy-arc\" id=\"arrow-c8908e7992274951a113d8444aff28c1-0-22\" stroke-width=\"2px\" d=\"M4095,352.0 C4095,264.5 4235.0,264.5 4235.0,352.0\" fill=\"none\" stroke=\"currentColor\"/>\n",
              "    <text dy=\"1.25em\" style=\"font-size: 0.8em; letter-spacing: 1px\">\n",
              "        <textPath xlink:href=\"#arrow-c8908e7992274951a113d8444aff28c1-0-22\" class=\"displacy-label\" startOffset=\"50%\" side=\"left\" fill=\"currentColor\" text-anchor=\"middle\">obl</textPath>\n",
              "    </text>\n",
              "    <path class=\"displacy-arrowhead\" d=\"M4095,354.0 L4087,342.0 4103,342.0\" fill=\"currentColor\"/>\n",
              "</g>\n",
              "\n",
              "<g class=\"displacy-arrow\">\n",
              "    <path class=\"displacy-arc\" id=\"arrow-c8908e7992274951a113d8444aff28c1-0-23\" stroke-width=\"2px\" d=\"M4270,352.0 C4270,264.5 4410.0,264.5 4410.0,352.0\" fill=\"none\" stroke=\"currentColor\"/>\n",
              "    <text dy=\"1.25em\" style=\"font-size: 0.8em; letter-spacing: 1px\">\n",
              "        <textPath xlink:href=\"#arrow-c8908e7992274951a113d8444aff28c1-0-23\" class=\"displacy-label\" startOffset=\"50%\" side=\"left\" fill=\"currentColor\" text-anchor=\"middle\">nsubj</textPath>\n",
              "    </text>\n",
              "    <path class=\"displacy-arrowhead\" d=\"M4410.0,354.0 L4418.0,342.0 4402.0,342.0\" fill=\"currentColor\"/>\n",
              "</g>\n",
              "\n",
              "<g class=\"displacy-arrow\">\n",
              "    <path class=\"displacy-arc\" id=\"arrow-c8908e7992274951a113d8444aff28c1-0-24\" stroke-width=\"2px\" d=\"M4620,352.0 C4620,264.5 4760.0,264.5 4760.0,352.0\" fill=\"none\" stroke=\"currentColor\"/>\n",
              "    <text dy=\"1.25em\" style=\"font-size: 0.8em; letter-spacing: 1px\">\n",
              "        <textPath xlink:href=\"#arrow-c8908e7992274951a113d8444aff28c1-0-24\" class=\"displacy-label\" startOffset=\"50%\" side=\"left\" fill=\"currentColor\" text-anchor=\"middle\">case</textPath>\n",
              "    </text>\n",
              "    <path class=\"displacy-arrowhead\" d=\"M4620,354.0 L4612,342.0 4628,342.0\" fill=\"currentColor\"/>\n",
              "</g>\n",
              "\n",
              "<g class=\"displacy-arrow\">\n",
              "    <path class=\"displacy-arc\" id=\"arrow-c8908e7992274951a113d8444aff28c1-0-25\" stroke-width=\"2px\" d=\"M4445,352.0 C4445,177.0 4765.0,177.0 4765.0,352.0\" fill=\"none\" stroke=\"currentColor\"/>\n",
              "    <text dy=\"1.25em\" style=\"font-size: 0.8em; letter-spacing: 1px\">\n",
              "        <textPath xlink:href=\"#arrow-c8908e7992274951a113d8444aff28c1-0-25\" class=\"displacy-label\" startOffset=\"50%\" side=\"left\" fill=\"currentColor\" text-anchor=\"middle\">nmod</textPath>\n",
              "    </text>\n",
              "    <path class=\"displacy-arrowhead\" d=\"M4765.0,354.0 L4773.0,342.0 4757.0,342.0\" fill=\"currentColor\"/>\n",
              "</g>\n",
              "\n",
              "<g class=\"displacy-arrow\">\n",
              "    <path class=\"displacy-arc\" id=\"arrow-c8908e7992274951a113d8444aff28c1-0-26\" stroke-width=\"2px\" d=\"M4970,352.0 C4970,264.5 5110.0,264.5 5110.0,352.0\" fill=\"none\" stroke=\"currentColor\"/>\n",
              "    <text dy=\"1.25em\" style=\"font-size: 0.8em; letter-spacing: 1px\">\n",
              "        <textPath xlink:href=\"#arrow-c8908e7992274951a113d8444aff28c1-0-26\" class=\"displacy-label\" startOffset=\"50%\" side=\"left\" fill=\"currentColor\" text-anchor=\"middle\">case</textPath>\n",
              "    </text>\n",
              "    <path class=\"displacy-arrowhead\" d=\"M4970,354.0 L4962,342.0 4978,342.0\" fill=\"currentColor\"/>\n",
              "</g>\n",
              "\n",
              "<g class=\"displacy-arrow\">\n",
              "    <path class=\"displacy-arc\" id=\"arrow-c8908e7992274951a113d8444aff28c1-0-27\" stroke-width=\"2px\" d=\"M4795,352.0 C4795,177.0 5115.0,177.0 5115.0,352.0\" fill=\"none\" stroke=\"currentColor\"/>\n",
              "    <text dy=\"1.25em\" style=\"font-size: 0.8em; letter-spacing: 1px\">\n",
              "        <textPath xlink:href=\"#arrow-c8908e7992274951a113d8444aff28c1-0-27\" class=\"displacy-label\" startOffset=\"50%\" side=\"left\" fill=\"currentColor\" text-anchor=\"middle\">nmod</textPath>\n",
              "    </text>\n",
              "    <path class=\"displacy-arrowhead\" d=\"M5115.0,354.0 L5123.0,342.0 5107.0,342.0\" fill=\"currentColor\"/>\n",
              "</g>\n",
              "\n",
              "<g class=\"displacy-arrow\">\n",
              "    <path class=\"displacy-arc\" id=\"arrow-c8908e7992274951a113d8444aff28c1-0-28\" stroke-width=\"2px\" d=\"M5145,352.0 C5145,264.5 5285.0,264.5 5285.0,352.0\" fill=\"none\" stroke=\"currentColor\"/>\n",
              "    <text dy=\"1.25em\" style=\"font-size: 0.8em; letter-spacing: 1px\">\n",
              "        <textPath xlink:href=\"#arrow-c8908e7992274951a113d8444aff28c1-0-28\" class=\"displacy-label\" startOffset=\"50%\" side=\"left\" fill=\"currentColor\" text-anchor=\"middle\">nmod</textPath>\n",
              "    </text>\n",
              "    <path class=\"displacy-arrowhead\" d=\"M5285.0,354.0 L5293.0,342.0 5277.0,342.0\" fill=\"currentColor\"/>\n",
              "</g>\n",
              "\n",
              "<g class=\"displacy-arrow\">\n",
              "    <path class=\"displacy-arc\" id=\"arrow-c8908e7992274951a113d8444aff28c1-0-29\" stroke-width=\"2px\" d=\"M5145,352.0 C5145,177.0 5465.0,177.0 5465.0,352.0\" fill=\"none\" stroke=\"currentColor\"/>\n",
              "    <text dy=\"1.25em\" style=\"font-size: 0.8em; letter-spacing: 1px\">\n",
              "        <textPath xlink:href=\"#arrow-c8908e7992274951a113d8444aff28c1-0-29\" class=\"displacy-label\" startOffset=\"50%\" side=\"left\" fill=\"currentColor\" text-anchor=\"middle\">flat:title</textPath>\n",
              "    </text>\n",
              "    <path class=\"displacy-arrowhead\" d=\"M5465.0,354.0 L5473.0,342.0 5457.0,342.0\" fill=\"currentColor\"/>\n",
              "</g>\n",
              "\n",
              "<g class=\"displacy-arrow\">\n",
              "    <path class=\"displacy-arc\" id=\"arrow-c8908e7992274951a113d8444aff28c1-0-30\" stroke-width=\"2px\" d=\"M4270,352.0 C4270,89.5 5645.0,89.5 5645.0,352.0\" fill=\"none\" stroke=\"currentColor\"/>\n",
              "    <text dy=\"1.25em\" style=\"font-size: 0.8em; letter-spacing: 1px\">\n",
              "        <textPath xlink:href=\"#arrow-c8908e7992274951a113d8444aff28c1-0-30\" class=\"displacy-label\" startOffset=\"50%\" side=\"left\" fill=\"currentColor\" text-anchor=\"middle\">punct</textPath>\n",
              "    </text>\n",
              "    <path class=\"displacy-arrowhead\" d=\"M5645.0,354.0 L5653.0,342.0 5637.0,342.0\" fill=\"currentColor\"/>\n",
              "</g>\n",
              "\n",
              "<g class=\"displacy-arrow\">\n",
              "    <path class=\"displacy-arc\" id=\"arrow-c8908e7992274951a113d8444aff28c1-0-31\" stroke-width=\"2px\" d=\"M5670,352.0 C5670,264.5 5810.0,264.5 5810.0,352.0\" fill=\"none\" stroke=\"currentColor\"/>\n",
              "    <text dy=\"1.25em\" style=\"font-size: 0.8em; letter-spacing: 1px\">\n",
              "        <textPath xlink:href=\"#arrow-c8908e7992274951a113d8444aff28c1-0-31\" class=\"displacy-label\" startOffset=\"50%\" side=\"left\" fill=\"currentColor\" text-anchor=\"middle\">dep</textPath>\n",
              "    </text>\n",
              "    <path class=\"displacy-arrowhead\" d=\"M5810.0,354.0 L5818.0,342.0 5802.0,342.0\" fill=\"currentColor\"/>\n",
              "</g>\n",
              "\n",
              "<g class=\"displacy-arrow\">\n",
              "    <path class=\"displacy-arc\" id=\"arrow-c8908e7992274951a113d8444aff28c1-0-32\" stroke-width=\"2px\" d=\"M6020,352.0 C6020,264.5 6160.0,264.5 6160.0,352.0\" fill=\"none\" stroke=\"currentColor\"/>\n",
              "    <text dy=\"1.25em\" style=\"font-size: 0.8em; letter-spacing: 1px\">\n",
              "        <textPath xlink:href=\"#arrow-c8908e7992274951a113d8444aff28c1-0-32\" class=\"displacy-label\" startOffset=\"50%\" side=\"left\" fill=\"currentColor\" text-anchor=\"middle\">case</textPath>\n",
              "    </text>\n",
              "    <path class=\"displacy-arrowhead\" d=\"M6020,354.0 L6012,342.0 6028,342.0\" fill=\"currentColor\"/>\n",
              "</g>\n",
              "\n",
              "<g class=\"displacy-arrow\">\n",
              "    <path class=\"displacy-arc\" id=\"arrow-c8908e7992274951a113d8444aff28c1-0-33\" stroke-width=\"2px\" d=\"M6195,352.0 C6195,2.0 7750.0,2.0 7750.0,352.0\" fill=\"none\" stroke=\"currentColor\"/>\n",
              "    <text dy=\"1.25em\" style=\"font-size: 0.8em; letter-spacing: 1px\">\n",
              "        <textPath xlink:href=\"#arrow-c8908e7992274951a113d8444aff28c1-0-33\" class=\"displacy-label\" startOffset=\"50%\" side=\"left\" fill=\"currentColor\" text-anchor=\"middle\">obl</textPath>\n",
              "    </text>\n",
              "    <path class=\"displacy-arrowhead\" d=\"M6195,354.0 L6187,342.0 6203,342.0\" fill=\"currentColor\"/>\n",
              "</g>\n",
              "\n",
              "<g class=\"displacy-arrow\">\n",
              "    <path class=\"displacy-arc\" id=\"arrow-c8908e7992274951a113d8444aff28c1-0-34\" stroke-width=\"2px\" d=\"M6370,352.0 C6370,177.0 6690.0,177.0 6690.0,352.0\" fill=\"none\" stroke=\"currentColor\"/>\n",
              "    <text dy=\"1.25em\" style=\"font-size: 0.8em; letter-spacing: 1px\">\n",
              "        <textPath xlink:href=\"#arrow-c8908e7992274951a113d8444aff28c1-0-34\" class=\"displacy-label\" startOffset=\"50%\" side=\"left\" fill=\"currentColor\" text-anchor=\"middle\">case</textPath>\n",
              "    </text>\n",
              "    <path class=\"displacy-arrowhead\" d=\"M6370,354.0 L6362,342.0 6378,342.0\" fill=\"currentColor\"/>\n",
              "</g>\n",
              "\n",
              "<g class=\"displacy-arrow\">\n",
              "    <path class=\"displacy-arc\" id=\"arrow-c8908e7992274951a113d8444aff28c1-0-35\" stroke-width=\"2px\" d=\"M6545,352.0 C6545,264.5 6685.0,264.5 6685.0,352.0\" fill=\"none\" stroke=\"currentColor\"/>\n",
              "    <text dy=\"1.25em\" style=\"font-size: 0.8em; letter-spacing: 1px\">\n",
              "        <textPath xlink:href=\"#arrow-c8908e7992274951a113d8444aff28c1-0-35\" class=\"displacy-label\" startOffset=\"50%\" side=\"left\" fill=\"currentColor\" text-anchor=\"middle\">amod</textPath>\n",
              "    </text>\n",
              "    <path class=\"displacy-arrowhead\" d=\"M6545,354.0 L6537,342.0 6553,342.0\" fill=\"currentColor\"/>\n",
              "</g>\n",
              "\n",
              "<g class=\"displacy-arrow\">\n",
              "    <path class=\"displacy-arc\" id=\"arrow-c8908e7992274951a113d8444aff28c1-0-36\" stroke-width=\"2px\" d=\"M6195,352.0 C6195,89.5 6695.0,89.5 6695.0,352.0\" fill=\"none\" stroke=\"currentColor\"/>\n",
              "    <text dy=\"1.25em\" style=\"font-size: 0.8em; letter-spacing: 1px\">\n",
              "        <textPath xlink:href=\"#arrow-c8908e7992274951a113d8444aff28c1-0-36\" class=\"displacy-label\" startOffset=\"50%\" side=\"left\" fill=\"currentColor\" text-anchor=\"middle\">nmod</textPath>\n",
              "    </text>\n",
              "    <path class=\"displacy-arrowhead\" d=\"M6695.0,354.0 L6703.0,342.0 6687.0,342.0\" fill=\"currentColor\"/>\n",
              "</g>\n",
              "\n",
              "<g class=\"displacy-arrow\">\n",
              "    <path class=\"displacy-arc\" id=\"arrow-c8908e7992274951a113d8444aff28c1-0-37\" stroke-width=\"2px\" d=\"M6720,352.0 C6720,264.5 6860.0,264.5 6860.0,352.0\" fill=\"none\" stroke=\"currentColor\"/>\n",
              "    <text dy=\"1.25em\" style=\"font-size: 0.8em; letter-spacing: 1px\">\n",
              "        <textPath xlink:href=\"#arrow-c8908e7992274951a113d8444aff28c1-0-37\" class=\"displacy-label\" startOffset=\"50%\" side=\"left\" fill=\"currentColor\" text-anchor=\"middle\">nmod</textPath>\n",
              "    </text>\n",
              "    <path class=\"displacy-arrowhead\" d=\"M6860.0,354.0 L6868.0,342.0 6852.0,342.0\" fill=\"currentColor\"/>\n",
              "</g>\n",
              "\n",
              "<g class=\"displacy-arrow\">\n",
              "    <path class=\"displacy-arc\" id=\"arrow-c8908e7992274951a113d8444aff28c1-0-38\" stroke-width=\"2px\" d=\"M7070,352.0 C7070,264.5 7210.0,264.5 7210.0,352.0\" fill=\"none\" stroke=\"currentColor\"/>\n",
              "    <text dy=\"1.25em\" style=\"font-size: 0.8em; letter-spacing: 1px\">\n",
              "        <textPath xlink:href=\"#arrow-c8908e7992274951a113d8444aff28c1-0-38\" class=\"displacy-label\" startOffset=\"50%\" side=\"left\" fill=\"currentColor\" text-anchor=\"middle\">case</textPath>\n",
              "    </text>\n",
              "    <path class=\"displacy-arrowhead\" d=\"M7070,354.0 L7062,342.0 7078,342.0\" fill=\"currentColor\"/>\n",
              "</g>\n",
              "\n",
              "<g class=\"displacy-arrow\">\n",
              "    <path class=\"displacy-arc\" id=\"arrow-c8908e7992274951a113d8444aff28c1-0-39\" stroke-width=\"2px\" d=\"M6720,352.0 C6720,177.0 7215.0,177.0 7215.0,352.0\" fill=\"none\" stroke=\"currentColor\"/>\n",
              "    <text dy=\"1.25em\" style=\"font-size: 0.8em; letter-spacing: 1px\">\n",
              "        <textPath xlink:href=\"#arrow-c8908e7992274951a113d8444aff28c1-0-39\" class=\"displacy-label\" startOffset=\"50%\" side=\"left\" fill=\"currentColor\" text-anchor=\"middle\">nmod</textPath>\n",
              "    </text>\n",
              "    <path class=\"displacy-arrowhead\" d=\"M7215.0,354.0 L7223.0,342.0 7207.0,342.0\" fill=\"currentColor\"/>\n",
              "</g>\n",
              "\n",
              "<g class=\"displacy-arrow\">\n",
              "    <path class=\"displacy-arc\" id=\"arrow-c8908e7992274951a113d8444aff28c1-0-40\" stroke-width=\"2px\" d=\"M7245,352.0 C7245,264.5 7385.0,264.5 7385.0,352.0\" fill=\"none\" stroke=\"currentColor\"/>\n",
              "    <text dy=\"1.25em\" style=\"font-size: 0.8em; letter-spacing: 1px\">\n",
              "        <textPath xlink:href=\"#arrow-c8908e7992274951a113d8444aff28c1-0-40\" class=\"displacy-label\" startOffset=\"50%\" side=\"left\" fill=\"currentColor\" text-anchor=\"middle\">nmod</textPath>\n",
              "    </text>\n",
              "    <path class=\"displacy-arrowhead\" d=\"M7385.0,354.0 L7393.0,342.0 7377.0,342.0\" fill=\"currentColor\"/>\n",
              "</g>\n",
              "\n",
              "<g class=\"displacy-arrow\">\n",
              "    <path class=\"displacy-arc\" id=\"arrow-c8908e7992274951a113d8444aff28c1-0-41\" stroke-width=\"2px\" d=\"M7595,352.0 C7595,264.5 7735.0,264.5 7735.0,352.0\" fill=\"none\" stroke=\"currentColor\"/>\n",
              "    <text dy=\"1.25em\" style=\"font-size: 0.8em; letter-spacing: 1px\">\n",
              "        <textPath xlink:href=\"#arrow-c8908e7992274951a113d8444aff28c1-0-41\" class=\"displacy-label\" startOffset=\"50%\" side=\"left\" fill=\"currentColor\" text-anchor=\"middle\">nsubj</textPath>\n",
              "    </text>\n",
              "    <path class=\"displacy-arrowhead\" d=\"M7595,354.0 L7587,342.0 7603,342.0\" fill=\"currentColor\"/>\n",
              "</g>\n",
              "\n",
              "<g class=\"displacy-arrow\">\n",
              "    <path class=\"displacy-arc\" id=\"arrow-c8908e7992274951a113d8444aff28c1-0-42\" stroke-width=\"2px\" d=\"M7945,352.0 C7945,177.0 8440.0,177.0 8440.0,352.0\" fill=\"none\" stroke=\"currentColor\"/>\n",
              "    <text dy=\"1.25em\" style=\"font-size: 0.8em; letter-spacing: 1px\">\n",
              "        <textPath xlink:href=\"#arrow-c8908e7992274951a113d8444aff28c1-0-42\" class=\"displacy-label\" startOffset=\"50%\" side=\"left\" fill=\"currentColor\" text-anchor=\"middle\">advmod</textPath>\n",
              "    </text>\n",
              "    <path class=\"displacy-arrowhead\" d=\"M7945,354.0 L7937,342.0 7953,342.0\" fill=\"currentColor\"/>\n",
              "</g>\n",
              "\n",
              "<g class=\"displacy-arrow\">\n",
              "    <path class=\"displacy-arc\" id=\"arrow-c8908e7992274951a113d8444aff28c1-0-43\" stroke-width=\"2px\" d=\"M7945,352.0 C7945,264.5 8085.0,264.5 8085.0,352.0\" fill=\"none\" stroke=\"currentColor\"/>\n",
              "    <text dy=\"1.25em\" style=\"font-size: 0.8em; letter-spacing: 1px\">\n",
              "        <textPath xlink:href=\"#arrow-c8908e7992274951a113d8444aff28c1-0-43\" class=\"displacy-label\" startOffset=\"50%\" side=\"left\" fill=\"currentColor\" text-anchor=\"middle\">discourse</textPath>\n",
              "    </text>\n",
              "    <path class=\"displacy-arrowhead\" d=\"M8085.0,354.0 L8093.0,342.0 8077.0,342.0\" fill=\"currentColor\"/>\n",
              "</g>\n",
              "\n",
              "<g class=\"displacy-arrow\">\n",
              "    <path class=\"displacy-arc\" id=\"arrow-c8908e7992274951a113d8444aff28c1-0-44\" stroke-width=\"2px\" d=\"M8295,352.0 C8295,264.5 8435.0,264.5 8435.0,352.0\" fill=\"none\" stroke=\"currentColor\"/>\n",
              "    <text dy=\"1.25em\" style=\"font-size: 0.8em; letter-spacing: 1px\">\n",
              "        <textPath xlink:href=\"#arrow-c8908e7992274951a113d8444aff28c1-0-44\" class=\"displacy-label\" startOffset=\"50%\" side=\"left\" fill=\"currentColor\" text-anchor=\"middle\">nsubj</textPath>\n",
              "    </text>\n",
              "    <path class=\"displacy-arrowhead\" d=\"M8295,354.0 L8287,342.0 8303,342.0\" fill=\"currentColor\"/>\n",
              "</g>\n",
              "\n",
              "<g class=\"displacy-arrow\">\n",
              "    <path class=\"displacy-arc\" id=\"arrow-c8908e7992274951a113d8444aff28c1-0-45\" stroke-width=\"2px\" d=\"M7770,352.0 C7770,89.5 8445.0,89.5 8445.0,352.0\" fill=\"none\" stroke=\"currentColor\"/>\n",
              "    <text dy=\"1.25em\" style=\"font-size: 0.8em; letter-spacing: 1px\">\n",
              "        <textPath xlink:href=\"#arrow-c8908e7992274951a113d8444aff28c1-0-45\" class=\"displacy-label\" startOffset=\"50%\" side=\"left\" fill=\"currentColor\" text-anchor=\"middle\">parataxis</textPath>\n",
              "    </text>\n",
              "    <path class=\"displacy-arrowhead\" d=\"M8445.0,354.0 L8453.0,342.0 8437.0,342.0\" fill=\"currentColor\"/>\n",
              "</g>\n",
              "\n",
              "<g class=\"displacy-arrow\">\n",
              "    <path class=\"displacy-arc\" id=\"arrow-c8908e7992274951a113d8444aff28c1-0-46\" stroke-width=\"2px\" d=\"M8645,352.0 C8645,264.5 8785.0,264.5 8785.0,352.0\" fill=\"none\" stroke=\"currentColor\"/>\n",
              "    <text dy=\"1.25em\" style=\"font-size: 0.8em; letter-spacing: 1px\">\n",
              "        <textPath xlink:href=\"#arrow-c8908e7992274951a113d8444aff28c1-0-46\" class=\"displacy-label\" startOffset=\"50%\" side=\"left\" fill=\"currentColor\" text-anchor=\"middle\">advmod</textPath>\n",
              "    </text>\n",
              "    <path class=\"displacy-arrowhead\" d=\"M8645,354.0 L8637,342.0 8653,342.0\" fill=\"currentColor\"/>\n",
              "</g>\n",
              "\n",
              "<g class=\"displacy-arrow\">\n",
              "    <path class=\"displacy-arc\" id=\"arrow-c8908e7992274951a113d8444aff28c1-0-47\" stroke-width=\"2px\" d=\"M7770,352.0 C7770,2.0 8800.0,2.0 8800.0,352.0\" fill=\"none\" stroke=\"currentColor\"/>\n",
              "    <text dy=\"1.25em\" style=\"font-size: 0.8em; letter-spacing: 1px\">\n",
              "        <textPath xlink:href=\"#arrow-c8908e7992274951a113d8444aff28c1-0-47\" class=\"displacy-label\" startOffset=\"50%\" side=\"left\" fill=\"currentColor\" text-anchor=\"middle\">punct</textPath>\n",
              "    </text>\n",
              "    <path class=\"displacy-arrowhead\" d=\"M8800.0,354.0 L8808.0,342.0 8792.0,342.0\" fill=\"currentColor\"/>\n",
              "</g>\n",
              "\n",
              "<g class=\"displacy-arrow\">\n",
              "    <path class=\"displacy-arc\" id=\"arrow-c8908e7992274951a113d8444aff28c1-0-48\" stroke-width=\"2px\" d=\"M8820,352.0 C8820,264.5 8960.0,264.5 8960.0,352.0\" fill=\"none\" stroke=\"currentColor\"/>\n",
              "    <text dy=\"1.25em\" style=\"font-size: 0.8em; letter-spacing: 1px\">\n",
              "        <textPath xlink:href=\"#arrow-c8908e7992274951a113d8444aff28c1-0-48\" class=\"displacy-label\" startOffset=\"50%\" side=\"left\" fill=\"currentColor\" text-anchor=\"middle\">dep</textPath>\n",
              "    </text>\n",
              "    <path class=\"displacy-arrowhead\" d=\"M8960.0,354.0 L8968.0,342.0 8952.0,342.0\" fill=\"currentColor\"/>\n",
              "</g>\n",
              "\n",
              "<g class=\"displacy-arrow\">\n",
              "    <path class=\"displacy-arc\" id=\"arrow-c8908e7992274951a113d8444aff28c1-0-49\" stroke-width=\"2px\" d=\"M9345,352.0 C9345,264.5 9485.0,264.5 9485.0,352.0\" fill=\"none\" stroke=\"currentColor\"/>\n",
              "    <text dy=\"1.25em\" style=\"font-size: 0.8em; letter-spacing: 1px\">\n",
              "        <textPath xlink:href=\"#arrow-c8908e7992274951a113d8444aff28c1-0-49\" class=\"displacy-label\" startOffset=\"50%\" side=\"left\" fill=\"currentColor\" text-anchor=\"middle\">advmod</textPath>\n",
              "    </text>\n",
              "    <path class=\"displacy-arrowhead\" d=\"M9345,354.0 L9337,342.0 9353,342.0\" fill=\"currentColor\"/>\n",
              "</g>\n",
              "\n",
              "<g class=\"displacy-arrow\">\n",
              "    <path class=\"displacy-arc\" id=\"arrow-c8908e7992274951a113d8444aff28c1-0-50\" stroke-width=\"2px\" d=\"M9695,352.0 C9695,264.5 9835.0,264.5 9835.0,352.0\" fill=\"none\" stroke=\"currentColor\"/>\n",
              "    <text dy=\"1.25em\" style=\"font-size: 0.8em; letter-spacing: 1px\">\n",
              "        <textPath xlink:href=\"#arrow-c8908e7992274951a113d8444aff28c1-0-50\" class=\"displacy-label\" startOffset=\"50%\" side=\"left\" fill=\"currentColor\" text-anchor=\"middle\">case</textPath>\n",
              "    </text>\n",
              "    <path class=\"displacy-arrowhead\" d=\"M9695,354.0 L9687,342.0 9703,342.0\" fill=\"currentColor\"/>\n",
              "</g>\n",
              "\n",
              "<g class=\"displacy-arrow\">\n",
              "    <path class=\"displacy-arc\" id=\"arrow-c8908e7992274951a113d8444aff28c1-0-51\" stroke-width=\"2px\" d=\"M9520,352.0 C9520,177.0 9840.0,177.0 9840.0,352.0\" fill=\"none\" stroke=\"currentColor\"/>\n",
              "    <text dy=\"1.25em\" style=\"font-size: 0.8em; letter-spacing: 1px\">\n",
              "        <textPath xlink:href=\"#arrow-c8908e7992274951a113d8444aff28c1-0-51\" class=\"displacy-label\" startOffset=\"50%\" side=\"left\" fill=\"currentColor\" text-anchor=\"middle\">obl</textPath>\n",
              "    </text>\n",
              "    <path class=\"displacy-arrowhead\" d=\"M9840.0,354.0 L9848.0,342.0 9832.0,342.0\" fill=\"currentColor\"/>\n",
              "</g>\n",
              "</svg>\n",
              "</figure>\n",
              "</body>\n",
              "</html></span>"
            ]
          },
          "metadata": {}
        },
        {
          "output_type": "stream",
          "name": "stdout",
          "text": [
            "\n",
            "Using the 'dep' visualizer\n",
            "Serving on http://0.0.0.0:5000 ...\n",
            "\n",
            "Shutting down server on port 5000.\n"
          ]
        }
      ],
      "source": [
        "from spacy import displacy\n",
        "displacy.serve(doc[0], style=\"dep\")"
      ]
    },
    {
      "cell_type": "code",
      "execution_count": null,
      "metadata": {
        "colab": {
          "base_uri": "https://localhost:8080/"
        },
        "id": "wCX-H4O_gcGe",
        "outputId": "a1e434cf-d98d-406e-c94a-a91f16b4c91e",
        "collapsed": true
      },
      "outputs": [
        {
          "output_type": "stream",
          "name": "stdout",
          "text": [
            "pymorphy3\n"
          ]
        }
      ],
      "source": [
        "lemmatizer = nlp_u.get_pipe(\"lemmatizer\")\n",
        "\n",
        "processed_corpus_u =[[token.lemma_ for token in sen] for sen in doc]\n"
      ]
    },
    {
      "cell_type": "code",
      "source": [
        "from gensim import corpora\n",
        "\n",
        "dictionary_u = corpora.Dictionary(processed_corpus_u)"
      ],
      "metadata": {
        "colab": {
          "base_uri": "https://localhost:8080/"
        },
        "id": "7JqMfWjGQ3iu",
        "outputId": "67bb677f-3bc5-48b7-aae1-c89f5e0ac486"
      },
      "execution_count": null,
      "outputs": [
        {
          "output_type": "stream",
          "name": "stdout",
          "text": [
            "Dictionary<4034 unique tokens: ['\\n\\n', '!', '\"', ',', '.']...>\n"
          ]
        }
      ]
    },
    {
      "cell_type": "code",
      "source": [
        "bow_corpus_u = [dictionary_u.doc2bow(text) for text in processed_corpus_u]\n",
        "pprint.pprint(bow_corpus_u)"
      ],
      "metadata": {
        "id": "zOYbe9KqRAJX"
      },
      "execution_count": null,
      "outputs": []
    },
    {
      "cell_type": "code",
      "source": [
        "de_uk[0]"
      ],
      "metadata": {
        "colab": {
          "base_uri": "https://localhost:8080/",
          "height": 89
        },
        "id": "ZZkzH564RV2h",
        "outputId": "1a722d74-a075-41fa-eda6-6deacdea0596"
      },
      "execution_count": null,
      "outputs": [
        {
          "output_type": "execute_result",
          "data": {
            "text/plain": [
              "'Зустрічі між Україною та США: плани Зеленського\\n\\nПрезидент України Володимир Зеленський анонсував, що спочатку відбудуться командні зустрічі адміністрацій України та США. Після цього планується робота над зустріччю з президентом США Дональдом Трампом. \\n\\nНа запитання про можливе скорочення допомоги з боку США, Зеленський заявив: «Поки що все йде, як іде». \\n\\n🔗 Далі стежте за новинами!'"
            ],
            "application/vnd.google.colaboratory.intrinsic+json": {
              "type": "string"
            }
          },
          "metadata": {},
          "execution_count": 43
        }
      ]
    },
    {
      "cell_type": "code",
      "source": [
        "from gensim import models\n",
        "\n",
        "# train the model\n",
        "tfidf = models.TfidfModel(bow_corpus_u)\n",
        "words = \"Президент України Володимир Зеленський анонсував\".lower().split()\n",
        "print(tfidf[dictionary_u.doc2bow(words)])"
      ],
      "metadata": {
        "colab": {
          "base_uri": "https://localhost:8080/"
        },
        "id": "Z39weIl0ROs4",
        "outputId": "d027244b-f6d0-460f-a5d6-9e1f1e86796e"
      },
      "execution_count": null,
      "outputs": [
        {
          "output_type": "stream",
          "name": "stdout",
          "text": [
            "[(10, 0.5707291578373893), (19, 0.6044892519418105), (31, 0.5557526182403955)]\n"
          ]
        }
      ]
    },
    {
      "cell_type": "code",
      "source": [
        "# @title translate into EN-US to perform vectorization\n",
        "import deepl\n",
        "\n",
        "auth_key = \"a7c78cad-9348-425d-be66-88410ea035ac:fx\"  # Replace with your key\n",
        "deepl_client = deepl.DeepLClient(auth_key)\n",
        "\n",
        "result = deepl_client.translate_text('Президент України Володимир Зеленський анонсував', target_lang=\"EN-US\")\n",
        "print(result.text)  # \"Bonjour, le monde !\""
      ],
      "metadata": {
        "colab": {
          "base_uri": "https://localhost:8080/"
        },
        "id": "_yIP4WNYGgEN",
        "outputId": "261e8f92-3ea6-456f-edbe-3636a6f42042"
      },
      "execution_count": null,
      "outputs": [
        {
          "output_type": "stream",
          "name": "stdout",
          "text": [
            "President of Ukraine Volodymyr Zelenskyy announced\n"
          ]
        }
      ]
    },
    {
      "cell_type": "code",
      "source": [
        "!python -m spacy download en_core_web_sm"
      ],
      "metadata": {
        "id": "VVZR-s1-Lhqo"
      },
      "execution_count": null,
      "outputs": []
    },
    {
      "cell_type": "code",
      "source": [
        "import spacy\n",
        "\n",
        "nlp = spacy.load('en_core_web_sm')\n",
        "\n",
        "doc = [nlp(result.text)]\n",
        "res = deepl_client.translate_text(de_uk[1], target_lang=\"EN-US\")\n",
        "doc.append(nlp(res.text))\n",
        "lemmatizer = nlp.get_pipe(\"lemmatizer\")\n",
        "print(lemmatizer.mode)\n",
        "\n",
        "processed_corpus = [[token.lemma_ for token in sen] for sen in doc]"
      ],
      "metadata": {
        "colab": {
          "base_uri": "https://localhost:8080/"
        },
        "id": "UNVjigAnLxs9",
        "outputId": "a8e1c52c-195f-47d1-bc46-36cf1fdbc749"
      },
      "execution_count": null,
      "outputs": [
        {
          "output_type": "stream",
          "name": "stdout",
          "text": [
            "rule\n"
          ]
        }
      ]
    },
    {
      "cell_type": "code",
      "source": [
        "from gensim import corpora\n",
        "\n",
        "dictionary = corpora.Dictionary(processed_corpus)\n",
        "print(dictionary)"
      ],
      "metadata": {
        "id": "2_SgFcBlNPbS"
      },
      "execution_count": null,
      "outputs": []
    },
    {
      "cell_type": "code",
      "source": [
        "import pprint\n",
        "\n",
        "pprint.pprint(dictionary.token2id)"
      ],
      "metadata": {
        "id": "fe9opi_JO4cm"
      },
      "execution_count": null,
      "outputs": []
    },
    {
      "cell_type": "code",
      "source": [
        "bow_corpus = [dictionary.doc2bow(text) for text in processed_corpus]\n",
        "pprint.pprint(bow_corpus)"
      ],
      "metadata": {
        "id": "v8eyPM1EPZrE"
      },
      "execution_count": null,
      "outputs": []
    },
    {
      "cell_type": "code",
      "source": [
        "from gensim import models\n",
        "\n",
        "# train the model\n",
        "tfidf = models.TfidfModel(bow_corpus)\n",
        "words = \"President of Ukraine Volodymyr Zelenskyy announced\".lower().split()\n",
        "print(tfidf[dictionary.doc2bow(words)])"
      ],
      "metadata": {
        "colab": {
          "base_uri": "https://localhost:8080/"
        },
        "id": "vaKJfPT5Pj_p",
        "outputId": "99e47c1a-0a1e-4322-9e8b-2c56c7aa442f"
      },
      "execution_count": null,
      "outputs": [
        {
          "output_type": "stream",
          "name": "stdout",
          "text": [
            "[(56, 1.0)]\n"
          ]
        }
      ]
    },
    {
      "cell_type": "code",
      "execution_count": null,
      "metadata": {
        "cellView": "form",
        "colab": {
          "base_uri": "https://localhost:8080/"
        },
        "collapsed": true,
        "id": "qHWP-tqq_cRB",
        "outputId": "a04af29b-816b-4506-dbf6-41feda103f59"
      },
      "outputs": [
        {
          "name": "stdout",
          "output_type": "stream",
          "text": [
            "Claim: Trump & Netanyahu are Planning on Resettling Gazans in Ukraine or Syria\n",
            "Claimant: Facebook,Twitter\n",
            "Rating: False\n",
            "URL: https://www.thequint.com/news/webqoof/trump-netanyahu-gaza-immigrants-ukraine-syria-misleading-post-fact-check\n",
            "----------------------------------------\n",
            "Claim: Ukrainian President Volodymyr Zelenskyy has acquired a 51 percent stake in Northam Platinum Ltd, a major South African mining company.\n",
            "Claimant: X, Facebook, Instagram, Telegram, Threads, TikTok, Press 24, and AIF\n",
            "Rating: Fake\n",
            "URL: https://www.logicallyfacts.com/en/fact-check/sabc-news-did-not-report-that-zelenskyy-bought-stake-in-northam-platinum-mine\n",
            "----------------------------------------\n",
            "Claim: An image shows a BBC News graphic naming Ukraine's \"next president\"\n",
            "Claimant: Multiple people\n",
            "Rating: Altered picture\n",
            "URL: https://factcheck.afp.com/doc.afp.com.42BV3CV\n",
            "----------------------------------------\n",
            "Claim: Netanyahu recently announced plans to resettle Palestinians in Gaza to Ukraine and Syria.\n",
            "Claimant: x.com\n",
            "Rating: misleading\n",
            "URL: https://www.misbar.com/en/factcheck/2025/04/14/netanyahu-did-not-announce-plans-relocate-gazans-ukraine-and-syria\n",
            "----------------------------------------\n",
            "Claim: Ukrainian POW Forced to Sign Posthumous Organ Donation Consent by Commander\n",
            "Claimant: Viral social media post\n",
            "Rating: The document in the photo is a consent form for legal posthumous organ donation in the province of Ontario, Canada. Only Canadian citizens or those who have permanent residence, as well as state health insurance, can apply for donation. Most likely, the propagandists simply downloaded the form from the Internet.\n",
            "URL: https://www.stopfake.org/en/fake-ukrainian-pow-forced-to-sign-posthumous-organ-donation-consent-by-commander/\n",
            "----------------------------------------\n",
            "Claim: Ukrainian Ombudsman Calls on Sex Workers Abroad to Promote Pro-Ukrainian Ideas Among Clients\n",
            "Claimant: Viral social media post\n",
            "Rating: This video, like Kateryna Levchenko’s quote, is fabricated by propagandists.\n",
            "URL: https://www.stopfake.org/en/fake-ukrainian-ombudsman-calls-on-sex-workers-abroad-to-promote-pro-ukrainian-ideas-among-clients/\n",
            "----------------------------------------\n",
            "Claim: A BBC News video reports the First Lady of Ukraine Olena Zelenska is trying to claim political asylum in a European country in order to escape an “aggravated relationship” with President Zelenskyy.\n",
            "Claimant: Public\n",
            "Rating: False. The BBC confirmed this is not a genuine report by the outlet, and we could find no credible reporting of these claims.\n",
            "URL: https://fullfact.org/online/fake-bbc-report-olena-zelenska/\n",
            "----------------------------------------\n",
            "Claim: A Captured Ukrainian soldier did not know that he was carrying a consent form for an organ transplant, servicemen of the North military group told RIA Novosti\n",
            "Claimant: Viral social media posts\n",
            "Rating: DISINFORMATION\n",
            "URL: https://www.factchecker.gr/2025/04/10/fact-check-did-ukrainian-soldiers-sign-organ-harvesting-consent-forms-disguised-as-medical-papers/\n",
            "----------------------------------------\n",
            "Claim: Israeli Prime Minister Netanyahu Proposed to Resettle Gaza Residents to Ukraine and Syria\n",
            "Claimant: Viral social media post\n",
            "Rating: The statement about the proposal of Israeli Prime Minister Benjamin Netanyahu to resettle the population of Gaza to Ukraine and Syria is a fake.\n",
            "URL: https://www.stopfake.org/en/fake-israeli-prime-minister-netanyahu-proposed-to-resettle-gaza-residents-to-ukraine-and-syria/\n",
            "----------------------------------------\n",
            "Claim: Video shows a $20 million mansion owned by Ukrainian President Volodymyr Zelenskyy.\n",
            "Claimant: x.com\n",
            "Rating: misleading\n",
            "URL: https://www.misbar.com/en/factcheck/2025/04/07/video-does-not-show-zelenskyyss-20-million-mansion-florida\n",
            "----------------------------------------\n"
          ]
        }
      ],
      "source": [
        "# @title Google Fact Chack Tools API\n",
        "import requests\n",
        "#https://developers.google.com/fact-check/tools/api/reference/rest/v1alpha1/claims/search\n",
        "from google.colab import userdata\n",
        "\n",
        "def fact_check_search(query, api_key):\n",
        "  # Base URL for the API\n",
        "  url = \"https://factchecktools.googleapis.com/v1alpha1/claims:search\"\n",
        "  # Parameters for the API request\n",
        "  params = {\n",
        "    'query': query, # Search term (string)\n",
        "    'languageCode': 'en', # Language (optional)\n",
        "    'key': api_key, # Your API key\n",
        "    'pageSize': 10 # Number of results returned,\n",
        "    # 'maxAgeDays': 30 # Maximum age of the results in days\n",
        "    }\n",
        "\n",
        "  # Make the GET request\n",
        "  response = requests.get(url, params=params)\n",
        "  # Handle response\n",
        "  if response.status_code == 200:\n",
        "    return response.json()\n",
        "  else:\n",
        "    print(f\"Error: {response.status_code}, {response.text}\")\n",
        "    return None\n",
        "\n",
        "# Replace with your API key\n",
        "API_KEY = userdata.get('fact_check_apikey')\n",
        "search_query = \"Ukraine\"\n",
        "result = fact_check_search(search_query, API_KEY)\n",
        "\n",
        "# Print results\n",
        "if result:\n",
        "  for claim in result.get('claims', []):\n",
        "    print(f\"Claim: {claim.get('text')}\")\n",
        "    print(f\"Claimant: {claim.get('claimant')}\")\n",
        "    print(f\"Rating: {claim.get('claimReview', [{}])[0].get('textualRating')}\")\n",
        "    print(f\"URL: {claim.get('claimReview', [{}])[0].get('url')}\")\n",
        "    print(\"-\" * 40)\n"
      ]
    },
    {
      "cell_type": "code",
      "execution_count": null,
      "metadata": {
        "cellView": "form",
        "id": "tWjvSLZ3xk5I"
      },
      "outputs": [],
      "source": [
        "# @title Alternative: Use an open-source Library to get access to Fact Check Tools\n",
        "!pip install git+https://github.com/GONZOsint/factcheckexplorer.git"
      ]
    },
    {
      "cell_type": "code",
      "execution_count": null,
      "metadata": {
        "id": "jno0dEvw8AHp"
      },
      "outputs": [],
      "source": [
        "import pandas as pd, numpy as np\n",
        "import seaborn as sns\n",
        "import matplotlib.pyplot as plt"
      ]
    },
    {
      "cell_type": "markdown",
      "metadata": {
        "id": "jhiWsG875ev-"
      },
      "source": [
        "## 1. Scraping Telegram"
      ]
    },
    {
      "cell_type": "code",
      "execution_count": null,
      "metadata": {
        "colab": {
          "base_uri": "https://localhost:8080/"
        },
        "id": "YdVE4TLEiqY2",
        "outputId": "a1e2ffb0-1b13-4c6a-adce-ed8f5667491b"
      },
      "outputs": [
        {
          "name": "stdout",
          "output_type": "stream",
          "text": [
            "Collecting pyrogram\n",
            "  Downloading Pyrogram-2.0.106-py3-none-any.whl.metadata (4.4 kB)\n",
            "Collecting pyaes==1.6.1 (from pyrogram)\n",
            "  Downloading pyaes-1.6.1.tar.gz (28 kB)\n",
            "  Preparing metadata (setup.py) ... \u001b[?25l\u001b[?25hdone\n",
            "Requirement already satisfied: pysocks==1.7.1 in /usr/local/lib/python3.11/dist-packages (from pyrogram) (1.7.1)\n",
            "Downloading Pyrogram-2.0.106-py3-none-any.whl (3.6 MB)\n",
            "\u001b[2K   \u001b[90m━━━━━━━━━━━━━━━━━━━━━━━━━━━━━━━━━━━━━━━━\u001b[0m \u001b[32m3.6/3.6 MB\u001b[0m \u001b[31m50.6 MB/s\u001b[0m eta \u001b[36m0:00:00\u001b[0m\n",
            "\u001b[?25hBuilding wheels for collected packages: pyaes\n",
            "  Building wheel for pyaes (setup.py) ... \u001b[?25l\u001b[?25hdone\n",
            "  Created wheel for pyaes: filename=pyaes-1.6.1-py3-none-any.whl size=26421 sha256=f2c3ef772d47780b9e2433244290c811d4446cc3ea76c5afac69c0b8270e731e\n",
            "  Stored in directory: /root/.cache/pip/wheels/4e/52/33/010d0843550bffb6a591b11629070ae140c0ad4f53e68a3bd3\n",
            "Successfully built pyaes\n",
            "Installing collected packages: pyaes, pyrogram\n",
            "Successfully installed pyaes-1.6.1 pyrogram-2.0.106\n",
            "Collecting tgcrypto\n",
            "  Downloading TgCrypto-1.2.5-cp311-cp311-manylinux_2_17_x86_64.manylinux2014_x86_64.whl.metadata (6.1 kB)\n",
            "Downloading TgCrypto-1.2.5-cp311-cp311-manylinux_2_17_x86_64.manylinux2014_x86_64.whl (60 kB)\n",
            "Installing collected packages: tgcrypto\n",
            "Successfully installed tgcrypto-1.2.5\n"
          ]
        }
      ],
      "source": [
        "! pip install pyrogram\n",
        "! pip3 install -U tgcrypto"
      ]
    },
    {
      "cell_type": "markdown",
      "metadata": {
        "id": "jfddlDgDuUY4"
      },
      "source": [
        "Discover Telegram Channels: https://tgstat.ru/en\n",
        "\n",
        "Check out `pyrogram`: https://docs.pyrogram.org/\n",
        "\n",
        "Get the Telegram API id and hash: https://core.telegram.org/api/obtaining_api_id"
      ]
    },
    {
      "cell_type": "code",
      "execution_count": null,
      "metadata": {
        "id": "Gvdw-ALSipr4"
      },
      "outputs": [],
      "source": [
        "from pyrogram import Client\n",
        "from google.colab import userdata\n",
        "\n",
        "api_id = int(userdata.get('api_id'))\n",
        "api_hash = userdata.get('api_hash')\n",
        "\n",
        "app = Client(\"UkraineRussiaCrisis\", api_id=api_id, api_hash=api_hash)"
      ]
    },
    {
      "cell_type": "code",
      "execution_count": null,
      "metadata": {
        "id": "b71zgrIpiizi"
      },
      "outputs": [],
      "source": [
        "# Use the existing event loop in Jupyter/IPython\n",
        "import nest_asyncio\n",
        "import asyncio\n",
        "import json\n",
        "from pyrogram.types import Message\n",
        "\n",
        "def get_reactions(message):\n",
        "    reactions = {}\n",
        "    if hasattr(message, \"reactions\") and message.reactions is not None:\n",
        "        for reaction in message.reactions.reactions:\n",
        "            reactions[reaction.emoji] = reaction.count\n",
        "    return reactions\n",
        "\n",
        "def get_urls(entities):\n",
        "    urls = []\n",
        "    if entities:\n",
        "        for entity in entities:\n",
        "            try:\n",
        "                if entity.url is not None:\n",
        "                    urls.append(entity.url)\n",
        "            except:\n",
        "                pass\n",
        "    return urls\n",
        "\n",
        "async def get_channel_history(chat_id, output_file=None, message_limit=15):\n",
        "    output_file = chat_id if output_file is None else output_file\n",
        "\n",
        "    if not app.is_connected:\n",
        "        await app.start()\n",
        "\n",
        "    chat = await app.get_chat(chat_id)\n",
        "    followers_count = chat.members_count or 0\n",
        "\n",
        "    all_messages, message_dicts = [], []\n",
        "    async for message in app.get_chat_history(chat_id, limit=message_limit):\n",
        "\n",
        "        all_messages.append(message)\n",
        "\n",
        "        message_dict = {\n",
        "            \"id\": message.id,\n",
        "            \"text\": message.text,\n",
        "            \"date\": message.date.isoformat(),\n",
        "            \"caption\": message.caption,\n",
        "            \"views\": message.views,\n",
        "            \"forwards\": message.forwards,\n",
        "            \"reactions\": get_reactions(message),\n",
        "            \"channel_memebers_count\": followers_count,\n",
        "            \"channel_username\": message.chat.username,\n",
        "            \"sender_username\": message.sender_chat.username,\n",
        "            \"channel_id\": message.chat.id,\n",
        "            \"sender_id\": message.sender_chat.id,\n",
        "            \"channel_is_verified\": message.chat.is_verified,\n",
        "            \"sender_is_verified\": message.sender_chat.is_verified,\n",
        "            \"reply_to_message_id\": message.reply_to_message_id,\n",
        "            \"reply_to_top_message_id\": message.reply_to_top_message_id,\n",
        "            \"video\": message.video.file_id if message.video else None,\n",
        "            \"photo\": message.photo.file_id if message.photo else None,\n",
        "            \"sticker\": message.sticker.file_id if message.sticker else None,\n",
        "            \"url\": get_urls(message.caption_entities)\n",
        "\n",
        "        }\n",
        "\n",
        "        message_dicts.append(message_dict)\n",
        "\n",
        "    with open(f'{output_file}.json', 'w', encoding='utf-8') as f:\n",
        "        json.dump(message_dicts, f, ensure_ascii=False, indent=4)\n",
        "\n",
        "    if app.is_connected:\n",
        "        await app.stop()\n",
        "\n"
      ]
    },
    {
      "cell_type": "code",
      "execution_count": null,
      "metadata": {
        "id": "5pawSS1YUH9D"
      },
      "outputs": [],
      "source": [
        "channels = pd.read_csv('/UkraineTGChannels.csv')\n",
        "occupied = channels[channels['Category']=='Occupied'].Username.to_list()\n",
        "deoccupied = channels[channels['Category']=='De-occupied'].Username.to_list()"
      ]
    },
    {
      "cell_type": "code",
      "execution_count": null,
      "metadata": {
        "colab": {
          "base_uri": "https://localhost:8080/"
        },
        "id": "gpH9xzdgnsQb",
        "outputId": "97826164-b520-4432-828e-07ad26cd141c"
      },
      "outputs": [
        {
          "name": "stdout",
          "output_type": "stream",
          "text": [
            "Sampled 25 occupied channels: ['sfr_lnr' 'tp_mrpl' 'novsevlisrub' 'zovsd' 'Lis_go_home'\n",
            " 'Mariupoltrans2022' 'mariupol_0629_black' 'mtspdnr' 'hercon_ru' 'lhs1934'\n",
            " 'pushilindenis' 'popovua' 'rabota_mel_rai' 'glava_lnr_info'\n",
            " 'mitropol_crimea' 'Mariypolina_life' 'alexeytsydenov' 'searchforloved'\n",
            " 'klever_flo_mrpl' 'mariupol_online24' 'trikotagmelio' 'dntormozok'\n",
            " 'nm_dnr' 'luka_ebkov' 'Ukraina2022yors']\n",
            "Sampled 25 deoccupied channels: ['koryukivka' 'hueviy_kherson' 'tipherson' 'VKhersone' 'city_ks'\n",
            " 'dn_kherson' 'krkvka' 'mostks' 'susidycity' 'mdk_kherson'\n",
            " 'partizanyofkrk' 'kherson_donbas' 'newskhersonlife' 'countryfreekherson'\n",
            " 'jurnko' 'Koryukovka' 'zdrxerson' 'kavun_ks' 'kherson_uyut'\n",
            " 'kherson_unbroken' 'fkherson' 'Koryukivka_MR' 'kherson_non_fake'\n",
            " 'HersonVestnik' 'oleshkytop']\n"
          ]
        }
      ],
      "source": [
        "np.random.seed(42)\n",
        "\n",
        "occupied_sample = np.random.choice(occupied, min(25, len(occupied)), replace=False)\n",
        "deoccupied_sample = np.random.choice(deoccupied, min(25, len(deoccupied)),replace=False)\n",
        "\n",
        "print(f\"Sampled {len(occupied_sample)} occupied channels: {occupied_sample}\")\n",
        "print(f\"Sampled {len(deoccupied_sample)} deoccupied channels: {deoccupied_sample}\")"
      ]
    },
    {
      "cell_type": "code",
      "execution_count": null,
      "metadata": {
        "colab": {
          "base_uri": "https://localhost:8080/"
        },
        "id": "7udhZ6Pot_sA",
        "outputId": "affb1637-d992-4a14-bc46-2c32c7d7cb2b"
      },
      "outputs": [
        {
          "name": "stdout",
          "output_type": "stream",
          "text": [
            "Welcome to Pyrogram (version 2.0.106)\n",
            "Pyrogram is free software and comes with ABSOLUTELY NO WARRANTY. Licensed\n",
            "under the terms of the GNU Lesser General Public License v3.0 (LGPL-3.0).\n",
            "\n",
            "Enter phone number or bot token: +4915208071188\n",
            "Is \"+4915208071188\" correct? (y/N): y\n",
            "The confirmation code has been sent via Telegram app\n",
            "Enter confirmation code: 61800\n"
          ]
        }
      ],
      "source": [
        "nest_asyncio.apply()\n",
        "await get_channel_history(\"rian_ru\",message_limit=100)"
      ]
    },
    {
      "cell_type": "code",
      "execution_count": null,
      "metadata": {
        "colab": {
          "base_uri": "https://localhost:8080/",
          "height": 742
        },
        "id": "v0GI0AtazbFp",
        "outputId": "25022c5e-8918-4cc6-a549-153cda35b36f"
      },
      "outputs": [
        {
          "name": "stdout",
          "output_type": "stream",
          "text": [
            "Error processing channel sfr_lnr: Client is already terminated\n",
            "Error processing channel tp_mrpl: Telegram says: [400 USERNAME_NOT_OCCUPIED] - The username is not occupied by anyone (caused by \"contacts.ResolveUsername\")\n",
            "Error processing channel novsevlisrub: Client is already terminated\n",
            "Error processing channel zovsd: Client is already terminated\n",
            "Error processing channel Lis_go_home: Telegram says: [400 USERNAME_NOT_OCCUPIED] - The username is not occupied by anyone (caused by \"contacts.ResolveUsername\")\n",
            "Error processing channel Mariupoltrans2022: Client is already terminated\n",
            "Error processing channel mariupol_0629_black: Client is already terminated\n",
            "Error processing channel mtspdnr: Client is already terminated\n",
            "Error processing channel hercon_ru: Client is already terminated\n",
            "Error processing channel lhs1934: Client is already terminated\n",
            "Error processing channel pushilindenis: Client is already terminated\n",
            "Error processing channel popovua: Client is already terminated\n",
            "Error processing channel rabota_mel_rai: Telegram says: [400 USERNAME_NOT_OCCUPIED] - The username is not occupied by anyone (caused by \"contacts.ResolveUsername\")\n",
            "Error processing channel glava_lnr_info: Client is already terminated\n",
            "Error processing channel mitropol_crimea: Client is already terminated\n",
            "Error processing channel Mariypolina_life: Client is already terminated\n"
          ]
        },
        {
          "ename": "CancelledError",
          "evalue": "",
          "output_type": "error",
          "traceback": [
            "\u001b[0;31m---------------------------------------------------------------------------\u001b[0m",
            "\u001b[0;31mCancelledError\u001b[0m                            Traceback (most recent call last)",
            "\u001b[0;32m<ipython-input-17-d79f5c9ceb18>\u001b[0m in \u001b[0;36m<cell line: 1>\u001b[0;34m()\u001b[0m\n\u001b[1;32m      2\u001b[0m \u001b[0;32mfor\u001b[0m \u001b[0mchat_id\u001b[0m \u001b[0;32min\u001b[0m \u001b[0moccupied_sample\u001b[0m\u001b[0;34m:\u001b[0m\u001b[0;34m\u001b[0m\u001b[0;34m\u001b[0m\u001b[0m\n\u001b[1;32m      3\u001b[0m     \u001b[0;32mtry\u001b[0m\u001b[0;34m:\u001b[0m\u001b[0;34m\u001b[0m\u001b[0;34m\u001b[0m\u001b[0m\n\u001b[0;32m----> 4\u001b[0;31m       \u001b[0;32mawait\u001b[0m \u001b[0mget_channel_history\u001b[0m\u001b[0;34m(\u001b[0m\u001b[0mchat_id\u001b[0m\u001b[0;34m,\u001b[0m\u001b[0moutput_file\u001b[0m\u001b[0;34m=\u001b[0m\u001b[0;34mf'occupied/{chat_id}'\u001b[0m\u001b[0;34m,\u001b[0m\u001b[0mmessage_limit\u001b[0m\u001b[0;34m=\u001b[0m\u001b[0;36m100\u001b[0m\u001b[0;34m)\u001b[0m\u001b[0;34m\u001b[0m\u001b[0;34m\u001b[0m\u001b[0m\n\u001b[0m\u001b[1;32m      5\u001b[0m     \u001b[0;32mexcept\u001b[0m \u001b[0mException\u001b[0m \u001b[0;32mas\u001b[0m \u001b[0me\u001b[0m\u001b[0;34m:\u001b[0m\u001b[0;34m\u001b[0m\u001b[0;34m\u001b[0m\u001b[0m\n\u001b[1;32m      6\u001b[0m       \u001b[0mprint\u001b[0m\u001b[0;34m(\u001b[0m\u001b[0;34mf\"Error processing channel {chat_id}: {e}\"\u001b[0m\u001b[0;34m)\u001b[0m\u001b[0;34m\u001b[0m\u001b[0;34m\u001b[0m\u001b[0m\n",
            "\u001b[0;32m<ipython-input-8-57477052c853>\u001b[0m in \u001b[0;36mget_channel_history\u001b[0;34m(chat_id, output_file, message_limit)\u001b[0m\n\u001b[1;32m     29\u001b[0m         \u001b[0;32mawait\u001b[0m \u001b[0mapp\u001b[0m\u001b[0;34m.\u001b[0m\u001b[0mstart\u001b[0m\u001b[0;34m(\u001b[0m\u001b[0;34m)\u001b[0m\u001b[0;34m\u001b[0m\u001b[0;34m\u001b[0m\u001b[0m\n\u001b[1;32m     30\u001b[0m \u001b[0;34m\u001b[0m\u001b[0m\n\u001b[0;32m---> 31\u001b[0;31m     \u001b[0mchat\u001b[0m \u001b[0;34m=\u001b[0m \u001b[0;32mawait\u001b[0m \u001b[0mapp\u001b[0m\u001b[0;34m.\u001b[0m\u001b[0mget_chat\u001b[0m\u001b[0;34m(\u001b[0m\u001b[0mchat_id\u001b[0m\u001b[0;34m)\u001b[0m\u001b[0;34m\u001b[0m\u001b[0;34m\u001b[0m\u001b[0m\n\u001b[0m\u001b[1;32m     32\u001b[0m     \u001b[0mfollowers_count\u001b[0m \u001b[0;34m=\u001b[0m \u001b[0mchat\u001b[0m\u001b[0;34m.\u001b[0m\u001b[0mmembers_count\u001b[0m \u001b[0;32mor\u001b[0m \u001b[0;36m0\u001b[0m\u001b[0;34m\u001b[0m\u001b[0;34m\u001b[0m\u001b[0m\n\u001b[1;32m     33\u001b[0m \u001b[0;34m\u001b[0m\u001b[0m\n",
            "\u001b[0;32m/usr/local/lib/python3.11/dist-packages/pyrogram/methods/chats/get_chat.py\u001b[0m in \u001b[0;36mget_chat\u001b[0;34m(self, chat_id)\u001b[0m\n\u001b[1;32m     79\u001b[0m \u001b[0;34m\u001b[0m\u001b[0m\n\u001b[1;32m     80\u001b[0m         \u001b[0;32mif\u001b[0m \u001b[0misinstance\u001b[0m\u001b[0;34m(\u001b[0m\u001b[0mpeer\u001b[0m\u001b[0;34m,\u001b[0m \u001b[0mraw\u001b[0m\u001b[0;34m.\u001b[0m\u001b[0mtypes\u001b[0m\u001b[0;34m.\u001b[0m\u001b[0mInputPeerChannel\u001b[0m\u001b[0;34m)\u001b[0m\u001b[0;34m:\u001b[0m\u001b[0;34m\u001b[0m\u001b[0;34m\u001b[0m\u001b[0m\n\u001b[0;32m---> 81\u001b[0;31m             \u001b[0mr\u001b[0m \u001b[0;34m=\u001b[0m \u001b[0;32mawait\u001b[0m \u001b[0mself\u001b[0m\u001b[0;34m.\u001b[0m\u001b[0minvoke\u001b[0m\u001b[0;34m(\u001b[0m\u001b[0mraw\u001b[0m\u001b[0;34m.\u001b[0m\u001b[0mfunctions\u001b[0m\u001b[0;34m.\u001b[0m\u001b[0mchannels\u001b[0m\u001b[0;34m.\u001b[0m\u001b[0mGetFullChannel\u001b[0m\u001b[0;34m(\u001b[0m\u001b[0mchannel\u001b[0m\u001b[0;34m=\u001b[0m\u001b[0mpeer\u001b[0m\u001b[0;34m)\u001b[0m\u001b[0;34m)\u001b[0m\u001b[0;34m\u001b[0m\u001b[0;34m\u001b[0m\u001b[0m\n\u001b[0m\u001b[1;32m     82\u001b[0m         \u001b[0;32melif\u001b[0m \u001b[0misinstance\u001b[0m\u001b[0;34m(\u001b[0m\u001b[0mpeer\u001b[0m\u001b[0;34m,\u001b[0m \u001b[0;34m(\u001b[0m\u001b[0mraw\u001b[0m\u001b[0;34m.\u001b[0m\u001b[0mtypes\u001b[0m\u001b[0;34m.\u001b[0m\u001b[0mInputPeerUser\u001b[0m\u001b[0;34m,\u001b[0m \u001b[0mraw\u001b[0m\u001b[0;34m.\u001b[0m\u001b[0mtypes\u001b[0m\u001b[0;34m.\u001b[0m\u001b[0mInputPeerSelf\u001b[0m\u001b[0;34m)\u001b[0m\u001b[0;34m)\u001b[0m\u001b[0;34m:\u001b[0m\u001b[0;34m\u001b[0m\u001b[0;34m\u001b[0m\u001b[0m\n\u001b[1;32m     83\u001b[0m             \u001b[0mr\u001b[0m \u001b[0;34m=\u001b[0m \u001b[0;32mawait\u001b[0m \u001b[0mself\u001b[0m\u001b[0;34m.\u001b[0m\u001b[0minvoke\u001b[0m\u001b[0;34m(\u001b[0m\u001b[0mraw\u001b[0m\u001b[0;34m.\u001b[0m\u001b[0mfunctions\u001b[0m\u001b[0;34m.\u001b[0m\u001b[0musers\u001b[0m\u001b[0;34m.\u001b[0m\u001b[0mGetFullUser\u001b[0m\u001b[0;34m(\u001b[0m\u001b[0mid\u001b[0m\u001b[0;34m=\u001b[0m\u001b[0mpeer\u001b[0m\u001b[0;34m)\u001b[0m\u001b[0;34m)\u001b[0m\u001b[0;34m\u001b[0m\u001b[0;34m\u001b[0m\u001b[0m\n",
            "\u001b[0;32m/usr/local/lib/python3.11/dist-packages/pyrogram/methods/advanced/invoke.py\u001b[0m in \u001b[0;36minvoke\u001b[0;34m(self, query, retries, timeout, sleep_threshold)\u001b[0m\n\u001b[1;32m     77\u001b[0m             \u001b[0mquery\u001b[0m \u001b[0;34m=\u001b[0m \u001b[0mraw\u001b[0m\u001b[0;34m.\u001b[0m\u001b[0mfunctions\u001b[0m\u001b[0;34m.\u001b[0m\u001b[0mInvokeWithTakeout\u001b[0m\u001b[0;34m(\u001b[0m\u001b[0mtakeout_id\u001b[0m\u001b[0;34m=\u001b[0m\u001b[0mself\u001b[0m\u001b[0;34m.\u001b[0m\u001b[0mtakeout_id\u001b[0m\u001b[0;34m,\u001b[0m \u001b[0mquery\u001b[0m\u001b[0;34m=\u001b[0m\u001b[0mquery\u001b[0m\u001b[0;34m)\u001b[0m\u001b[0;34m\u001b[0m\u001b[0;34m\u001b[0m\u001b[0m\n\u001b[1;32m     78\u001b[0m \u001b[0;34m\u001b[0m\u001b[0m\n\u001b[0;32m---> 79\u001b[0;31m         r = await self.session.invoke(\n\u001b[0m\u001b[1;32m     80\u001b[0m             \u001b[0mquery\u001b[0m\u001b[0;34m,\u001b[0m \u001b[0mretries\u001b[0m\u001b[0;34m,\u001b[0m \u001b[0mtimeout\u001b[0m\u001b[0;34m,\u001b[0m\u001b[0;34m\u001b[0m\u001b[0;34m\u001b[0m\u001b[0m\n\u001b[1;32m     81\u001b[0m             (sleep_threshold\n",
            "\u001b[0;32m/usr/local/lib/python3.11/dist-packages/pyrogram/session/session.py\u001b[0m in \u001b[0;36minvoke\u001b[0;34m(self, query, retries, timeout, sleep_threshold)\u001b[0m\n\u001b[1;32m    387\u001b[0m         \u001b[0;32mwhile\u001b[0m \u001b[0;32mTrue\u001b[0m\u001b[0;34m:\u001b[0m\u001b[0;34m\u001b[0m\u001b[0;34m\u001b[0m\u001b[0m\n\u001b[1;32m    388\u001b[0m             \u001b[0;32mtry\u001b[0m\u001b[0;34m:\u001b[0m\u001b[0;34m\u001b[0m\u001b[0;34m\u001b[0m\u001b[0m\n\u001b[0;32m--> 389\u001b[0;31m                 \u001b[0;32mreturn\u001b[0m \u001b[0;32mawait\u001b[0m \u001b[0mself\u001b[0m\u001b[0;34m.\u001b[0m\u001b[0msend\u001b[0m\u001b[0;34m(\u001b[0m\u001b[0mquery\u001b[0m\u001b[0;34m,\u001b[0m \u001b[0mtimeout\u001b[0m\u001b[0;34m=\u001b[0m\u001b[0mtimeout\u001b[0m\u001b[0;34m)\u001b[0m\u001b[0;34m\u001b[0m\u001b[0;34m\u001b[0m\u001b[0m\n\u001b[0m\u001b[1;32m    390\u001b[0m             \u001b[0;32mexcept\u001b[0m \u001b[0mFloodWait\u001b[0m \u001b[0;32mas\u001b[0m \u001b[0me\u001b[0m\u001b[0;34m:\u001b[0m\u001b[0;34m\u001b[0m\u001b[0;34m\u001b[0m\u001b[0m\n\u001b[1;32m    391\u001b[0m                 \u001b[0mamount\u001b[0m \u001b[0;34m=\u001b[0m \u001b[0me\u001b[0m\u001b[0;34m.\u001b[0m\u001b[0mvalue\u001b[0m\u001b[0;34m\u001b[0m\u001b[0;34m\u001b[0m\u001b[0m\n",
            "\u001b[0;32m/usr/local/lib/python3.11/dist-packages/pyrogram/session/session.py\u001b[0m in \u001b[0;36msend\u001b[0;34m(self, data, wait_response, timeout)\u001b[0m\n\u001b[1;32m    342\u001b[0m         \u001b[0;32mif\u001b[0m \u001b[0mwait_response\u001b[0m\u001b[0;34m:\u001b[0m\u001b[0;34m\u001b[0m\u001b[0;34m\u001b[0m\u001b[0m\n\u001b[1;32m    343\u001b[0m             \u001b[0;32mtry\u001b[0m\u001b[0;34m:\u001b[0m\u001b[0;34m\u001b[0m\u001b[0;34m\u001b[0m\u001b[0m\n\u001b[0;32m--> 344\u001b[0;31m                 \u001b[0;32mawait\u001b[0m \u001b[0masyncio\u001b[0m\u001b[0;34m.\u001b[0m\u001b[0mwait_for\u001b[0m\u001b[0;34m(\u001b[0m\u001b[0mself\u001b[0m\u001b[0;34m.\u001b[0m\u001b[0mresults\u001b[0m\u001b[0;34m[\u001b[0m\u001b[0mmsg_id\u001b[0m\u001b[0;34m]\u001b[0m\u001b[0;34m.\u001b[0m\u001b[0mevent\u001b[0m\u001b[0;34m.\u001b[0m\u001b[0mwait\u001b[0m\u001b[0;34m(\u001b[0m\u001b[0;34m)\u001b[0m\u001b[0;34m,\u001b[0m \u001b[0mtimeout\u001b[0m\u001b[0;34m)\u001b[0m\u001b[0;34m\u001b[0m\u001b[0;34m\u001b[0m\u001b[0m\n\u001b[0m\u001b[1;32m    345\u001b[0m             \u001b[0;32mexcept\u001b[0m \u001b[0masyncio\u001b[0m\u001b[0;34m.\u001b[0m\u001b[0mTimeoutError\u001b[0m\u001b[0;34m:\u001b[0m\u001b[0;34m\u001b[0m\u001b[0;34m\u001b[0m\u001b[0m\n\u001b[1;32m    346\u001b[0m                 \u001b[0;32mpass\u001b[0m\u001b[0;34m\u001b[0m\u001b[0;34m\u001b[0m\u001b[0m\n",
            "\u001b[0;32m/usr/lib/python3.11/asyncio/tasks.py\u001b[0m in \u001b[0;36mwait_for\u001b[0;34m(fut, timeout)\u001b[0m\n\u001b[1;32m    474\u001b[0m         \u001b[0;31m# wait until the future completes or the timeout\u001b[0m\u001b[0;34m\u001b[0m\u001b[0;34m\u001b[0m\u001b[0m\n\u001b[1;32m    475\u001b[0m         \u001b[0;32mtry\u001b[0m\u001b[0;34m:\u001b[0m\u001b[0;34m\u001b[0m\u001b[0;34m\u001b[0m\u001b[0m\n\u001b[0;32m--> 476\u001b[0;31m             \u001b[0;32mawait\u001b[0m \u001b[0mwaiter\u001b[0m\u001b[0;34m\u001b[0m\u001b[0;34m\u001b[0m\u001b[0m\n\u001b[0m\u001b[1;32m    477\u001b[0m         \u001b[0;32mexcept\u001b[0m \u001b[0mexceptions\u001b[0m\u001b[0;34m.\u001b[0m\u001b[0mCancelledError\u001b[0m\u001b[0;34m:\u001b[0m\u001b[0;34m\u001b[0m\u001b[0;34m\u001b[0m\u001b[0m\n\u001b[1;32m    478\u001b[0m             \u001b[0;32mif\u001b[0m \u001b[0mfut\u001b[0m\u001b[0;34m.\u001b[0m\u001b[0mdone\u001b[0m\u001b[0;34m(\u001b[0m\u001b[0;34m)\u001b[0m\u001b[0;34m:\u001b[0m\u001b[0;34m\u001b[0m\u001b[0;34m\u001b[0m\u001b[0m\n",
            "\u001b[0;32m/usr/lib/python3.11/asyncio/futures.py\u001b[0m in \u001b[0;36m__await__\u001b[0;34m(self)\u001b[0m\n\u001b[1;32m    285\u001b[0m         \u001b[0;32mif\u001b[0m \u001b[0;32mnot\u001b[0m \u001b[0mself\u001b[0m\u001b[0;34m.\u001b[0m\u001b[0mdone\u001b[0m\u001b[0;34m(\u001b[0m\u001b[0;34m)\u001b[0m\u001b[0;34m:\u001b[0m\u001b[0;34m\u001b[0m\u001b[0;34m\u001b[0m\u001b[0m\n\u001b[1;32m    286\u001b[0m             \u001b[0mself\u001b[0m\u001b[0;34m.\u001b[0m\u001b[0m_asyncio_future_blocking\u001b[0m \u001b[0;34m=\u001b[0m \u001b[0;32mTrue\u001b[0m\u001b[0;34m\u001b[0m\u001b[0;34m\u001b[0m\u001b[0m\n\u001b[0;32m--> 287\u001b[0;31m             \u001b[0;32myield\u001b[0m \u001b[0mself\u001b[0m  \u001b[0;31m# This tells Task to wait for completion.\u001b[0m\u001b[0;34m\u001b[0m\u001b[0;34m\u001b[0m\u001b[0m\n\u001b[0m\u001b[1;32m    288\u001b[0m         \u001b[0;32mif\u001b[0m \u001b[0;32mnot\u001b[0m \u001b[0mself\u001b[0m\u001b[0;34m.\u001b[0m\u001b[0mdone\u001b[0m\u001b[0;34m(\u001b[0m\u001b[0;34m)\u001b[0m\u001b[0;34m:\u001b[0m\u001b[0;34m\u001b[0m\u001b[0;34m\u001b[0m\u001b[0m\n\u001b[1;32m    289\u001b[0m             \u001b[0;32mraise\u001b[0m \u001b[0mRuntimeError\u001b[0m\u001b[0;34m(\u001b[0m\u001b[0;34m\"await wasn't used with future\"\u001b[0m\u001b[0;34m)\u001b[0m\u001b[0;34m\u001b[0m\u001b[0;34m\u001b[0m\u001b[0m\n",
            "\u001b[0;32m/usr/lib/python3.11/asyncio/tasks.py\u001b[0m in \u001b[0;36m__wakeup\u001b[0;34m(self, future)\u001b[0m\n\u001b[1;32m    347\u001b[0m     \u001b[0;32mdef\u001b[0m \u001b[0m__wakeup\u001b[0m\u001b[0;34m(\u001b[0m\u001b[0mself\u001b[0m\u001b[0;34m,\u001b[0m \u001b[0mfuture\u001b[0m\u001b[0;34m)\u001b[0m\u001b[0;34m:\u001b[0m\u001b[0;34m\u001b[0m\u001b[0;34m\u001b[0m\u001b[0m\n\u001b[1;32m    348\u001b[0m         \u001b[0;32mtry\u001b[0m\u001b[0;34m:\u001b[0m\u001b[0;34m\u001b[0m\u001b[0;34m\u001b[0m\u001b[0m\n\u001b[0;32m--> 349\u001b[0;31m             \u001b[0mfuture\u001b[0m\u001b[0;34m.\u001b[0m\u001b[0mresult\u001b[0m\u001b[0;34m(\u001b[0m\u001b[0;34m)\u001b[0m\u001b[0;34m\u001b[0m\u001b[0;34m\u001b[0m\u001b[0m\n\u001b[0m\u001b[1;32m    350\u001b[0m         \u001b[0;32mexcept\u001b[0m \u001b[0mBaseException\u001b[0m \u001b[0;32mas\u001b[0m \u001b[0mexc\u001b[0m\u001b[0;34m:\u001b[0m\u001b[0;34m\u001b[0m\u001b[0;34m\u001b[0m\u001b[0m\n\u001b[1;32m    351\u001b[0m             \u001b[0;31m# This may also be a cancellation.\u001b[0m\u001b[0;34m\u001b[0m\u001b[0;34m\u001b[0m\u001b[0m\n",
            "\u001b[0;32m/usr/lib/python3.11/asyncio/futures.py\u001b[0m in \u001b[0;36mresult\u001b[0;34m(self)\u001b[0m\n\u001b[1;32m    196\u001b[0m         \u001b[0;32mif\u001b[0m \u001b[0mself\u001b[0m\u001b[0;34m.\u001b[0m\u001b[0m_state\u001b[0m \u001b[0;34m==\u001b[0m \u001b[0m_CANCELLED\u001b[0m\u001b[0;34m:\u001b[0m\u001b[0;34m\u001b[0m\u001b[0;34m\u001b[0m\u001b[0m\n\u001b[1;32m    197\u001b[0m             \u001b[0mexc\u001b[0m \u001b[0;34m=\u001b[0m \u001b[0mself\u001b[0m\u001b[0;34m.\u001b[0m\u001b[0m_make_cancelled_error\u001b[0m\u001b[0;34m(\u001b[0m\u001b[0;34m)\u001b[0m\u001b[0;34m\u001b[0m\u001b[0;34m\u001b[0m\u001b[0m\n\u001b[0;32m--> 198\u001b[0;31m             \u001b[0;32mraise\u001b[0m \u001b[0mexc\u001b[0m\u001b[0;34m\u001b[0m\u001b[0;34m\u001b[0m\u001b[0m\n\u001b[0m\u001b[1;32m    199\u001b[0m         \u001b[0;32mif\u001b[0m \u001b[0mself\u001b[0m\u001b[0;34m.\u001b[0m\u001b[0m_state\u001b[0m \u001b[0;34m!=\u001b[0m \u001b[0m_FINISHED\u001b[0m\u001b[0;34m:\u001b[0m\u001b[0;34m\u001b[0m\u001b[0;34m\u001b[0m\u001b[0m\n\u001b[1;32m    200\u001b[0m             \u001b[0;32mraise\u001b[0m \u001b[0mexceptions\u001b[0m\u001b[0;34m.\u001b[0m\u001b[0mInvalidStateError\u001b[0m\u001b[0;34m(\u001b[0m\u001b[0;34m'Result is not ready.'\u001b[0m\u001b[0;34m)\u001b[0m\u001b[0;34m\u001b[0m\u001b[0;34m\u001b[0m\u001b[0m\n",
            "\u001b[0;31mCancelledError\u001b[0m: "
          ]
        }
      ],
      "source": [
        "nest_asyncio.apply()\n",
        "for chat_id in occupied_sample:\n",
        "    try:\n",
        "      await get_channel_history(chat_id,output_file=f'occupied/{chat_id}',message_limit=100)\n",
        "    except Exception as e:\n",
        "      print(f\"Error processing channel {chat_id}: {e}\")\n",
        "\n",
        "for chat_id in deoccupied_sample:\n",
        "    try:\n",
        "      await get_channel_history(chat_id,output_file=f'deoccupied/{chat_id}',message_limit=100)\n",
        "    except Exception as e:\n",
        "      print(f\"Error processing channel {chat_id}: {e}\")"
      ]
    },
    {
      "cell_type": "code",
      "execution_count": null,
      "metadata": {
        "id": "DbOIPQWK6iIx"
      },
      "outputs": [],
      "source": [
        "import glob\n",
        "\n",
        "def json_to_df(json_files):\n",
        "    all_data = []\n",
        "    for file in json_files:\n",
        "        try:\n",
        "            with open(file, 'r', encoding='utf-8') as f:\n",
        "                data = json.load(f)\n",
        "                all_data.extend(data)\n",
        "        except json.JSONDecodeError as e:\n",
        "            print(f\"Error decoding JSON in file {file}: {e}\")\n",
        "\n",
        "    if all_data:\n",
        "      return pd.DataFrame(all_data)\n",
        "    else:\n",
        "      print(\"No data found in JSON files.\")\n",
        "      return None\n"
      ]
    },
    {
      "cell_type": "code",
      "execution_count": null,
      "metadata": {
        "id": "PQkPOaP3_Z1n"
      },
      "outputs": [],
      "source": [
        "json_files = glob.glob(\"occupied/*.json\")\n",
        "oc_df = json_to_df(json_files)\n",
        "json_files = glob.glob(\"deoccupied/*.json\")\n",
        "deoc_df = json_to_df(json_files)"
      ]
    },
    {
      "cell_type": "code",
      "execution_count": null,
      "metadata": {
        "id": "eJCZl7oGq4tG"
      },
      "outputs": [],
      "source": [
        "oc_df['category'] = 'occupied'\n",
        "deoc_df['category'] = 'deoccupied'\n",
        "df = pd.concat([oc_df, deoc_df], ignore_index=True)"
      ]
    },
    {
      "cell_type": "code",
      "execution_count": null,
      "metadata": {
        "colab": {
          "base_uri": "https://localhost:8080/",
          "height": 898
        },
        "id": "hrxRhuTKrDUu",
        "outputId": "4fb45d30-c16b-4b14-d8f4-155b1c501600"
      },
      "outputs": [
        {
          "data": {
            "application/vnd.google.colaboratory.intrinsic+json": {
              "type": "dataframe",
              "variable_name": "df"
            },
            "text/html": [
              "\n",
              "  <div id=\"df-3f272186-0d31-4575-9552-695e4c197052\" class=\"colab-df-container\">\n",
              "    <div>\n",
              "<style scoped>\n",
              "    .dataframe tbody tr th:only-of-type {\n",
              "        vertical-align: middle;\n",
              "    }\n",
              "\n",
              "    .dataframe tbody tr th {\n",
              "        vertical-align: top;\n",
              "    }\n",
              "\n",
              "    .dataframe thead th {\n",
              "        text-align: right;\n",
              "    }\n",
              "</style>\n",
              "<table border=\"1\" class=\"dataframe\">\n",
              "  <thead>\n",
              "    <tr style=\"text-align: right;\">\n",
              "      <th></th>\n",
              "      <th>id</th>\n",
              "      <th>text</th>\n",
              "      <th>date</th>\n",
              "      <th>caption</th>\n",
              "      <th>views</th>\n",
              "      <th>forwards</th>\n",
              "      <th>reactions</th>\n",
              "      <th>channel_memebers_count</th>\n",
              "      <th>channel_username</th>\n",
              "      <th>sender_username</th>\n",
              "      <th>...</th>\n",
              "      <th>sender_id</th>\n",
              "      <th>channel_is_verified</th>\n",
              "      <th>sender_is_verified</th>\n",
              "      <th>reply_to_message_id</th>\n",
              "      <th>reply_to_top_message_id</th>\n",
              "      <th>video</th>\n",
              "      <th>photo</th>\n",
              "      <th>sticker</th>\n",
              "      <th>url</th>\n",
              "      <th>category</th>\n",
              "    </tr>\n",
              "  </thead>\n",
              "  <tbody>\n",
              "    <tr>\n",
              "      <th>0</th>\n",
              "      <td>211579</td>\n",
              "      <td>Lpr 1 (Telegram)\\n\\nМирный житель Горловки пос...</td>\n",
              "      <td>2025-04-10T19:57:46</td>\n",
              "      <td>None</td>\n",
              "      <td>9.0</td>\n",
              "      <td>0.0</td>\n",
              "      <td>{}</td>\n",
              "      <td>529</td>\n",
              "      <td>lhs1934</td>\n",
              "      <td>lhs1934</td>\n",
              "      <td>...</td>\n",
              "      <td>-1001752006889</td>\n",
              "      <td>False</td>\n",
              "      <td>False</td>\n",
              "      <td>NaN</td>\n",
              "      <td>NaN</td>\n",
              "      <td>None</td>\n",
              "      <td>None</td>\n",
              "      <td>None</td>\n",
              "      <td>[]</td>\n",
              "      <td>occupied</td>\n",
              "    </tr>\n",
              "    <tr>\n",
              "      <th>1</th>\n",
              "      <td>211578</td>\n",
              "      <td>Lpr 1 (Telegram)\\n\\nРСЧС: Внимание! На всей те...</td>\n",
              "      <td>2025-04-10T19:57:46</td>\n",
              "      <td>None</td>\n",
              "      <td>9.0</td>\n",
              "      <td>0.0</td>\n",
              "      <td>{}</td>\n",
              "      <td>529</td>\n",
              "      <td>lhs1934</td>\n",
              "      <td>lhs1934</td>\n",
              "      <td>...</td>\n",
              "      <td>-1001752006889</td>\n",
              "      <td>False</td>\n",
              "      <td>False</td>\n",
              "      <td>NaN</td>\n",
              "      <td>NaN</td>\n",
              "      <td>None</td>\n",
              "      <td>None</td>\n",
              "      <td>None</td>\n",
              "      <td>[]</td>\n",
              "      <td>occupied</td>\n",
              "    </tr>\n",
              "    <tr>\n",
              "      <th>2</th>\n",
              "      <td>211577</td>\n",
              "      <td>Lpr 1 (Telegram)\\n\\nВалуйки \\nВнимание БПЛА в ...</td>\n",
              "      <td>2025-04-10T19:57:46</td>\n",
              "      <td>None</td>\n",
              "      <td>8.0</td>\n",
              "      <td>0.0</td>\n",
              "      <td>{}</td>\n",
              "      <td>529</td>\n",
              "      <td>lhs1934</td>\n",
              "      <td>lhs1934</td>\n",
              "      <td>...</td>\n",
              "      <td>-1001752006889</td>\n",
              "      <td>False</td>\n",
              "      <td>False</td>\n",
              "      <td>NaN</td>\n",
              "      <td>NaN</td>\n",
              "      <td>None</td>\n",
              "      <td>None</td>\n",
              "      <td>None</td>\n",
              "      <td>[]</td>\n",
              "      <td>occupied</td>\n",
              "    </tr>\n",
              "    <tr>\n",
              "      <th>3</th>\n",
              "      <td>211576</td>\n",
              "      <td>Lpr 1 (Telegram)\\n\\nЛазурное Ракетная опасност...</td>\n",
              "      <td>2025-04-10T19:57:46</td>\n",
              "      <td>None</td>\n",
              "      <td>7.0</td>\n",
              "      <td>0.0</td>\n",
              "      <td>{}</td>\n",
              "      <td>529</td>\n",
              "      <td>lhs1934</td>\n",
              "      <td>lhs1934</td>\n",
              "      <td>...</td>\n",
              "      <td>-1001752006889</td>\n",
              "      <td>False</td>\n",
              "      <td>False</td>\n",
              "      <td>NaN</td>\n",
              "      <td>NaN</td>\n",
              "      <td>None</td>\n",
              "      <td>None</td>\n",
              "      <td>None</td>\n",
              "      <td>[]</td>\n",
              "      <td>occupied</td>\n",
              "    </tr>\n",
              "    <tr>\n",
              "      <th>4</th>\n",
              "      <td>211575</td>\n",
              "      <td>Lpr 1 (Telegram)\\n\\nКашарский р-он, Ростовской...</td>\n",
              "      <td>2025-04-10T19:57:46</td>\n",
              "      <td>None</td>\n",
              "      <td>8.0</td>\n",
              "      <td>0.0</td>\n",
              "      <td>{}</td>\n",
              "      <td>529</td>\n",
              "      <td>lhs1934</td>\n",
              "      <td>lhs1934</td>\n",
              "      <td>...</td>\n",
              "      <td>-1001752006889</td>\n",
              "      <td>False</td>\n",
              "      <td>False</td>\n",
              "      <td>NaN</td>\n",
              "      <td>NaN</td>\n",
              "      <td>None</td>\n",
              "      <td>None</td>\n",
              "      <td>None</td>\n",
              "      <td>[]</td>\n",
              "      <td>occupied</td>\n",
              "    </tr>\n",
              "    <tr>\n",
              "      <th>...</th>\n",
              "      <td>...</td>\n",
              "      <td>...</td>\n",
              "      <td>...</td>\n",
              "      <td>...</td>\n",
              "      <td>...</td>\n",
              "      <td>...</td>\n",
              "      <td>...</td>\n",
              "      <td>...</td>\n",
              "      <td>...</td>\n",
              "      <td>...</td>\n",
              "      <td>...</td>\n",
              "      <td>...</td>\n",
              "      <td>...</td>\n",
              "      <td>...</td>\n",
              "      <td>...</td>\n",
              "      <td>...</td>\n",
              "      <td>...</td>\n",
              "      <td>...</td>\n",
              "      <td>...</td>\n",
              "      <td>...</td>\n",
              "      <td>...</td>\n",
              "    </tr>\n",
              "    <tr>\n",
              "      <th>4015</th>\n",
              "      <td>20351</td>\n",
              "      <td>None</td>\n",
              "      <td>2025-04-05T11:46:45</td>\n",
              "      <td>None</td>\n",
              "      <td>57991.0</td>\n",
              "      <td>254.0</td>\n",
              "      <td>{}</td>\n",
              "      <td>113845</td>\n",
              "      <td>kherson_non_fake</td>\n",
              "      <td>kherson_non_fake</td>\n",
              "      <td>...</td>\n",
              "      <td>-1001658917464</td>\n",
              "      <td>False</td>\n",
              "      <td>False</td>\n",
              "      <td>20346.0</td>\n",
              "      <td>20345.0</td>\n",
              "      <td>None</td>\n",
              "      <td>AgACAgIAAx0CYuESWAACT39n-CTb0G_zxfDIgIAQ_m2ByY...</td>\n",
              "      <td>None</td>\n",
              "      <td>[]</td>\n",
              "      <td>deoccupied</td>\n",
              "    </tr>\n",
              "    <tr>\n",
              "      <th>4016</th>\n",
              "      <td>20350</td>\n",
              "      <td>None</td>\n",
              "      <td>2025-04-05T11:46:45</td>\n",
              "      <td>❗️Кадры с последствиями ночных ударов рф по Дн...</td>\n",
              "      <td>55902.0</td>\n",
              "      <td>261.0</td>\n",
              "      <td>{'💔': 677, '🤬': 587, '🙏': 142, '👍': 47, '😱': 1...</td>\n",
              "      <td>113845</td>\n",
              "      <td>kherson_non_fake</td>\n",
              "      <td>kherson_non_fake</td>\n",
              "      <td>...</td>\n",
              "      <td>-1001658917464</td>\n",
              "      <td>False</td>\n",
              "      <td>False</td>\n",
              "      <td>20346.0</td>\n",
              "      <td>20345.0</td>\n",
              "      <td>None</td>\n",
              "      <td>AgACAgIAAx0CYuESWAACT35n-CTbfLmbBqHr0sDSrWNDm4...</td>\n",
              "      <td>None</td>\n",
              "      <td>[]</td>\n",
              "      <td>deoccupied</td>\n",
              "    </tr>\n",
              "    <tr>\n",
              "      <th>4017</th>\n",
              "      <td>20349</td>\n",
              "      <td>❗️На 13:30 ⏱️ артиллерия рф ведет артобстрел Д...</td>\n",
              "      <td>2025-04-05T10:32:58</td>\n",
              "      <td>None</td>\n",
              "      <td>62655.0</td>\n",
              "      <td>39.0</td>\n",
              "      <td>{'🤬': 904, '🙏': 253, '👍': 26, '💔': 25, '😱': 12...</td>\n",
              "      <td>113845</td>\n",
              "      <td>kherson_non_fake</td>\n",
              "      <td>kherson_non_fake</td>\n",
              "      <td>...</td>\n",
              "      <td>-1001658917464</td>\n",
              "      <td>False</td>\n",
              "      <td>False</td>\n",
              "      <td>20347.0</td>\n",
              "      <td>NaN</td>\n",
              "      <td>None</td>\n",
              "      <td>None</td>\n",
              "      <td>None</td>\n",
              "      <td>[]</td>\n",
              "      <td>deoccupied</td>\n",
              "    </tr>\n",
              "    <tr>\n",
              "      <th>4018</th>\n",
              "      <td>20348</td>\n",
              "      <td>❗️Также враг ведёт обстрел жилых кварталов в р...</td>\n",
              "      <td>2025-04-05T09:55:13</td>\n",
              "      <td>None</td>\n",
              "      <td>60139.0</td>\n",
              "      <td>55.0</td>\n",
              "      <td>{'🤬': 898, '🙏': 216, '💔': 56, '👍': 28, '🤣': 9,...</td>\n",
              "      <td>113845</td>\n",
              "      <td>kherson_non_fake</td>\n",
              "      <td>kherson_non_fake</td>\n",
              "      <td>...</td>\n",
              "      <td>-1001658917464</td>\n",
              "      <td>False</td>\n",
              "      <td>False</td>\n",
              "      <td>20347.0</td>\n",
              "      <td>NaN</td>\n",
              "      <td>None</td>\n",
              "      <td>None</td>\n",
              "      <td>None</td>\n",
              "      <td>[]</td>\n",
              "      <td>deoccupied</td>\n",
              "    </tr>\n",
              "    <tr>\n",
              "      <th>4019</th>\n",
              "      <td>20347</td>\n",
              "      <td>❗️Около 12:30⏱️ вражеская артиллерия начала об...</td>\n",
              "      <td>2025-04-05T09:43:15</td>\n",
              "      <td>None</td>\n",
              "      <td>60581.0</td>\n",
              "      <td>46.0</td>\n",
              "      <td>{'🤬': 929, '🙏': 221, '💔': 67, '👍': 24, '🤣': 7,...</td>\n",
              "      <td>113845</td>\n",
              "      <td>kherson_non_fake</td>\n",
              "      <td>kherson_non_fake</td>\n",
              "      <td>...</td>\n",
              "      <td>-1001658917464</td>\n",
              "      <td>False</td>\n",
              "      <td>False</td>\n",
              "      <td>NaN</td>\n",
              "      <td>NaN</td>\n",
              "      <td>None</td>\n",
              "      <td>None</td>\n",
              "      <td>None</td>\n",
              "      <td>[]</td>\n",
              "      <td>deoccupied</td>\n",
              "    </tr>\n",
              "  </tbody>\n",
              "</table>\n",
              "<p>4020 rows × 21 columns</p>\n",
              "</div>\n",
              "    <div class=\"colab-df-buttons\">\n",
              "\n",
              "  <div class=\"colab-df-container\">\n",
              "    <button class=\"colab-df-convert\" onclick=\"convertToInteractive('df-3f272186-0d31-4575-9552-695e4c197052')\"\n",
              "            title=\"Convert this dataframe to an interactive table.\"\n",
              "            style=\"display:none;\">\n",
              "\n",
              "  <svg xmlns=\"http://www.w3.org/2000/svg\" height=\"24px\" viewBox=\"0 -960 960 960\">\n",
              "    <path d=\"M120-120v-720h720v720H120Zm60-500h600v-160H180v160Zm220 220h160v-160H400v160Zm0 220h160v-160H400v160ZM180-400h160v-160H180v160Zm440 0h160v-160H620v160ZM180-180h160v-160H180v160Zm440 0h160v-160H620v160Z\"/>\n",
              "  </svg>\n",
              "    </button>\n",
              "\n",
              "  <style>\n",
              "    .colab-df-container {\n",
              "      display:flex;\n",
              "      gap: 12px;\n",
              "    }\n",
              "\n",
              "    .colab-df-convert {\n",
              "      background-color: #E8F0FE;\n",
              "      border: none;\n",
              "      border-radius: 50%;\n",
              "      cursor: pointer;\n",
              "      display: none;\n",
              "      fill: #1967D2;\n",
              "      height: 32px;\n",
              "      padding: 0 0 0 0;\n",
              "      width: 32px;\n",
              "    }\n",
              "\n",
              "    .colab-df-convert:hover {\n",
              "      background-color: #E2EBFA;\n",
              "      box-shadow: 0px 1px 2px rgba(60, 64, 67, 0.3), 0px 1px 3px 1px rgba(60, 64, 67, 0.15);\n",
              "      fill: #174EA6;\n",
              "    }\n",
              "\n",
              "    .colab-df-buttons div {\n",
              "      margin-bottom: 4px;\n",
              "    }\n",
              "\n",
              "    [theme=dark] .colab-df-convert {\n",
              "      background-color: #3B4455;\n",
              "      fill: #D2E3FC;\n",
              "    }\n",
              "\n",
              "    [theme=dark] .colab-df-convert:hover {\n",
              "      background-color: #434B5C;\n",
              "      box-shadow: 0px 1px 3px 1px rgba(0, 0, 0, 0.15);\n",
              "      filter: drop-shadow(0px 1px 2px rgba(0, 0, 0, 0.3));\n",
              "      fill: #FFFFFF;\n",
              "    }\n",
              "  </style>\n",
              "\n",
              "    <script>\n",
              "      const buttonEl =\n",
              "        document.querySelector('#df-3f272186-0d31-4575-9552-695e4c197052 button.colab-df-convert');\n",
              "      buttonEl.style.display =\n",
              "        google.colab.kernel.accessAllowed ? 'block' : 'none';\n",
              "\n",
              "      async function convertToInteractive(key) {\n",
              "        const element = document.querySelector('#df-3f272186-0d31-4575-9552-695e4c197052');\n",
              "        const dataTable =\n",
              "          await google.colab.kernel.invokeFunction('convertToInteractive',\n",
              "                                                    [key], {});\n",
              "        if (!dataTable) return;\n",
              "\n",
              "        const docLinkHtml = 'Like what you see? Visit the ' +\n",
              "          '<a target=\"_blank\" href=https://colab.research.google.com/notebooks/data_table.ipynb>data table notebook</a>'\n",
              "          + ' to learn more about interactive tables.';\n",
              "        element.innerHTML = '';\n",
              "        dataTable['output_type'] = 'display_data';\n",
              "        await google.colab.output.renderOutput(dataTable, element);\n",
              "        const docLink = document.createElement('div');\n",
              "        docLink.innerHTML = docLinkHtml;\n",
              "        element.appendChild(docLink);\n",
              "      }\n",
              "    </script>\n",
              "  </div>\n",
              "\n",
              "\n",
              "<div id=\"df-d103b456-6624-47db-9981-6f696f54d5da\">\n",
              "  <button class=\"colab-df-quickchart\" onclick=\"quickchart('df-d103b456-6624-47db-9981-6f696f54d5da')\"\n",
              "            title=\"Suggest charts\"\n",
              "            style=\"display:none;\">\n",
              "\n",
              "<svg xmlns=\"http://www.w3.org/2000/svg\" height=\"24px\"viewBox=\"0 0 24 24\"\n",
              "     width=\"24px\">\n",
              "    <g>\n",
              "        <path d=\"M19 3H5c-1.1 0-2 .9-2 2v14c0 1.1.9 2 2 2h14c1.1 0 2-.9 2-2V5c0-1.1-.9-2-2-2zM9 17H7v-7h2v7zm4 0h-2V7h2v10zm4 0h-2v-4h2v4z\"/>\n",
              "    </g>\n",
              "</svg>\n",
              "  </button>\n",
              "\n",
              "<style>\n",
              "  .colab-df-quickchart {\n",
              "      --bg-color: #E8F0FE;\n",
              "      --fill-color: #1967D2;\n",
              "      --hover-bg-color: #E2EBFA;\n",
              "      --hover-fill-color: #174EA6;\n",
              "      --disabled-fill-color: #AAA;\n",
              "      --disabled-bg-color: #DDD;\n",
              "  }\n",
              "\n",
              "  [theme=dark] .colab-df-quickchart {\n",
              "      --bg-color: #3B4455;\n",
              "      --fill-color: #D2E3FC;\n",
              "      --hover-bg-color: #434B5C;\n",
              "      --hover-fill-color: #FFFFFF;\n",
              "      --disabled-bg-color: #3B4455;\n",
              "      --disabled-fill-color: #666;\n",
              "  }\n",
              "\n",
              "  .colab-df-quickchart {\n",
              "    background-color: var(--bg-color);\n",
              "    border: none;\n",
              "    border-radius: 50%;\n",
              "    cursor: pointer;\n",
              "    display: none;\n",
              "    fill: var(--fill-color);\n",
              "    height: 32px;\n",
              "    padding: 0;\n",
              "    width: 32px;\n",
              "  }\n",
              "\n",
              "  .colab-df-quickchart:hover {\n",
              "    background-color: var(--hover-bg-color);\n",
              "    box-shadow: 0 1px 2px rgba(60, 64, 67, 0.3), 0 1px 3px 1px rgba(60, 64, 67, 0.15);\n",
              "    fill: var(--button-hover-fill-color);\n",
              "  }\n",
              "\n",
              "  .colab-df-quickchart-complete:disabled,\n",
              "  .colab-df-quickchart-complete:disabled:hover {\n",
              "    background-color: var(--disabled-bg-color);\n",
              "    fill: var(--disabled-fill-color);\n",
              "    box-shadow: none;\n",
              "  }\n",
              "\n",
              "  .colab-df-spinner {\n",
              "    border: 2px solid var(--fill-color);\n",
              "    border-color: transparent;\n",
              "    border-bottom-color: var(--fill-color);\n",
              "    animation:\n",
              "      spin 1s steps(1) infinite;\n",
              "  }\n",
              "\n",
              "  @keyframes spin {\n",
              "    0% {\n",
              "      border-color: transparent;\n",
              "      border-bottom-color: var(--fill-color);\n",
              "      border-left-color: var(--fill-color);\n",
              "    }\n",
              "    20% {\n",
              "      border-color: transparent;\n",
              "      border-left-color: var(--fill-color);\n",
              "      border-top-color: var(--fill-color);\n",
              "    }\n",
              "    30% {\n",
              "      border-color: transparent;\n",
              "      border-left-color: var(--fill-color);\n",
              "      border-top-color: var(--fill-color);\n",
              "      border-right-color: var(--fill-color);\n",
              "    }\n",
              "    40% {\n",
              "      border-color: transparent;\n",
              "      border-right-color: var(--fill-color);\n",
              "      border-top-color: var(--fill-color);\n",
              "    }\n",
              "    60% {\n",
              "      border-color: transparent;\n",
              "      border-right-color: var(--fill-color);\n",
              "    }\n",
              "    80% {\n",
              "      border-color: transparent;\n",
              "      border-right-color: var(--fill-color);\n",
              "      border-bottom-color: var(--fill-color);\n",
              "    }\n",
              "    90% {\n",
              "      border-color: transparent;\n",
              "      border-bottom-color: var(--fill-color);\n",
              "    }\n",
              "  }\n",
              "</style>\n",
              "\n",
              "  <script>\n",
              "    async function quickchart(key) {\n",
              "      const quickchartButtonEl =\n",
              "        document.querySelector('#' + key + ' button');\n",
              "      quickchartButtonEl.disabled = true;  // To prevent multiple clicks.\n",
              "      quickchartButtonEl.classList.add('colab-df-spinner');\n",
              "      try {\n",
              "        const charts = await google.colab.kernel.invokeFunction(\n",
              "            'suggestCharts', [key], {});\n",
              "      } catch (error) {\n",
              "        console.error('Error during call to suggestCharts:', error);\n",
              "      }\n",
              "      quickchartButtonEl.classList.remove('colab-df-spinner');\n",
              "      quickchartButtonEl.classList.add('colab-df-quickchart-complete');\n",
              "    }\n",
              "    (() => {\n",
              "      let quickchartButtonEl =\n",
              "        document.querySelector('#df-d103b456-6624-47db-9981-6f696f54d5da button');\n",
              "      quickchartButtonEl.style.display =\n",
              "        google.colab.kernel.accessAllowed ? 'block' : 'none';\n",
              "    })();\n",
              "  </script>\n",
              "</div>\n",
              "\n",
              "  <div id=\"id_5b7c03d6-6e5a-4415-8593-fef84fba7601\">\n",
              "    <style>\n",
              "      .colab-df-generate {\n",
              "        background-color: #E8F0FE;\n",
              "        border: none;\n",
              "        border-radius: 50%;\n",
              "        cursor: pointer;\n",
              "        display: none;\n",
              "        fill: #1967D2;\n",
              "        height: 32px;\n",
              "        padding: 0 0 0 0;\n",
              "        width: 32px;\n",
              "      }\n",
              "\n",
              "      .colab-df-generate:hover {\n",
              "        background-color: #E2EBFA;\n",
              "        box-shadow: 0px 1px 2px rgba(60, 64, 67, 0.3), 0px 1px 3px 1px rgba(60, 64, 67, 0.15);\n",
              "        fill: #174EA6;\n",
              "      }\n",
              "\n",
              "      [theme=dark] .colab-df-generate {\n",
              "        background-color: #3B4455;\n",
              "        fill: #D2E3FC;\n",
              "      }\n",
              "\n",
              "      [theme=dark] .colab-df-generate:hover {\n",
              "        background-color: #434B5C;\n",
              "        box-shadow: 0px 1px 3px 1px rgba(0, 0, 0, 0.15);\n",
              "        filter: drop-shadow(0px 1px 2px rgba(0, 0, 0, 0.3));\n",
              "        fill: #FFFFFF;\n",
              "      }\n",
              "    </style>\n",
              "    <button class=\"colab-df-generate\" onclick=\"generateWithVariable('df')\"\n",
              "            title=\"Generate code using this dataframe.\"\n",
              "            style=\"display:none;\">\n",
              "\n",
              "  <svg xmlns=\"http://www.w3.org/2000/svg\" height=\"24px\"viewBox=\"0 0 24 24\"\n",
              "       width=\"24px\">\n",
              "    <path d=\"M7,19H8.4L18.45,9,17,7.55,7,17.6ZM5,21V16.75L18.45,3.32a2,2,0,0,1,2.83,0l1.4,1.43a1.91,1.91,0,0,1,.58,1.4,1.91,1.91,0,0,1-.58,1.4L9.25,21ZM18.45,9,17,7.55Zm-12,3A5.31,5.31,0,0,0,4.9,8.1,5.31,5.31,0,0,0,1,6.5,5.31,5.31,0,0,0,4.9,4.9,5.31,5.31,0,0,0,6.5,1,5.31,5.31,0,0,0,8.1,4.9,5.31,5.31,0,0,0,12,6.5,5.46,5.46,0,0,0,6.5,12Z\"/>\n",
              "  </svg>\n",
              "    </button>\n",
              "    <script>\n",
              "      (() => {\n",
              "      const buttonEl =\n",
              "        document.querySelector('#id_5b7c03d6-6e5a-4415-8593-fef84fba7601 button.colab-df-generate');\n",
              "      buttonEl.style.display =\n",
              "        google.colab.kernel.accessAllowed ? 'block' : 'none';\n",
              "\n",
              "      buttonEl.onclick = () => {\n",
              "        google.colab.notebook.generateWithVariable('df');\n",
              "      }\n",
              "      })();\n",
              "    </script>\n",
              "  </div>\n",
              "\n",
              "    </div>\n",
              "  </div>\n"
            ],
            "text/plain": [
              "          id                                               text  \\\n",
              "0     211579  Lpr 1 (Telegram)\\n\\nМирный житель Горловки пос...   \n",
              "1     211578  Lpr 1 (Telegram)\\n\\nРСЧС: Внимание! На всей те...   \n",
              "2     211577  Lpr 1 (Telegram)\\n\\nВалуйки \\nВнимание БПЛА в ...   \n",
              "3     211576  Lpr 1 (Telegram)\\n\\nЛазурное Ракетная опасност...   \n",
              "4     211575  Lpr 1 (Telegram)\\n\\nКашарский р-он, Ростовской...   \n",
              "...      ...                                                ...   \n",
              "4015   20351                                               None   \n",
              "4016   20350                                               None   \n",
              "4017   20349  ❗️На 13:30 ⏱️ артиллерия рф ведет артобстрел Д...   \n",
              "4018   20348  ❗️Также враг ведёт обстрел жилых кварталов в р...   \n",
              "4019   20347  ❗️Около 12:30⏱️ вражеская артиллерия начала об...   \n",
              "\n",
              "                     date                                            caption  \\\n",
              "0     2025-04-10T19:57:46                                               None   \n",
              "1     2025-04-10T19:57:46                                               None   \n",
              "2     2025-04-10T19:57:46                                               None   \n",
              "3     2025-04-10T19:57:46                                               None   \n",
              "4     2025-04-10T19:57:46                                               None   \n",
              "...                   ...                                                ...   \n",
              "4015  2025-04-05T11:46:45                                               None   \n",
              "4016  2025-04-05T11:46:45  ❗️Кадры с последствиями ночных ударов рф по Дн...   \n",
              "4017  2025-04-05T10:32:58                                               None   \n",
              "4018  2025-04-05T09:55:13                                               None   \n",
              "4019  2025-04-05T09:43:15                                               None   \n",
              "\n",
              "        views  forwards                                          reactions  \\\n",
              "0         9.0       0.0                                                 {}   \n",
              "1         9.0       0.0                                                 {}   \n",
              "2         8.0       0.0                                                 {}   \n",
              "3         7.0       0.0                                                 {}   \n",
              "4         8.0       0.0                                                 {}   \n",
              "...       ...       ...                                                ...   \n",
              "4015  57991.0     254.0                                                 {}   \n",
              "4016  55902.0     261.0  {'💔': 677, '🤬': 587, '🙏': 142, '👍': 47, '😱': 1...   \n",
              "4017  62655.0      39.0  {'🤬': 904, '🙏': 253, '👍': 26, '💔': 25, '😱': 12...   \n",
              "4018  60139.0      55.0  {'🤬': 898, '🙏': 216, '💔': 56, '👍': 28, '🤣': 9,...   \n",
              "4019  60581.0      46.0  {'🤬': 929, '🙏': 221, '💔': 67, '👍': 24, '🤣': 7,...   \n",
              "\n",
              "      channel_memebers_count  channel_username   sender_username  ...  \\\n",
              "0                        529           lhs1934           lhs1934  ...   \n",
              "1                        529           lhs1934           lhs1934  ...   \n",
              "2                        529           lhs1934           lhs1934  ...   \n",
              "3                        529           lhs1934           lhs1934  ...   \n",
              "4                        529           lhs1934           lhs1934  ...   \n",
              "...                      ...               ...               ...  ...   \n",
              "4015                  113845  kherson_non_fake  kherson_non_fake  ...   \n",
              "4016                  113845  kherson_non_fake  kherson_non_fake  ...   \n",
              "4017                  113845  kherson_non_fake  kherson_non_fake  ...   \n",
              "4018                  113845  kherson_non_fake  kherson_non_fake  ...   \n",
              "4019                  113845  kherson_non_fake  kherson_non_fake  ...   \n",
              "\n",
              "          sender_id  channel_is_verified  sender_is_verified  \\\n",
              "0    -1001752006889                False               False   \n",
              "1    -1001752006889                False               False   \n",
              "2    -1001752006889                False               False   \n",
              "3    -1001752006889                False               False   \n",
              "4    -1001752006889                False               False   \n",
              "...             ...                  ...                 ...   \n",
              "4015 -1001658917464                False               False   \n",
              "4016 -1001658917464                False               False   \n",
              "4017 -1001658917464                False               False   \n",
              "4018 -1001658917464                False               False   \n",
              "4019 -1001658917464                False               False   \n",
              "\n",
              "      reply_to_message_id  reply_to_top_message_id  video  \\\n",
              "0                     NaN                      NaN   None   \n",
              "1                     NaN                      NaN   None   \n",
              "2                     NaN                      NaN   None   \n",
              "3                     NaN                      NaN   None   \n",
              "4                     NaN                      NaN   None   \n",
              "...                   ...                      ...    ...   \n",
              "4015              20346.0                  20345.0   None   \n",
              "4016              20346.0                  20345.0   None   \n",
              "4017              20347.0                      NaN   None   \n",
              "4018              20347.0                      NaN   None   \n",
              "4019                  NaN                      NaN   None   \n",
              "\n",
              "                                                  photo sticker url  \\\n",
              "0                                                  None    None  []   \n",
              "1                                                  None    None  []   \n",
              "2                                                  None    None  []   \n",
              "3                                                  None    None  []   \n",
              "4                                                  None    None  []   \n",
              "...                                                 ...     ...  ..   \n",
              "4015  AgACAgIAAx0CYuESWAACT39n-CTb0G_zxfDIgIAQ_m2ByY...    None  []   \n",
              "4016  AgACAgIAAx0CYuESWAACT35n-CTbfLmbBqHr0sDSrWNDm4...    None  []   \n",
              "4017                                               None    None  []   \n",
              "4018                                               None    None  []   \n",
              "4019                                               None    None  []   \n",
              "\n",
              "        category  \n",
              "0       occupied  \n",
              "1       occupied  \n",
              "2       occupied  \n",
              "3       occupied  \n",
              "4       occupied  \n",
              "...          ...  \n",
              "4015  deoccupied  \n",
              "4016  deoccupied  \n",
              "4017  deoccupied  \n",
              "4018  deoccupied  \n",
              "4019  deoccupied  \n",
              "\n",
              "[4020 rows x 21 columns]"
            ]
          },
          "execution_count": 17,
          "metadata": {},
          "output_type": "execute_result"
        }
      ],
      "source": [
        "df"
      ]
    },
    {
      "cell_type": "markdown",
      "metadata": {
        "id": "yNsYLT_a5b9S"
      },
      "source": [
        "## 2. Text Analysis\n",
        "\n",
        "\n"
      ]
    },
    {
      "cell_type": "code",
      "execution_count": null,
      "metadata": {
        "colab": {
          "base_uri": "https://localhost:8080/"
        },
        "id": "NylQ3YGwDTb-",
        "outputId": "61c51faf-fa62-479f-deba-18cdfd648ed9"
      },
      "outputs": [
        {
          "name": "stderr",
          "output_type": "stream",
          "text": [
            "<ipython-input-18-af110f64ef1c>:4: SettingWithCopyWarning: \n",
            "A value is trying to be set on a copy of a slice from a DataFrame.\n",
            "Try using .loc[row_indexer,col_indexer] = value instead\n",
            "\n",
            "See the caveats in the documentation: https://pandas.pydata.org/pandas-docs/stable/user_guide/indexing.html#returning-a-view-versus-a-copy\n",
            "  df['all_text_prep'] = df['all_text'].apply(lambda x: x[:512] + '...' if len(x) > 512 else x)\n"
          ]
        }
      ],
      "source": [
        "df[['text', 'caption']] = df[['text', 'caption']].fillna(\"\")\n",
        "df['all_text'] = df['caption'] + ' ' + df['text']\n",
        "df = df[df['all_text'] != ' ']\n",
        "df['all_text_prep'] = df['all_text'].apply(lambda x: x[:512] + '...' if len(x) > 512 else x)"
      ]
    },
    {
      "cell_type": "code",
      "execution_count": null,
      "metadata": {
        "colab": {
          "base_uri": "https://localhost:8080/"
        },
        "id": "WxXYlrLosoG1",
        "outputId": "97bf41b7-fdf5-4c08-aa30-1b7a4b9e59ab"
      },
      "outputs": [
        {
          "name": "stderr",
          "output_type": "stream",
          "text": [
            "<ipython-input-19-e834755253d6>:2: DeprecationWarning: DataFrameGroupBy.apply operated on the grouping columns. This behavior is deprecated, and in a future version of pandas the grouping columns will be excluded from the operation. Either pass `include_groups=False` to exclude the groupings or explicitly select the grouping columns after groupby to silence this warning.\n",
            "  dfsmall = df.groupby('category').apply(lambda x: x.sample(n=n_samples, random_state=42)).reset_index(drop=True)\n"
          ]
        }
      ],
      "source": [
        "n_samples = 250\n",
        "dfsmall = df.groupby('category').apply(lambda x: x.sample(n=n_samples, random_state=42)).reset_index(drop=True)"
      ]
    },
    {
      "cell_type": "markdown",
      "metadata": {
        "id": "A-q6HWoUbRNw"
      },
      "source": [
        "### 2.1 ChatGPT\n",
        "\n",
        "Get openai api key: https://platform.openai.com/docs/overview"
      ]
    },
    {
      "cell_type": "code",
      "execution_count": null,
      "metadata": {
        "id": "5QtA2sX25_Sj"
      },
      "outputs": [],
      "source": [
        "%%capture\n",
        "!pip install openai==1.55.3 httpx==0.27.2 --force-reinstall --quiet"
      ]
    },
    {
      "cell_type": "code",
      "execution_count": null,
      "metadata": {
        "id": "Kq1YQZO8_fdJ"
      },
      "outputs": [],
      "source": [
        "import openai\n",
        "from openai import OpenAI\n",
        "\n",
        "openai.api_key = userdata.get('openai_key')\n",
        "client = OpenAI(api_key=userdata.get('openai_key'))"
      ]
    },
    {
      "cell_type": "code",
      "execution_count": null,
      "metadata": {
        "id": "SvuNm-ezv9hG"
      },
      "outputs": [],
      "source": [
        "def analyze_texts(texts):\n",
        "    results = []\n",
        "    for text in texts:\n",
        "        response = client.chat.completions.create(\n",
        "            model=\"gpt-4o\",\n",
        "            messages=[\n",
        "                {\n",
        "                    \"role\": \"system\",\n",
        "                    \"content\": (\n",
        "                        \"You are an assistant that analyzes Telegram posts for specific linguistic categories. \"\n",
        "                        \"For each input text, return a JSON object with the following keys: \"\n",
        "                        \"'discrediting', 'emotion', 'polarization', 'impersonation', 'conspiracy', 'trolling', \"\n",
        "                        \"'pro-ukrainian', 'pro-russian'.\"\n",
        "                        \"Each key should have a value between 0 and 6 indicating the intensity of the category.\"\n",
        "                        \"Discrediting refers to discrediting opponents or creating doubt about them.\"\n",
        "                        \"Emotion refers to the use of outrage or highly emotive language to manipulate people.\"\n",
        "                        \"Polarization here means using divisive issues to drive a wedge between two groups.\"\n",
        "                        \"Impersonation refers to misusing the identity of politicians, experts, or celebrities.\"\n",
        "                        \"Conspiracy refers to casting doubt on mainstream narratives by providing an attractive story in which a small sinister group of people is responsible for doing harm to many.\"\n",
        "                        \"Trolling is aimed at eliciting reactions from people by provoking them.\"\n",
        "                        \"Finally, rate if the post has a pro-Ukrainian or a pro-Russian view on the war in Ukraine.\"\n",
        "                    ),\n",
        "                },\n",
        "                {\"role\": \"user\", \"content\": f\"Analyze this post: {text}\"},\n",
        "            ],\n",
        "            temperature=0.0,\n",
        "            response_format = { \"type\": \"json_object\" },\n",
        "        )\n",
        "        results.append(response.choices[0].message.content)\n",
        "    return results"
      ]
    },
    {
      "cell_type": "code",
      "execution_count": null,
      "metadata": {
        "id": "vESjNA4WEkYG"
      },
      "outputs": [],
      "source": [
        "# 500 posts took around 16 minutes\n",
        "results = analyze_texts(dfsmall.all_text_prep)\n",
        "results_df = pd.DataFrame([json.loads(result) for result in results])"
      ]
    },
    {
      "cell_type": "code",
      "execution_count": null,
      "metadata": {
        "colab": {
          "base_uri": "https://localhost:8080/",
          "height": 139
        },
        "id": "Rj-Cdt4zxN6t",
        "outputId": "a7906490-68ce-448d-8194-f8cf32f27aef"
      },
      "outputs": [
        {
          "ename": "NameError",
          "evalue": "name 'results_df' is not defined",
          "output_type": "error",
          "traceback": [
            "\u001b[0;31m---------------------------------------------------------------------------\u001b[0m",
            "\u001b[0;31mNameError\u001b[0m                                 Traceback (most recent call last)",
            "\u001b[0;32m<ipython-input-29-dcf04ccf6879>\u001b[0m in \u001b[0;36m<cell line: 0>\u001b[0;34m()\u001b[0m\n\u001b[0;32m----> 1\u001b[0;31m \u001b[0mresults_df_all\u001b[0m \u001b[0;34m=\u001b[0m \u001b[0mpd\u001b[0m\u001b[0;34m.\u001b[0m\u001b[0mconcat\u001b[0m\u001b[0;34m(\u001b[0m\u001b[0;34m[\u001b[0m\u001b[0mdfsmall\u001b[0m\u001b[0;34m,\u001b[0m \u001b[0mresults_df\u001b[0m\u001b[0;34m]\u001b[0m\u001b[0;34m,\u001b[0m \u001b[0maxis\u001b[0m\u001b[0;34m=\u001b[0m\u001b[0;36m1\u001b[0m\u001b[0;34m)\u001b[0m\u001b[0;34m\u001b[0m\u001b[0;34m\u001b[0m\u001b[0m\n\u001b[0m",
            "\u001b[0;31mNameError\u001b[0m: name 'results_df' is not defined"
          ]
        }
      ],
      "source": [
        "results_df_all = pd.concat([dfsmall, results_df], axis=1)"
      ]
    },
    {
      "cell_type": "code",
      "execution_count": null,
      "metadata": {
        "colab": {
          "base_uri": "https://localhost:8080/"
        },
        "id": "wWaLr6SbEsZE",
        "outputId": "19b758cd-dea4-44d0-8ab0-a887f0b1f4ae"
      },
      "outputs": [
        {
          "name": "stdout",
          "output_type": "stream",
          "text": [
            "Category: deoccupied\n",
            "Post: 💡❗Графіки відключень світла по Чернігівщині на 15 грудня\n",
            "\n",
            "У неділю, 15 грудня по країні будуть відключення електроенергії. Графіки обмеження для населення діятимуть із 08:00 до 22:00, для бізнесу -  також із 08:00 до 22:00. Задіють від однієї до двох черг відключень електроенергії. \n",
            "Discrediting: 0\n",
            "Emotion: 0\n",
            "Polarization: 0\n",
            "Impersonation: 0\n",
            "Conspiracy: 0\n",
            "Trolling: 0\n",
            "Pro-Ukrainian: 0\n",
            "Pro-Russian: 0\n",
            "\n",
            "Category: deoccupied\n",
            "Post:  💔 С 1 января госпошлина на развод вырастет в 8 раз \n",
            "\n",
            "Прежняя цена за расторжение брака 650₽, новая — 5000₽.\n",
            "Discrediting: 0\n",
            "Emotion: 1\n",
            "Polarization: 0\n",
            "Impersonation: 0\n",
            "Conspiracy: 0\n",
            "Trolling: 0\n",
            "Pro-Ukrainian: 0\n",
            "Pro-Russian: 0\n",
            "\n",
            "Category: deoccupied\n",
            "Post:  ❤️ Взятие Бердина - вброс гребней и паникеров.\n",
            "Противник даже к н.п. не подошёл, умирает на подходах, в посадках.\n",
            "Идут ожесточенные бои.\n",
            "Те, кто сдают город в инфополе - к расстрелу.\n",
            "@iamsniper\n",
            "\n",
            "ИзХерсонец - http://t.me/Kherson_Uyut\n",
            "Прислать сообщение в бот\n",
            "Discrediting: 4\n",
            "Emotion: 3\n",
            "Polarization: 3\n",
            "Impersonation: 0\n",
            "Conspiracy: 1\n",
            "Trolling: 2\n",
            "Pro-Ukrainian: 0\n",
            "Pro-Russian: 4\n",
            "\n",
            "Category: deoccupied\n",
            "Post: Фермери Херсонщини планують розширити площі під баштанні культури 🍉\n",
            "\n",
            "Наступного року аграрії правобережжя Херсонської області мають намір збільшити площу земель для посіву баштанних культур у півтора-два рази. Про це повідомив фермер Дмитро в інтерв’ю журналістам. \n",
            "\n",
            "Зростання виробництва баштанних культур свідчить про оптимістичний настрій фермерів та високий попит на цю продукцію. 🌱 \n",
            "Discrediting: 0\n",
            "Emotion: 1\n",
            "Polarization: 0\n",
            "Impersonation: 0\n",
            "Conspiracy: 0\n",
            "Trolling: 0\n",
            "Pro-Ukrainian: 0\n",
            "Pro-Russian: 0\n",
            "\n",
            "Category: deoccupied\n",
            "Post:  Семенівка - КАБи в місто... \n",
            "\n",
            "Деталі з офіційних джерел. \n",
            "\n",
            "Русня - не люди.\n",
            "Discrediting: 5\n",
            "Emotion: 4\n",
            "Polarization: 3\n",
            "Impersonation: 0\n",
            "Conspiracy: 0\n",
            "Trolling: 2\n",
            "Pro-Ukrainian: 4\n",
            "Pro-Russian: 0\n",
            "\n",
            "Category: deoccupied\n",
            "Post: На території цієї нафтобази розміщено 25 резервуарів із нафтопродуктами. \n",
            "Discrediting: 0\n",
            "Emotion: 0\n",
            "Polarization: 0\n",
            "Impersonation: 0\n",
            "Conspiracy: 0\n",
            "Trolling: 0\n",
            "Pro-Ukrainian: 0\n",
            "Pro-Russian: 0\n",
            "\n",
            "Category: deoccupied\n",
            "Post:  🎄 Российских мужчин в преддверии Нового года больше всего раздражает необходимость выбирать подарки, женщин - обязанность готовить\n",
            "\n",
            "• 36% опрошенных ничего не раздражает в предновогодней суете\n",
            "• 5% - раздражает абсолютно всё\n",
            "• 5% - не довольны большими тратами\n",
            "• по 8% - напрягает закупка продуктов и общая суета\n",
            "• 7% - не нравится убираться и мыть посуду\n",
            "Discrediting: 0\n",
            "Emotion: 1\n",
            "Polarization: 1\n",
            "Impersonation: 0\n",
            "Conspiracy: 0\n",
            "Trolling: 0\n",
            "Pro-Ukrainian: 0\n",
            "Pro-Russian: 0\n",
            "\n",
            "Category: deoccupied\n",
            "Post: ❗️На Украине открыли мемориальную доску в честь очередного нациста \n",
            "\n",
            "Со скандала в канадском парламенте прошло ещё совсем немного времени — это не мешает Зеленскому чествовать нацистов на Украине. В Ивано-Франковской области торжественно открыли мемориальную доску в честь гауптштурмфюрера 14-ой гренадерской нацистской дивизии Ваффен СС 'Галичина' Дмитро Палиева.\n",
            "\n",
            "😌Свободный Херсон \n",
            "Discrediting: 5\n",
            "Emotion: 4\n",
            "Polarization: 5\n",
            "Impersonation: 0\n",
            "Conspiracy: 2\n",
            "Trolling: 3\n",
            "Pro-Ukrainian: 0\n",
            "Pro-Russian: 5\n",
            "\n",
            "Category: deoccupied\n",
            "Post: Наши биолога поймали из Австралии. Вернее студента, точнее просто учителя из Австралии и Украины. \n",
            "\n",
            "Первое видео - за оплеухи наших не обессудьте, это экспресс-опрос называется, нам в училище преподавали такую штуку: \n",
            "\n",
            "- Вот из ё ренг? Вериз ё бейз? Ху ё командэр? Ве риз ё хедквотар? \n",
            "\n",
            "Надеюсь у парня все будет нормально, суд, каторга, всё, как положено. Пленных украинцев я понимаю. А вот этот что тут делает? \n",
            "Discrediting: 4\n",
            "Emotion: 3\n",
            "Polarization: 4\n",
            "Impersonation: 0\n",
            "Conspiracy: 1\n",
            "Trolling: 3\n",
            "Pro-Ukrainian: 0\n",
            "Pro-Russian: 4\n",
            "\n",
            "Category: deoccupied\n",
            "Post: Протягом минулої доби ворог здійснив по Херсонщині 63 обстріли\n",
            "\n",
            "Через ворожі прильоти виникло 5 пожеж в житлових будинках області. Пожежі гасили білозерські, бериславські та херсонські рятувальники.\n",
            "\n",
            "Через повторні обстріли вогнеборцям доводилось декілька разів повертатись до гасіння. Але всі пожежі вдалось ліквідувати.\n",
            "\n",
            "Надіслати новину @hueviy_kherson_Bot\n",
            "👉ПІДПИСАТИСЯ \n",
            "Discrediting: 1\n",
            "Emotion: 2\n",
            "Polarization: 1\n",
            "Impersonation: 0\n",
            "Conspiracy: 0\n",
            "Trolling: 0\n",
            "Pro-Ukrainian: 3\n",
            "Pro-Russian: 0\n",
            "\n"
          ]
        }
      ],
      "source": [
        "for i, row in results_df_all[:10].iterrows():\n",
        "    print(f\"Category: {row['category']}\")\n",
        "    print(f\"Post: {row['all_text']}\")\n",
        "    print(f\"Discrediting: {row['discrediting']}\")\n",
        "    print(f\"Emotion: {row['emotion']}\")\n",
        "    print(f\"Polarization: {row['polarization']}\")\n",
        "    print(f\"Impersonation: {row['impersonation']}\")\n",
        "    print(f\"Conspiracy: {row['conspiracy']}\")\n",
        "    print(f\"Trolling: {row['trolling']}\")\n",
        "    print(f\"Pro-Ukrainian: {row['pro-ukrainian']}\")\n",
        "    print(f\"Pro-Russian: {row['pro-russian']}\")\n",
        "    print()\n"
      ]
    },
    {
      "cell_type": "markdown",
      "metadata": {
        "id": "ZD4NEY-HbL8Y"
      },
      "source": [
        "### 2.2 Open source models"
      ]
    },
    {
      "cell_type": "code",
      "execution_count": null,
      "metadata": {
        "id": "iscLO1TPdqp-"
      },
      "outputs": [],
      "source": [
        "results_df_all = pd.read_csv('results_df_all_custom.csv')"
      ]
    },
    {
      "cell_type": "code",
      "execution_count": null,
      "metadata": {
        "colab": {
          "base_uri": "https://localhost:8080/"
        },
        "id": "S20-FqOQbJFB",
        "outputId": "2d344539-ef95-454b-eaff-e912abb5c3c4"
      },
      "outputs": [
        {
          "name": "stdout",
          "output_type": "stream",
          "text": [
            "Requirement already satisfied: transformers[torch] in /usr/local/lib/python3.11/dist-packages (4.50.3)\n",
            "Requirement already satisfied: filelock in /usr/local/lib/python3.11/dist-packages (from transformers[torch]) (3.18.0)\n",
            "Requirement already satisfied: huggingface-hub<1.0,>=0.26.0 in /usr/local/lib/python3.11/dist-packages (from transformers[torch]) (0.30.1)\n",
            "Requirement already satisfied: numpy>=1.17 in /usr/local/lib/python3.11/dist-packages (from transformers[torch]) (2.0.2)\n",
            "Requirement already satisfied: packaging>=20.0 in /usr/local/lib/python3.11/dist-packages (from transformers[torch]) (24.2)\n",
            "Requirement already satisfied: pyyaml>=5.1 in /usr/local/lib/python3.11/dist-packages (from transformers[torch]) (6.0.2)\n",
            "Requirement already satisfied: regex!=2019.12.17 in /usr/local/lib/python3.11/dist-packages (from transformers[torch]) (2024.11.6)\n",
            "Requirement already satisfied: requests in /usr/local/lib/python3.11/dist-packages (from transformers[torch]) (2.32.3)\n",
            "Requirement already satisfied: tokenizers<0.22,>=0.21 in /usr/local/lib/python3.11/dist-packages (from transformers[torch]) (0.21.1)\n",
            "Requirement already satisfied: safetensors>=0.4.3 in /usr/local/lib/python3.11/dist-packages (from transformers[torch]) (0.5.3)\n",
            "Requirement already satisfied: tqdm>=4.27 in /usr/local/lib/python3.11/dist-packages (from transformers[torch]) (4.67.1)\n",
            "Requirement already satisfied: torch>=2.0 in /usr/local/lib/python3.11/dist-packages (from transformers[torch]) (2.6.0+cu124)\n",
            "Requirement already satisfied: accelerate>=0.26.0 in /usr/local/lib/python3.11/dist-packages (from transformers[torch]) (1.5.2)\n",
            "Requirement already satisfied: psutil in /usr/local/lib/python3.11/dist-packages (from accelerate>=0.26.0->transformers[torch]) (5.9.5)\n",
            "Requirement already satisfied: fsspec>=2023.5.0 in /usr/local/lib/python3.11/dist-packages (from huggingface-hub<1.0,>=0.26.0->transformers[torch]) (2025.3.2)\n",
            "Requirement already satisfied: typing-extensions>=3.7.4.3 in /usr/local/lib/python3.11/dist-packages (from huggingface-hub<1.0,>=0.26.0->transformers[torch]) (4.13.2)\n",
            "Requirement already satisfied: networkx in /usr/local/lib/python3.11/dist-packages (from torch>=2.0->transformers[torch]) (3.4.2)\n",
            "Requirement already satisfied: jinja2 in /usr/local/lib/python3.11/dist-packages (from torch>=2.0->transformers[torch]) (3.1.6)\n",
            "Collecting nvidia-cuda-nvrtc-cu12==12.4.127 (from torch>=2.0->transformers[torch])\n",
            "  Downloading nvidia_cuda_nvrtc_cu12-12.4.127-py3-none-manylinux2014_x86_64.whl.metadata (1.5 kB)\n",
            "Collecting nvidia-cuda-runtime-cu12==12.4.127 (from torch>=2.0->transformers[torch])\n",
            "  Downloading nvidia_cuda_runtime_cu12-12.4.127-py3-none-manylinux2014_x86_64.whl.metadata (1.5 kB)\n",
            "Collecting nvidia-cuda-cupti-cu12==12.4.127 (from torch>=2.0->transformers[torch])\n",
            "  Downloading nvidia_cuda_cupti_cu12-12.4.127-py3-none-manylinux2014_x86_64.whl.metadata (1.6 kB)\n",
            "Collecting nvidia-cudnn-cu12==9.1.0.70 (from torch>=2.0->transformers[torch])\n",
            "  Downloading nvidia_cudnn_cu12-9.1.0.70-py3-none-manylinux2014_x86_64.whl.metadata (1.6 kB)\n",
            "Collecting nvidia-cublas-cu12==12.4.5.8 (from torch>=2.0->transformers[torch])\n",
            "  Downloading nvidia_cublas_cu12-12.4.5.8-py3-none-manylinux2014_x86_64.whl.metadata (1.5 kB)\n",
            "Collecting nvidia-cufft-cu12==11.2.1.3 (from torch>=2.0->transformers[torch])\n",
            "  Downloading nvidia_cufft_cu12-11.2.1.3-py3-none-manylinux2014_x86_64.whl.metadata (1.5 kB)\n",
            "Collecting nvidia-curand-cu12==10.3.5.147 (from torch>=2.0->transformers[torch])\n",
            "  Downloading nvidia_curand_cu12-10.3.5.147-py3-none-manylinux2014_x86_64.whl.metadata (1.5 kB)\n",
            "Collecting nvidia-cusolver-cu12==11.6.1.9 (from torch>=2.0->transformers[torch])\n",
            "  Downloading nvidia_cusolver_cu12-11.6.1.9-py3-none-manylinux2014_x86_64.whl.metadata (1.6 kB)\n",
            "Collecting nvidia-cusparse-cu12==12.3.1.170 (from torch>=2.0->transformers[torch])\n",
            "  Downloading nvidia_cusparse_cu12-12.3.1.170-py3-none-manylinux2014_x86_64.whl.metadata (1.6 kB)\n",
            "Requirement already satisfied: nvidia-cusparselt-cu12==0.6.2 in /usr/local/lib/python3.11/dist-packages (from torch>=2.0->transformers[torch]) (0.6.2)\n",
            "Requirement already satisfied: nvidia-nccl-cu12==2.21.5 in /usr/local/lib/python3.11/dist-packages (from torch>=2.0->transformers[torch]) (2.21.5)\n",
            "Requirement already satisfied: nvidia-nvtx-cu12==12.4.127 in /usr/local/lib/python3.11/dist-packages (from torch>=2.0->transformers[torch]) (12.4.127)\n",
            "Collecting nvidia-nvjitlink-cu12==12.4.127 (from torch>=2.0->transformers[torch])\n",
            "  Downloading nvidia_nvjitlink_cu12-12.4.127-py3-none-manylinux2014_x86_64.whl.metadata (1.5 kB)\n",
            "Requirement already satisfied: triton==3.2.0 in /usr/local/lib/python3.11/dist-packages (from torch>=2.0->transformers[torch]) (3.2.0)\n",
            "Requirement already satisfied: sympy==1.13.1 in /usr/local/lib/python3.11/dist-packages (from torch>=2.0->transformers[torch]) (1.13.1)\n",
            "Requirement already satisfied: mpmath<1.4,>=1.1.0 in /usr/local/lib/python3.11/dist-packages (from sympy==1.13.1->torch>=2.0->transformers[torch]) (1.3.0)\n",
            "Requirement already satisfied: charset-normalizer<4,>=2 in /usr/local/lib/python3.11/dist-packages (from requests->transformers[torch]) (3.4.1)\n",
            "Requirement already satisfied: idna<4,>=2.5 in /usr/local/lib/python3.11/dist-packages (from requests->transformers[torch]) (3.10)\n",
            "Requirement already satisfied: urllib3<3,>=1.21.1 in /usr/local/lib/python3.11/dist-packages (from requests->transformers[torch]) (2.3.0)\n",
            "Requirement already satisfied: certifi>=2017.4.17 in /usr/local/lib/python3.11/dist-packages (from requests->transformers[torch]) (2025.1.31)\n",
            "Requirement already satisfied: MarkupSafe>=2.0 in /usr/local/lib/python3.11/dist-packages (from jinja2->torch>=2.0->transformers[torch]) (3.0.2)\n",
            "Downloading nvidia_cublas_cu12-12.4.5.8-py3-none-manylinux2014_x86_64.whl (363.4 MB)\n",
            "\u001b[2K   \u001b[90m━━━━━━━━━━━━━━━━━━━━━━━━━━━━━━━━━━━━━━━━\u001b[0m \u001b[32m363.4/363.4 MB\u001b[0m \u001b[31m4.4 MB/s\u001b[0m eta \u001b[36m0:00:00\u001b[0m\n",
            "\u001b[?25hDownloading nvidia_cuda_cupti_cu12-12.4.127-py3-none-manylinux2014_x86_64.whl (13.8 MB)\n",
            "\u001b[2K   \u001b[90m━━━━━━━━━━━━━━━━━━━━━━━━━━━━━━━━━━━━━━━━\u001b[0m \u001b[32m13.8/13.8 MB\u001b[0m \u001b[31m105.2 MB/s\u001b[0m eta \u001b[36m0:00:00\u001b[0m\n",
            "\u001b[?25hDownloading nvidia_cuda_nvrtc_cu12-12.4.127-py3-none-manylinux2014_x86_64.whl (24.6 MB)\n",
            "\u001b[2K   \u001b[90m━━━━━━━━━━━━━━━━━━━━━━━━━━━━━━━━━━━━━━━━\u001b[0m \u001b[32m24.6/24.6 MB\u001b[0m \u001b[31m79.5 MB/s\u001b[0m eta \u001b[36m0:00:00\u001b[0m\n",
            "\u001b[?25hDownloading nvidia_cuda_runtime_cu12-12.4.127-py3-none-manylinux2014_x86_64.whl (883 kB)\n",
            "\u001b[2K   \u001b[90m━━━━━━━━━━━━━━━━━━━━━━━━━━━━━━━━━━━━━━━━\u001b[0m \u001b[32m883.7/883.7 kB\u001b[0m \u001b[31m55.2 MB/s\u001b[0m eta \u001b[36m0:00:00\u001b[0m\n",
            "\u001b[?25hDownloading nvidia_cudnn_cu12-9.1.0.70-py3-none-manylinux2014_x86_64.whl (664.8 MB)\n",
            "\u001b[2K   \u001b[90m━━━━━━━━━━━━━━━━━━━━━━━━━━━━━━━━━━━━━━━━\u001b[0m \u001b[32m664.8/664.8 MB\u001b[0m \u001b[31m1.2 MB/s\u001b[0m eta \u001b[36m0:00:00\u001b[0m\n",
            "\u001b[?25hDownloading nvidia_cufft_cu12-11.2.1.3-py3-none-manylinux2014_x86_64.whl (211.5 MB)\n",
            "\u001b[2K   \u001b[90m━━━━━━━━━━━━━━━━━━━━━━━━━━━━━━━━━━━━━━━━\u001b[0m \u001b[32m211.5/211.5 MB\u001b[0m \u001b[31m5.8 MB/s\u001b[0m eta \u001b[36m0:00:00\u001b[0m\n",
            "\u001b[?25hDownloading nvidia_curand_cu12-10.3.5.147-py3-none-manylinux2014_x86_64.whl (56.3 MB)\n",
            "\u001b[2K   \u001b[90m━━━━━━━━━━━━━━━━━━━━━━━━━━━━━━━━━━━━━━━━\u001b[0m \u001b[32m56.3/56.3 MB\u001b[0m \u001b[31m12.3 MB/s\u001b[0m eta \u001b[36m0:00:00\u001b[0m\n",
            "\u001b[?25hDownloading nvidia_cusolver_cu12-11.6.1.9-py3-none-manylinux2014_x86_64.whl (127.9 MB)\n",
            "\u001b[2K   \u001b[90m━━━━━━━━━━━━━━━━━━━━━━━━━━━━━━━━━━━━━━━━\u001b[0m \u001b[32m127.9/127.9 MB\u001b[0m \u001b[31m7.3 MB/s\u001b[0m eta \u001b[36m0:00:00\u001b[0m\n",
            "\u001b[?25hDownloading nvidia_cusparse_cu12-12.3.1.170-py3-none-manylinux2014_x86_64.whl (207.5 MB)\n",
            "\u001b[2K   \u001b[90m━━━━━━━━━━━━━━━━━━━━━━━━━━━━━━━━━━━━━━━━\u001b[0m \u001b[32m207.5/207.5 MB\u001b[0m \u001b[31m8.9 MB/s\u001b[0m eta \u001b[36m0:00:00\u001b[0m\n",
            "\u001b[?25hDownloading nvidia_nvjitlink_cu12-12.4.127-py3-none-manylinux2014_x86_64.whl (21.1 MB)\n",
            "\u001b[2K   \u001b[90m━━━━━━━━━━━━━━━━━━━━━━━━━━━━━━━━━━━━━━━━\u001b[0m \u001b[32m21.1/21.1 MB\u001b[0m \u001b[31m57.2 MB/s\u001b[0m eta \u001b[36m0:00:00\u001b[0m\n",
            "\u001b[?25hInstalling collected packages: nvidia-nvjitlink-cu12, nvidia-curand-cu12, nvidia-cufft-cu12, nvidia-cuda-runtime-cu12, nvidia-cuda-nvrtc-cu12, nvidia-cuda-cupti-cu12, nvidia-cublas-cu12, nvidia-cusparse-cu12, nvidia-cudnn-cu12, nvidia-cusolver-cu12\n",
            "  Attempting uninstall: nvidia-nvjitlink-cu12\n",
            "    Found existing installation: nvidia-nvjitlink-cu12 12.5.82\n",
            "    Uninstalling nvidia-nvjitlink-cu12-12.5.82:\n",
            "      Successfully uninstalled nvidia-nvjitlink-cu12-12.5.82\n",
            "  Attempting uninstall: nvidia-curand-cu12\n",
            "    Found existing installation: nvidia-curand-cu12 10.3.6.82\n",
            "    Uninstalling nvidia-curand-cu12-10.3.6.82:\n",
            "      Successfully uninstalled nvidia-curand-cu12-10.3.6.82\n",
            "  Attempting uninstall: nvidia-cufft-cu12\n",
            "    Found existing installation: nvidia-cufft-cu12 11.2.3.61\n",
            "    Uninstalling nvidia-cufft-cu12-11.2.3.61:\n",
            "      Successfully uninstalled nvidia-cufft-cu12-11.2.3.61\n",
            "  Attempting uninstall: nvidia-cuda-runtime-cu12\n",
            "    Found existing installation: nvidia-cuda-runtime-cu12 12.5.82\n",
            "    Uninstalling nvidia-cuda-runtime-cu12-12.5.82:\n",
            "      Successfully uninstalled nvidia-cuda-runtime-cu12-12.5.82\n",
            "  Attempting uninstall: nvidia-cuda-nvrtc-cu12\n",
            "    Found existing installation: nvidia-cuda-nvrtc-cu12 12.5.82\n",
            "    Uninstalling nvidia-cuda-nvrtc-cu12-12.5.82:\n",
            "      Successfully uninstalled nvidia-cuda-nvrtc-cu12-12.5.82\n",
            "  Attempting uninstall: nvidia-cuda-cupti-cu12\n",
            "    Found existing installation: nvidia-cuda-cupti-cu12 12.5.82\n",
            "    Uninstalling nvidia-cuda-cupti-cu12-12.5.82:\n",
            "      Successfully uninstalled nvidia-cuda-cupti-cu12-12.5.82\n",
            "  Attempting uninstall: nvidia-cublas-cu12\n",
            "    Found existing installation: nvidia-cublas-cu12 12.5.3.2\n",
            "    Uninstalling nvidia-cublas-cu12-12.5.3.2:\n",
            "      Successfully uninstalled nvidia-cublas-cu12-12.5.3.2\n",
            "  Attempting uninstall: nvidia-cusparse-cu12\n",
            "    Found existing installation: nvidia-cusparse-cu12 12.5.1.3\n",
            "    Uninstalling nvidia-cusparse-cu12-12.5.1.3:\n",
            "      Successfully uninstalled nvidia-cusparse-cu12-12.5.1.3\n",
            "  Attempting uninstall: nvidia-cudnn-cu12\n",
            "    Found existing installation: nvidia-cudnn-cu12 9.3.0.75\n",
            "    Uninstalling nvidia-cudnn-cu12-9.3.0.75:\n",
            "      Successfully uninstalled nvidia-cudnn-cu12-9.3.0.75\n",
            "  Attempting uninstall: nvidia-cusolver-cu12\n",
            "    Found existing installation: nvidia-cusolver-cu12 11.6.3.83\n",
            "    Uninstalling nvidia-cusolver-cu12-11.6.3.83:\n",
            "      Successfully uninstalled nvidia-cusolver-cu12-11.6.3.83\n",
            "Successfully installed nvidia-cublas-cu12-12.4.5.8 nvidia-cuda-cupti-cu12-12.4.127 nvidia-cuda-nvrtc-cu12-12.4.127 nvidia-cuda-runtime-cu12-12.4.127 nvidia-cudnn-cu12-9.1.0.70 nvidia-cufft-cu12-11.2.1.3 nvidia-curand-cu12-10.3.5.147 nvidia-cusolver-cu12-11.6.1.9 nvidia-cusparse-cu12-12.3.1.170 nvidia-nvjitlink-cu12-12.4.127\n"
          ]
        }
      ],
      "source": [
        "! pip install 'transformers[torch]'"
      ]
    },
    {
      "cell_type": "code",
      "execution_count": null,
      "metadata": {
        "colab": {
          "base_uri": "https://localhost:8080/",
          "height": 397
        },
        "id": "RFhvzwEwbHRG",
        "outputId": "f3a21b27-4c45-49ae-cd7d-8111beff088d"
      },
      "outputs": [
        {
          "name": "stderr",
          "output_type": "stream",
          "text": [
            "/usr/local/lib/python3.11/dist-packages/huggingface_hub/utils/_auth.py:94: UserWarning: \n",
            "The secret `HF_TOKEN` does not exist in your Colab secrets.\n",
            "To authenticate with the Hugging Face Hub, create a token in your settings tab (https://huggingface.co/settings/tokens), set it as secret in your Google Colab and restart your session.\n",
            "You will be able to reuse this secret in all of your notebooks.\n",
            "Please note that authentication is recommended but still optional to access public models or datasets.\n",
            "  warnings.warn(\n"
          ]
        },
        {
          "data": {
            "application/vnd.jupyter.widget-view+json": {
              "model_id": "41a7770d83d14f55a36c252d34f93650",
              "version_major": 2,
              "version_minor": 0
            },
            "text/plain": [
              "config.json:   0%|          | 0.00/1.07k [00:00<?, ?B/s]"
            ]
          },
          "metadata": {},
          "output_type": "display_data"
        },
        {
          "data": {
            "application/vnd.jupyter.widget-view+json": {
              "model_id": "9bb6e4c3a68f4725b9a21164a7e2f1e1",
              "version_major": 2,
              "version_minor": 0
            },
            "text/plain": [
              "model.safetensors:   0%|          | 0.00/558M [00:00<?, ?B/s]"
            ]
          },
          "metadata": {},
          "output_type": "display_data"
        },
        {
          "data": {
            "application/vnd.jupyter.widget-view+json": {
              "model_id": "884102d65291416d8b2610a9a5a9715e",
              "version_major": 2,
              "version_minor": 0
            },
            "text/plain": [
              "tokenizer_config.json:   0%|          | 0.00/1.26k [00:00<?, ?B/s]"
            ]
          },
          "metadata": {},
          "output_type": "display_data"
        },
        {
          "data": {
            "application/vnd.jupyter.widget-view+json": {
              "model_id": "a2210b479d10485bb1fb6510dae2794f",
              "version_major": 2,
              "version_minor": 0
            },
            "text/plain": [
              "spm.model:   0%|          | 0.00/4.31M [00:00<?, ?B/s]"
            ]
          },
          "metadata": {},
          "output_type": "display_data"
        },
        {
          "data": {
            "application/vnd.jupyter.widget-view+json": {
              "model_id": "7385bda423ce4ee0bf822165db6ade8a",
              "version_major": 2,
              "version_minor": 0
            },
            "text/plain": [
              "tokenizer.json:   0%|          | 0.00/16.3M [00:00<?, ?B/s]"
            ]
          },
          "metadata": {},
          "output_type": "display_data"
        },
        {
          "data": {
            "application/vnd.jupyter.widget-view+json": {
              "model_id": "8bb5956f02c9414d8cd8c8d977d58db0",
              "version_major": 2,
              "version_minor": 0
            },
            "text/plain": [
              "added_tokens.json:   0%|          | 0.00/23.0 [00:00<?, ?B/s]"
            ]
          },
          "metadata": {},
          "output_type": "display_data"
        },
        {
          "data": {
            "application/vnd.jupyter.widget-view+json": {
              "model_id": "5a8ff3729bb24e80894927d785abff0b",
              "version_major": 2,
              "version_minor": 0
            },
            "text/plain": [
              "special_tokens_map.json:   0%|          | 0.00/286 [00:00<?, ?B/s]"
            ]
          },
          "metadata": {},
          "output_type": "display_data"
        },
        {
          "name": "stderr",
          "output_type": "stream",
          "text": [
            "Device set to use cuda:0\n"
          ]
        },
        {
          "name": "stdout",
          "output_type": "stream",
          "text": [
            "{'sequence': 'Русня - не люди.', 'labels': ['pro-ukrainian', 'pro-russian'], 'scores': [0.6381645798683167, 0.36183542013168335]}\n"
          ]
        }
      ],
      "source": [
        "from transformers import pipeline\n",
        "import torch\n",
        "\n",
        "classifier = pipeline(\"zero-shot-classification\",\n",
        "                      model=\"MoritzLaurer/mDeBERTa-v3-base-mnli-xnli\",\n",
        "                      device=0 if torch.cuda.is_available() else -1)\n",
        "sequence_to_classify = \"Русня - не люди.\"\n",
        "candidate_labels = [\"pro-russian\",'pro-ukrainian']\n",
        "output = classifier(sequence_to_classify, candidate_labels, multi_label=False)\n",
        "print(output)\n"
      ]
    },
    {
      "cell_type": "code",
      "execution_count": null,
      "metadata": {
        "colab": {
          "base_uri": "https://localhost:8080/"
        },
        "id": "HNZU-2PWdIHM",
        "outputId": "44848bfd-e8ea-441c-ffdf-3ad66c2e6ea3"
      },
      "outputs": [
        {
          "name": "stdout",
          "output_type": "stream",
          "text": [
            "{'sequence': 'Русня - не люди.', 'labels': ['other', 'solidarity with Ukraine or Ukrainians'], 'scores': [0.953911542892456, 0.04608844965696335]}\n"
          ]
        }
      ],
      "source": [
        "sequence_to_classify = \"Русня - не люди.\"\n",
        "candidate_labels = [\"solidarity with Ukraine or Ukrainians\",'other']\n",
        "output = classifier(sequence_to_classify, candidate_labels, multi_label=False)\n",
        "print(output)"
      ]
    },
    {
      "cell_type": "code",
      "execution_count": null,
      "metadata": {
        "colab": {
          "base_uri": "https://localhost:8080/"
        },
        "id": "NIDEj9o9dRwv",
        "outputId": "1f5d7c1b-941d-4bac-e7b9-41870b33cd42"
      },
      "outputs": [
        {
          "name": "stdout",
          "output_type": "stream",
          "text": [
            "{'sequence': 'Русня - не люди.', 'labels': ['hostility towards Russia or Russians', 'other'], 'scores': [0.5148583650588989, 0.48514166474342346]}\n"
          ]
        }
      ],
      "source": [
        "sequence_to_classify = \"Русня - не люди.\"\n",
        "candidate_labels = [\"hostility towards Russia or Russians\",'other']\n",
        "output = classifier(sequence_to_classify, candidate_labels, multi_label=False)\n",
        "print(output)"
      ]
    },
    {
      "cell_type": "code",
      "execution_count": null,
      "metadata": {
        "colab": {
          "base_uri": "https://localhost:8080/"
        },
        "id": "Nn5QJuy-fHGS",
        "outputId": "42669fd0-48e9-4af9-bd37-782d1973a81f"
      },
      "outputs": [
        {
          "name": "stdout",
          "output_type": "stream",
          "text": [
            "[{'sequence': '💡❗Графіки відключень світла по Чернігівщині на 15 грудня\\n\\nУ неділю, 15 грудня по країні будуть\\xa0відключення\\xa0електроенергії. Графіки обмеження для населення діятимуть із 08:00 до 22:00, для бізнесу - \\xa0також із 08:00 до 22:00.\\xa0Задіють від однієї до двох черг відключень електроенергії. ', 'labels': ['pro-ukrainian', 'pro-russian'], 'scores': [0.5116892457008362, 0.4883107542991638]}, {'sequence': ' 💔 С 1 января госпошлина на развод вырастет в 8 раз \\n\\nПрежняя цена за расторжение брака 650₽, новая — 5000₽.', 'labels': ['pro-russian', 'pro-ukrainian'], 'scores': [0.544937789440155, 0.4550621807575226]}, {'sequence': ' ❤️ Взятие Бердина - вброс гребней и паникеров.\\nПротивник даже к н.п. не подошёл, умирает на подходах, в посадках.\\nИдут ожесточенные бои.\\nТе, кто сдают город в инфополе - к расстрелу.\\n@iamsniper\\n\\nИзХерсонец - http://t.me/Kherson_Uyut\\nПрислать сообщение в бот', 'labels': ['pro-ukrainian', 'pro-russian'], 'scores': [0.6389063000679016, 0.3610937297344208]}, {'sequence': 'Фермери Херсонщини планують розширити площі під баштанні культури 🍉\\n\\nНаступного року аграрії правобережжя Херсонської області мають намір збільшити площу земель для посіву баштанних культур у півтора-два рази. Про це повідомив фермер Дмитро в інтерв’ю журналістам. \\n\\nЗростання виробництва баштанних культур свідчить про оптимістичний настрій фермерів та високий попит на цю продукцію. 🌱 ', 'labels': ['pro-russian', 'pro-ukrainian'], 'scores': [0.5227360129356384, 0.4772639870643616]}, {'sequence': ' Семенівка - КАБи в місто... \\n\\nДеталі з офіційних джерел. \\n\\nРусня - не люди.', 'labels': ['pro-ukrainian', 'pro-russian'], 'scores': [0.6439072489738464, 0.3560927212238312]}, {'sequence': 'На території цієї нафтобази розміщено 25 резервуарів із нафтопродуктами. ', 'labels': ['pro-russian', 'pro-ukrainian'], 'scores': [0.5475718379020691, 0.4524281620979309]}, {'sequence': ' 🎄 Российских мужчин в преддверии Нового года больше всего раздражает необходимость выбирать подарки, женщин - обязанность готовить\\n\\n• 36% опрошенных ничего не раздражает в предновогодней суете\\n• 5% - раздражает абсолютно всё\\n• 5% - не довольны большими тратами\\n• по 8% - напрягает закупка продуктов и общая суета\\n• 7% - не нравится убираться и мыть посуду', 'labels': ['pro-russian', 'pro-ukrainian'], 'scores': [0.8786953687667847, 0.12130463123321533]}, {'sequence': \"❗️На Украине открыли мемориальную доску в честь очередного нациста \\n\\nСо скандала в канадском парламенте прошло ещё совсем немного времени — это не мешает Зеленскому чествовать нацистов на Украине. В Ивано-Франковской области торжественно открыли мемориальную доску в честь гауптштурмфюрера 14-ой гренадерской нацистской дивизии Ваффен СС 'Галичина' Дмитро Палиева.\\n\\n😌Свободный Херсон \", 'labels': ['pro-ukrainian', 'pro-russian'], 'scores': [0.7131983637809753, 0.28680160641670227]}, {'sequence': 'Наши биолога поймали из Австралии. Вернее студента, точнее просто учителя из Австралии и Украины. \\n\\nПервое видео - за оплеухи наших не обессудьте, это экспресс-опрос называется, нам в училище преподавали такую штуку: \\n\\n- Вот из ё ренг? Вериз ё бейз? Ху ё командэр? Ве риз ё хедквотар? \\n\\nНадеюсь у парня все будет нормально, суд, каторга, всё, как положено. Пленных украинцев я понимаю. А вот этот что тут делает? ', 'labels': ['pro-ukrainian', 'pro-russian'], 'scores': [0.7150978446006775, 0.2849021255970001]}, {'sequence': 'Протягом минулої доби ворог здійснив по Херсонщині 63 обстріли\\n\\nЧерез ворожі прильоти виникло 5 пожеж в житлових будинках області. Пожежі гасили білозерські, бериславські та херсонські рятувальники.\\n\\nЧерез повторні обстріли вогнеборцям доводилось декілька разів повертатись до гасіння. Але всі пожежі вдалось ліквідувати.\\n\\nНадіслати новину @hueviy_kherson_Bot\\n👉ПІДПИСАТИСЯ ', 'labels': ['pro-ukrainian', 'pro-russian'], 'scores': [0.5518651008605957, 0.4481349289417267]}, {'sequence': ' 🇺🇦🕯️ Зі скорботою повідомляємо, що Корюківщина втратила Героя. Захищаючи Україну від ворога, загинув наш земляк Ковеза Анатолій Анатолійович, 1999 року народження.  \\n🕘 Вшануймо воїна живим коридором завтра, 21 січня, о 9:00 від моргу до центральної площі.\\nЦеремонія поховання відбудеться в селі Перелюб орієнтовно о 12:00 (вул. Білявської).\\nПоховають Анатолія на місцевому кладовищі в Перелюбі. \\nНизький уклін Герою! Щирі співчуття рідним', 'labels': ['pro-ukrainian', 'pro-russian'], 'scores': [0.692679226398468, 0.30732080340385437]}, {'sequence': ' ⚡️Решение о снижении возраста призыва по мобилизации на Украине подготовлено, оно будет принято в ближайшее время, сообщило пресс-бюро Службы внешней разведки (СВР) РФ.\\n\\n\"На днях Вашингтон потребовал от \"президента\" Владимира Зеленского срочно снизить возраст призыва по мобилизации до 18 лет. Соответствующее решение в Киеве уже подготовлено и будет принято в ближайшее время\", заявили в пресс-бюро.\\n\\nОтмечается, что в связи с этим \"граничащие с Украиной страны Восточной Европы негласно уже готовятся к приему...', 'labels': ['pro-ukrainian', 'pro-russian'], 'scores': [0.6025099754333496, 0.3974900543689728]}, {'sequence': ' ⚡️ У Херсоні назріває медичний скандал\\n\\nВлада міста може планувати передачу стоматологічних відділень скандальному підряднику, який будує підземну школу в Таврійському мікрорайоні. За даними джерел, МВА вже майже заблокувала роботу стоматологічного відділення лікарні Лучанського\\n\\nДеталі на сайті: https://newtime.ks.ua/stomatolog-dlya-mrochko-hersonska-mva-rozvalyuye-medzaklady-na-koryst-skandalnogo-pidryadnyka/\\n\\nПідписатися на Newtime Херсон✅\\nНаписати нам📩', 'labels': ['pro-ukrainian', 'pro-russian'], 'scores': [0.6760739684104919, 0.32392603158950806]}, {'sequence': '📆 Про отдых, работу и больничные на новогодних каникулах\\n\\nВпереди новогодние праздники и длинные выходные. Они продлятся 11 дней — с 29 декабря по 8 января. \\n\\n28 декабря, суббота — последний рабочий день 2024 года\\n\\n9 января, четверг — первый рабочий день 2025 года\\n\\n🔹 Если будете работать\\nРаботодатель может привлечь сотрудника к работе в выходные и праздничные дни только с его письменного согласия. Такая работа оплачивается в двойном размере, или можно взять дополнительный выходной.\\n\\nЕсли при сменном графике...', 'labels': ['pro-ukrainian', 'pro-russian'], 'scores': [0.5028426051139832, 0.49715733528137207]}, {'sequence': '❗❗❗Надзвичайна спека в Україні 🥵🥵🥵  \\n  \\n▪До 40-41° очікується у південних, східних, Полтавській, Дніпропетровській та Кіровоградькій областях уже наступного тижня – впродовж 11-15 липня.  \\n  \\n▪35-38° прогнозують синоптики в інших регіонах.  \\n  \\n☝В Укргідрометцентрі пояснюють, що така аномальна спека пов’язана з поширенням на територію України тропічного повітря з північних районів Африки.  \\n  \\n☀️40-41° –  близько до абсолютних максимумів температури, зафіксованих в Україні за всю історію спостережень.  \\n  \\n...', 'labels': ['pro-ukrainian', 'pro-russian'], 'scores': [0.509480893611908, 0.49051913619041443]}, {'sequence': '🇺🇦🕯️ Дорога Корюківська громадо!\\n\\nЗавтра, 28 січня ми проводжатимемо в останню путь нашого Героя-Захисника Малишенка Сергія Вікторовича, 1994 року народження, м.Корюківка. \\n\\n🔻 О 9.30 вшануймо воїна живим коридором від моргу до площі далі до вулиці Братчикова.\\n\\n🔻 О 11.00 початок церемонії поховання за адресою вул.Братчикова 30. Поховають Героя на новому кладовищі м.Корюківка. Маршрут траурної процесії - Братчикова-Ринкова-Соборна-Г.Костюк. \\n\\nВічна і світла пам’ять воїну!\\nЩирі співчуття рідним! ', 'labels': ['pro-ukrainian', 'pro-russian'], 'scores': [0.5160508751869202, 0.48394912481307983]}, {'sequence': ' ДО УВАГИ ЖИТЕЛІВ ГРОМАДИ!\\n\\xa0\\xa0\\xa0 Комунальне підприємство \"Благоустрій\" запрошує на роботу\\xa0 водія автобуса для приміських перевезень. \\nЗаробітня плата до 13тис.\\n\\nПрацевлаштування офіційне.\\n\\xa0\\xa0 \\nЗа деталями звертайтеся за телофоном +380507229777 Анатолій ,або +380995151345 Сергій', 'labels': ['pro-russian', 'pro-ukrainian'], 'scores': [0.5602352023124695, 0.43976473808288574]}, {'sequence': ' ❗️До уваги водіїв! \\nРух понтонною переправою біля Чернігова з 27 лютого буде припинено. Причина — різкий та швидкий підйом води у річці Десна.\\nКоли буде відновлений рух, поки не відомо. \\n\\nНагадуємо про альтернативні маршрути руху регіонального дорогою Р-69 з Чернігова до Києва: \\n- Чернігів — Остер — Козелець — Київ; \\n- Чернігів — Вишгород — Київ. \\n\\nЗа інформацією Служби автомобільних доріг у Чернігівській області.', 'labels': ['pro-ukrainian', 'pro-russian'], 'scores': [0.5042931437492371, 0.49570685625076294]}, {'sequence': ' Повторні пуски! Пдри розійшлись…', 'labels': ['pro-russian', 'pro-ukrainian'], 'scores': [0.5768846273422241, 0.42311540246009827]}, {'sequence': 'Ухилянти зі StateWatch: Канєвський, який відповідає за закупівлі в Міноборони, раніше ухилявся від служби в армії.\\n\\xa0\\nЦе зʼясували журналісти, а також те, що у січні 2024 року, щоб знайти Гліба Канєвського і виписати адмінпротокол, Білоцерківський ТЦК був змушений звертатися до поліції.\\n\\xa0\\nПізніше журналісти викрили корупційний скандал із закупівлею пластикових фляг для ЗСУ за ціною, що утричі перевищує ринкову. До цієї закупівлі був причетний Канєвський.\\n\\xa0\\nДо речі, інший співзасновник StateWatch –\\xa0Олександр ...', 'labels': ['pro-russian', 'pro-ukrainian'], 'scores': [0.5414499640464783, 0.45855000615119934]}, {'sequence': 'Підозра у колаборації на Херсонщині \\n\\nПравоохоронці заочно повідомили про підозру подружжю з Новорайська Бериславського району Херсонської області у колабораційній діяльності. 🚨 Інформація була оприлюднена у Telegram 7 січня обласною прокуратурою. Ситуація викликає стурбованість, адже подібні випадки ставлять під загрозу національну безпеку України. ⚖️ ', 'labels': ['pro-ukrainian', 'pro-russian'], 'scores': [0.5170049667358398, 0.48299503326416016]}, {'sequence': \"✔️ Для понад 5,5 тисячі родин Чернігівщини призначено грошову виплату «Тепла зима»\\n\\xa0\\xa0\\n💳 Виплату у розмірі 6500 грн на кожну дитину з держбюджету отримають: малозабезпечені сім'ї з дітьми; сім'ї внутрішньо переміщених осіб з дітьми, які оформили виплати на проживання; особи з інвалідністю І групи з числа переселенців.\\n\\n🧣 Урядова ініціатива спрямована на підтримку найбільш вразливих категорій населення для придбання дитячого зимового одягу та взуття.\\n\\xa0\\n👉 Допомога призначається автоматично завдяки цифровому об...\", 'labels': ['pro-ukrainian', 'pro-russian'], 'scores': [0.5628347396850586, 0.4371652603149414]}, {'sequence': \"У місті Нова Каховка в результаті підпалу згоріла школа №2 🔥\\n\\nБудівлю підпалювали двічі. Після першого підпалу очікуваної пожежі не було, тому вночі був зроблений другий підпал в декількох місцях. Загасити пожежу навіть не намагалась. \\n\\nПам'ятка архітектури зведена у 50-х роках для першої міської школи носила ім'я херсонського поета Анатолія Бахути. \\nДля медійної картинки навіть меморіальна табличка на будівлі залишилася. \", 'labels': ['pro-ukrainian', 'pro-russian'], 'scores': [0.5607538223266602, 0.43924617767333984]}, {'sequence': ' Сновська громада без жертв. \\n\\nМенська на жаль є цивільні травмовані.\\n\\nЙбн рсн.', 'labels': ['pro-ukrainian', 'pro-russian'], 'scores': [0.5259392261505127, 0.4740608036518097]}, {'sequence': 'Пенсійний фонд використовує нову автоматизовану систему перевірки даних про померлих отримувачів виплат 🏦💻\\n\\nПенсійний фонд України запровадив ✨ нову систему автоматизованої перевірки інформації про смерть осіб, які отримують пенсії. Ця ініціатива має на меті забезпечити точність виплат і оптимізувати процеси в системі соціального захисту населення. \\n\\n✅ Тепер інформація про померлих отримувачів буде перевірятися автоматично, що дозволить уникнути можливих фінансових зловживань та покращить контроль за держав...', 'labels': ['pro-ukrainian', 'pro-russian'], 'scores': [0.7138932347297668, 0.28610679507255554]}, {'sequence': 'Доповідаємо!\\n\\nУ нас без змін! \\n\\nСОУ на варті, білоруси загрози, наразі, не становлять.\\n\\nДоповідь закінчили! ', 'labels': ['pro-russian', 'pro-ukrainian'], 'scores': [0.5209099650382996, 0.47909000515937805]}, {'sequence': ' УТОЧНЕНО! Вшануймо Героя живим коридором! \\n🕙 О 9.00 від моргу до площі далі по вулиці Шевченка-Садова - Тільне - Сядрине.', 'labels': ['pro-ukrainian', 'pro-russian'], 'scores': [0.5035665035247803, 0.4964334964752197]}, {'sequence': '🌧🌨Вночі 21 листопада по м.Чернігову та області очікуються сильні опади у вигляді дощу та снігу.\\n\\nЗа повідомленням Департаменту з питань ЦЗ та ОР Чернігівської ОДА. ', 'labels': ['pro-russian', 'pro-ukrainian'], 'scores': [0.5539731979370117, 0.44602683186531067]}, {'sequence': ' \\u200bКоманда Менської міської ради нещодавно провела онлайн-зустріч із представниками Міністерства економічного співробітництва та розвитку Німеччини (BMZ), Німецького банку розвитку (KfW) та UNICEF. Під час зустрічі обговорили успіхи вже реалізованих проєктів і визначили кроки для подальшого розвитку громади.', 'labels': ['pro-ukrainian', 'pro-russian'], 'scores': [0.538360059261322, 0.46163997054100037]}, {'sequence': '❗️В Таврическом (Центральном) районе города Херсон🇺🇦 произошло ДТП \\n~ 11:00 ⏱️\\n\\nПо информации очевидцев, столкновение автомобилей произошло в районе магазина «Таврия В» при утренних авиаударах рф по городу. \\n\\n@kherson_non_fake ', 'labels': ['pro-russian', 'pro-ukrainian'], 'scores': [0.5293116569519043, 0.4706883430480957]}, {'sequence': 'Сьогодні і найближчі дні вуличне освітлення не вмикатиметься. \\n\\nДавайте разом допоможемо енергетикам ліквідувати наслідки ракетних ударів російсько-терористичних військ. \\n\\nРозом сильні! ', 'labels': ['pro-russian', 'pro-ukrainian'], 'scores': [0.5347509980201721, 0.4652490019798279]}, {'sequence': '🔴 17:29 Повітряна тривога (Чернігівська область) ', 'labels': ['pro-ukrainian', 'pro-russian'], 'scores': [0.5747482180595398, 0.4252517521381378]}, {'sequence': '🕯️ Всі ці дітки жили, планувáли мáйбутнє, любили хσдити до шкσли, а хтσсь ще не доріс нáвіть до садσчка…\\nАле російська ракета обірвала ці маленькі життя …🙏 ', 'labels': ['pro-ukrainian', 'pro-russian'], 'scores': [0.6007204651832581, 0.3992795944213867]}, {'sequence': '🙏66-річна жінка стала мамою для своєї онучки     \\n\\nВалентина Павленко із Корюківщини розповіла, що доля підкинула їй неабиякі випробування. На третій день повномасштабної війни, 27 лютого 2022 року, в неї народилася внучка. Татом став її молодший син Ігор. А за кілька місяців звела рахунки з життям невістка Людмила. ', 'labels': ['pro-russian', 'pro-ukrainian'], 'scores': [0.5190749764442444, 0.48092496395111084]}, {'sequence': ' Хватит разгонять зраду. С Ваней все нормально. Он не должен каждые пять часов сообщать чем занят.', 'labels': ['pro-russian', 'pro-ukrainian'], 'scores': [0.515447199344635, 0.4845528304576874]}, {'sequence': ' російські війська продовжують бити по мирному Херсону. \\n\\nНа жаль, через артилерійський удар в Центральному районі загинула одна людина. Нині відповідні служби встановлюють її особу. \\n\\nМої співчуття рідним та близьким.', 'labels': ['pro-russian', 'pro-ukrainian'], 'scores': [0.5098544955253601, 0.49014556407928467]}, {'sequence': ' ❗Увага! Інформація для мешканців м.Корюківка, які попередньо реєструвалися в ЦНАПі і отримали реєстраційні талони на гуманітарну допомогу.                                                                                  Громадяни, талон яких починається з 2083-го номеру, можуть  отримати гуманітарну допомогу від World Central Kitchen (ГО Іскра добра).   \\n  \\n❓Де?- міський будинок культури.  \\n  \\n❓Коли?- з 25.11.2022 щодня без перерви і вихідних.  \\n  \\n❓Час видачі: 9:00-15:00  \\n  \\n❕Документи: талон(який ви отр...', 'labels': ['pro-ukrainian', 'pro-russian'], 'scores': [0.5642017126083374, 0.4357983469963074]}, {'sequence': 'Десятеро дітей Херсонщини вирушили на оздоровлення до Хмельницького\\n\\nПротягом двох тижнів малеча з Білозерської та Дар’ївської громад оздоровлюватиметься у дитячому закладі «Лісова Пісня» та відпочиватиме в «ЕкоЛенді».\\n\\nНадіслати новину @hueviy_kherson_Bot\\n👉ПІДПИСАТИСЯ ', 'labels': ['pro-ukrainian', 'pro-russian'], 'scores': [0.5455323457717896, 0.4544677138328552]}, {'sequence': '💥 Уранці 9 січня авіація РФ скерувала на Херсон авіаційні бомби.\\n\\nПро це МОСТу повідомляють місцеві мешканці.\\n\\n🔺 За попередньою інформацією, влучання були зафіксовані на території Корабельного району міста. \\n\\nІнформація уточнюється.\\n\\nМОСТ: ХЕРСОН | ПІДПИСАТИСЯ\\n\\nПовідомити новину 📱 ', 'labels': ['pro-russian', 'pro-ukrainian'], 'scores': [0.564675509929657, 0.435324490070343]}, {'sequence': \" 💬'Украинские власти отдали приказ не забирать раненных на левом берегу Херсонской области солдат ВСУ', – сообщил губернатор региона Владимир Сальдо.\\n\\n😌Свободный Херсон\", 'labels': ['pro-ukrainian', 'pro-russian'], 'scores': [0.5994800925254822, 0.4005199372768402]}, {'sequence': 'С соседнего направления пацаны работают с «Тюльпана». Таким разобрать дом или укреп, где засели зольдатен, пару-тройку выстрелов 💥🇷🇺 \\n\\n🦅 Подписаться | Наш чат 👌 ', 'labels': ['pro-ukrainian', 'pro-russian'], 'scores': [0.5749728083610535, 0.4250272512435913]}, {'sequence': ' \\u200bМайське виникло на мапі України 1924 року – так пише Вікіпедія. Старожили розповідають, що після Другої світової Майське було майже спустошене: люди, що лишилися, переважно жінки з дітьми й старенькі, жили за селом у полі, у кількох землянках. І поступово після перемоги над нацистами мешканці поверталися в село, відбудовували свої хати й зводили нові оселі, гуртувалися навколо колгоспу.', 'labels': ['pro-ukrainian', 'pro-russian'], 'scores': [0.6031684875488281, 0.3968315124511719]}, {'sequence': \"Ангеліна Калініна не змогла пробитися до фіналу у Брисбені 🎾\\n\\nУкраїнська тенісистка Ангеліна Калініна зазнала поразки у півфіналі турніру WTA 500 в Брисбені. У матчі проти нейтральної спортсменки Поліни Кудерметової Калініна програла з рахунком 0:2 за сетами. Це був дебютний півфінал у кар'єрі тенісистки на турнірах такого рівня. \", 'labels': ['pro-russian', 'pro-ukrainian'], 'scores': [0.510460376739502, 0.4895396828651428]}, {'sequence': '⚠️ На лівобережжі Херсонщини окупанти порушили кримінальну справу проти 18-річної громадянки Росії, яка начебто у квітні 2023 року передавала дані про ЗС РФ. \\n\\nДівчина нібито передавала представнику ЗСУ відомості про місця дислокації російських військовослужбовців на території Херсонської області. \\n\\nЩодо неї порушили кримінальну справу та обрали запобіжний захід у вигляді взяття під варту. Дівчині загрожує до 20 років позбавлення волі.\\n\\nМОСТ: ХЕРСОН | ПІДПИСАТИСЯ\\n\\nПовідомити новину 📱 ', 'labels': ['pro-russian', 'pro-ukrainian'], 'scores': [0.5824873447418213, 0.4175126552581787]}, {'sequence': 'Встречайте первый день нового года вместе с нашим пушистым помощником. Товарищ «Чумазый» на страже левого берега. \\n\\n🦅 Подписаться | Наш чат 👌 ', 'labels': ['pro-russian', 'pro-ukrainian'], 'scores': [0.5558559894561768, 0.44414404034614563]}, {'sequence': 'Нас навряд чи можна чимось здивувати після всього, що ми пережили...\\n але цікаво 😁 ', 'labels': ['pro-ukrainian', 'pro-russian'], 'scores': [0.5117530822753906, 0.488246887922287]}, {'sequence': 'Порошенко у вбранні за тисячі доларів не має права вказувати нам, як воювати, – військовий.\\n\\nНайбагатший народний депутат Порошенко в костюмі за тисячі доларів повчає ЗСУ, як треба воювати, хоча сам роками розвалював обороноздатність  країни. Він корчить з себе бойового генерала та розповідає, як будувати фортифікації, витрачати гроші на армію і боротися з росією – пише український військовий Олексій «Сталкер», коментуючи брифінг Порошенка щодо рекомендацій ЗСУ.\\n\\nЯк людина, яка воює з 2014 року, військовий ...', 'labels': ['pro-ukrainian', 'pro-russian'], 'scores': [0.568013608455658, 0.43198636174201965]}, {'sequence': ' Дорога громадо! \\nЗавтра, 20 вересня, ми проводжатимемо нашого Героя-Захисника Ігоря Мару. \\nВшануймо воїна живим коридором о 10:00 від моргу до центральної площі.\\nПоховають Ігоря Петровича в селі Охрамієвичі. Початок церемонії об 11:30.\\nНизький уклін Герою! Щирі співчуття рідним.\\nСлава Україні! Героям Слава!', 'labels': ['pro-ukrainian', 'pro-russian'], 'scores': [0.6333115696907043, 0.36668843030929565]}, {'sequence': 'Як отримати паспорт громадянина України чи закордонний паспорт за межами країни?\\n\\nНадіслати новину @hueviy_kherson_Bot\\n👉ПІДПИСАТИСЯ ', 'labels': ['pro-ukrainian', 'pro-russian'], 'scores': [0.599155068397522, 0.40084490180015564]}, {'sequence': 'Победы нам, братья! Только вперед 🤙🇷🇺\\n\\n🦅 Подписаться | Наш чат 👌 ', 'labels': ['pro-russian', 'pro-ukrainian'], 'scores': [0.6342300176620483, 0.36576998233795166]}, {'sequence': 'Наши парни держат под контролем воздушное пространство над левым берегом Херсонщины и уничтожают все засланные «птички» врага. Бойцы расчетов ЗРК «Стрела-10» на кадрах показывают свой ежедневный труд. \\n\\n🦅 Подписаться | Наш чат 👌 ', 'labels': ['pro-ukrainian', 'pro-russian'], 'scores': [0.5186707377433777, 0.4813293218612671]}, {'sequence': 'Саня, а давай им подземную школу построим, там же дети, им надо ', 'labels': ['pro-russian', 'pro-ukrainian'], 'scores': [0.5007649660110474, 0.49923503398895264]}, {'sequence': 'Сьогодні важливі події!\\n\\n📅 Сьогодні, 7 січня, ми відзначаємо Міжнародний день програмістів! 💻 \\n\\n🙏 Віряни святкують собор святого Івана Хрестителя.\\n\\n🗓️ До Нового року залишилося 358 днів. А вже у 2025 році 7 січня припаде на вівторок.\\n\\n⚔️ Сьогодні також 1049-й день війни в Україні. \\n\\nБудьте в курсі важливих подій! ', 'labels': ['pro-ukrainian', 'pro-russian'], 'scores': [0.696778416633606, 0.30322155356407166]}, {'sequence': ' \\u200bУ Мені ініціювали перейменування провулка імені Григорія Кочура на Олександра Мигулі', 'labels': ['pro-ukrainian', 'pro-russian'], 'scores': [0.5010782480239868, 0.4989217519760132]}, {'sequence': ' 💡 ХОВА повідомляє про поступове відновлення електропостачання в Херсоні. \\n\\n🟠Першочергово заживлюються об’єкти критичної інфраструктури: тепло- та водопостачання, лікарні.\\n🟠Потім планується подача електроенергії до осель херсонців.', 'labels': ['pro-ukrainian', 'pro-russian'], 'scores': [0.5944584608078003, 0.4055415689945221]}, {'sequence': ' Дорога громадо! \\n \\n🕯 Зі скорботою повідомляємо, що Корюківська громада втратила ще одного Героя Трейтяка Івана Миколайовича, 1972 року народження, який захищав Україну від ворога. \\n \\n🇺🇦 Церемонія поховання відбудеться 25 листопада о 12:00 у селі Воловики по вулиці Вокзальній.  \\nНизький уклін Герою! Щирі співчуття рідним.', 'labels': ['pro-ukrainian', 'pro-russian'], 'scores': [0.6335318088531494, 0.3664681315422058]}, {'sequence': 'Казав, що служить у Львові, а сам був під Вовчанськом: загинув зовсім юний захисник із Чернігівщини\\n\\nДмитро Решетник із Городні казав батькам, що служить у Львівській області. Мати тільки після загибелі сина дізналась, що був він і під Вовчанськом, і у Серебрянському лісі. ', 'labels': ['pro-ukrainian', 'pro-russian'], 'scores': [0.5137280225753784, 0.48627206683158875]}, {'sequence': ' Шановні мешканці громади! Корюківський центр сімейної медицини інформує, що 20 листопада 2024 року в приміщенні поліклінічного відділення Корюківської ЦРЛ буде проводитися прийом пацієнтів спеціалістами Чернігівського центру сучасної онкології:\\n ⁃ мамологом\\n ⁃ гінекологом\\n ⁃ ЛОР-онкологом\\nПочаток прийому о 10:00.\\nЗапрошуємо всіх бажаючих отримати консультацію.', 'labels': ['pro-russian', 'pro-ukrainian'], 'scores': [0.5291334986686707, 0.47086647152900696]}, {'sequence': ' ‼️Сегодня очень хотел бы обратиться к Херсонской🇺🇦 МВА и подчеркнуть некоторые важные моменты \\n\\nМы уже увидели множество террористических атак рф по городским маршруткам. \\nЧасть городского транспорта числится за коммунальными предприятиями, а другая за частными перевозчиками. \\n\\nЕсли изучить все атаки маршруток, что можно заметить, что часто атакуют переднюю часть транспорта. Часть где находится водитель транспортного средства. \\n\\nЗнаю, что в части коммунального транспорта кому-то выдавали защиту (бронежилет...', 'labels': ['pro-russian', 'pro-ukrainian'], 'scores': [0.5183637142181396, 0.48163631558418274]}, {'sequence': 'Обвинувальний акт проти екс-заступника командира батальйону патрульної поліції в Херсоні\\n\\nПроцесуальне керівництво Херсонської обласної прокуратури направило до суду обвинувальний акт відносно колишнього заступника командира батальйону управління патрульної поліції в Херсоні. \\n\\nДані заходи свідчать про активну боротьбу з правопорушеннями в системі правоохоронних органів. Тепер справедливість буде відновлена через судовий процес. ⚖️ ', 'labels': ['pro-ukrainian', 'pro-russian'], 'scores': [0.6294787526130676, 0.3705212473869324]}, {'sequence': ' https://youtu.be/B1JKb76r61o?si=FKsrUbFjuXLe7yxR', 'labels': ['pro-russian', 'pro-ukrainian'], 'scores': [0.5028946995735168, 0.4971052408218384]}, {'sequence': '🟢 04:48 Відбій повітряної тривоги (Чернігівська область) ', 'labels': ['pro-ukrainian', 'pro-russian'], 'scores': [0.5659366250038147, 0.4340633749961853]}, {'sequence': ' \\u200bМенська громада постраждала від ворожого обстрілу. Поранення отримав 28-річний чоловік, якого оперативно госпіталізували. Вибух також завдав пошкоджень одному з підприємств громади.', 'labels': ['pro-ukrainian', 'pro-russian'], 'scores': [0.518298327922821, 0.48170167207717896]}, {'sequence': '💥 У ХОВА показали наслідки російської атаки на Херсон з авіації. \\n\\nМОСТ: ХЕРСОН | ПІДПИСАТИСЯ\\n\\nПовідомити новину 📱 ', 'labels': ['pro-russian', 'pro-ukrainian'], 'scores': [0.5910333395004272, 0.40896666049957275]}, {'sequence': 'На сайті Херсонської ТЕЦ не з’явилися QR-коди для швидкого переходу до чат-ботів, які мали спростити споживачам процедуру оплати за опалення.\\n\\nУ технічному завданні було вказано, що фірма “Смарт-Корп” до 15 серпня 2023 року повинна була розробити чат-боти та розмістити на головній сторінці сайту Херсонської ТЕЦ QR-коди та гіперпосилання для переходу для діалогу з чат-ботом.\\n\\nНадіслати новину @hueviy_kherson_Bot\\n👉ПІДПИСАТИСЯ ', 'labels': ['pro-ukrainian', 'pro-russian'], 'scores': [0.5693327784538269, 0.43066713213920593]}, {'sequence': '❗️ 8 січня Державне бюро розслідувань повідомило про підозру мешканці Херсона Вікторії Поповій, яка працювала головною бухгалтеркою окупаційної Служби у справах громадської оборони.\\n\\nЗа даними слідчих,\\xa0після початку окупації Херсона Попова обійняла посаду головної бухгалтерки окупаційного управління економіки і фінансів Служби у справах громадської оборони так званої ВЦА Херсонської області.\\n\\n👤 На цій посаді Попова керувала підрозділом незаконно створеного правоохоронного органу, тим самим підтримуючи окупа...', 'labels': ['pro-russian', 'pro-ukrainian'], 'scores': [0.5230590105056763, 0.4769410192966461]}, {'sequence': '⚡️ Сумнівні компанії продовжують отримувати мільйони від херсонських чиновників\\n\\nФірма з корупційним шлейфом ремонтуватиме одну з бібліотек у Херсоні. Підрядник вже має статус обвинуваченого, а суди в рамках кримінального провадження тривають\\n\\nДеталі: https://bit.ly/3YJi2Lx\\n\\nПідписатися на Newtime Херсон✅\\nНаписати нам📩 ', 'labels': ['pro-ukrainian', 'pro-russian'], 'scores': [0.5844128727912903, 0.41558709740638733]}, {'sequence': '🟢 19:32 Відбій повітряної тривоги (Чернігівська область) ', 'labels': ['pro-ukrainian', 'pro-russian'], 'scores': [0.5352988839149475, 0.4647011458873749]}, {'sequence': '🇺🇦🕯  Дорога Корюківська громадо! \\n \\nЗі скорботою повідомляємо, що Україна втратила ще одного свого Героя.  У боротьбі за її незалежність 7 листопада загинув Павло Алєксєєв з Холмів, 1979 року народження.\\n \\nПоховання відбудеться завтра,  13 листопада.  \\n \\nВіддаймо шану його мужності: \\n🔻 о 09:00 вшануймо воїна живим коридором від моргу до центральної площі міста.                                                                 \\n🔻о 10:00 - живий коридор у селі Сядрине. \\n🔻 далі по маршруту - селище Холми.\\n  \\nВіч...', 'labels': ['pro-ukrainian', 'pro-russian'], 'scores': [0.5254384279251099, 0.4745616316795349]}, {'sequence': ' За інформацією полковника Брижинського є поранені цивільні.', 'labels': ['pro-ukrainian', 'pro-russian'], 'scores': [0.5228453874588013, 0.4771546721458435]}, {'sequence': '01.12.24 \\n\\n Близько 8:15 російські військові атакували з БпЛА громадський транспорт у Дніпровському районі. На жаль, є загиблі та поранені. \\n\\nПопередньо, черговий терористичний удар ворога забрав життя трьох мирних жителів, повідомили в Херсонській ОВА. Детальніша інформація уточнюється.\\n\\nЩе 7 херсонців дістали поранення. Усіх потерпілих доправили до лікарні. Медики їх дообстежують та надають всю необхідну допомогу. ', 'labels': ['pro-ukrainian', 'pro-russian'], 'scores': [0.5057488679885864, 0.4942511022090912]}, {'sequence': ' Есть у кого-нибудь номер командования 28 бригады. Случилась очень нехорошая для них история, надо поговорить. Скиньте пожалуйста, если есть контакт', 'labels': ['pro-russian', 'pro-ukrainian'], 'scores': [0.574207603931427, 0.4257924258708954]}, {'sequence': ' Семенівка!\\n\\nНебезпека повторних ударів!', 'labels': ['pro-russian', 'pro-ukrainian'], 'scores': [0.5240054130554199, 0.4759945869445801]}, {'sequence': ' Якщо б новорічні бажання спрацювали, Кремля б вже не було. Відкриваємо 2025', 'labels': ['pro-russian', 'pro-ukrainian'], 'scores': [0.5965322852134705, 0.40346765518188477]}, {'sequence': ' Херсонское направление стабильно. Хохлы несколько дней подряд активно обстреливали наши позиции на Кинбурнской косе. Крыли артой и атаковали БПЛА «Баба-Яга». ВСУшники думали, что в новогодние праздники мы будем менее бдительны и пытались нанести удары с целью занять территории. Маневр не сработал. Наши парни были начеку. Также с новогодней ночи враг стал чаще обстреливать гражданские объекты на левобережье. Чтобы навредить мирным, используют арту, беспилотники и высокоточные ракеты. На данный момент наступ...', 'labels': ['pro-ukrainian', 'pro-russian'], 'scores': [0.5334411859512329, 0.4665588438510895]}, {'sequence': ' \\u200bМенська громада разом із Програмою EGAP продовжують працювати над покращенням умов життя для мешканців. У міській раді 5 грудня відбулася зустріч із регіональною координаторкою програми Юлією Масляною. Вона привезла меморандум про подальшу співпрацю, підписаний Президентом Фонду Східна Європа Віктором Ляхом. Цей документ закріплює нові перспективи у співпраці громади з Програмою EGAP.', 'labels': ['pro-ukrainian', 'pro-russian'], 'scores': [0.5987246632575989, 0.4012753665447235]}, {'sequence': 'Украинский военнослужащий делает сальто после прилёта по нему FPV-дрона Российских военнослужащих 70 гвардейского мотострелкового полка на Запорожском направлении.\\n\\n📱телеграм-канал Херсонский Вестник\\n🌐группа VK Вконтакте ', 'labels': ['pro-ukrainian', 'pro-russian'], 'scores': [0.5085422396659851, 0.4914577603340149]}, {'sequence': ' Наступление на Херсон - хуй. \\nНаступление на острова - не прекращалось. Оно постоянно туда сюда. \\nГруппы дрг на правый берег на предмет пощупать нашу оборону тоже постоянная история. \\n\\nВитале привет😘\\n\\nНе дрочите админку и комментарии.', 'labels': ['pro-ukrainian', 'pro-russian'], 'scores': [0.5127167701721191, 0.48728325963020325]}, {'sequence': '817 мільйонів: захист чи схема❓\\n\\nСтаном на грудень 2024 року на будівництво захисних споруд та підземних шкіл на Херсонщині було виділено 817 млн грн.\\n\\n🎥 Про це та інші важливі новини – у відео МОСТа за посиланням. \\n\\nСайт💬Facebook🔵Instagram📷X(Twitter)🐤Telegram🚀YouTube🎬 ', 'labels': ['pro-ukrainian', 'pro-russian'], 'scores': [0.6066522002220154, 0.393347829580307]}, {'sequence': 'Харьков – русский город! Харьковчане – русские люди! \\n\\nМы идём в Россию. Мы всей душой любим нашу большую Родину. То, что происходит сейчас на так называемой “Украине”, временно. Киевская нацистская нечисть будет изгнана с русской земли! В меру своих сил и возможностей, харьковчане тоже приближают это время.\\n\\nПоддержите Первый Харьковский подпиской! ', 'labels': ['pro-ukrainian', 'pro-russian'], 'scores': [0.6126570701599121, 0.3873429596424103]}, {'sequence': ' ⚡️В Корабельном районе / Херсона🇺🇦 вновь фиксация вражеских дронов \\n\\nБудьте осторожны. \\nПока беспилотник в районе Шуменского.  \\n\\n@kherson_non_fake', 'labels': ['pro-ukrainian', 'pro-russian'], 'scores': [0.5030842423439026, 0.4969157576560974]}, {'sequence': '‼️ Окупанти розпочали примусовий призов на строкову службу жителів тимчасово окупованих регіонів Херсонщини та Запоріжжя, - ГУР\\n\\n👉 російська окупаційна влада вперше провела примусовий призов на строкову службу серед жителів тимчасово окупованих Херсонської та Запорізької областей. З 1 жовтня до 31 грудня 2024 року на строкову службу призвали близько 300 осіб.\\n\\n❗️ Окупаційна адміністрація змушує українців до 60 років ставати на «військовий облік». У разі відмови, окупанти погрожують звільненням та подальшими...', 'labels': ['pro-ukrainian', 'pro-russian'], 'scores': [0.5270936489105225, 0.47290635108947754]}, {'sequence': 'Нашел кабинет, Прокудина и мр. Очко 😅 ', 'labels': ['pro-ukrainian', 'pro-russian'], 'scores': [0.6392374634742737, 0.3607625365257263]}, {'sequence': ' Несеться...\\n\\n\"Шторми\" летять в Курчатов😏', 'labels': ['pro-ukrainian', 'pro-russian'], 'scores': [0.5451832413673401, 0.4548167586326599]}, {'sequence': 'ВСУшники нанесли очередной удар по Новой Каховке. Под обстрелом оказалась местная заправка. Хохлы оборвали жизнь 64-летнего мужчины. Еще четверо ранены и находятся в больнице. Среди пострадавших 19-летняя беременная девушка. За их жизнь борются медики.\\n\\n💬 Подписаться | Наш чат 💬 ', 'labels': ['pro-ukrainian', 'pro-russian'], 'scores': [0.5182942748069763, 0.4817057251930237]}, {'sequence': '🤯Перші хвилини після влучання ворожого дрону в автобус у Херсоні 6 січня\\n\\n👮 Поліцейські надавали першу допомогу постраждалим\\n\\n🍉 ПІДПИСАТИСЬ НА КАНАЛ ', 'labels': ['pro-ukrainian', 'pro-russian'], 'scores': [0.5180345177650452, 0.48196545243263245]}, {'sequence': 'Елку на салюте все уже видели? ', 'labels': ['pro-russian', 'pro-ukrainian'], 'scores': [0.5309257507324219, 0.4690742790699005]}, {'sequence': ' \\u200bУ Менському центрі дитячої та юнацької творчості відбулася новорічна програма, під час якої відзначили переможців конкурсів, творчі колективи та їхніх наставників, чиї досягнення прославляють Менщину.', 'labels': ['pro-ukrainian', 'pro-russian'], 'scores': [0.620274543762207, 0.3797253966331482]}, {'sequence': 'Написав у великій книзі \"300\" човнів, попросив ще 200 мільйонів на облаштування безпеки узбережжя ', 'labels': ['pro-russian', 'pro-ukrainian'], 'scores': [0.5298331379890442, 0.4701668322086334]}, {'sequence': ' ❗️Удары артиллерии рф по Днепровскому району города Херсон🇺🇦 продолжаются \\n\\nАктивность вражеских дронов в Днепровском районе и Киндийке сохраняется. \\n\\n@kherson_non_fake', 'labels': ['pro-ukrainian', 'pro-russian'], 'scores': [0.5166692137718201, 0.48333075642585754]}, {'sequence': ' https://youtu.be/YaJ9XeuWhlM?si=_tgyIaspeovqsQVE', 'labels': ['pro-russian', 'pro-ukrainian'], 'scores': [0.5261685252189636, 0.47383150458335876]}, {'sequence': ' Время Зелю поджимает. И конечно, никаких рабов ему не жаль. \\nЕсли подумать: на что рассчитывают хохлы? Не те, кто правит, там всë ясно. А те, кто за это расплачивается. Захватить всю Россию? Кем? Хохлов не хватит. Надеются, на подключения к войне НАТО? Но даже в этом случае, гореть будет именно украинская земля. Но скорее всего этого не будет. Потому что у России есть суперракеты с ядерной начинкой.. \\n\\nТак что - смысла погибать украинцам для них самих нет. А вот если остановятся... Это факты - при \"европей...', 'labels': ['pro-russian', 'pro-ukrainian'], 'scores': [0.6441827416419983, 0.3558172881603241]}, {'sequence': ' На лівобережжі Херсонщини окупанти напали на чоловіка, простреливши ногу, — Newtime \\n\\nСталось це наприкінці жовтня в окупованому Олешківському районі\\n\\nвійськові рф вночі увірвалися в один із приватних будинків у селі Козачі Лагері. Напали на власника будинку, звинувативши його у проукраїнських поглядах.\\xa0\\nВ ході словесної перепалки один із окупантів вистрелив чоловіку в ногу. \\n\\nСиловики відмовилися проводити розслідування даного злочину. В якому стані наразі постраждалий, невідомо.', 'labels': ['pro-ukrainian', 'pro-russian'], 'scores': [0.5779973268508911, 0.4220026731491089]}, {'sequence': 'Оккупанты в Геническе запретили выход в море гражданским судам\\n\\nПо информации “evocation. info”, в Геническом порту замечено два судна с натянутым металлическим тросом – рашисты объясняют это защитой от морских дронов. \\n\\nВ связи с этим гражданским судам запретили выход в море.\\n\\nНадіслати новину @hueviy_kherson_Bot\\n👉ПІДПИСАТИСЯ ', 'labels': ['pro-russian', 'pro-ukrainian'], 'scores': [0.6884023547172546, 0.31159764528274536]}, {'sequence': ' ⚡️В Центральном районе Херсона🇺🇦 уже минимум 3 атака дронов \\n\\nПоследний удар беспилотника произошел около 15:00 ⏱️ \\n\\nКак и писал вам ранее t.me/kherson_non_fake/18767, враг обратил внимание на район Николаевского шоссе / Железнодороной. \\nТеперь атаки дронами в этом секторе участились. \\n\\nБудьте осторожны и осмотрительны при передвижениях! \\n\\n@kherson_non_fake', 'labels': ['pro-ukrainian', 'pro-russian'], 'scores': [0.5428584814071655, 0.45714154839515686]}, {'sequence': '❗️Вбивці родини Черевань \"сядуть\" довічно. І відшкодують рідним загиблих 30 мільйонів гривень    \\n\\nПозаторік Україну сколихнуло жорстоке вбивство, яке скоїли на Чернігівщині неподалік Мени. Нині став відомий присуд злочинцям - довічне позбавлення волі всім учасникам злочинної групи. ', 'labels': ['pro-ukrainian', 'pro-russian'], 'scores': [0.5732632875442505, 0.4267367124557495]}, {'sequence': 'Ворог атакував місто  \\n\\nВчора вночі та сьогодні зранку ворог завдав удару по місту, про що повідомив Олександр Прокудін. Унаслідок “прильотів” постраждали транспортні засоби, приватні та багатоквартирні будинки. В оселях зафіксовані пошкодження. Ситуація в місті залишається напруженою. 🚨🏚️ ', 'labels': ['pro-russian', 'pro-ukrainian'], 'scores': [0.5917553901672363, 0.40824460983276367]}, {'sequence': '🛡 Сили оборони Півдня України продовжують завдавати вогневого ураження по місцях дислокації ворога, його вогневих позиціях та тилах. \\n\\n⚡️ За минулу добу ворожі втрати склали:\\n- 66 окупантів\\n- 2 зенітно-ракетних комплекси «Бук-М» та пускову-заряджальну  установку\\n- зенітну установку  «ЗУ-23-2»\\n- 4 артсистеми \\n- 1 станковий протитанковий гранатомет \\n- 8 одиниць автомобільної та бронетехніки\\n- 9 розвідувальних БпЛА типу «Zala», «Supercam» та «Орлан-10»\\n- 1 квадроцикл\\n- 3 мотоцикли \\n- 1 багі \\n- 1 човен \\n- 5 ант...', 'labels': ['pro-russian', 'pro-ukrainian'], 'scores': [0.654930055141449, 0.3450699746608734]}, {'sequence': 'Санта Клаус пролетел над Россией последний раз\\n\\nПопрощались с ним знатно!\\n\\n👉 MDK Херсон. Подписаться ', 'labels': ['pro-ukrainian', 'pro-russian'], 'scores': [0.5000180602073669, 0.49998190999031067]}, {'sequence': ' Нагадуємо про ощадливе використання електроенергії в період пікових навантажень енергосистеми з 17.00 до 23.00. \\n\\nДля уникнення аварійних відключень просимо максимально зменшити споживання електроенергії в цей період. \\n\\nРекомендовано постійно мати запас питної води. При довготривалій перерві енергопостачання, вода в місті і селах подаватиметься за окремим графіком - щоденно. \\n\\nЗа умови тривалої відсутності зв’язку в місті можна буде зарядити гаджет та скористатись супутниковим інтернетом біля «стіни плачу»...', 'labels': ['pro-ukrainian', 'pro-russian'], 'scores': [0.5372921228408813, 0.4627078175544739]}, {'sequence': ' Утренняя сводка по обстрелам левобережья Херсонской области на 09:20 утра 03 декабря.\\n\\nВчера в течение дня ВСУ выпустили по гражданской инфраструктуре населенных пунктов левобережья\\xa0 Херсонской области 27 снарядов.\\n\\nВ частности удары были нанесены по н.п.:\\n\\nНовая Каховка — 4💥 снаряда;\\nТополевка — 5💥 снарядов;\\nДнепряны — 11💥 снарядов;\\nКаховка — 5💥 снарядов;\\nРайское — 2💥 снаряда.\\n\\n➡️В результате обстрела ВСУ:\\n🟠В н.п. Каховка повреждена газовая труба. \\n🟠В н.п. Новая Каховка в результате обстрела ВСУ загорелос...', 'labels': ['pro-russian', 'pro-ukrainian'], 'scores': [0.5193695425987244, 0.48063042759895325]}, {'sequence': '☀️Желаем хорошего и благодарного дня!\\n\\nПусть этот день принесет счастливую весть, будет добрым и чудесным. Пусть каждая минута подарит хорошее настроение, а душа будет спокойной и умиротворенной. Бодрого заряда, моря энергии, прилива сил и гармонии!\\n\\n📱телеграм-канал Херсонский Вестник\\n🌐группа VK Вконтакте ', 'labels': ['pro-ukrainian', 'pro-russian'], 'scores': [0.6675153970718384, 0.3324846029281616]}, {'sequence': ' \\u200bВідповідні вироки опубліковані в реєстрі судових рішень. Їх Менський районний суд виніс 28 листопада. Засудженими є чоловік та жінка, уродженці Блистови.', 'labels': ['pro-ukrainian', 'pro-russian'], 'scores': [0.5364744663238525, 0.46352559328079224]}, {'sequence': 'А пару недель назад, триста лодок,  наступление на Запорожье, форсирование Днепра у антоновского моста и накопление сил, чтобы не дать нам высадиться на кинбурнской косе. 🤬\\n\\nМне кажется в этой истории слишком много таинственности, чтобы быть просто рандомным офтопом на любую тему, когда командование говорит надо что-то сказать в эфире, так чтобы обсуждали. ', 'labels': ['pro-ukrainian', 'pro-russian'], 'scores': [0.5943073034286499, 0.4056926667690277]}, {'sequence': ' 💥Вибух у Бериславському р-ні Херсонщини. Деталі згодом', 'labels': ['pro-russian', 'pro-ukrainian'], 'scores': [0.5005950331687927, 0.4994049072265625]}, {'sequence': 'За прошедшие сутки продолжились обстрелы гражданской инфраструктуры левобережья Херсонщины🗣\\n\\nВчера днем ВСУ выпустили 24 снаряда из ствольной артиллерии по населенным пунктам Херсонской области Российской Федерации:\\n\\n▪️Алешки — 4 \\n▪️Новая Каховка — 4 \\n▪️Степное — 2 \\n▪️Каиры — 2 \\n▪️Днепряны — 9 \\n▪️Каховка — 3 \\n\\nВ результате обстрела ВСУ, в н.п. Новая Каховка один мирный житель получил ранения, в н.п. Алешки в результате обстрела жилого сектора повреждено административное здание \"ХЕРСОНГАЗ\"\\n\\nВ течении ночи ки...', 'labels': ['pro-ukrainian', 'pro-russian'], 'scores': [0.5108017921447754, 0.489198237657547]}, {'sequence': 'після затримання в Європі херсонської групи Гіріних, відбулись ще гучні обшуки та затримання :\\nГолову департаменту поліції Іспанії з боротьби з шахрайством та відмиванням грошей Оскара Санчеса Хіля заарештували разом з 15 іншими особами, серед яких також є силовики. У будинку головного фігуранта виявлено схованки з €20 млн. готівкою.\\nГроші були заховані у стінах та стелі … ', 'labels': ['pro-ukrainian', 'pro-russian'], 'scores': [0.5315006375312805, 0.46849939227104187]}, {'sequence': 'По состоянию на 10:00 по всей Украине вводят аварийные отключения, — сообщает Укрэнерго\\n\\n🇺🇦 Украина | Новости ‼️ ', 'labels': ['pro-ukrainian', 'pro-russian'], 'scores': [0.5883103013038635, 0.4116896688938141]}, {'sequence': 'Херсон під обстрілом: окупанти не зупиняються 🎯\\n\\nВ минулій добі російські окупаційні війська знову завдали ударів по населених пунктах Херсонської міської територіальної громади. Під вогнем ворожої артилерії та безпілотників опинилися Херсон та Антонівка. Місцеві жителі продовжують страждати від агресії ворога, яка не вщухає. 🚨 ', 'labels': ['pro-russian', 'pro-ukrainian'], 'scores': [0.5215311646461487, 0.4784688949584961]}, {'sequence': ' Оперативна інформація з 06:00 25.11.2024 по 06:00 26.11.2024\\n\\nМинулої доби під ворожим вогнем та авіаударами опинилися Станіслав, Берислав, Софіївка, Тягинка, Михайлівка, Антонівка, Червоний Маяк, Широка Балка, Томарине, Качкарівка, Комишани, Ольгівка, Придніпровське, Садове, Наддніпрянське та місто Херсон.\\n\\nросійські військові\\xa0били по критичній інфраструктурі та  житлових кварталах населених пунктів області, зокрема пошкодили 2 багатоповерхівки, 8 приватних будинків. Також окупанти понівечили господарську...', 'labels': ['pro-russian', 'pro-ukrainian'], 'scores': [0.5185413956642151, 0.4814585745334625]}, {'sequence': '💡❗Графік відключень електроенергії на 25 листопада: як користуватись\\n\\nУ понеділок, 25 листопада по всій країні будуть\\xa0відключення\\xa0електроенергії: графіки застосують протягом 6 годин, із 14 до 18 год. На Чернігівщині будуть обмеження у ці години. ', 'labels': ['pro-russian', 'pro-ukrainian'], 'scores': [0.5027201175689697, 0.4972798228263855]}, {'sequence': 'На Всероссийском фестивале елок представлена новогодняя ель Алешкинского округа\\n\\nВ фестивале, проходящем в Кирове, принимают участие представители всех 89 регионов России. Каждый участник стремится передать в оформлении своей пушистой красавицы дух и традиции родного края.\\n\\n👉 MDK Херсон. Подписаться ', 'labels': ['pro-russian', 'pro-ukrainian'], 'scores': [0.6359585523605347, 0.36404141783714294]}, {'sequence': 'Минус очередной хохляцкий пункт управления БПЛА на правом берегу. На кадрах видно, как расчет гаубицы «Д-20» слаженно отработал по позиции ВСУ и уничтожил цель. \\n\\n🦅 Подписаться | Наш чат 👌 ', 'labels': ['pro-ukrainian', 'pro-russian'], 'scores': [0.5006104707717896, 0.49938952922821045]}, {'sequence': ' \\u200bЗгідно з повідомленням НЕК «Укренерго», 28 листопада відключення торкнуться споживачів у період з 08:00 до 19:00.', 'labels': ['pro-ukrainian', 'pro-russian'], 'scores': [0.623417854309082, 0.37658217549324036]}, {'sequence': '🧠 Россияне №6 в мировом рейтинге по уровню IQ\\n\\nНа 1 января 2025 уровень IQ у россиян 103 баллов. ', 'labels': ['pro-russian', 'pro-ukrainian'], 'scores': [0.7389331459999084, 0.26106682419776917]}, {'sequence': 'И этих людей вы хотите победить 😂 ', 'labels': ['pro-ukrainian', 'pro-russian'], 'scores': [0.530682384967804, 0.46931758522987366]}, {'sequence': 'Фотофакт:\\nСвятий Миколай передає подарунки від Василя Васильовича. ', 'labels': ['pro-russian', 'pro-ukrainian'], 'scores': [0.5389165282249451, 0.46108344197273254]}, {'sequence': '❗️В Одессе суд приговорил к пожизненному заключению погибшего в автокатастрофе в ноябре 2022 года замглавы Херсонской области Кирилла Стремоусова.\\n\\nУкраинские мракобесы вынесли приговор, так как украинские власти не могут подтвердить факт его смерти.\\n\\n😌Свободный Херсон ', 'labels': ['pro-russian', 'pro-ukrainian'], 'scores': [0.5092020034790039, 0.4907980263233185]}, {'sequence': ' ‼️🇷🇺Летчик ВСУ угнал самолёт и перелетел в Россию! \\n\\nВсе подробности здесь', 'labels': ['pro-russian', 'pro-ukrainian'], 'scores': [0.5200150012969971, 0.47998496890068054]}, {'sequence': 'Російські удари по Херсонщині: восьмеро поранених 💔\\n\\nПротягом минулої доби російські війська здійснили атаки на 40 населених пунктів Херсонської області. У результаті обстрілів, за попередніми даними, восьмеро людей отримали поранення. Ситуація в регіоні залишається критичною, а мешканці продовжують страждати від наслідків агресії. ', 'labels': ['pro-ukrainian', 'pro-russian'], 'scores': [0.5316727161407471, 0.4683273136615753]}, {'sequence': 'Посмотрите на этот жалкий скулеж\\n\\nА чего вы ждали, когда решили напасть на этот берег? Пряников? \\n\\n😌Свободный Херсон ', 'labels': ['pro-ukrainian', 'pro-russian'], 'scores': [0.6230770349502563, 0.37692296504974365]}, {'sequence': 'Скадовськ сьогодні\\n\\nНадіслати новину @hueviy_kherson_Bot\\n👉ПІДПИСАТИСЯ ', 'labels': ['pro-ukrainian', 'pro-russian'], 'scores': [0.5608870387077332, 0.43911299109458923]}, {'sequence': '💵 За грудень керівники Херсонської ОВА заробили 1,5 мільйонів гривень.\\n\\nПро це свідчить відповідь обласної військової адміністрації на інформаційний запит МОСТа.\\n\\n🪙 Начальнику Херсонської ОВА Олександру Прокудіну заплатили 161 491 гривню. \\n\\n🪙 Перший заступник начальника ХОВА Дмитро Бутрій отримав 115 905 гривень зарплати та 157 154 гривні матеріальної допомоги для вирішення соціально-побутових питань. Усього за грудень Бутрію виплатили 273 059 гривень.\\n\\n🪙 Заступник начальника обласної військової адміністрац...', 'labels': ['pro-russian', 'pro-ukrainian'], 'scores': [0.6226886510848999, 0.3773113489151001]}, {'sequence': '‼️А вот и первые видео с украинскими пленными\\n\\nВоеннопленный с правого берега Херсонской области, Макаренко Александр Владимирович, позывной \"Макдак\" рассказывает для чего их послали на левый берег Днепра, как они попали в плен, а также как он относится к военно-политическому руководству Украины.\\n\\n😌Свободный Херсон ', 'labels': ['pro-ukrainian', 'pro-russian'], 'scores': [0.721852719783783, 0.27814731001853943]}, {'sequence': 'Нашел эту запись в одном из телефонов пленных русских. Эту запись прислал \"политрук\" для доведения для личного состава. \\n\\nСукаа......... До сих пор живот болит. \\n\\nП.С. Серьезно, они это на полном серьезе распространяют в подразделениях. ', 'labels': ['pro-russian', 'pro-ukrainian'], 'scores': [0.7558613419532776, 0.2441386729478836]}, {'sequence': '«Зеленский выехал с семьёй из Украины», — камеры видеонаблюдения на украинско-польской границе\\n\\n👉 MDK Херсон. Подписаться ', 'labels': ['pro-ukrainian', 'pro-russian'], 'scores': [0.7989789843559265, 0.2010209560394287]}, {'sequence': 'Сьогодні 11-та річниця початку Євромайдану та Революції Гідності, 20-та річниця Помаранчевої революції. Тоді ці політичні та суспільні зміни сформували українську націю, котра сьогодні здатна боронити нашу державність. Українці усвідомлювали свою відповідальність тоді і сповна взяли її на себе нині. \\n\\nЗ Днем Гідності та Свободи!🇺🇦 ', 'labels': ['pro-ukrainian', 'pro-russian'], 'scores': [0.8716663718223572, 0.12833358347415924]}, {'sequence': ' По всій Україні впродовж доби застосовуються графіки тільки погодинних відключень, але можливе додаткове введення аварійних, повідомили в Укренерго.', 'labels': ['pro-ukrainian', 'pro-russian'], 'scores': [0.5410787463188171, 0.4589211940765381]}, {'sequence': '⚡️10 погибших дельфинов найдено после разлива мазута на Кубани. Экологи также зафиксировали массовый выброс китообразных на побережье. \\n\\nОб этом сообщила ТАСС директор Научно-экологического центра спасения дельфинов \"Дельфа\" Татьяна Белей. ', 'labels': ['pro-russian', 'pro-ukrainian'], 'scores': [0.5368995666503906, 0.463100403547287]}, {'sequence': '‼️Увага! Екстрені відключення електропостачання! \\n\\n☹️ О 5:42 обленерго отримало команду від НЕК \"Укренерго\" про введення усіх десяти черг Графіка аварійних відключень (ГАВ). \\n\\n‼️ Діють такі відключення до окремої команди НЕК \"Укренерго\". \\n\\n☝️ Нагадуємо: інформацію щодо черг відключень ГАВ можна дізнатися:\\n🔸 на сайті\\n🔸 у Viber-боті\\n🔸 у Telegram-боті ', 'labels': ['pro-ukrainian', 'pro-russian'], 'scores': [0.6193848848342896, 0.38061511516571045]}, {'sequence': ' https://newtime.ks.ua/osvita-dlya-rodyny-bulyuka-na-tot-hersonshhyny-rozgortayetsya-osvitnij-skandal/?fbclid=IwZXh0bgNhZW0CMTEAAR2PfCNJ-TBfAsdt6xafW-ZhxeAj1pfza1f8rH83-3Ts5d5C49PIWVrD5mo_aem_KFPsJlCVwy48QizIBnCjBw', 'labels': ['pro-russian', 'pro-ukrainian'], 'scores': [0.5282585024833679, 0.47174155712127686]}, {'sequence': ' \\u200bКомета ATLAS C/2024 G3 готується до вражаючого проходження поблизу Сонця. Вона може стати найяскравішим небесним об’єктом року, але чи витримає вона зустріч із палючою зіркою – поки загадка.', 'labels': ['pro-ukrainian', 'pro-russian'], 'scores': [0.503748893737793, 0.4962511360645294]}, {'sequence': 'Терапевт из Тувы приняла более 170 пациентов в Генической ЦРБ за месяц\\n\\nПо словам врача, чаще всего к ней обращались пациенты с жалобами на обострения хронических заболеваний.\\n\\nНизкий поклон!\\n\\n👉 MDK Херсон. Подписаться ', 'labels': ['pro-ukrainian', 'pro-russian'], 'scores': [0.5226146578788757, 0.4773852825164795]}, {'sequence': '🇺🇦🕯  Дорога Корюківська громадо! \\n \\nЗі скорботою повідомляємо, що Україна втратила ще одного свого Героя. У боротьбі за її незалежність 26 грудня загинув наш земляк з с.Сядрине Сорока Ігор Миколайович, 1977 року народження. \\n \\nПоховання відбудеться завтра, 1 січня.\\n\\nВіддаймо шану його мужності: \\n\\n🔻 о 8:00 вшануймо земляка живим коридором від моргу до центральної площі;\\n🔻 об 11:00 - церемонія поховання в селі Сядрине. \\n \\nВічна і світла пам’ять воїну! \\nЩирі співчуття рідним! ', 'labels': ['pro-ukrainian', 'pro-russian'], 'scores': [0.5695052742958069, 0.43049466609954834]}, {'sequence': ' Правый берег на связи:«На счёт работы в Херсоне - вранье.Наверное писал тот кто и не пытался устроиться.А где-то что-то краем уха слышал.Мужчинам только через военкомат.Моего обещали взять /// . Зря потратились на фото и ксерокопии. Сказали нет финансирования из Киева.Дворники ещё до сво друг друга подсиживали. Дома пустые, осбб не платят. Поэтому дворники не нужны. Как и уборщицы.Охранники - единицы. Охранять то нечего.Рынки пустые. На днепровском и овощи продать не могут. Нет покупателей. Кто есть без де...', 'labels': ['pro-ukrainian', 'pro-russian'], 'scores': [0.608180582523346, 0.39181941747665405]}, {'sequence': ' «Единая Россия» в Херсонской области поздравила ветерана Великой Отечественной Войны с Новым годом и содействовала ремонту в его доме.', 'labels': ['pro-russian', 'pro-ukrainian'], 'scores': [0.6767569184303284, 0.323243111371994]}, {'sequence': 'Станом на 13:00 відомо про 42 постраждалих внаслідок російського удару по Драмтеатру в Чернігові. \\n\\nЗагинуло 5 осіб. \\n\\nТравмовано 37 людей, серед яких 11 дітей. Усім надається медична допомога.\\n\\n✅ CheGO |✈️ Повідомити новину ', 'labels': ['pro-russian', 'pro-ukrainian'], 'scores': [0.5517317056655884, 0.4482682943344116]}, {'sequence': ' Увага! Для будівництва об’єкту критичної інфраструктури потрібні підсобні робітники. \\nПосадові обов’язки: вправи з лопатою. \\nМісце виконання завдань: місто Корюківка\\nОплата: від 500 грн.\\nДовідки за телефоном: +38093 325 01 26 Віталій', 'labels': ['pro-ukrainian', 'pro-russian'], 'scores': [0.5027338266372681, 0.49726617336273193]}, {'sequence': 'Звернення начальника Корюківської РВА Івана Ващенка\\n\\n#новинирайону \\n\\n☑️ Підписатися ', 'labels': ['pro-russian', 'pro-ukrainian'], 'scores': [0.5115890502929688, 0.48841094970703125]}, {'sequence': '🌯ГОСТ на шаверму утвердят в России в 2025 году, сообщили в Роскачестве\\n\\nПервая версия стандарта уже готова и скоро будет вынесена на обсуждение. ', 'labels': ['pro-russian', 'pro-ukrainian'], 'scores': [0.7284100651741028, 0.27158987522125244]}, {'sequence': 'Делегация курортного города Пятигорска привезла подарки детям села Счастливого в Херсонской области\\n\\nНесмотря на то, что линия боевого соприкосновения находится недалеко, жизнь в Счастливом продолжается. И сегодня 70 детишек благодарят всех, кто помогает!\\n\\n👉 MDK Херсон. Подписаться ', 'labels': ['pro-ukrainian', 'pro-russian'], 'scores': [0.5233671069145203, 0.47663289308547974]}, {'sequence': '⚡️Официальные кадры с мест прилётов российских авиабомб по Херсону🇺🇦 от ОВА\\n\\nНапомним, удары авиации произошли сегодня около 11:01 ⏱️ — 🔗 t.me/kherson_non_fake/18808 (Центральный / Корабельный районы города).\\n\\n@kherson_non_fake ', 'labels': ['pro-russian', 'pro-ukrainian'], 'scores': [0.5613244771957397, 0.43867552280426025]}, {'sequence': ' ❗️Около 16:25 ⏱️ враг нанес удар по Днепровскому району / Херсона🇺🇦\\n\\nМежду берегами идет контрбатарейная борьба артиллерии.   \\n\\n@kherson_non_fake', 'labels': ['pro-ukrainian', 'pro-russian'], 'scores': [0.5622600317001343, 0.4377399981021881]}, {'sequence': '🇺🇦🕯 Дорога Корюківська громадо!\\n\\nЗі скорботою повідомляємо, що захищаючи Україну від ворога, загинув наш земляк Парфенцов Сергій Тихонович, 1974 року народження.\\n\\nСергій народився на Городнянщині, але значну частину життя прожив у Корюківці.\\n\\nЗавтра, 31 травня, ми проводжатимемо в останню путь нашого захисника.\\n\\n🔻 О 9.00 вшануймо воїна живим коридором від моргу до центральної площі.\\n\\n🔻 Об 11.30 початок церемонії прощання за адресою: вул. Гетьмана Мазепи, 4 (колишня Червонохутірська).\\n\\n🔻 О 12.00 відспівуванн...', 'labels': ['pro-ukrainian', 'pro-russian'], 'scores': [0.5675581693649292, 0.432441771030426]}, {'sequence': ' Бердин и соседний хутор Новосотницкий в Курской области практически зачищены от ВСУ. Двухдневный рейд украинской армии завершается ничем. \\nВоенная хроника\\n\\nИзХерсонец - http://t.me/Kherson_Uyut\\nПрислать сообщение в бот', 'labels': ['pro-ukrainian', 'pro-russian'], 'scores': [0.7495061755180359, 0.2504937946796417]}, {'sequence': '61-річний Леонід Гришанін став заступником окупаційного міністра паливно-енергетичного комплексу Херсонської області! \\n\\nНаприкінці 2022 року Гришанін добровільно прийняв цю посаду, за що вже визнаний винним у скоєнні злочину заочно. 🔍⚡️ Влада продовжує реагувати на дії колаборантів, і такі випадки викликають обурення серед населення. ', 'labels': ['pro-russian', 'pro-ukrainian'], 'scores': [0.5090004801750183, 0.4909994900226593]}, {'sequence': 'Апокалиптические кадры восходящего солнца за горизонтом Лос-Анджелеса, окутанного дымом от бушующих лесных пожаров. \\n\\nНа данный момент уже эвакуировано 50 тыс человек. Пламя подбирается и к домику Камаллы Харрис...\\n\\n✔️ А городам США эта картинка идëт 😎\\n\\nИзХерсонец - http://t.me/Kherson_Uyut\\nПрислать сообщение в бот ', 'labels': ['pro-ukrainian', 'pro-russian'], 'scores': [0.6625083088874817, 0.3374916613101959]}, {'sequence': ' Легко не было и будет ещë сложнее. Против нас воюют не только хохлы. Живой силы и техники они не жалеют. Но это не повод вестись на вбросы и паниковать. Они не сильнее! \\n\\nВ боксе нужно не только уметь сильно бить, нужно уметь держать удар, не теряться, а выстраивать тактику и побеждать. \\n\\nДумаю, намëк понятен.. \\n\\nЭто не заголовки в интернете, не сенсации и не хайп. Это реальность. И те кто командует нашей армией это знают. И понимают в этом в сотни крат больше всяких интернет ухарей. И ко всему, в отличии ...', 'labels': ['pro-russian', 'pro-ukrainian'], 'scores': [0.6065263748168945, 0.39347362518310547]}, {'sequence': ' У Херсоні знову чутно вибухи\\n\\nНадіслати новину @hueviy_kherson_Bot\\n👉ПІДПИСАТИСЯ', 'labels': ['pro-russian', 'pro-ukrainian'], 'scores': [0.5292676687240601, 0.47073230147361755]}, {'sequence': '😏😏😏 ', 'labels': ['pro-russian', 'pro-ukrainian'], 'scores': [0.5278651118278503, 0.47213488817214966]}, {'sequence': '💵У грудні керівники структурних підрозділів Херсонської обласної військової адміністрації отримали 3 045 060 гривень.\\n\\nПро це йдеться у відповіді на інформаційний запит МОСТа.\\n\\n🪙Начальник управління з питань децентралізації та розвитку громад\\xa0Олег Бутрей отримав 78 404 гривні зарплати та 77 278 гривень матеріальної допомоги для вирішення соціально-побутових питань. Усього Бутрею у грудні виплатили 155 682 гривні.\\n\\n🪙В. о. начальника управління містобудування та архітектури\\xa0Наталі Чернишевій заплатили 79 052 ...', 'labels': ['pro-russian', 'pro-ukrainian'], 'scores': [0.5136809349060059, 0.48631909489631653]}, {'sequence': '⚡️Первые минуты после удара авиации рф по территории Херсона🇺🇦\\n\\nПо предварительной инфо, есть раненные. \\nНа месте одного из ударов виднеется пожар / много дыма. \\n\\nНикаких локаций не пишем. \\nБудет блок чата / комментариев. \\n\\n@kherson_non_fake ', 'labels': ['pro-russian', 'pro-ukrainian'], 'scores': [0.5067945122718811, 0.4932054877281189]}, {'sequence': ' ❗️Президент Венесуэлы Николас Мадуро заявил о задержании в республике группы из семи иностранных наемников. По его словам, три человека из ее состава прибыли с Украины. \\n\\nИх подозревают в намерении устроить теракты в южноамериканской стране.', 'labels': ['pro-ukrainian', 'pro-russian'], 'scores': [0.5729207992553711, 0.4270792007446289]}, {'sequence': 'Получили очередную партию писем от местных школьников. Ребята из Скадовского округа написали поздравления с Новым годом, пожелали нам Победы в 2025-м. Красочные открытки каждый боец сохранит, как напоминание о большой поддержке. Спасибо 🙏🏻 \\n\\n🦅 Подписаться | Наш чат 👌 ', 'labels': ['pro-ukrainian', 'pro-russian'], 'scores': [0.5130860209465027, 0.4869139492511749]}, {'sequence': ' 📷 https://tinyurl.com/5xy87nk3\\n\\nБаскетболісти Корюківської громади змагались за вихід до районного етапу ігор «Пліч-о-пліч»\\n\\nСтаршокласники трьох Корюківських ліцеїв змагалися за право представляти громаду в районному етапі змагань «Пліч-о-пліч всеукраїнські шкільні ліги».\\nУ змаганнях перемогу здобути баскетболісти Корюківського ліцею №1, друге місце Корюківський ліцей №3, а третє - Корюківський ліцей №2.\\n\\nПро це на своїй Facebook-сторінці повідомляє Корюківська РВА.\\n\\n\"Місцеві медіа\"\\n\\n#аудіо\\n\\n🔗 facebook | ...', 'labels': ['pro-ukrainian', 'pro-russian'], 'scores': [0.5378888845443726, 0.46211114525794983]}, {'sequence': ' Ситуация на\\xa0Херсонском направлении остается напряженной, но контролируемой. Мы сохраняем контроль за островами, работаем по позициям хохлов артой, дроноводы ведут воздушные дуэли, уничтожают\\nБПЛА «Баба-Яга». УкроСМИ продолжают нагнетать атмосферу скорого нашего наступления, а ВСУшники на правобережье активно минируют стратегическую инфраструктуру. Хохлы постоянно пытаются малыми группами высадиться на нашей территории, работают арта, ТОСы и БПЛА по местам высадки. Сил на полноценное наступление у них нет, ...', 'labels': ['pro-ukrainian', 'pro-russian'], 'scores': [0.5220165848731995, 0.4779834747314453]}, {'sequence': 'Украинцы в комментах о новых законах\\n\\n😌Свободный Херсон ', 'labels': ['pro-ukrainian', 'pro-russian'], 'scores': [0.8100587129592896, 0.18994130194187164]}, {'sequence': '#военная_история\\nСолдат трёх Императоров\\n\\nВасилий Николаевич Кочетков человек легенда (1785-1892) — русский военный, проживший 107 лет и участвовавший в 10 войнах, солдат трёх императоров.\\n\\nЕго мундир был уникален тем что на нём сплетались золоченые вензеля трех Российских императоров: Александра I, Николая I и Александра II.\\n\\nИз своих 107 лет жизни Василий Николаевич отслужил 81 год, участвовал в 10 войнах. Значился в 12 войсковых частях различных родов войск: пехота; артиллерия; кавалерия и саперные войск...', 'labels': ['pro-russian', 'pro-ukrainian'], 'scores': [0.7953963875770569, 0.20460361242294312]}, {'sequence': ' ❗️ОВА сообщает о движении новых FPV-Дронов рф направлениях Зеленовка / Антоновка и микрорайона Остров (Корабел) в Херсоне🇺🇦\\n\\n@kherson_non_fake', 'labels': ['pro-ukrainian', 'pro-russian'], 'scores': [0.5174206495285034, 0.4825793504714966]}, {'sequence': ' https://vgoru.org/rozsliduvannya/tenderni-koroli-xersona-shho-vidomo-pro-firmu-iaka-otrimuje-milioni-na-ukrittia', 'labels': ['pro-ukrainian', 'pro-russian'], 'scores': [0.9923657774925232, 0.0076341950334608555]}, {'sequence': '🔴 21:51 Повітряна тривога (Чернігівська область) ', 'labels': ['pro-ukrainian', 'pro-russian'], 'scores': [0.5826886296272278, 0.417311429977417]}, {'sequence': 'Треба наперед закуповувати все по 10 кг: наступного року зростуть ціни на всі продукти, - доктор соціальної економіки Зиновій Свереда\\n\\nДо прикладу, на його думку, гречка здорожчає на 20-25%.\\n\\nКуди ще більше 😳\\n\\n🇺🇦 Україна | Новини ‼️ ', 'labels': ['pro-ukrainian', 'pro-russian'], 'scores': [0.7115278244018555, 0.28847208619117737]}, {'sequence': 'Как на Херсонщине готовятся к выборам. Есть такой персонаж Нисар Ахмад он баллотировался в областной совет от партии слуга народа. Но не прошел в депутаты. Он не расстроился и пошел заниматься \"Зе молодежкой\", это такое типа молодежное объединение под флагом партии для привлечения молодежи на выборы и в политику. \\n\\nСейчас они совместно с мр. Очко передали от фонда Ниссара оборудование больнице, но есть нюанс.\\n\\nОборудование купило и привезло USAID, а Нисар сговорившись с мр. Очко делает вид что это его помощ...', 'labels': ['pro-ukrainian', 'pro-russian'], 'scores': [0.6256862282752991, 0.3743137717247009]}, {'sequence': \"Росія готується до наступу на Херсон \\n\\nВ інформаційному полі з'явилися тривожні дані про підготовку російських військ до масштабної операції на Херсонщині. 💥\\n\\nЗокрема, поширюються повідомлення, що росіяни активно шукають човни для форсування Дніпра та збирають гроші на проведення цієї операції. 📉🔍 Це може свідчити про наміри провести наступальні дії в регіоні, що викликає занепокоєння серед місцевого населення та військових експертів. \\n\\nСитуація вкрай напружена, і військові дії можуть загостритись найближчи...\", 'labels': ['pro-russian', 'pro-ukrainian'], 'scores': [0.6059647798538208, 0.3940352201461792]}, {'sequence': '‼️ Пенсии в России проиндексированы на 7,3% с 1 января 2025 года, заявил Владимир Сальдо\\n\\nГубернатор Херсонской области сообщил, что индексация будет рассчитываться не от текущей суммы выплат, а от установленного размера пенсии с учетом всех предыдущих индексаций.\\n\\n\"Ключевой момент — возобновлена индексация пенсий работающих пенсионеров, которая была приостановлена в 2016 году\", — отметил Владимир Сальдо.\\n\\n☃️ ПОДПИСАТЬСЯ НА ТАВРИЮ ', 'labels': ['pro-russian', 'pro-ukrainian'], 'scores': [0.6071045994758606, 0.392895370721817]}, {'sequence': 'Російські окупанти повідомляють про завершення збору зернових на території лівобережжя Херсонщини 🌾\\n\\nЗ 515 тис. га окупованих полів Херсонської області загарбникам вдалося зібрати 1,5 млн. тонн зернових культур: 1 млн 95 тис. пшениці, понад 337 тис. тонн ячменю, 13,7 тис. тонн гороху та 58 тис. тонн ріпаку.\\n\\nНадіслати новину @hueviy_kherson_Bot\\n👉ПІДПИСАТИСЯ ', 'labels': ['pro-russian', 'pro-ukrainian'], 'scores': [0.7072778940200806, 0.29272210597991943]}, {'sequence': '🥰 ', 'labels': ['pro-ukrainian', 'pro-russian'], 'scores': [0.6517358422279358, 0.3482641875743866]}, {'sequence': 'Херсонський державний університет після російської атаки\\n\\nВ результаті учорашньої російської атаки, Херсонський державний університет зазнав значних ушкоджень: \"потрощені стіни, навчальні аудиторії, вибиті вікна та двері\". Ситуація викликає глибоке занепокоєння, адже освітній процес опинився під загрозою. ', 'labels': ['pro-ukrainian', 'pro-russian'], 'scores': [0.5452565550804138, 0.4547434151172638]}, {'sequence': ' Після цієї війни в прийдешніх поколінь має лишитись два почуття: наші нащадки мають їх ненавидіти, їхні - мають нас боятись. Цього досить.', 'labels': ['pro-russian', 'pro-ukrainian'], 'scores': [0.5093650817871094, 0.4906349182128906]}, {'sequence': 'История повторяется\\n\\n👉 MDK Херсон. Подписаться ', 'labels': ['pro-russian', 'pro-ukrainian'], 'scores': [0.5100394487380981, 0.48996055126190186]}, {'sequence': ' ❗️Сегодня около 09:10 и 17:10 ⏱️ российская армия совершила обстрел района Зеленовки🇺🇦 (пригород Херсона)\\n\\n@kherson_non_fake', 'labels': ['pro-russian', 'pro-ukrainian'], 'scores': [0.6354681253433228, 0.36453184485435486]}, {'sequence': 'IT-школа відкрила набір на майстер-клас з КОМПʼЮТЕРНОГО ДИЗАЙНУ (онлайн). Навчання на платформі Zoom з викладачами. Діти 5-17 років.\\nДля реєстрації залиште ➕ в коментарях \\nАбо заповніть форму 🤝 \\nhttps://forms.gle/FMuwqHWQEg4ejQqM6 ', 'labels': ['pro-ukrainian', 'pro-russian'], 'scores': [0.6112824082374573, 0.3887176215648651]}, {'sequence': ' \\u200bУ Корюківському районі зафіксовано падіння дронів «Шахед» і «Герань-2». Постраждали два ангари та вантажні автомобілі.', 'labels': ['pro-ukrainian', 'pro-russian'], 'scores': [0.5115196704864502, 0.4884802997112274]}, {'sequence': ' Правый берег Херсонщины, как у Вас обстоят дела с выплатами пенсий, заработных плат, есть ли вообще работа? Напишите мне в чат-бот @VKhersone_bot (;)Все анонимно.', 'labels': ['pro-ukrainian', 'pro-russian'], 'scores': [0.5463055968284607, 0.4536944329738617]}, {'sequence': 'Праздничный привет с левого берега. Всем удачи в Новом году и, конечно же, Победы 🤙🏻🇷🇺\\n\\n🦅 Подписаться | Наш чат 👌 ', 'labels': ['pro-russian', 'pro-ukrainian'], 'scores': [0.5905492901802063, 0.4094506800174713]}, {'sequence': '\"Змінюйте роботу\": таку пораду дав нардеп від «Слуги народу» Костюх українцям, яких не влаштовує рівень зарплати в країні\\n\\n🍉 ПІДПИСАТИСЬ НА КАНАЛ ', 'labels': ['pro-ukrainian', 'pro-russian'], 'scores': [0.8169177174568176, 0.18308226764202118]}, {'sequence': 'У Малиновському районному суді Одеси закінчився розгляд справи по суті щодо пособництва державі-агресору. Обвинувачений Віталій Білінський – мешканець Чорнобаївки. Як встановило слідство, під час окупації він очолив комунальне підприємство, яке росіяни підпорядкували собі, розміщував військових і техніку на його території, роздавав гуманітарну допомогу та російську агітацію. ', 'labels': ['pro-russian', 'pro-ukrainian'], 'scores': [0.5832310914993286, 0.4167689383029938]}, {'sequence': 'Спокойствие, только спокойствие этот пиздеж разгоняют убогие телеграмм каналы для накрутки подписок. \\n\\nУвы в Херсоне сильный обстрел, но никак не штурм. ', 'labels': ['pro-ukrainian', 'pro-russian'], 'scores': [0.5672548413276672, 0.43274515867233276]}, {'sequence': 'Втрата комунальної техніки в Херсоні \\n\\nУ Херсонській громаді за час окупації та внаслідок збройної агресії РФ було викрадено та знищено 135 одиниць комунальної спеціальної техніки. Це дані, наведені Херсонською МВА. 🛠️⚠️ \\n\\nЦя цифра стала черговим підтвердженням руйнівних наслідків війни для місцевої інфраструктури, яка вже й без того потерпає від обстрілів та тотальних атаку. 💔 ', 'labels': ['pro-russian', 'pro-ukrainian'], 'scores': [0.5362892746925354, 0.4637106955051422]}, {'sequence': \"🔥Спільна операція СБУ та ВМС ЗСУ: уражено склад зберігання російських дронів-розвідників у ростовській області\\n\\nУ ніч на 10 січня дрони СБУ та ракета «Нептун» відпрацювали по складу зберігання боєприпасів та дронів-розвідників поблизу села Чалтирь у ростовській області. За інформацією наших джерел, спочатку безпілотники Служби безпеки «перевантажили» російську ППО, а потім на об'єкт «завітав» «Нептун».\\n\\nВсю ніч росіяни в соцмережах скаржилися на звуки пролітаючих дронів, роботу російської ППО та писали про ...\", 'labels': ['pro-russian', 'pro-ukrainian'], 'scores': [0.5358378291130066, 0.4641622006893158]}, {'sequence': '‼️ Перспективы конфликта, которые видят обычные граждане Украины: «Трамп придёт, то и всё... всё остановится сразу»\\n\\nУкраинцы в ожидание прихода к власти Д.Трампа. Знают, что более масштабных выделений денег и прочей помощи можно не ждать, а значит всё идёт к концу.\\n\\n💬 В своём видео парень спрашивает: «Может уже пара вставать?». Вот как-то так украинцы и приближаются к осознанию того, что скоро произойдёт необратимое для всего населения Украины.\\n\\nПодписаться на наш канал 👈\\nОбратная связь 🗣 ', 'labels': ['pro-ukrainian', 'pro-russian'], 'scores': [0.7955858111381531, 0.20441414415836334]}, {'sequence': '🛥❗️⚔️Окупанти, ймовірно, планують наступ на Херсон: напоготові 300 човнів для форсування Дніпра, - пише Financial Times, посилаючись на главу ОВА Олександра Прокудіна. \\n\\nРосійські війська намагатимуться захопити річкові острови та просунутись ближче до західного берега Херсона, - припускає речник загону \"Південь\" Української добровольчої армії Сергій Братчук. Нещодавно вони провели велику атаку на Козацький острів на північний схід від міста.\\n\\n🔗 Сайт | Facebook | YouTube ', 'labels': ['pro-ukrainian', 'pro-russian'], 'scores': [0.5326236486434937, 0.46737632155418396]}, {'sequence': '❗️ Что же лучше? отдать ресурсы Трампу в обмен на прекращение боевых действий? Или как завещали Байден и Зеленский воевать до последнего украинца?\\n\\nМнение жителя Украины, которое соответствует текущей реальности на Украине. Да, Трамп на самом деле готов пойти на уступки и завершить конфликт, но в обмен ему нужны природные ресурсы.\\n\\nДействительно, человеческий ресурс на Украине иссяк и здравомыслящие люди ждут окончания войны на любых условиях, поскольку жизнь человека-бесценна!\\n\\nДа украинцам придется отдать...', 'labels': ['pro-ukrainian', 'pro-russian'], 'scores': [0.961539089679718, 0.038460951298475266]}, {'sequence': 'Херсонские бойцы завоевали призовые места на Кубке ММА в Севастополе\\n\\nЕжегодный турнир Кубок ММА «Витязь Севастополь» прошел в Севастополе. Он собрал 173 участника из Крыма, Севастополя, ДНР, ЛНР, Запорожской и Херсонской областей. Херсонскую область представляли три спортсмена — студенты Херсонского государственного педагогического университета. Все трое успешно выступили, заняв вторые места в своих категориях.\\n\\nП О З Д Р А В Л Я Е М !\\n\\n👉 MDK Херсон. Подписаться ', 'labels': ['pro-ukrainian', 'pro-russian'], 'scores': [0.6211591958999634, 0.37884074449539185]}, {'sequence': 'Маршрут консервный-восточный вечером выглядит так ', 'labels': ['pro-ukrainian', 'pro-russian'], 'scores': [0.8014105558395386, 0.19858938455581665]}, {'sequence': ' 🪜Ремонт квартир в 2025 году подорожает на 10-25%\\n\\nТолько стоимость работ без учета материалов в первом квартале увеличится как минимум на 10-15%, а к середине года превысит текущий уровень уже на 20-25%.', 'labels': ['pro-russian', 'pro-ukrainian'], 'scores': [0.5640392303466797, 0.43596071004867554]}, {'sequence': '🔴 05:33 Повітряна тривога (Чернігівська область) ', 'labels': ['pro-ukrainian', 'pro-russian'], 'scores': [0.5932086706161499, 0.4067913293838501]}, {'sequence': ' https://youtube.com/shorts/1_TpP9PWZyA?si=ybQCvZeTLoykKAOI', 'labels': ['pro-ukrainian', 'pro-russian'], 'scores': [0.5180814862251282, 0.4819185435771942]}, {'sequence': '❗️ Ворог завдав ракетного удару по Чернігову, у місті є постраждалі, які потребують переливання крові.\\n🩸Особливо НЕГАТИВНИЙ резус. \\nЗдати кров також можна у Корюківці за адресою вул. Шевченка, 101 (3-й поверх поліклінічного відділення Корюківської ЦРЛ).\\n🕘  Години забору крові: з 8:30 до 12:00.\\nПри собі мати: паспорт або ID-картку, ідентифікаційний код.\\n(✍️ Корюківська РВА) ', 'labels': ['pro-ukrainian', 'pro-russian'], 'scores': [0.5135459899902344, 0.4864540100097656]}, {'sequence': 'В Олександрівці Корюківської громади відкрили меморіальні дошки на честь воїнів-односельців Павла Невжинського та Євгена Забаровського, які загинули, захищаючи Україну від ворога.\\n\\nМаємо пам’ятати кожного, хто боронив і боронить Україну. ', 'labels': ['pro-ukrainian', 'pro-russian'], 'scores': [0.6556923985481262, 0.344307541847229]}, {'sequence': 'В Киеве разработали украинский аналог «Тиндера»\\n\\n👉 MDK Херсон. Подписаться ', 'labels': ['pro-ukrainian', 'pro-russian'], 'scores': [0.9661017656326294, 0.033898208290338516]}, {'sequence': ' Маємо збиття Шахеда в районі.\\n\\nПартизани дякують ППО!', 'labels': ['pro-russian', 'pro-ukrainian'], 'scores': [0.5715840458869934, 0.4284159243106842]}, {'sequence': 'Посеред дня терористична армія рф атакувала з авіації місто…один за одним прилетіли три КАБи , станом на зараз відомо про 9 постраждалих херсонців  … ', 'labels': ['pro-ukrainian', 'pro-russian'], 'scores': [0.503660261631012, 0.49633970856666565]}, {'sequence': ' У Херсоні до 35 багатоповерхівок технічно неможливо подати тепло, бо вони мають суттєві пошкодження через обстріли.', 'labels': ['pro-russian', 'pro-ukrainian'], 'scores': [0.5005919933319092, 0.4994080066680908]}, {'sequence': ' Дорога громадо! \\n\\n🕯🇺🇦Захищаючи Україну від посягань одвічного ворога, загинув наш земляк з Холминської громади ОЛЕКСАНДР КРЕПС, 1977 року народження.\\nЗавтра, 15 жовтня, його рідне селище зустрічатиме воїна на щиті. Вшануймо Героя живим коридором! \\n(🕙Про час повідомимо додатково). \\n\\nВ Корюківці від моргу до площі далі по вулиці Шевченка-Садова - Тільне - Сядрине. \\n\\nНизький уклін Герою! Щирі співчуття рідним.', 'labels': ['pro-ukrainian', 'pro-russian'], 'scores': [0.6272496581077576, 0.3727504014968872]}, {'sequence': ' ❗Стало відомо ще про двох постраждалих внаслідок ворожого авіаудару по Херсону.\\n\\nЧоловіки 52 та 62 років були на вулиці в момент влучання КАБ. 62-річному потерпілому медики надали допомогу на місці. В нього вибухова травма та уламкове поранення правої кисті.\\n\\n52-річного пораненого доставлено до лікарні. У чоловіка садна обличчя, вибухова та закрита черепно-мозкова травми.\\n\\n🍉 ПІДПИСАТИСЬ НА КАНАЛ', 'labels': ['pro-russian', 'pro-ukrainian'], 'scores': [0.5422849059104919, 0.4577150344848633]}, {'sequence': 'Студенты ХГПУ приняли участие в патриотическом форуме «Россия объединяет» в Подмосковье\\n\\nУчастники обсудили процесс интеграции новых регионов в социокультурное пространство России, роль молодежи в этом процессе, а также сущность и цели информационной войны.\\n\\n👉 MDK Херсон. Подписаться ', 'labels': ['pro-russian', 'pro-ukrainian'], 'scores': [0.9092536568641663, 0.09074635803699493]}, {'sequence': \"Вони були такі ж, як і ми. Дорослі і малі, українці, яких росія винищувала голодоморами. Штучно створений росіянами голод був зброєю масового винищення нашої нації. І вони її вдало застосовували, караючи наш народ. Просто за те, що ми - українці.\\n\\n🕯Сьогодні о 16:00 запаліть свічку пам’яті на підвіконні. \\n\\nРозкажіть дітям, чому цей вогник у вікні такий важливий. Розкажіть, що той, хто винен у смертях мільйонів українців тоді, вбиває нас і тепер. І вшануйте пам'ять загиблих під час голодоморів хвилиною мовчан...\", 'labels': ['pro-ukrainian', 'pro-russian'], 'scores': [0.6113649010658264, 0.3886350691318512]}, {'sequence': ' Надо срочно в#%ать кой-куда в районе Херсона. Ждём работу РЕАДн и ГСАДн🤙 \\n\\n\\n🦅 Подписаться | Наш чат 👌', 'labels': ['pro-ukrainian', 'pro-russian'], 'scores': [0.5710467100143433, 0.4289533197879791]}, {'sequence': ' \\u200bЛюди після травм, хвороб та операцій прагнуть повернутися до активного життя. У Менській громаді працюють над вдосконаленням реабілітаційних і соціальних послуг для тих, хто цього потребує.', 'labels': ['pro-ukrainian', 'pro-russian'], 'scores': [0.5029463171958923, 0.4970536530017853]}, {'sequence': '⚖️ Суд виніс вирок колишньому чиновнику Херсонської ОВА, який працював в окупаційному \"МВС\" \\n\\nКолаборанта було затримано під час стабілізаційних заходів у Херсоні. На момент затримання, за даними СБУ, він був чинним працівником обласної військової адміністрації\\n\\nДеталі: https://bit.ly/48EzjZP ', 'labels': ['pro-ukrainian', 'pro-russian'], 'scores': [0.5400327444076538, 0.4599672555923462]}, {'sequence': ' Міська сирена вийшла з ладу. \\nКористуйтесь іншими джерелами оповіщення. \\nНевдовзі постійний гудок вимкнуть.', 'labels': ['pro-ukrainian', 'pro-russian'], 'scores': [0.5069223046302795, 0.49307766556739807]}, {'sequence': ' Дорога громадо!\\n\\nСьогодні ворог знову обстріляв об’єкти енергопостачання. Існує реальна загроза повторних аварійних відключень. \\n\\nНаполегливо просимо:\\n- найближчі дні максимально знизити споживання електроенергії з 17 до 23 години, особливо сьогодні;\\n- зробити необхідний запас питної води;\\n- зарядити гаджети/павербанки;\\n\\nПромисловим підприємствам сьогодні рекомендовано закінчити виробничий процес до 16.00.\\n\\nЦе дуже важливо!!!', 'labels': ['pro-russian', 'pro-ukrainian'], 'scores': [0.5387215614318848, 0.46127840876579285]}, {'sequence': 'Мешканцю Херсонщини зять, який проживає в Італії, подарував автомобіль, що перебуває у міжнародному розшуку за базою даних “Інтерпол”\\n\\nКоли машина була доправлена з Італії до Херсона, власник зібрав необхідний пакет документів та завітав до сервісного центру МВС для постановки автомобіля на державний облік.\\n\\nПід час процедури перевірки фахівці експертної служби МВС встановили, що номер кузова змінено. Тобто авто спочатку вкрали, а потім змінили ідентифікаційний номер і продали.\\n\\nКерувати автомобілем власник...', 'labels': ['pro-ukrainian', 'pro-russian'], 'scores': [0.5737504959106445, 0.4262494444847107]}, {'sequence': '☀️Желаем хорошего и благодарного дня!\\n\\nПусть этот день принесет счастливую весть, будет добрым и чудесным. Пусть каждая минута подарит хорошее настроение, а душа будет спокойной и умиротворенной. Бодрого заряда, моря энергии, прилива сил и гармонии!\\n\\n📱телеграм-канал Херсонский Вестник\\n🌐группа VK Вконтакте ', 'labels': ['pro-ukrainian', 'pro-russian'], 'scores': [0.6675153970718384, 0.3324846029281616]}, {'sequence': '❗️Наслідки влучання керованої авіабомби на територію дитячого садка.\\n\\n🍉 ПІДПИСАТИСЬ НА КАНАЛ ', 'labels': ['pro-russian', 'pro-ukrainian'], 'scores': [0.5092055201530457, 0.49079450964927673]}, {'sequence': ' Хто чув вибухи в межах Корюківської і Сновської громад - то сапери знищують русняві недобитки.', 'labels': ['pro-ukrainian', 'pro-russian'], 'scores': [0.5532457232475281, 0.4467542767524719]}, {'sequence': '💥Наслідки рашистських обстрілів Херсонщини минулої доби\\n\\n🍉 ПІДПИСАТИСЬ НА КАНАЛ ', 'labels': ['pro-russian', 'pro-ukrainian'], 'scores': [0.5162244439125061, 0.4837755560874939]}, {'sequence': ' \\u200bЧоловік, поранений внаслідок ракетного удару в Мені 24 листопада, наразі перебуває під наглядом лікарів після проведеної операції. Медики оцінюють його стан як середньої тяжкості. Про це повідомив секретар Менської міської ради Юрій Стальніченко.', 'labels': ['pro-russian', 'pro-ukrainian'], 'scores': [0.5266448855400085, 0.47335508465766907]}, {'sequence': '‼️В ЛНР объявлен траур в память о жертвах удара по пекарне в Лисичанске\\n\\nЧисло погибших на данный момент возросло до 28 человек, среди них один ребенок. Разбор завалов продолжается.\\n\\nСотрудники МЧС смогли спасти из-под завалов 10 человек, за их жизнь сейчас борются медики.\\n\\n#сводка \\nБоевое знамя | Солдатское радио ', 'labels': ['pro-russian', 'pro-ukrainian'], 'scores': [0.5068720579147339, 0.4931279718875885]}, {'sequence': ' Отец работает на фабрике новогодних игрушек. Сегодня пришёл раньше обычного, достал из сейфа все бенгальские огоньки и приказал молча собираться. Сейчас едем куда-то с подарками. Не знаю, что происходит, но, кажется, началось.', 'labels': ['pro-ukrainian', 'pro-russian'], 'scores': [0.5559507012367249, 0.44404926896095276]}, {'sequence': '🔴Поліція Чернігівщини фіксує наслідки російської атаки: поранений чоловік, пошкоджено житловий будинок ', 'labels': ['pro-ukrainian', 'pro-russian'], 'scores': [0.5120912790298462, 0.4879086911678314]}, {'sequence': '🇩🇪 Німеччина доставила в Україну першу партію з 10 одиниць БМП «Lynx».\\n\\n🇺🇸США виділили пакет допомоги на $500 млн. Переважно до пакету увійшли БК, ракети до ППО тощо.\\n\\nЦе «останній» пакет за каденції Байдена. Сума допомоги, яку не встигли передати складає ~ 5,8 млрд за програмою PDA (постачання напряму із запасів Штатів). Її долю вирішуватиме вже Трамп.\\n\\n🍉 ПІДПИСАТИСЬ НА КАНАЛ ', 'labels': ['pro-ukrainian', 'pro-russian'], 'scores': [0.534151017665863, 0.4658489525318146]}, {'sequence': '⚡️ Російський суд виніс вирок зраднику Ігорю Семенчеву\\n\\nЕкс-депутата міськради та колишнього заступника гауляйтера засудили за махінації з вугіллям для ТОТ Херсонщини\\n\\nДеталі: https://newtime.ks.ua/rosijskyj-sud-vidpravyv-za-graty-igorya-semencheva-molodshogo/\\n\\nПідписатися на Newtime Херсон✅\\nНаписати нам📩 ', 'labels': ['pro-russian', 'pro-ukrainian'], 'scores': [0.6783226728439331, 0.3216773271560669]}, {'sequence': '‼️ «Всё едет в Курскую область»\\n\\n114-я бригада ТрО жалуется, что из-за недостаточного обеспечения фронт на Харьковском направлении сыпется. Им нечего противопоставить наступающим силам РФ, в связи с чем приходится оставлять занимаемые позиции. \\n\\n⚡️ Данное видео показывает реальную обстановку в ВСУ в районе Купянска.\\n\\n❗️ Солдаты ВСУ, на фронте Вас ждёт лишь смерть. Если вы хотите избежать гибели - пишите на аккаунт https://t.me/FREE_SOLDIER2022, там Вам помогут остаться в живых и вернуться домой к семье. \\n\\nП...', 'labels': ['pro-ukrainian', 'pro-russian'], 'scores': [0.5868180394172668, 0.4131819009780884]}, {'sequence': 'Правобережжя Херсонщини, наслідки ударів російськими авіабомбами декілька днів тому\\n\\nНадіслати новину @hueviy_kherson_Bot\\n👉ПІДПИСАТИСЯ ', 'labels': ['pro-russian', 'pro-ukrainian'], 'scores': [0.5243396759033203, 0.47566038370132446]}, {'sequence': \" \\u200bВ Україні розпочато вступну кампанію до військових навчальних закладів, які відкривають дорогу до професії, що об'єднує честь, гідність і відданість Батьківщині.\", 'labels': ['pro-ukrainian', 'pro-russian'], 'scores': [0.7292274832725525, 0.2707725465297699]}, {'sequence': '🔥Україна фактично знищила 2/3 військових ресурсів рф, - міністр оборони США\\n\\n⁃ Україна фактично знищила дві третини військових ресурсів РФ. З 2022 року Росія втратила в Україні понад 700 тис. солдатів. Від Другої світової війни Москва не зазнавала таких втрат у жодній з війн, до яких вона була залучена. Кремлю дали по зубах, тому він змушений шукати найманців, солдатів з Північної Кореї - голова міністерства оборони Сполучених Штатів Ллойд Остін на пресконференції за підсумками \"Рамштайну - 25\"\\n\\n🍉 ПІДПИСАТИ...', 'labels': ['pro-ukrainian', 'pro-russian'], 'scores': [0.5617141723632812, 0.4382858872413635]}, {'sequence': \" 📷 https://tinyurl.com/2t6vjmj3\\n\\nВидання «Місцеві медіа»  стало партнером мережі «Вікно Відновлення», щоб якісно висвітлювати відбудову України\\n\\nНаше видання кілька днів тому долучилося до мережі “Вікно Відновлення”, яка об’єднує понад 90 незалежних медіа, громадських організацій та аналітичних центрів країни.  \\n\\nОб'єднання «Вікно Відновлення» (UA Recovery Window MediaNetwork) розпочало роботу в січні 2024 року як ініціатива семи незалежних організацій-співзасновників. Регіональні та всеукраїнські медіа, ан...\", 'labels': ['pro-ukrainian', 'pro-russian'], 'scores': [0.7569363713264465, 0.24306365847587585]}, {'sequence': ' https://youtu.be/cGoTx76DZKw?si=YyJOOW5gFsiaoJ1q', 'labels': ['pro-ukrainian', 'pro-russian'], 'scores': [0.5000166893005371, 0.4999833106994629]}, {'sequence': \" ❗️💬'ВС РФ уже несколько дней как перешли к активным боевым действиям практически по всему фронту, украинское контрнаступление закончено', — постпред РФ в ООН Небензя.\\n\\n😌Свободный Херсон\", 'labels': ['pro-russian', 'pro-ukrainian'], 'scores': [0.6588779091835022, 0.3411220908164978]}, {'sequence': '⚡️‼️ В ходе залистования группировкой войск «Запад» позиций противника в плен сдаются военнослужащие ВСУ\\n\\nУ каждого из военнослужащих той стороны разные истории. Но, зачастую, последовательность такая: мобилизован с улицы, отправлен в учебку, а за тем на фронт с приказом убивать всех русскоговорящих. Варианты их историй примерно одни и те же: ранение, СЗЧ, тюрьма и опять фронт, где либо плен, ранение, а то и вовсе чёрный пакет. Выберите свою жизнь вместо черного пакета.\\n\\n⚡️💥 Российские войска дают шанс воен...', 'labels': ['pro-russian', 'pro-ukrainian'], 'scores': [0.583708643913269, 0.41629132628440857]}, {'sequence': '👤Голова незаконної адміністрації так званого Каховського муніципального округу Павло Філіпчук знайшов для своєї матері Олени Філіпчук посаду в окупаційній раді депутатів Каховки.\\n\\nЗа даними ЦЖР, з грудня 2024 року Олена Філіпчук працює заступницею голови окупаційної ради депутатів Каховки Олександра Зуєва, якого нещодавно визнали винним у водінні автівкою у стані наркотичного сп’яніння.\\n\\n💸Для Філіпчук вже встановили щомісячну надбавку до посадового окладу за “особливі умови праці” в розмірі 116%, а також що...', 'labels': ['pro-russian', 'pro-ukrainian'], 'scores': [0.5092905759811401, 0.49070945382118225]}, {'sequence': '🗣путін заявив, що росія випробувала балістичну ракету середньої дальності, яку назвала «Орєшнік», вдаривши по Дніпру 21 листопада\\n\\nТака ракета призначена для доставлення ядерних зарядів. Втім, як сказав сам путін, вона не несла ядерний заряд. За його словами, ціль нібито уражена.\\n\\nпутін також заявив, що росія буде застосовувати зброю проти обʼєктів тих країн, які дозволяють використовувати свою зброю проти російських обʼєктів. ', 'labels': ['pro-ukrainian', 'pro-russian'], 'scores': [0.5396748781204224, 0.46032512187957764]}, {'sequence': ' \\u200bУ Чернігівській обласній військовій адміністрації 5 грудня, напередодні Дня Збройних сил України, вручили 13 державних нагород військовослужбовцям. Також передали посмертні нагороди 44 родинам загиблих воїнів.', 'labels': ['pro-ukrainian', 'pro-russian'], 'scores': [0.5570330023765564, 0.4429669678211212]}, {'sequence': 'ТЕРМІНОВО! Врятуймо життя захисників!\\n\\n28-ма бригада на Бахмутському напрямку працює у нелюдських умовах. Автомобіль для них – це не просто транспорт, це броня від смерті, це шанс врятувати поранених і виконати бойові завдання.\\n\\n‼️ Часу немає! Ворог не чекає. Кожна гривня може стати тим, що збереже життя наших воїнів.\\n\\n🔴 Монобанк : https://send.monobank.ua/jar/5pxuZi91ne\\n🔴 Моно: 4441 1111 2875 0993\\n🔴 Конверт в Приват:https://www.privat24.ua/send/2pha0\\n🔴 ПриватБанк: 5168752104491728\\n🔴 ПУМБ: 5351 3680 0025 58...', 'labels': ['pro-ukrainian', 'pro-russian'], 'scores': [0.556908905506134, 0.44309109449386597]}, {'sequence': '68-річна жінка з вибуховою травмою звернулася до лікарні\\n\\nСьогодні до лікарні звернулася 68-річна жінка, яка, за попередніми даними, отримала вибухову травму. Медики наразі проводять обстеження та надають необхідну допомогу потерпілій. 💔👩\\u200d⚕️ ', 'labels': ['pro-ukrainian', 'pro-russian'], 'scores': [0.5287350416183472, 0.47126495838165283]}, {'sequence': ' Увага❗️ Поліція Корюківського району інформує‼️ \\nПоліція попереджає, що під час Новорічних та Різдвяних свят наполегливо рекомендуємо :  \\n🔻Не нехтувати сигналами повітряної тривоги! \\n🔻Не збиратися великими групами осіб! \\n🔻Не порушувати комендантську годину, тривалість якої залишається незмінною: з 23:00 до 04:00! \\n                                                                                                                                   Також попереджаємо про заборону продажу і використання піротехні...', 'labels': ['pro-ukrainian', 'pro-russian'], 'scores': [0.5117678642272949, 0.48823222517967224]}, {'sequence': '📍 Трагедія напередодні свят на Чернігівщині: на дорозі виявили тіло чоловіка\\n\\nСьогодні вранці, 25 грудня, близько 4:05 на автодорозі Н-07 біля села Сокиринці\\xa0Прилуцького\\xa0району було виявлено тіло чоловіка віком приблизно 50-60 років без ознак життя.\\n\\nПро це повідомляє Департамент цивільного захисту та оборонної роботи ОВА.\\n\\nЗа попередніми даними, чоловіка, ймовірно, збив автомобіль.\\n\\nОбставини та причини смерті встановлюються. ', 'labels': ['pro-ukrainian', 'pro-russian'], 'scores': [0.5161272883415222, 0.4838726818561554]}, {'sequence': ' \\u200bНові правила застосування графіків погодинних відключень електроенергії забезпечать рівномірний і справедливий розподіл обмежень між регіонами та всередині областей. Зміни передбачені в оновленій інструкції Міністерства енергетики.', 'labels': ['pro-russian', 'pro-ukrainian'], 'scores': [0.5411632061004639, 0.4588368237018585]}, {'sequence': 'В сети, какой-то речник, зачем-то разгоняет панику про грядущее \"форсирование русскими\" реки около антоновского моста.  \\n\\nПротивник якобы ведет поисковые мероприятия наших позиций по правому берегу.  \\n\\nЧестно, я не знаю, по какой причине этот поц такое заряжает, но памятуя Гуменюк, в принципе не удивлен. \\n\\nДавайте от обратного. На скриншоте карта с нашими позициями, которую мы получили от пленного еще в начале прошлого года офицера. (по состоянию на сейчас она не актуальна) \\n\\nКак вы понимаете у русских впол...', 'labels': ['pro-russian', 'pro-ukrainian'], 'scores': [0.5388132929801941, 0.4611867666244507]}, {'sequence': 'Херсонщина знову під обстрілами! 🎯\\n\\nДеокуповані населені пункти Херсонського та Бериславського районів знову опинилися під ударами російської армії. Ворог завдавав ударів зі всіх можливих типів озброєнь: артилерії, реактивних систем залпового вогню, мінометів та БпЛА. Ситуація залишається напруженою, і місцеві жителі знову зазнають небезпеки. 🛑 ', 'labels': ['pro-russian', 'pro-ukrainian'], 'scores': [0.6426231861114502, 0.35737675428390503]}, {'sequence': 'От детей со всей страны приходят нам на передовую не только трогательные письма, но и разные подарки. Бойцам на Херсонское направление волонтеры привезли икону. Дети из Бердянска своими руками вышили бисером лик святого, блаженного князя Александра Невского. Подарок разместили в отдельном кубрике который отныне будет служить импровизированной часовней.\\n\\n🦅 Подписаться | Наш чат 👌 ', 'labels': ['pro-ukrainian', 'pro-russian'], 'scores': [0.6209336519241333, 0.3790663480758667]}, {'sequence': 'Херсонское направление \\n\\nРазведывательной ротой 26 мотострелкового полка 70 мотострелковой дивизии вскрыто перемещение автомобиля ВСУ с его парковкой в доме.\\n\\nОгнем гаубичного дивизиона полка пункт временной дислокации противника уничтожен.\\n\\n📱телеграм-канал Херсонский Вестник\\n🌐группа VK Вконтакте ', 'labels': ['pro-ukrainian', 'pro-russian'], 'scores': [0.5474352240562439, 0.4525647759437561]}, {'sequence': ' В моєму дитинстві було дуже багато знайомих з інтернату і все що розповідали діти, які були звідти це завжди була якась люта їбаніна, яка нагадувала щось середнє між концтабором та гетто. Це варто прочитати \\n\\nhttps://life.pravda.com.ua/society/biti-pochali-shche-v-sadochku-bolyucha-i-vidverta-istoriya-eksvihovancya-internatu-305729/', 'labels': ['pro-ukrainian', 'pro-russian'], 'scores': [0.5885182619094849, 0.41148173809051514]}, {'sequence': '❗️ Конгресвуман родом з Чернігівщини розкритикувала Байдена та Зеленського\\n \\nНапередодні знакового для американців свята Дня подяки конгресвуман з Чернігівщини Вікторія Спартц дала вельми жорстке інтервʼю на телеканалі CNN, де, зокрема, розкритикувала зовнішню політику України та дії президента Володимира Зеленського. ', 'labels': ['pro-russian', 'pro-ukrainian'], 'scores': [0.6384430527687073, 0.3615569472312927]}, {'sequence': ' \\u200bСиноптики попереджають про дощ і мокрий сніг у Мені', 'labels': ['pro-russian', 'pro-ukrainian'], 'scores': [0.5061455368995667, 0.49385446310043335]}, {'sequence': 'Краще б до мишей, щоб уєбали з нашого бліндажа( ', 'labels': ['pro-ukrainian', 'pro-russian'], 'scores': [0.5072476863861084, 0.4927523732185364]}, {'sequence': '🟢 13:35 Відбій повітряної тривоги (Чернігівська область) ', 'labels': ['pro-ukrainian', 'pro-russian'], 'scores': [0.5354081988334656, 0.4645918309688568]}, {'sequence': \"Сьогодні, 9 січня: важливі події та пам'ятні дати!  \\n\\n🌍 Сьогодні відзначаємо Міжнародний день хореографа - свято мистецтва танцю та творчості.  \\n\\n🙏 Віряни вшановують пам'ять святого мученика Полієвкта, який залишив слід в історії.  \\n\\n📅 До Нового року залишилось 356 днів, а 9 січня 2025 року — це четвер.  \\n\\n🗓️ Це 1051-й день війни в Україні. Наші думки з усіма, хто зараз переживає складні часи. \", 'labels': ['pro-ukrainian', 'pro-russian'], 'scores': [0.5085805058479309, 0.4914194345474243]}, {'sequence': '🇺🇦🕯  Дорога Корюківська громадо! \\n \\nЗі скорботою повідомляємо, що Україна втратила ще одного свого Героя.  У боротьбі за її незалежність 7 листопада загинув Павло Алєксєєв з Холмів, 1979 року народження.\\n \\nПоховання відбудеться завтра,  13 листопада.  \\n \\nВіддаймо шану його мужності: \\n🔻 о 09:00 вшануймо воїна живим коридором від моргу до центральної площі міста.                                                                 \\n🔻о 10:00 - живий коридор у селі Сядрине. \\n🔻 далі по маршруту - селище Холми.\\n  \\nВіч...', 'labels': ['pro-ukrainian', 'pro-russian'], 'scores': [0.5254384279251099, 0.4745616316795349]}, {'sequence': ' \\u200b25 листопада набув чинності Закон України «Про забезпечення участі цивільних осіб у захисті України», який вдосконалює порядок обігу вогнепальної зброї. Закон створює правову базу для уникнення відповідальності за зберігання зброї без дозволу за умови її декларування, а також підсилює контроль за використанням зброї.', 'labels': ['pro-ukrainian', 'pro-russian'], 'scores': [0.7536154389381409, 0.24638456106185913]}, {'sequence': ' 🎧 \"Наша Корюківка\" у форматі аудіо. \\nНатисність на файл speech.mp3 нижче\\n\\nПро інтернет-видання \"Наша Корюківка\"', 'labels': ['pro-ukrainian', 'pro-russian'], 'scores': [0.5262634754180908, 0.4737365245819092]}, {'sequence': ' До лікарні звернувся житель Кіндійки, котрий вчора потрапив під удар російського дрона. \\n\\n66-річний чоловік дістав мінно-вибухову травму, уламкові поранення руки. Медики його дообстежують та надають необхідну допомогу.', 'labels': ['pro-ukrainian', 'pro-russian'], 'scores': [0.536731481552124, 0.463268518447876]}, {'sequence': '☄️🇷🇺 Кадры боевой работы отряда СпН \"Грачи\" Южной группировки войск при штурме Курахово\\n\\nВ ходе штурма уничтожен опорный пункт 46 оаэмбр ВСУ, подавлены вражеские огневые точки. В ходе стрелкового боя уничтожены десятки украинских боевиков, шестерым повезло - они попали в плен.\\n\\n📱 Южный фронт ', 'labels': ['pro-ukrainian', 'pro-russian'], 'scores': [0.5670157074928284, 0.43298429250717163]}, {'sequence': 'Ситуація наступна 😆 ', 'labels': ['pro-ukrainian', 'pro-russian'], 'scores': [0.5262224674224854, 0.4737774729728699]}, {'sequence': 'Не хотелось вообще эту тему трогать, но бл#ть совсем попутали товарищи из Москвы и попмма Хардкора. Наши пацаны с 810 бригады морской пехоты, кто воевал в Работино, потом давил хохла в Крынках, теперь выбивают  с Курской области, имели неприятный инцидент с Анатолием Сульяновым, руководителем промоушена Хардкор. Человек обещал гуманитарную помощь пацанам, Мавики, РЭБ, авто и прочее. Попросил «досрочно» записать благодарности за якобы доставленную гуманитарную помощь, которая в итоге так и не была доставлена...', 'labels': ['pro-russian', 'pro-ukrainian'], 'scores': [0.5409858822822571, 0.45901408791542053]}, {'sequence': ' ⚡️На территории Херсона🇺🇦 прозвучали мощные взрывы \\n\\nПредварительно удары авиационными бомбами.  \\n\\n@kherson_non_fake', 'labels': ['pro-ukrainian', 'pro-russian'], 'scores': [0.5123559832572937, 0.48764410614967346]}, {'sequence': '🤳 На 70-120 грн зростуть тарифи Vodafone з 24 грудня\\n\\nЗа інформацією самого оператора, здорожчання зачепить 4 тарифи: Joice Start (з 200 до 270), Turbo (зі 180 до 270 грн), Joice Max (із 330 до 450 грн), Joice Pro (з 200 до 270). ', 'labels': ['pro-ukrainian', 'pro-russian'], 'scores': [0.5166053771972656, 0.48339465260505676]}, {'sequence': 'Российские бойцы  сбросом с Мавика зажигательных боеприпасов подожгли украинский опорник в Часов Яре\\n\\nНаши войска в Часов Яре продвинулись от ж/д станции до Днепровского ставка.\\n\\n📱телеграм-канал Херсонский Вестник\\n🌐группа VK Вконтакте ', 'labels': ['pro-russian', 'pro-ukrainian'], 'scores': [0.6101342439651489, 0.3898657560348511]}, {'sequence': 'В ДНР более одной тысячи самозанятых самостоятельно формируют свою пенсию\\n\\nВзносы на обязательное пенсионное страхование — один из механизмов, позволяющих самозанятым обеспечить достойную пенсию, отметили в Отделении Социального фонда России по ДНР. ', 'labels': ['pro-russian', 'pro-ukrainian'], 'scores': [0.6156440377235413, 0.38435596227645874]}, {'sequence': '🟢Соцфонд по ЛНР оплатил более 4 тысяч дополнительных выходных родителям детей с инвалидностью\\n\\n✅Отделение Социального фонда России по Луганской Народной Республике с начала года возместило расходы работодателям по оплате 4045 дополнительных выходных дней для 221 родителя, ухаживающего за детьми с инвалидностью. Всего на это было направлено 13,1 млн рублей.\\n\\n➡️Родители, воспитывающие детей с инвалидностью, имеют право на четыре оплачиваемых дополнительных выходных дня в месяц, которые можно посвятить уходу з...', 'labels': ['pro-russian', 'pro-ukrainian'], 'scores': [0.7685441970825195, 0.23145581781864166]}, {'sequence': 'Я не противник ЛГБТ (і не прихильник 😂) але ці двоє… ', 'labels': ['pro-ukrainian', 'pro-russian'], 'scores': [0.5951146483421326, 0.40488535165786743]}, {'sequence': 'Недавно со мной завели разговор на тему тг-каналов. Тех, которые информируют население, начиная с 2022 года. \\nИ завёл этот разговор \"блогер\", который вернулся в город и начал развивать свою деятельность сравнительно недавно.\\n\\nСудя из разговора, этот человек не знает какую работу проводят админы каналов. А занимаемся мы по сути, одной и той же работой, только на разных площадках и в разных форматах.\\n\\nУ нас состоялся очень длинный разговор...👆👆👆(скрины)\\nДиалог перевела из устной формы в текст.\\n\\nОгромное непон...', 'labels': ['pro-ukrainian', 'pro-russian'], 'scores': [0.5460010766983032, 0.4539988934993744]}, {'sequence': ' lpr 1 (Telegram)\\n\\n🟢 Курская область: внимание! Отбой ракетной опасности.', 'labels': ['pro-russian', 'pro-ukrainian'], 'scores': [0.6522294282913208, 0.3477706015110016]}, {'sequence': '📹Для детей с особыми потребностями доставлены новогодние подарки\\n\\nВоспитанники Центра социальной реабилитации смешанного типа инвалидов и детей-инвалидов в г. Светлодарске получили сладкие подарки к Новому году от международной волонтерской группы \"Москва–Донбасс\". Подарки были вручены в рамках организованного праздника. Кроме того, для нужд Центра и детей доставлены настольные игры, печенье, конфеты, средства гигиены, обувь и многое другое.\\n\\nПодписывайтесь на телеграмм канал Народная милиция ДНР, чтобы уви...', 'labels': ['pro-russian', 'pro-ukrainian'], 'scores': [0.585372805595398, 0.41462722420692444]}, {'sequence': 'Традиционная Архиерейская Рождественская елка для детей в Севастополе\\n\\n07 января в праздник Рождества Христова  дети  получили Рождественский подарок  –  музыкальную Рождественскую сказку». Среди зрителей - ученики воскресных школ севастопольских храмов, дети из многодетных семей, дети-волонтеры, помогающие фронту, дети из семей участников СВО. Вместе с ребятами спектакль смотрели благочинные Центрального, Северного и Херсонесского благочиний, духовенство Севастополя.\\n\\nСовместный   творческий проект Дворца ...', 'labels': ['pro-russian', 'pro-ukrainian'], 'scores': [0.5254606008529663, 0.4745394289493561]}, {'sequence': '❗️ Восстановление жилья является для нас ключевым на долгие годы – Денис Пушилин\\n\\nГлава ДНР подчеркнул, что многое было разрушено не только снарядами, но и «безвременьем» с украинского периода.\\n\\nПри этом он также отметил, что в этом году уже восстановлено 4,5 тысячи домов и 2 тысячи объектов инфраструктуры.\\n\\n@PRO_respubliku ', 'labels': ['pro-ukrainian', 'pro-russian'], 'scores': [0.7683547139167786, 0.23164531588554382]}, {'sequence': '⏺ ВСУ ведут обстрел Волновахского округа в ДНР\\n\\nВСУ атаковали Владимировку в Волновахском округе, сообщают местные жители.\\n\\nОтмечается несколько прилётов в районе населённого пункта и комбината. Боевики ведут обстрел из ствольной артиллерии НАТО калибром 155-мм. Кроме того применяются ударные fpv-дроны, которые направляются исключительно по гражданским, находящимся вблизи линии боевого соприкосновения.\\n\\n🍎Кроме того, под обстрелом остаётся трасса Никольское-Владимировка.\\n\\n⚠️ Подпишись ➡️ Предложи новость ', 'labels': ['pro-russian', 'pro-ukrainian'], 'scores': [0.5245625972747803, 0.47543737292289734]}, {'sequence': 'В НОВЫЙ ГОД с НОВЫМ ДЕТСАДОМ. \\n\\nСегодня открыли новый детский сад в Тарбагатайском районе в поселке Николаевский. 100 малышей со следующей недели  пойдут в красивое светлое здание. Будут работать 4 группы для ребятишек от 2 до 7 лет. В садике есть все для занятия физкультурой, музыкой, творчеством, есть медицинские помещения и пищеблок.\\xa0 \\n\\nПусть у деток будет все хорошо. Чтобы впереди были открыты все дороги. Чтобы в детском саду хорошие воспитатели заряжали знаниями, энергией, любовью, чтобы малыши росли и...', 'labels': ['pro-ukrainian', 'pro-russian'], 'scores': [0.5031757950782776, 0.4968242347240448]}, {'sequence': '🎨✨ Мечтаешь раскрыть свой творческий потенциал? ✨🎨\\n\\nИнститут строительства, архитектуры и ЖКХ открывает запись на подготовительные курсы в ИЗО студию! 💥\\n\\nЗдесь ты сможешь:\\n\\n🎨 - Научиться рисовать, как настоящий мастер;\\n🖌 - Освоить разные художественные техники;\\n🧑\\u200d🎨 - Подготовить портфолио для поступления;\\n🌟 - И просто погрузиться в мир творчества и вдохновения!\\n\\nДля кого?\\n\\n🟠  - Для школьников, мечтающих о творческой карьере;\\n🟠 - Для тех, кто хочет открыть в себе художника;\\n🟠 - Для всех, кто готов творить и ...', 'labels': ['pro-ukrainian', 'pro-russian'], 'scores': [0.5476318001747131, 0.4523681700229645]}, {'sequence': 'Друзья, мы продолжаем наш сбор средств с Владимиром Разиным и Игорем Гомольским  для подразделения специального назначения, действующего на Донецком направлении.\\n\\nБойцы спецназа корректируют огонь артиллерии и авиации, наносят удары по живой силе и технике противника, а также сбивают тяжелые БПЛА ВСУ и уничтожают вышки связи противника.\\n\\nДля более эффективного выполнения боевых задач ребятам необходимы квадрокоптеры и их комплектующие, а также средства индивидуальной защиты.\\n\\nНа видео - деятельность подразд...', 'labels': ['pro-ukrainian', 'pro-russian'], 'scores': [0.5084446668624878, 0.4915553629398346]}, {'sequence': '40 лет служения в священном сане протоиерея Сергия Слободянюка\\n\\n7 января 2025 года исполнилось 40 лет со дня диаконской хиротонии настоятеля храма святителя Николая Чудотворца (с. Малореченское) протоиерея Сергия Слободянюка. \\n\\nС этим знаменательным событием отца Сергия поздравил митрополит Симферопольский и Крымский Тихон. В приветственном адресе, в частности, говорится: \\n\\nВаше Высокопреподобие, дорогой отец Сергий!\\n\\nОт всего сердца поздравляю Вас с годовщиной хиротонии! Прошло 40 лет с того момента, когда...', 'labels': ['pro-russian', 'pro-ukrainian'], 'scores': [0.5657907724380493, 0.43420925736427307]}, {'sequence': '‼️🇺🇦🔥Атакован оборонный завод «Мотор Сич», который Киев продал Китаю, а потом кинул инвесторов\\n▪️Момент прилёта по Запорожью ФАБ с УМПК и последствия публикуют местные СМИ, горят цеха «Мотор Сич».\\n▪️Власти заявили о прилёте по объекту промышленной инфраструктуры.\\n▪️«Мотор Сич» — украинское предприятие, занимающееся разработкой и производством, ремонтом и обслуживанием авиационных газотурбинных двигателей для самолётов и вертолётов, а также промышленных газотурбинных установок.\\n▪️В 2019 г. 50 % акций предпри...', 'labels': ['pro-ukrainian', 'pro-russian'], 'scores': [0.6386715173721313, 0.36132851243019104]}, {'sequence': '❗️Уважаемые жители и гости города Мариуполь❗️\\n\\nВ связи с ремонтно-восстановительными работами 20.09.2024 г. движение трамваев будет временно приостановлено.\\n\\nО дальнейшем восстановлении трамвайного сообщения информация появится на нашем Telegram-канале. ', 'labels': ['pro-ukrainian', 'pro-russian'], 'scores': [0.5697740912437439, 0.4302258789539337]}, {'sequence': ' Здравствуйте, мне посоветовали обратиться к вам! У нас была хорошая знакомая, с Мариуполя Наташа Щетинина, последнее, что знаем ушли в подвал и больше ничего о ней не слышали! Искали с Украины, наши искали , ничего! И вот я решила узнать!', 'labels': ['pro-ukrainian', 'pro-russian'], 'scores': [0.593154788017273, 0.40684521198272705]}, {'sequence': ' А от про цілі по Курщині краще не писати. Бо можна підіграти ворогу.', 'labels': ['pro-ukrainian', 'pro-russian'], 'scores': [0.5457885265350342, 0.4542115330696106]}, {'sequence': '😍😌😌😌\\n\\nДевочки ,приглашаю Вас посетить магазин женской одежды 🖤 LAMA 🖤\\n\\nВ LAMA действует скидка -20%  абсолютно на весь ассортимент 🔥с 10.01 по 20.01 ☝️\\n\\n📍Адрес : г. Мариуполь, \\nмкр Восточный, \\nрынок Киевский (вход со стороны пост охраны)\\nБуду рада каждому 💋\\n\\nПодписывайтесь 👇\\n🖤https://t.me/lama_shop94\\n\\n😍😌😌😌 ', 'labels': ['pro-ukrainian', 'pro-russian'], 'scores': [0.585247278213501, 0.414752721786499]}, {'sequence': 'Что-то уже придумали\\n\\n⛵️Подписаться | Прислать новость ', 'labels': ['pro-russian', 'pro-ukrainian'], 'scores': [0.5013453960418701, 0.49865463376045227]}, {'sequence': ' 📣 Житель Херсонской области избил знакомого, тот скончался в больнице — преступник проведет за решеткой более шести лет\\n\\nВ июле житель Новокаховского округа направился в квартиру родственницы, в которой никто не проживал. В доме нет окон и дверей, поэтому доступ в помещение открыт для посторонних. Мужчина увидел в квартире своего знакомого и в ходе конфликта избил его. Спустя непродолжительное время пострадавший умер в больнице.\\n\\nСледователи СК РФ по Херсонской области установили все обстоятельства преступ...', 'labels': ['pro-russian', 'pro-ukrainian'], 'scores': [0.5207083821296692, 0.4792915880680084]}, {'sequence': 'Резерв спасателей и материалов создан на случай ухудшения обстановки на месте ликвидации последствий разлива мазута \\n\\nВладимир Путин, заслушав доклад министра РФ по делам гражданской обороны, ЧС и ликвидации последствий стихийных бедствий, раскритиковал профильные ведомства за недостаточные усилия по устранению разливов мазута на Кубани. Также Президент поручил организовать штаб по ликвидации разлива нефтепродуктов в Черном море, который бы работал прямо на месте катастрофы и проработать план подъема затону...', 'labels': ['pro-russian', 'pro-ukrainian'], 'scores': [0.6851150393486023, 0.3148849904537201]}, {'sequence': ' ❗️Вот более подробная информация о том, что предполагает военное положение в «днр»: \\n\\n1. Усиливается охрана всех военных, транспортных, коммунальных и других объектов. В общем, все, что важно для ведения обороны и поддержания жизни начнут стеречь, как зеницу ока. Срезать путь мимо забора единственной в городе котельной уже не получится.\\n\\n2. Мирных жителей отселят в безопасные районы. Власти обязаны дать им временное жилье. В законе отдельно прописано, что во время военного положения власти не могут оставит...', 'labels': ['pro-russian', 'pro-ukrainian'], 'scores': [0.5469442009925842, 0.453055739402771]}, {'sequence': 'Фейк: Россия создала план по вывозу детей из новых регионов в специальные милитаристские лагеря, сообщают украинские СМИ. \\n\\nПравда: Бесконечно можно смотреть на то, как украинские пропагандисты в бессильной зависти отслеживают новости о новых патриотических и оздоровительных программах и учреждениях для детей в России. План по их вывозу в военизированные лагеря — это такая интерпретация публикаций о том, что Волгоградский оборонно-спортивный лагерь «Авангард» планирует принять в этом году большее число ребя...', 'labels': ['pro-ukrainian', 'pro-russian'], 'scores': [0.6848037242889404, 0.3151962459087372]}, {'sequence': '❓Кому в ЛНР положен пересмотр пенсии по российскому законодательству?\\n\\n✅Подать заявление на пересмотр могут получатели пенсий по возрасту, в том числе назначенных досрочно, по инвалидности и в случае потери кормильца. \\n\\n👉В 2024 году возраст выхода на пенсию по старости (по федеральному законодательству) составляет: для женщин – 58 лет, для мужчин – 63 года. Для получения страховой пенсии необходимы минимум 15 лет стажа и 28,2 пенсионного коэффициента.\\n\\n📆Пенсии по российскому законодательству пересматривают ...', 'labels': ['pro-russian', 'pro-ukrainian'], 'scores': [0.579516589641571, 0.42048344016075134]}, {'sequence': ' Движение трамваев возобновлено.', 'labels': ['pro-russian', 'pro-ukrainian'], 'scores': [0.5069241523742676, 0.49307581782341003]}, {'sequence': ' Кузьменко владимир викторович  и лилия сергеевна мариуполь\\n\\nТатьяна (#ID6867818699)', 'labels': ['pro-russian', 'pro-ukrainian'], 'scores': [0.5132583379745483, 0.4867416322231293]}, {'sequence': '⚡️😁\"ВСУ нанесли ракетный удар по  окрестностям Таганрога\" - Стрелков. \\n\\nОт Таганрога до позиций ВСУ - около 110 км 🤔 ', 'labels': ['pro-russian', 'pro-ukrainian'], 'scores': [0.5077949166297913, 0.49220505356788635]}, {'sequence': ' У меня пропал Деркач Игорь Викторович 20 июля 1996 когда война была\\n\\nЛюдмила 💋💯💖💋💔 (#ID7572167087)', 'labels': ['pro-russian', 'pro-ukrainian'], 'scores': [0.52143794298172, 0.47856205701828003]}, {'sequence': 'Продолжаем разговор на важные для Донецкой Народной Республики темы в «Воскресном формате».\\n\\n00:13 – О ситуации на передовой и продвижении российских подразделений широким фронтом.\\n\\n02:47 – О гибели военкора Александра Мартемьянова при атаке беспилотника ВФУ.\\n\\n04:41 – О важности прикладной науки для развития Донбасса. Подкаст с ректором Донецкого национального технического университета Александром Яковлевичем Аноприенко.\\n\\n07:30 – О высоких технологиях и IT как перспективных направлениях развития региона и м...', 'labels': ['pro-russian', 'pro-ukrainian'], 'scores': [0.7969465851783752, 0.20305341482162476]}, {'sequence': 'Саня во Флориде (Telegram)\\n\\nКак распространяется огонь в Калифорнии. Им просто с ветром не повезло в этом году. ', 'labels': ['pro-russian', 'pro-ukrainian'], 'scores': [0.5654286742210388, 0.4345713257789612]}, {'sequence': ' ВСЯ СТРАНА ПОД ОБСТРЕЛОМ УЖЕ БОЛЬШЕ 2 ЧАСОВ!', 'labels': ['pro-russian', 'pro-ukrainian'], 'scores': [0.6313315033912659, 0.3686685562133789]}, {'sequence': ' Военкор Котенок (Telegram)\\n\\nСильные взрывы в районе Славянска. Местные паблики сообщают о прилетах ФАБов с УМПК.\\n\\nВКС РФ работают по объектам ВСУ.\\n\\n@voenkorKotenok', 'labels': ['pro-ukrainian', 'pro-russian'], 'scores': [0.512079119682312, 0.4879208207130432]}, {'sequence': ' Движение трамваев возобновлено.', 'labels': ['pro-russian', 'pro-ukrainian'], 'scores': [0.5069241523742676, 0.49307581782341003]}, {'sequence': ' - Володья, дай списать?!\\n- Дональд, только точь-в-точь не списывай!\\n\\nhttps://t.me/auantonov/4013', 'labels': ['pro-ukrainian', 'pro-russian'], 'scores': [0.5440104603767395, 0.4559894800186157]}, {'sequence': 'Сегодня с особой гордостью вручил высокие награды Донецкой Народной Республики медикам, энергетикам, коммунальщикам, водителям, дорожникам, представителям многих мирных профессий, ставших в Донбассе поистине героическими.\\n\\nОколо 80 жителей региона различных профессий были удостоены знака отличия «За заслуги перед Донецкой Народной Республикой» III степени, медали «За храбрость» IV степени, почетных грамот и благодарностей.\\n\\nНаши водители, врачи, медработники, энергетики, коммунальщики, дорожные работники, п...', 'labels': ['pro-russian', 'pro-ukrainian'], 'scores': [0.5928943157196045, 0.4071056544780731]}, {'sequence': '❓Когда семье из ЛНР подать заявление на выплату из маткапитала?\\n\\n✅Материнский капитал можно направить на ежемесячную выплату в любое время, пока ребенку не исполнилось три года.\\n\\n🗓Если оформить выплату в течение 6 месяцев с месяца появления малыша на свет, ее назначат с месяца рождения, если после — с месяца обращения.\\n\\nВыплату устанавливают на 12 месяцев. Чтобы ее продлить, подайте заявление в Отделение Социального фонда России по ЛНР. Это можно сделать в последний месяц действующего назначения или позже.\\n...', 'labels': ['pro-russian', 'pro-ukrainian'], 'scores': [0.5348310470581055, 0.4651690125465393]}, {'sequence': 'Поздравляю сотрудников Донецкого республиканского краеведческого музея с юбилеем. В столетнюю\\xa0 годовщину здесь открыли новую экспозицию, посвященную истории становления региона.\\n\\nСегодня Донецкий краеведческий музей — это значимый научно-исследовательский, культурно-просветительский и методический центр. Большое уважение сотрудникам музея, которые не просто сохранили исторические экспонаты в тяжелые годы, но и приумножили культурное достояние!\\n\\nРад, что 100-летний юбилей мы отмечаем новыми достижениями. Сег...', 'labels': ['pro-russian', 'pro-ukrainian'], 'scores': [0.5747871994972229, 0.4252127707004547]}, {'sequence': ' В Маріуполі лишаються і нормальні люди, тут важливо не рівняти усіх під одну гребінку.', 'labels': ['pro-ukrainian', 'pro-russian'], 'scores': [0.5324268341064453, 0.4675731360912323]}, {'sequence': '🙏💭 ', 'labels': ['pro-russian', 'pro-ukrainian'], 'scores': [0.5166405439376831, 0.4833593964576721]}, {'sequence': '📹FPV-дрон разведки 132 омсбр: попадание прямо в кабину бронеавтомобиля\\n\\nРазведчики 132-й мотострелковой бригады 51 гвардейской армии ВС РФ в очередной раз продемонстрировали свое мастерство в управлении FPV-дронами. Благодаря залету прямо в кабину был уничтожен украинский бронеавтомобиль. \\n\\nПодписывайтесь на телеграмм канал Народная милиция ДНР, чтобы увидеть войну нашими глазами ', 'labels': ['pro-russian', 'pro-ukrainian'], 'scores': [0.6405907869338989, 0.3594092130661011]}, {'sequence': 'Дети, которые остались без родителей, как никто нуждаются в нашей заботе и внимании. Накануне Нового года поздравил маленьких воспитанников Луганского детского дома. Передал для них подарки – книги, развивающие игры, канцелярские принадлежности, а также сладости и фрукты для праздничного стола. \\n\\nВручая подарки, заместитель руководителя Администрации Главы ЛНР Наталья Алексеевна Шкода пообщалась с ребятами. Дети рассказали, что многие из них загадали под Новый год одно и то же желание – чтобы поскорее закон...', 'labels': ['pro-russian', 'pro-ukrainian'], 'scores': [0.5151509046554565, 0.48484906554222107]}, {'sequence': ' Слоны 😍', 'labels': ['pro-ukrainian', 'pro-russian'], 'scores': [0.5964891314506531, 0.40351083874702454]}, {'sequence': 'Мкр.Восточный. Пер. Ровенский. Снос домов. ', 'labels': ['pro-russian', 'pro-ukrainian'], 'scores': [0.5076746344566345, 0.4923253357410431]}, {'sequence': 'Вчера с мужем отмечали годовщину свадьбы в ресторане ⚜️«Империя»⚜️\\nТа, что по Металлургов, 95 (бывш.Клеопатра)\\n\\nСказать что я была приятно удивлена, это ничего не сказать!\\n\\nПотому что мы прекрасно провели время 🥰\\nКухня бомбическая! 😋\\nПерсонал очень вежливый и обходительный ❤️\\nИнтерьер впечатлил, нет ничего лишнего, очень красиво и комфортно 🥰\\n\\nРесторан ⚜️«Империя»⚜️ 👈 рекомендую ✔️\\n\\nВ следующий раз придем компанией петь в караоке 🎙️ А вы знаете, как сильно я люблю петь ☺️\\n\\n@Mariypolina_life ', 'labels': ['pro-ukrainian', 'pro-russian'], 'scores': [0.507554829120636, 0.492445170879364]}, {'sequence': 'Готовы к новым грехам. ', 'labels': ['pro-russian', 'pro-ukrainian'], 'scores': [0.6121582388877869, 0.38784176111221313]}, {'sequence': 'Российская армия обстреляла гражданскую гуманитарную колонну  на выезде из Запорожья\\n\\nЛюди стояли в очереди на выезд на временно оккупированную территорию, чтобы забрать своих родственников, отвезти помощь.\\n\\nЕсть погибшие и раненые. ', 'labels': ['pro-russian', 'pro-ukrainian'], 'scores': [0.521246075630188, 0.47875386476516724]}, {'sequence': '🎄Новый год и Рождество – время волшебства, особенно для детей\\n\\n🎅 И так важно, чтобы это волшебство коснулось каждого ребенка, независимо ни от каких обстоятельств. Рад был подарить  новогоднее чудо двенадцати ребятишкам из Харцызского детского социального центра, организовав с моей командой для них поездку в Москву на праздники. \\n\\n5 января приключение ребят началось с экскурсии по сказочно украшенной ВДНХ, а в рождественский сочельник они побывали на ёлке в волшебном Петровском путевом дворце. Прогулка по К...', 'labels': ['pro-ukrainian', 'pro-russian'], 'scores': [0.5610029697418213, 0.43899697065353394]}, {'sequence': ' Пять мирных жителей пострадали сегодня в результате киевской агрессии.\\n\\nВ Никитовском районе Горловки вследствие применения противником ствольной артиллерии ранения средней степени тяжести получили мужчины 1958 и 1958 г.р.\\n\\nВ Центрально-Городском районе Горловки при сбросах взрывоопасных предметов с беспилотников ВФУ пострадали женщина 1992 г.р. и мужчина 1998 г.р.\\n\\nВ поселке Красное Красноармейского муниципального округа в результате обстрела ранения средней степени тяжести получил мужчина 1969 г.р.\\n\\nВсем...', 'labels': ['pro-russian', 'pro-ukrainian'], 'scores': [0.5361628532409668, 0.4638371467590332]}, {'sequence': 'В Мариуполе мужчина избил до смерти свою сожительницу\\n\\nКак сообщается, между ними возник конфликт, в результате которого он избил женщину по голове и телу. От полученных повреждений она скончалась на месте. \\n\\nВ ближайшее время ему будет предъявлено обвинение и избрана мера пресечения в виде заключения под стражу. \\n\\nПОДПИШИСЬ | МАРИУПОЛЬ ЧП ', 'labels': ['pro-ukrainian', 'pro-russian'], 'scores': [0.5014621019363403, 0.49853792786598206]}, {'sequence': '📹Новые САУ ВС РФ поражают цели на дистанции более 50 километров \\n\\nНа вооружение артиллерийских подразделений ВС РФ в зоне СВО поступают новые 152-мм самоходные артиллерийские установки на колёсном шасси. С применением новых управляемых боеприпасов увеличенной дальности, расчеты САУ способны точечно уничтожать цели противника на дистанции более пятидесяти километров.\\n\\nПодписывайтесь на телеграмм канал Народная милиция ДНР, чтобы увидеть войну нашими глазами ', 'labels': ['pro-russian', 'pro-ukrainian'], 'scores': [0.507561206817627, 0.49243879318237305]}, {'sequence': 'The Economist: США сталкиваются с рисками при продолжении военной помощи Украине\\n\\nСША больше не смогут оказывать Украине военную помощь без принятия серьезных рисков для своей безопасности в других регионах, сообщает The Economist со ссылкой на осведомленные источники.\\n\\nОдин из собеседников издания отметил: «У нас больше нет ресурсов для помощи без значительных рисков в других местах», добавив, что он не уверен, сможет ли Вашингтон обеспечить достаточную поддержку Киеву и наладить необходимое производство в...', 'labels': ['pro-ukrainian', 'pro-russian'], 'scores': [0.6434012055397034, 0.35659879446029663]}, {'sequence': '🚍 Повторный мониторинг санитарно-технического состояния пассажирского транспорта прошёл в Мариуполе \\n\\nВ рамках поручения Главы Республики Дениса Пушилина сотрудники Минтранса ДНР совместно с администрацией города Мариуполя проверили мониторинг техническое и санитарное состояние автобусов, работающих на городских маршрутах, отправляющихся из Мариуполя.\\n\\nВ ходе мероприятия:\\n\\n✅обследовано 10 транспортных средств перевозчиков, обслуживающих маршруты №№3 А, 124, 3Т, 4, 3;\\n\\n⭐️🏅По результатам мониторинга отмечено ...', 'labels': ['pro-ukrainian', 'pro-russian'], 'scores': [0.530223548412323, 0.469776451587677]}, {'sequence': 'На жд вокзале сейчас восстанавливается бывшее здание ж/д поликлиники и вагонное депо\\n\\nПодписаться | Прислать новость ', 'labels': ['pro-russian', 'pro-ukrainian'], 'scores': [0.5659247040748596, 0.4340752363204956]}, {'sequence': '🤣🤣🤣\\n\\n«МАРИУПОЛЬ ПО ФАКТУ 👀» ', 'labels': ['pro-russian', 'pro-ukrainian'], 'scores': [0.6612910628318787, 0.3387089967727661]}, {'sequence': '🔘 ВКС нанесли точный удар по складу ВСУ в Константиновке\\n\\nРоссийские силы нанесли удар по складу 206-го отдельного батальона территориальной обороны Украины в Константиновке.\\n\\nПо сообщению, около 11:00 склад, расположенный на территории металлобазы по улице Шмидта, был поражен авиационными бомбами ФАБ-500. В момент удара происходила выгрузка военной провизии. В результате атаки был поврежден грузовой автомобиль и погрузочно-разгрузочное оборудование.\\n\\nНа данный момент отсутствует информация о точном количес...', 'labels': ['pro-ukrainian', 'pro-russian'], 'scores': [0.506750226020813, 0.493249773979187]}, {'sequence': ' ⚡️Отбой авиационной опасности в Херсонской области — губернатор региона Сальдо', 'labels': ['pro-ukrainian', 'pro-russian'], 'scores': [0.575390100479126, 0.4246099591255188]}, {'sequence': '❗️Уважаемые жители и гости города Мариуполь❗️\\n\\nВ связи с погодными условиями, 04.09.2024 г. движение трамваев приостановлено.\\n\\nО дальнейшем восстановлении трамвайного сообщения информация появится на нашем Telegram-канале. ', 'labels': ['pro-ukrainian', 'pro-russian'], 'scores': [0.5449504852294922, 0.4550494849681854]}, {'sequence': '🟢Соцфонд России по ЛНР с 1 января 2025 года установит доплату к региональным пенсиям \\n\\n✅Региональная доплата устанавливается неработающим пенсионерам при условии, что сумма их пенсии и других материальных мер поддержки не достигает прожиточного минимума пенсионера, в 2025 году в ЛНР – 14 335 рублей. \\n\\nЧто учитывают:\\n🔹пенсию, установленную в соответствии с законодательством ЛНР;\\n🔹дополнительное материальное (социальное) обеспечение;\\n🔹ежемесячную денежную выплату (включая стоимость набора социальных услуг);\\n🔹...', 'labels': ['pro-russian', 'pro-ukrainian'], 'scores': [0.5905371904373169, 0.4094628095626831]}, {'sequence': ' lpr 1 (Telegram)\\n\\nСветлодарск, Мироновский, Луганское меры безопасности', 'labels': ['pro-russian', 'pro-ukrainian'], 'scores': [0.5495871901512146, 0.4504127502441406]}, {'sequence': '16-летний подросток напал на школу в Курске. \\n\\nШкольник в балаклаве и шляпе около 8 утра ворвался в курскую школу №54 и разбил молотком два стекла, одно из которых в двери. Охранник не мог его остановить и нажал тревожную кнопку. Уже через 3 минуты нападавший скрылся, бросив на месте сумку с ножами и воспламеняющейся жидкостью. Через 4 минуты прибыли ЧОПовцы.\\n\\nПодростка уже задержали. Раньше он учился в этой же школе, но сейчас ходит в другую — №40. Предварительно, башню ученику сорвало из-за того, что его ...', 'labels': ['pro-russian', 'pro-ukrainian'], 'scores': [0.5071287155151367, 0.4928712546825409]}, {'sequence': ' ⚡️Трамп надеется остановить украинский конфликт за полгода.\\n\\n«Надеюсь, что за шесть месяцев удастся», заявил Трамп.', 'labels': ['pro-ukrainian', 'pro-russian'], 'scores': [0.6170353889465332, 0.3829646706581116]}, {'sequence': ' Движение трамваев возобновлено.', 'labels': ['pro-russian', 'pro-ukrainian'], 'scores': [0.5069241523742676, 0.49307581782341003]}, {'sequence': '«И хуй бы с ней, с этой Украиной» - добавил Зеленский) ', 'labels': ['pro-ukrainian', 'pro-russian'], 'scores': [0.6126140356063843, 0.38738593459129333]}, {'sequence': '🔘 ВСУ потеряли четверть своей бронетехники в Курской области за месяц боев\\n\\nПо данным объективного контроля, в ходе боевых действий в Курской области были зафиксированы различные типы бронемашин (ББМ), находящихся на вооружении ВСУ, включая Roshel Senator, \"Козак-2\", MRAP Cougar и International MaxxPro. К 2024 году Украина получила до 1000 единиц Roshel Senator, около 100 \"Козак-2\", до 40 MRAP Cougar и до 450 MaxxPro от западных партнеров. Это дало ВСУ около 1600 единиц бронетехники на всех фронтах.\\n\\nОднако...', 'labels': ['pro-ukrainian', 'pro-russian'], 'scores': [0.5245428681373596, 0.4754570722579956]}, {'sequence': ' Ракети - є! 🙏\\nРакетники - красені! 🫶', 'labels': ['pro-ukrainian', 'pro-russian'], 'scores': [0.5190863609313965, 0.4809136986732483]}, {'sequence': '☃️☃️❄️❄️🎄🎄 Организация праздников \"Капелька счастья\"  🎄🎄❄️❄️☃️☃️\\n\\n\\n🥳🥳🥳🥳Наши герои поздравят вас с Новогодними праздниками и не только! 🎉🎉🎉🎉\\n\\n🎈🎉🎈🎉 Поздравляем деток и взрослых с любым торжеством! 🌈🌈🌈🌈\\n\\n❤️❤️❤️❤️ Мы дарим каждый день самые незабываемые впечатления! ❤️❤️❤️❤️\\n\\nПодробнее на нашем Telegram-канале или по телефону:\\n✈️  https://t.me/lisapozdravlenie\\n ☎️ +79495585126 Полина ', 'labels': ['pro-ukrainian', 'pro-russian'], 'scores': [0.546263575553894, 0.45373642444610596]}, {'sequence': 'Хирурги в Скадовске спасли руку от ампутации пациентке с осколочным ранением\\n\\nВрачи Скадовской ЦРБ провели реконструкцию плечевой артерии и вены жительнице Херсонской области — благодаря этому удалось спасти руку женщины от ампутации. У нее диагностировали проникающее осколочное ранение брюшной полости, разрыв мочевого пузыря, осколочное сквозное ранение плеча с разрывом плечевой артерии и плечевой вены. Благодаря работе врачей удалось спасти руку от ампутации. На данный момент пациентка в реанимации, расск...', 'labels': ['pro-ukrainian', 'pro-russian'], 'scores': [0.5285813808441162, 0.4714186489582062]}, {'sequence': 'В Спасо-Преображенском кафедральном соборе Донецка. Рождественское богослужение совершает Митрополит Владимир.\\n\\nС праздником! С Рождеством Христовым!\\n\\n@PushilinDenis ', 'labels': ['pro-ukrainian', 'pro-russian'], 'scores': [0.5837365388870239, 0.4162634611129761]}, {'sequence': 'Листая старенький айпад. \\n\\nРечь Зеленского на Мюнхенской конференции за месяц до начала войны. \\n\\n\"Это просто граждане, настолько доведенные до безумия, что они подрывают сами себя!\" \\n\\nЭто он про Донецк. ', 'labels': ['pro-ukrainian', 'pro-russian'], 'scores': [0.849054217338562, 0.15094581246376038]}, {'sequence': '⛪️ Митрополит Тихон провёл Божественную литургию в Александро-Невском кафедральном соборе\\n\\nВ главной православной святыне Крыма собрались несколько сотен верующих. В праздничный день Рождества Христова они молятся о здоровье близких, о силе и терпении в преодолении трудностей. Рождественская литургия началась ровно в полночь и была возглавлена митрополитом Симферопольским и Крымским Тихоном.\\n\\nБожественная литургия продлилась полтора часа. После неё каждый верующий мог причаститься. Священнослужители объясня...', 'labels': ['pro-ukrainian', 'pro-russian'], 'scores': [0.5288787484169006, 0.4711211919784546]}, {'sequence': 'Уважаемые сотрудники и ветераны МЧС! Примите самые искренние поздравления с профессиональным праздником ‒ Днем спасателя Российской Федерации!\\n\\nВаша профессия – одна из самых сложных. Она ежедневно требует от каждого из вас максимальной концентрации, выдержки и мужества. Рискуя собственной жизнью, в любое время дня и ночи вы приходите на помощь другим, спасая людей от последствий пожаров, техногенных аварий, стихийных бедствий, вражеских обстрелов.\\n\\nБлагодаря вашим оперативным и слаженным действиям этой вес...', 'labels': ['pro-russian', 'pro-ukrainian'], 'scores': [0.8934335112571716, 0.10656651854515076]}, {'sequence': 'Мужчины хотят только одного ', 'labels': ['pro-russian', 'pro-ukrainian'], 'scores': [0.6020978689193726, 0.39790216088294983]}, {'sequence': 'Трогательные кадры: \\n\\nВ Москве раненый на СВО боец почтил память павших воинов у Вечного огня на Могиле Неизвестного Солдата. ', 'labels': ['pro-russian', 'pro-ukrainian'], 'scores': [0.6386582851409912, 0.3613417148590088]}, {'sequence': 'Росреестр опроверг утечку данных из Единого государственного реестра объектов недвижимости (ЕГРН).\\n\\nУточняется, что в настоящее время проводятся дополнительные проверки информации. ', 'labels': ['pro-russian', 'pro-ukrainian'], 'scores': [0.6029967665672302, 0.39700326323509216]}, {'sequence': 'Порция Рождественских веночков 🎄\\n\\n✈️ https://t.me/klever_flowers_mrpl\\n📷 https://instagram.com/klever_flowers.mrpl\\n🧷+79494999949 ', 'labels': ['pro-russian', 'pro-ukrainian'], 'scores': [0.5998332500457764, 0.40016672015190125]}, {'sequence': ' Расскажем подробнее об индивидуальном плане содействия занятости\\n\\nℹ️ Индивидуальный план содействия занятости содержит детализированные сведения о гражданине – от ФИО и страхового номера до желаемого графика работы и возможного размера заработной платы, а также необходимых мероприятий, например, оказание психологической помощи или усиленную подготовку к прохождению собеседований.\\n\\n✍️ Центр занятости формирует индивидуальный план содействия занятости с использованием единой цифровой платформы «Работа в Росс...', 'labels': ['pro-russian', 'pro-ukrainian'], 'scores': [0.7485774159431458, 0.25142255425453186]}, {'sequence': '10732, @Katinakata (#ID5355429221) ', 'labels': ['pro-ukrainian', 'pro-russian'], 'scores': [0.5635018944740295, 0.43649810552597046]}, {'sequence': 'Всем привет 👋\\n\\nСегодня последний день первого месяца лета 🏖️\\n\\nСессию сдала на отлично ☺️\\nDone ✅\\n\\nТеперь, можно отдохнуть и насладиться своей деятельностью сполна 🤗\\nПо идее, теперь меня должно быть много, но это не точно 😄\\n\\nА как ваши дела и как проводите это лето? \\n❤️❤️❤️ ', 'labels': ['pro-russian', 'pro-ukrainian'], 'scores': [0.500582218170166, 0.499417781829834]}, {'sequence': ' ⚡️Ким Чен Ын запретил северокорейцам разводиться и есть хот-доги.\\n\\nЛидер КНДР назвал хот-доги слишком западным блюдом и приравнял его подачу к акту госизмены. Наказанием за приготовление блюда станет отправка в трудовой лагерь.\\n\\nТуда же будут отправлять и семейные пары, которые решили развестись. За расторжение брака пара должна будут отсидеть до шести месяцев. При этом женщинам грозят более длительные сроки.', 'labels': ['pro-ukrainian', 'pro-russian'], 'scores': [0.5076339840888977, 0.4923660159111023]}, {'sequence': 'Дорогие друзья!\\n\\nОт всей души поздравляю вас с наступающим Новым годом и Рождеством Христовым!\\n\\nЭти праздники объединяют нас в желании счастья, мира и благополучия. Я верю, что в Новом году нас ждут новые достижения, успехи и радостные события.\\n\\nЖелаю вам крепкого здоровья, семейного уюта, исполнения желаний и удачи. Пусть предстоящие праздники станут временем счастья, подарят радость общения и душевное тепло в кругу близких людей.\\n\\nС Новым годом и Рождеством Христовым! Желаю новых возможностей и ярких впеч...', 'labels': ['pro-russian', 'pro-ukrainian'], 'scores': [0.914535641670227, 0.08546439558267593]}, {'sequence': 'В Северодонецке строительные компании завершают работы по благоустройству нескольких территорий.\\n\\nВ одном из районов города специалисты компании «СТМ» из Красноярского края установили детский игровой комплекс. Также были проведены работы по установке бордюрного камня, замене асфальта, ремонту тротуаров и внутриквартальных дорог. Для удобства жителей были установлены лавочки и урны.\\n\\nПараллельно работы ведутся ещё на двух площадках, предназначенных для детей.\\n\\nСоздание комфортных условий для жителей Северодо...', 'labels': ['pro-russian', 'pro-ukrainian'], 'scores': [0.7571225762367249, 0.24287746846675873]}, {'sequence': ' 🙏 Ежегодно 6 января православные верующие отмечают Рождественский сочельник — канун Рождества Христова и последний, самый строгий, день Рождественского поста.\\n\\n✨ История и традиции праздника\\nВ IV–VI веках, после того как Рождество и Богоявление окончательно разделились на два отдельных богослужения, православная церковь начала отмечать Рождественский сочельник. В последующие столетия были созданы песнопения, которые поются во время этого праздника и сегодня.\\nНазвание «сочельник» происходит от слова «сочиво...', 'labels': ['pro-russian', 'pro-ukrainian'], 'scores': [0.5512114763259888, 0.44878849387168884]}, {'sequence': ' lpr 1 (Telegram)\\n\\nРСЗО на Кременная', 'labels': ['pro-russian', 'pro-ukrainian'], 'scores': [0.5021353363990784, 0.49786463379859924]}, {'sequence': 'В «днр» сегодня начался референдум. \\n\\nВот так сегодня проходит голосование в Донецке, на дому, пишут на коленках и под вооруженной охраной ', 'labels': ['pro-ukrainian', 'pro-russian'], 'scores': [0.5132781267166138, 0.4867219030857086]}, {'sequence': '❓Как индивидуальному предпринимателю получить право на оплату больничного в 2025 году?\\n\\n✅Индивидуальные предприниматели (ИП) тоже могут получать пособия по временной нетрудоспособности и в связи с материнством.\\n\\nЧтобы иметь такое право в 2025 году, нужно до 31 декабря 2024 года: \\n🔹вступить в добровольные правоотношения с Отделением Социального фонда России по ЛНР;\\n🔹заплатить страховой взнос.\\n\\n👉Оформить заявление на добровольные правоотношения можно в клиентской службе Соцфонда или на портале госуслуг.\\n\\nРазм...', 'labels': ['pro-russian', 'pro-ukrainian'], 'scores': [0.5542247891426086, 0.4457751512527466]}, {'sequence': 'Исполнил мечты юных жителей республики в рамках всероссийской акции «Елка желаний». Помимо спортивных подарков, о которых мечтали Дима, Кира и Василиса, вручил детям сладкие наборы. Стал Дедом Морозом и для их братьев и сестер, которым подарил игрушки, акварельный набор для рисования и планшет. \\n\\nНаходясь в Москве, снял с «Елки желаний», установленной в Большом Кремлевском дворце, еще три шарика с пожеланиями детей из нашей республики. Сегодня вручил четырнадцатилетнему Ростиславу и тринадцатилетней Дарье т...', 'labels': ['pro-russian', 'pro-ukrainian'], 'scores': [0.5598090291023254, 0.44019100069999695]}, {'sequence': '❓Может ли отец ребенка с инвалидностью досрочно выйти на страховую пенсию в 55 лет? \\n \\n✅Отделение Социального фонда России по ЛНР напоминает, что право на досрочную пенсию появляется у папы ребенка-инвалида в 55 лет при условии воспитания этого ребенка до 8-летнего возраста.\\n\\n🔹Чтобы воспользоваться льготой, папа должен иметь стаж 20 лет и индивидуальный пенсионный коэффициент (ИПК) не менее 30.\\n\\n🔹Досрочно выйти на страховую пенсию может только один из родителей, например сначала мама, а потом папа.\\n\\n🔹Период...', 'labels': ['pro-russian', 'pro-ukrainian'], 'scores': [0.5147828459739685, 0.48521721363067627]}, {'sequence': '❓Куда жителям ЛНР подать заявление для получения единовременного пособия при рождении ребенка?\\n\\n➡️Если оба родителя трудоустроены, то один из них может обратиться за пособием к работодателю. \\n\\n➡️Если в семье работает один из родителей, он пишет заявление на пособие работодателю.\\n\\n➡️Если оба родителя ребенка не работают, маме или папе нужно подать заявление:\\n\\n🔹 в клиентской службе Социального фонда;\\n🔹в МФЦ;\\n🔹на портале госуслуг.\\n\\n❗️Заявление следует подать в течение 6 месяцев с момента рождения ребенка.\\n\\n🔗Ад...', 'labels': ['pro-ukrainian', 'pro-russian'], 'scores': [0.5191430449485779, 0.4808570146560669]}, {'sequence': ' Подписал указ «О запрете на продажу и использование пиротехнических изделий на территории Луганской Народной Республики в период военного положения».\\n\\nОн стал результатом коллегиального решения, которое представители всех силовых ведомств региона приняли на заседании Штаба обороны ЛНР. Использование пиротехники может стать серьезной угрозой общественной безопасности, тем более в период продолжающихся боевых действий и возможных атак со стороны противника.\\n\\nЗнаю, что во время новогодних праздников и школьны...', 'labels': ['pro-russian', 'pro-ukrainian'], 'scores': [0.5233690738677979, 0.47663089632987976]}, {'sequence': 'Александр Семченко (Telegram)\\n\\n🥴 Президент Литвы назвал Калининград исторически литовским городом.\\n\\nГитанас Науседа воспринял слишком близко к сердцу решение переименовать музей литовского поэта в посёлке Чистые пруды. Он обвинил власти Калининградской области в попытке переписать историю и замечтался о кусочке Калининградской области под названием «Караляучюс».\\n\\nРанее Польша официально переименовала Калининград в Крулевец. А в Эстонии его назвали Кенигсбергом\\n\\nТелеграм-канал Александр Семченко ', 'labels': ['pro-russian', 'pro-ukrainian'], 'scores': [0.535176157951355, 0.4648239016532898]}, {'sequence': 'Тоже чтоли плаксивый пост накатать) ', 'labels': ['pro-russian', 'pro-ukrainian'], 'scores': [0.5609735250473022, 0.43902653455734253]}, {'sequence': 'Друзья, повторно обращаюсь к вам за помощью для своего друга, который медленно слепнет 😔\\nДиагноз: катаракта обоих глаз...\\n\\nСпасёт ситуацию элементарная замена хрусталиков.\\n\\nПодробности в первой публикации: \\nhttps://t.me/Mariypolina_life/493?single\\nПока, удалось собрать всего 3300 руб, которые я сегодня перевела Владимиру.\\n\\nЕсли у вас есть возможность помочь, не проходите мимо 🙏 Сегодня помогаете вы, а завтра помогут вам.\\nНе обязательно переводить много, можно 50,100 руб. И постепенно, у нас с вами получится...', 'labels': ['pro-russian', 'pro-ukrainian'], 'scores': [0.5289337635040283, 0.47106626629829407]}, {'sequence': 'В Херсонской области провели блиц-турнир по мини-футболу для полицейских\\n\\nВ Геническе прошел турнир по мини-футболу. Участие в нем приняли пять команд, в состав которых вошли  сотрудники оперативных подразделений ГУ МВД России по Херсонской области и ОМВД России «Генический».\\n\\nТурнир по мини-футболу стал возможностью для полицейских показать высокий уровень подготовки и командный дух. Победу одержала команда из Геническа, серебро забрали сотрудники уголовного розыска, бронзу — команда Центра по противодейст...', 'labels': ['pro-russian', 'pro-ukrainian'], 'scores': [0.5208153128623962, 0.47918465733528137]}, {'sequence': 'Единственное, что в этом мире работает стабильно. ', 'labels': ['pro-russian', 'pro-ukrainian'], 'scores': [0.567932665348053, 0.4320673644542694]}, {'sequence': ' Харьков полностью обесточен после ударов по критической инфраструктуре \\n\\nОб этом сообщил Терехов.', 'labels': ['pro-russian', 'pro-ukrainian'], 'scores': [0.5219281911849976, 0.47807180881500244]}, {'sequence': ' Дорогие дамы!\\nХочу с вами поделиться ситуацией, которая произошла со мной на этих выходных, и дать вам совет☝🏼\\nКогда пересекаете пункт-пропуска в Весёло-Вознесенске, проследите чтобы ваш макияж обязательно соответствовал тому, который в вашем паспорте. Потому что к вам могут возникнуть вопросы от сотрудников проверяющих ваши документы.\\n\\nСитуация следующая... при проверке моего паспорта, оказалось, что на фотографии, по словам сотрудницы, было совсем другое лицо. А причина в том, что по мнению сотрудницы, в...', 'labels': ['pro-russian', 'pro-ukrainian'], 'scores': [0.5102761387825012, 0.4897238612174988]}, {'sequence': 'Свое 50-летие сегодня отмечает настоятель храма Иоанна Предтечи с. Первомайское Кировского района Виталий Рева. С юбилеем отца Виталия поздравил митрополит Симферопольский и Крымский Тихон: \\n\\nВаше Высокопреподобие, дорогой отец Виталий!\\n\\nПримите мои искренние поздравления с юбилеем — 50-летием со дня Вашего рождения!\\n\\nВы посвятили всю свою жизнь служению Христу и Его Святой Церкви, укреплению в сердцах людей православной веры. Молитвенно желаю Вам, отец Виталий, крепости духовной и телесной, благоденствия, ...', 'labels': ['pro-russian', 'pro-ukrainian'], 'scores': [0.5944311022758484, 0.4055689573287964]}, {'sequence': ' Помогите в поисках брата, Экзархо Александр Геннадьевич 1983г рождения. 12.08.2024г вышел из дома и не вернулся. Если кто-то что-то знает или видел его сообщите.\\n\\nКатя (#ID5795331089)', 'labels': ['pro-ukrainian', 'pro-russian'], 'scores': [0.5527113676071167, 0.4472886323928833]}, {'sequence': ' Свині підняти в повітря два ТУ-95.\\n\\nКучма, піздуй збивай ракети разом з Тимошенко', 'labels': ['pro-ukrainian', 'pro-russian'], 'scores': [0.5488505959510803, 0.4511494040489197]}, {'sequence': '⁉️ Как Николай Моргунов возглавил луганский Северодонецк\\n\\nВ 2010 году я стал мэром шахтёрской Брянки – города с непростой судьбой и сильным характером. Все те трудности, с которыми сталкивались шахтёрские города Украины, мы ощутили на себе. Русская весна стала для меня точкой невозврата – моментом, когда всё изменилось.\\n\\nКогда началась СВО, я почти подал заявление об уходе, чтобы отправиться на фронт. Мне было тяжело, особенно когда не возвращались домой те, с кем я учился в школе, мои родные и близкие. На ...', 'labels': ['pro-russian', 'pro-ukrainian'], 'scores': [0.6412412524223328, 0.35875874757766724]}, {'sequence': '❗️Уважаемые жители и гости города Мариуполь❗️\\n\\nВ связи с аварийным отключением напряжения 28.11.2024 г. движение трамваев временно приостановлено.\\n\\nО дальнейшем восстановлении трамвайного сообщения информация появится на нашем Telegram-канале. ', 'labels': ['pro-ukrainian', 'pro-russian'], 'scores': [0.5584275126457214, 0.44157251715660095]}, {'sequence': '🎄 Фонд «Ридовка Помогает!» и СГМУ организовали новогодние мероприятия для детей из Лисичанска.\\n\\nВ канун Нового года они поздравили учащихся школы №2, где дети подготовили выступления для Деда Мороза и получили сладкие подарки, а за лучшие – дополнительные презенты.\\n\\nОколо палатки фонда звучала музыка и новогодние стихотворения. Дед Мороз и Снегурочка водили хоровод, слушали стихотворения и разгадывали загадки, а также дарили подарки.\\n⚠️Новости Треугольника ', 'labels': ['pro-ukrainian', 'pro-russian'], 'scores': [0.6007177829742432, 0.3992822468280792]}, {'sequence': 'Два новых подразделения МЧС открыли в Республике совместно с главой МЧС России генерал-лейтенантом Александром Куренковым, замминистра МЧС генерал-полковником Виктором Яцуценко, начальником Главного управления МЧС России по ДНР генерал-лейтенантом внутренней службы Алексеем Кострубицким.\\n\\nЭто пожарно-спасательная часть в городе Комсомольское и отдельный пост 27-й пожарно-спасательной части в Приморском районе Мариуполя.\\n\\nОбъекты, восстановленные в рамках специального инфраструктурного проекта, позволят опер...', 'labels': ['pro-russian', 'pro-ukrainian'], 'scores': [0.504974365234375, 0.495025634765625]}, {'sequence': ' Александр Семченко (Telegram)\\n\\n‼️В Стамбуле обвинили местного патриарха Варфоломея в мировой дестабилизации\\n\\nКак сообщила бывший депутат Сербской Скупщины Драгана Трифрович, Активисты турецкой партии «Родина» провели массовый митинг против Стамбульского Патриарха Варфоломея. Лидер местного отделения партии Окан Озган заявил, что тот систематически нарушает турецкие законы и вмешивается в международные дела.\\n\\nВ частности, Варфоломей берет на себя слишком много полномочий, занимаясь политической деятельность...', 'labels': ['pro-ukrainian', 'pro-russian'], 'scores': [0.5465046763420105, 0.4534953534603119]}, {'sequence': 'Украинские силы продолжают добиваться впечатляющих успехов в Херсонской области и неуклонно снижают моральный дух и боевые возможности российских войск в этом районе, - ISW ', 'labels': ['pro-ukrainian', 'pro-russian'], 'scores': [0.6284140944480896, 0.3715859055519104]}, {'sequence': 'С Андреем Травниковым подписали соглашение о торгово-экономическом, научно-техническом, социальном и культурном сотрудничестве между Правительством Донецкой Народной Республики и Правительством Новосибирской области.\\n\\nЭтот регион помогает нам уже не первый год. Оказывают помощь в восстановлении многоквартирных домов через подрядную организацию «Единый заказчик», что очень важно для жителей региона.\\n\\nВ этом году, как и в прошлые годы, в Новосибирской области был организован полноценный отдых для наших детей....', 'labels': ['pro-russian', 'pro-ukrainian'], 'scores': [0.5426353812217712, 0.457364559173584]}, {'sequence': '❗️Уважаемые жители и гости города Мариуполь❗️\\n\\nС 26.10.2024 г. изменяется расписание городских автобусных маршрутов:\\n• №2 «ул. Семененко - пос. Моряков»;\\n• №5 «ул. Семененко - с. Ильичевское»;\\n• №13 «ул. Семененко - кв-л Азовье». ', 'labels': ['pro-ukrainian', 'pro-russian'], 'scores': [0.5241207480430603, 0.4758791923522949]}, {'sequence': 'Первый день Нового года посчитал правильным начать с общения с главными героями наших дней. Поздравил ребят из 9 отдельной гвардейской мотострелковой бригады. Привез мандарины — их запах и вкус с детства сопровождают новогодний праздник. \\n\\nОтветил на вопросы — они касались гражданских и бытовых дел. Видно, что ребята стремятся к скорейшей победе и мирной жизни. И темы обсуждали мирные: демография, ипотека, о том, какую стройку начинаем в Донецке и Макеевке. Конечно, поговорили и о льготах участникам и ветер...', 'labels': ['pro-ukrainian', 'pro-russian'], 'scores': [0.6414172649383545, 0.3585827648639679]}, {'sequence': '📹 Разрушение позиций ВСУ операторами дронов ооСпН \"ОХОТНИК\"\\n\\nОператоры дронов гвардейского отдельного отряда специального назначения \"ОХОТНИК\" 51-й гвардейской армии ВС РФ успешно провели операцию, в ходе которой позиции ВСУ были превращены в щепки. Уничтоженные позиции теперь не годятся для оборонительных действий, что значительно снижает боеспособность противника в данной области. Этот успех подчеркивает высокую эффективность использования современных технологий и стратегий на поле боя.\\n\\nПодписывайтесь на...', 'labels': ['pro-russian', 'pro-ukrainian'], 'scores': [0.6298509836196899, 0.37014898657798767]}, {'sequence': \"«В 2024 году во Франции обанкротились почти 64 500 компаний, что является самым высоким уровнем с 2009 года. Только в 3 квартале зарегистрировано 13 035 банкротств», — сообщает BPCE L'Observatoire. \\n\\nНаибольшее количество банкротств пришло на малый и средний бизнес. \\n\\nПри этом Франция не подвергается международным санкциям, как Россия. \", 'labels': ['pro-russian', 'pro-ukrainian'], 'scores': [0.6947845816612244, 0.30521538853645325]}, {'sequence': '❗️Практически во всех отделениях МФЦ ЛНР можно оформить карту Т-Банка\\n\\nКарту Т-Банка теперь можно оформить во всех отделениях МФЦ ЛНР, кроме 👇\\n\\n👉 отделение МФЦ ЛНР г. Лисичанска,\\n\\n👉 отделение МФЦ ЛНР г. Северодонецка,\\n\\n👉 отделение МФЦ ЛНР г. Рубежное.\\n⚠️ Новости Треугольника ', 'labels': ['pro-russian', 'pro-ukrainian'], 'scores': [0.501057505607605, 0.4989425241947174]}, {'sequence': 'Правительство РФ утвердило Стратегию пространственного развития страны до 2030 года, особое место в которой отведено комплексному развитию Приазовья.\\n\\nВ документе ставится задача к 2028 году сформировать единое экономическое пространство Приазовья для развития туристско-рекреационного кластера. Это значит, что в Республику будут направлены дополнительные ресурсы на восстановление.\\n\\nВ рамках реализации Стратегии планируется построить кольцевую автодорогу вокруг Азовского моря, ставшего внутренним морем Росси...', 'labels': ['pro-russian', 'pro-ukrainian'], 'scores': [0.6881429553031921, 0.31185704469680786]}, {'sequence': ' Байден оголосив про виділення Україні майже $2,5 мільярдів військової допомоги, — Білий дім', 'labels': ['pro-ukrainian', 'pro-russian'], 'scores': [0.684940755367279, 0.31505921483039856]}, {'sequence': '🍾\\n\\n✈️ https://t.me/klever_flowers_mrpl\\n📷 https://instagram.com/klever_flowers.mrpl\\n🧷+79494999949 ', 'labels': ['pro-ukrainian', 'pro-russian'], 'scores': [0.5194455981254578, 0.480554461479187]}, {'sequence': 'Умеем радовать доставкой не только женщин! В этот раз и мужчине перепало) \\n\\nБокс для дорогого друга! С дизайнерской бутылкой🍀\\n\\n\\n\\n✈️ https://t.me/klever_flowers_mrpl\\n📷 https://instagram.com/klever_flowers.mrpl\\n🧷+79494999949 ', 'labels': ['pro-russian', 'pro-ukrainian'], 'scores': [0.5345798134803772, 0.465420126914978]}, {'sequence': '😃😁🤠 Сейчас мы находимся на экваторе серии выпусков «ИТОГИ ГОДА» от Молодёжки Народного фронта. 🎄\\n\\n⏺Ребятами проделали огромную работу там, где жизнь и здоровье наших граждан находились под угрозой. Благодаря сплочённой командной работе снегири оказывали людям необходимую помощь и поддержку.\\n\\nВсе подробности уже в нашем ролике! 🙃 ', 'labels': ['pro-ukrainian', 'pro-russian'], 'scores': [0.5348130464553833, 0.4651870131492615]}, {'sequence': 'Сегодня свой профессиональный праздник отмечают российские спасатели – люди, которые делами доказывают: ради сохранения человеческих жизней невозможного нет. \\n\\nПри вражеских обстрелах, на пожарах, во время аварийных ситуаций на угольных предприятиях и ДТП в этом году сотрудниками МЧС России в Донецкой Народной Республике спасены 562 человека, из них 39 детей.\\n\\nВсе помнят, какие летом и ранней осенью из-за жары и порывов ветра бушевали пожары, доходило до 200 возгораний ежедневно. Личный состав справился с с...', 'labels': ['pro-russian', 'pro-ukrainian'], 'scores': [0.9675160646438599, 0.03248392418026924]}, {'sequence': ' ❗️Хакеры сообщили об утечке данных россиян из базы Росреестра.\\n\\nВзломщики заявляют, что якобы получили доступ к двум миллиардам строк, содержащих ФИО, электронную почту, номер телефона, адрес проживания, паспортные данные, СНИЛС и место работы. \\n\\nТак же пользователи сообщают о сбоях в работе «Реестра блогеров» от Роскомнадзора.\\n\\nПри переходе на сайт открывается пустое окно.', 'labels': ['pro-russian', 'pro-ukrainian'], 'scores': [0.6468058228492737, 0.3531942069530487]}, {'sequence': 'Подобрала серию интересных картинок, которые всецело описывают современную психотерапию и отношения между психологом и клиентом 😊\\n\\n• Согласны? Опишите иллюстрации, что они лично для вас означают?\\n\\n• Был ли у вас опыт общения с психологом (консультация/сессия) и какое после этого у вас осталось впечатление? Если небыло этого опыта, хотели бы посетить специалиста? Почему?\\n\\n• Как вы считаете, имеет ли значение наличие диплома об образовании практического психолога или же достаточно пройти платные курсы по псих...', 'labels': ['pro-ukrainian', 'pro-russian'], 'scores': [0.5352823734283447, 0.46471768617630005]}, {'sequence': 'Настроение праздника в кафедральном Александро-Невском соборе на фото Станислава Ефимова. ', 'labels': ['pro-ukrainian', 'pro-russian'], 'scores': [0.5055459141731262, 0.494454026222229]}, {'sequence': ' lpr 1 (Telegram)\\n\\nКонстантиновка запуски РСЗО', 'labels': ['pro-russian', 'pro-ukrainian'], 'scores': [0.5930875539779663, 0.4069124758243561]}, {'sequence': ' Городские автобусные маршруты №3, 9 возобновляют свои схемы движения в прямом и обратном направлении по ул. 50 лет СССР.', 'labels': ['pro-russian', 'pro-ukrainian'], 'scores': [0.6226800084114075, 0.3773200511932373]}, {'sequence': ' Добрый день! Ищу Бродовскую Лидию Ивановну. Женщина около 80 лет. До боевых действий проживала на Кирова во дворе за Орбитой. Пела в народном ансамбле в ДК Металлургов. Если кто-то её знает, напишите, пожалуйста, в личку.\\n\\nЯна (#ID5043330597)', 'labels': ['pro-russian', 'pro-ukrainian'], 'scores': [0.5539160966873169, 0.4460838735103607]}, {'sequence': '«музыка», 1997 г.\\n\\nхудожник: Максим Цагараев ', 'labels': ['pro-russian', 'pro-ukrainian'], 'scores': [0.5437792539596558, 0.45622071623802185]}, {'sequence': 'В рейтинге пенисов Украина обошла Россию.\\nУкраина — на 62 месте со средним показателем 14,20 см, Россия - на 67 месте со средним показателем 14,16 см, что немного превышает средние мировые показатели 13,91 см. Лидер рейтинга — Судан (17,95 см). Аутсайдер — Таиланд (9,43 см). ', 'labels': ['pro-russian', 'pro-ukrainian'], 'scores': [0.5031086802482605, 0.4968912601470947]}, {'sequence': 'Уважаемые работники и ветераны энергетической отрасли! Поздравляю вас с профессиональным праздником – Днем энергетика!\\n\\nВаша работа очень важна для региона, потому что напрямую влияет на качество жизни людей. Вы трудитесь для того, чтобы в их домах всегда было тепло, светло и уютно. Кроме того, стабильное энергоснабжение – фундамент всей экономики региона, один из самых главных факторов его успешного развития. \\n\\nМногим из вас приходится работать в сложных, а иногда и экстремальных условиях. Вы рискуете здор...', 'labels': ['pro-russian', 'pro-ukrainian'], 'scores': [0.6196377873420715, 0.38036221265792847]}, {'sequence': 'Добрый день, земляки!\\n\\nПосмотрите интервью Юрия Петровича Трутнева телеканалу «Россия-24». Он подводит итоги 2024 года и рассказывает, как будет развиваться Дальний Восток.\\nВы знаете сколько поддержки получает Бурятия от Юрия Петровича по всем дальневосточным мерам. \\n\\nИ сейчас он акцентирует внимание на экономическом развитии макрорегиона, социальной сфере, энергетике, туризме.\\n\\nФактически подчеркивается национальный приоритет развития Дальнего Востока, несмотря на все вызовы. ', 'labels': ['pro-russian', 'pro-ukrainian'], 'scores': [0.8153052926063538, 0.18469473719596863]}, {'sequence': 'Лучший подарок на Новый год! ', 'labels': ['pro-russian', 'pro-ukrainian'], 'scores': [0.6704426407814026, 0.3295573890209198]}, {'sequence': 'Поверка и замена приборов учета воды!\\n\\nВыдаем полный пакет документов для регистрации в горводоканале, предписания брать не нужно!\\nТак же, производим весь спектр сантехнических услуг, любой сложности!\\nОфициальная компания, зарегистрированная в ГОС реестре АРШИН!\\nВремя работы:\\nПн-сб с 8-18.00\\n\\n+7 (949) 831-15-36\\n+7 (949) 831-15-32 ', 'labels': ['pro-russian', 'pro-ukrainian'], 'scores': [0.577684760093689, 0.42231518030166626]}, {'sequence': 'История новогодней игрушки — маленький Дед Мороз\\n\\nМаленький Дед Мороз — это не просто елочная игрушка, а настоящее семейное сокровище подписчика «Главное в Херсоне и области». Эту игрушку когда-то купили его бабушка и дедушка, чтобы украсить свою первую семейную елку. Дед Мороз, хоть и был совсем крохотным, стал символом праздника и волшебства в их доме.\\n\\nКогда бабушка передала игрушку следующему поколению, она рассказала, как в их юности этот Дед Мороз олицетворял надежду на счастье и благополучие. С годам...', 'labels': ['pro-ukrainian', 'pro-russian'], 'scores': [0.5864830613136292, 0.4135168790817261]}, {'sequence': ' Мирошниченко Валентина,фото нет,до СВО жила в Мариуполе ул.Кальмиусская,д96 или 98 недалеко от церкви на Новосёловке,двое детей Виталик и Ира,бывший муж Миша\\n\\nОксана (#ID5416309722)', 'labels': ['pro-ukrainian', 'pro-russian'], 'scores': [0.5225988626480103, 0.47740107774734497]}, {'sequence': 'Унюхал новости про члены аж из Днепропетровска 👀😅 ', 'labels': ['pro-ukrainian', 'pro-russian'], 'scores': [0.7082637548446655, 0.29173627495765686]}, {'sequence': ' ❗️За минувшие сутки русская ПВО сбила управляемую авиационную бомбу Hammer, 14 реактивных снарядов HIMARS и 71 БПЛА самолетного типа — Минобороны РФ', 'labels': ['pro-russian', 'pro-ukrainian'], 'scores': [0.6011776328086853, 0.3988223075866699]}, {'sequence': '📹Уничтожение огневой позиции и пункта управления БПЛА противника\\n\\nКубанские артиллеристы 238 артиллерийской бригады, совместно с расчётом БПЛА 346 отдельной бригады СпН, успешно обнаружили и уничтожили закрытую огневую позицию 120-мм миномёта ВСУ, а также пункт управления БПЛА противника в населённом пункте Дачное. Огневое поражение было нанесено с применением орудия Мста-Б, что продемонстрировало высокую эффективность взаимодействия между артиллерийским и разведывательным подразделением ВС РФ.\\n\\nПодписывайт...', 'labels': ['pro-russian', 'pro-ukrainian'], 'scores': [0.6967176795005798, 0.3032822608947754]}, {'sequence': ' ,помогите найти Вороновский Богдан Русланович 24.11.95г.р ищет бабушка\\n\\nИра (#ID6290428775)', 'labels': ['pro-ukrainian', 'pro-russian'], 'scores': [0.5646013021469116, 0.4353986382484436]}, {'sequence': 'Руководителем Представительства Российской академии наук в Донецкой Народной Республике утверждена ректор Донецкого государственного университета, доктор физико-математических наук Светлана Беспалова. Такое решение принял Президиум РАН. Поздравляю Светлану Владимировну!\\n\\nЭто значимое решение для всей Республики. Перед нами стоят важные задачи возрождения и наращивания научного потенциала, развития прикладной науки в регионе. Это нужно для восстановления экономики и промышленности, создания высокотехнологичн...', 'labels': ['pro-russian', 'pro-ukrainian'], 'scores': [0.5844135284423828, 0.4155864715576172]}, {'sequence': 'Партия стаканчиков Для Старого-Нового заведения нашего города 💃\\nЗавтра 25.12 Crazy Maam снова открывает свои двери 🎤\\n\\n\\n✈️ https://t.me/klever_flowers_mrpl\\n📷 https://instagram.com/klever_flowers.mrpl\\n🧷+79494999949 ', 'labels': ['pro-ukrainian', 'pro-russian'], 'scores': [0.5051121115684509, 0.4948878586292267]}, {'sequence': 'Снос домов на АС-2 ', 'labels': ['pro-russian', 'pro-ukrainian'], 'scores': [0.5497255921363831, 0.45027434825897217]}, {'sequence': 'Украина потеряла два F-16 за один день: детали увольнения командующего ВВС Олещука\\n\\nГлавная причина увольнения командующего Воздушными силами Украины Николая Олещука стала известна: страна потеряла не один, а два истребителя F-16, предоставленных Западом. Эти потери, наряду с ещё двумя советскими самолетами, произошли во время массированной российской атаки, что вызвало резонанс среди военного руководства Украины и НАТО.\\n\\nНедавняя отставка командующего ВВС Украины Николая Олещука оказалась связана с крупным...', 'labels': ['pro-russian', 'pro-ukrainian'], 'scores': [0.6388360857963562, 0.3611638844013214]}, {'sequence': 'Во Львове из-за отсутствия электроэнергии временно приостановлена работа ТЭЦ \\n\\nГорячая вода не подается, часть города без электроэнергии, не работает треть светофоров, сообщил Садовой. ', 'labels': ['pro-ukrainian', 'pro-russian'], 'scores': [0.5190607309341431, 0.4809392988681793]}, {'sequence': ' Ищу - Фетисова ( Буга - девичья) Галина Анатольевна 3 апреля 1959 года\\n\\nНаталья Сафонова, @zmejchonok (#ID5342129937)', 'labels': ['pro-russian', 'pro-ukrainian'], 'scores': [0.5390303134918213, 0.46096962690353394]}, {'sequence': ' Кисиленко Татьяна Александровна 21.02.1967\\nУбита 13.03.2022\\nДали номер захоронения 123\\nПохоронили 17.03.2022\\nНо на каком кладбище не сказали\\nПомогите найти пожалуйста\\nГ Мариуполь\\nМама  Татьяны старенькая\\nЕй 78 лет\\nЯ в Москве\\nВ августе приезжали искали на старокрымском но не нашли\\n\\nЛюдмила Глущенко (#ID6210338123)', 'labels': ['pro-ukrainian', 'pro-russian'], 'scores': [0.6448296904563904, 0.3551703095436096]}, {'sequence': ' Актуальная контактная информация:\\n\\n+7 (949) 574-46-11 - МУП АГМ «Мариупольтранс»', 'labels': ['pro-ukrainian', 'pro-russian'], 'scores': [0.5608166456222534, 0.4391833543777466]}, {'sequence': '📆 Сохраняем: календарь выходных и праздников на 2025 год\\n\\n📌Следующие длинные выходные, после новогодних, ожидаются в мае — с 1 по 4 и с 8 по 11 числа😩\\n⚠️ Новости Треугольника ', 'labels': ['pro-russian', 'pro-ukrainian'], 'scores': [0.5196464657783508, 0.48035359382629395]}, {'sequence': 'Дорогие симферопольцы и гости нашего города! \\n\\n📔Мы рады видеть вас в новом Литературном кафе при Александро-Невском кафедральном соборе! \\n\\nПриглашаем насладиться уютной обстановкой, изысканным кофе и качественными кондитерскими изделиями из натуральных продуктов!🍰☕\\n\\n🕖Время работы кафе:\\nежедневно с 08:00 до 19:00. ', 'labels': ['pro-russian', 'pro-ukrainian'], 'scores': [0.5535122752189636, 0.4464877247810364]}, {'sequence': ' В ходе «Прямой линии» Владимир Путин подтвердил масштабные планы восстановления Донбасса. \\n\\nОтвечая на вопрос о планах развития Донбасса и Новороссии, Президент сообщил, что будет продолжена программа восстановления жилья, жилищно-коммунального хозяйства и социальных объектов воссоединенных регионов. Она обеспечена федеральным финансированием до 2030 года. \\n\\nВладимир Путин сообщил, что в течение трех лет вся дорожная сеть ДНР будет приведена в нормативное состояние в соответствии с российскими стандартами ...', 'labels': ['pro-russian', 'pro-ukrainian'], 'scores': [0.8286443948745728, 0.17135556042194366]}, {'sequence': 'Уважаемые земляки, в этому году первой в Бурятии родилась девочка! \\n\\nМалышка появилась на свет 1 янвapя в 00 ч. 35 мин. весом ровно 3 кг и ростом 51 см в стенах Городского перинатального центра г. Улан-Удэ. \\n\\nПоздравляю родителей и что особенно радует, это уже третий ребёнок в семье. Желаю здоровья, счастья и благополучия малышке и ее семье!\\n\\nА всего в Бурятии в новогоднюю ночь родилось четверо детей. \\n\\nВсех с Новым годом! 😊 ', 'labels': ['pro-russian', 'pro-ukrainian'], 'scores': [0.542704701423645, 0.45729535818099976]}, {'sequence': ' ⚡️В течение недели на линии боевого соприкосновения 91 боевик ВСУ сдался в плен\\n\\xa0\\nКроме того, за неделю истребительной авиацией ВКС России был сбит самолет МиГ-29 воздушных сил Украины. Средствами ПВО сбиты восемь ракет ATACMS производства США, пять управляемых авиационных бомб «Hammer» производства Франции, 41 реактивный снаряд HIMARS производства США, а также 689 БПЛА самолетного типа, сообщили в Минобороны РФ.', 'labels': ['pro-russian', 'pro-ukrainian'], 'scores': [0.5030462145805359, 0.4969537854194641]}, {'sequence': ' Ищу Надежду Ганжерли,26.02.1979 г р ,жила на улице металлургической дом 19-39,город мариуполь\\n\\nЖЕНЯ (#ID5319319033)', 'labels': ['pro-ukrainian', 'pro-russian'], 'scores': [0.5684237480163574, 0.43157628178596497]}, {'sequence': 'Прямое попадание по экипажу турецкого броневика \"Отокар Кобра\" FPV-дроном армии России ', 'labels': ['pro-russian', 'pro-ukrainian'], 'scores': [0.6500206589698792, 0.34997937083244324]}, {'sequence': ' No, we are Russians.', 'labels': ['pro-russian', 'pro-ukrainian'], 'scores': [0.7606438398361206, 0.2393561452627182]}, {'sequence': '❓Имеет ли мама ребенка с инвалидностью в ЛНР право на дополнительный оплачиваемый отпуск? \\n\\n✅Да. Маме ребенка с инвалидностью полагаются четыре оплачиваемых выходных дня в месяц. Неиспользованные дни можно суммировать и взять разовый отпуск длительностью не более 24 дней. График такого отпуска необходимо согласовать с работодателем.\\n\\n❗️Важно! Использовать выходные может как один из родителей, так и оба, разделив эти дни между собой. \\n\\n👉Социальный фонд России оплачивает дополнительные выходные дни в размере ...', 'labels': ['pro-russian', 'pro-ukrainian'], 'scores': [0.6325143575668335, 0.3674856424331665]}, {'sequence': '❓Как можно получить остаток маткапитала жителям ЛНР?\\n\\n✅Семьи ЛНР, имеющие остаток средств материнского капитала, могут получить эту сумму в виде единовременной выплаты.\\n\\n➡️Главное:\\n\\n🔹остаток должен составлять 10 000 рублей и меньше\\n🔹право на выплату не зависит от возраста ребенка и доходов семьи\\n\\n➡️Где подать заявление:\\n\\n🔹на портале госуслуг\\n🔹клиентской службе Отделения Социального фонда России по ЛНР\\n🔹в МФЦ\\n\\nЗаявление рассматривается в течение 10 рабочих дней. Средства перечисляются в течение 5 рабочих дне...', 'labels': ['pro-russian', 'pro-ukrainian'], 'scores': [0.5319197773933411, 0.4680802524089813]}, {'sequence': '❓Как жителям ЛНР приобрести технические средства реабилитации?\\n\\n✅Жители Луганской Народной Республики могут приобретать технические средства реабилитации и протезно-ортопедические изделия удобным и современным способом – при помощи электронного сертификата. \\n \\nВ чем преимущества электронного сертификата:\\n \\n1️⃣ Можно самому выбрать и купить изделие, прописанное в индивидуальной программе реабилитации и абилитации (ИПРА). \\n2️⃣ Короткий срок оформления сертификата - 5 дней.\\n3️⃣Нет необходимости тратить личные ...', 'labels': ['pro-ukrainian', 'pro-russian'], 'scores': [0.5816006660461426, 0.4183993339538574]}, {'sequence': ' Суханов Дмитрий\\n\\nТатьяна, @Tatyana98642 (#ID5320268015)', 'labels': ['pro-russian', 'pro-ukrainian'], 'scores': [0.5961264967918396, 0.4038735032081604]}, {'sequence': 'Совершенно нет времени ничего выкладывать и фотографировать… \\nВременно поселилась на работе!)\\n\\n\\n✈️ https://t.me/klever_flowers_mrpl\\n📷 https://instagram.com/klever_flowers.mrpl\\n🧷+79494999949 ', 'labels': ['pro-russian', 'pro-ukrainian'], 'scores': [0.5099695920944214, 0.4900303781032562]}, {'sequence': 'В преддверии Нового года дал старт всероссийской акции «Елка желаний» в Луганской Народной Республике. В этот раз мне выпала честь исполнить мечты трех юных жителей региона, которых объединяет общее стремление.\\n\\nПятилетний Дмитрий попросил на Новый год футбольный мяч, четырехлетняя Василиса мечтает о раздвижных коньках, а трехлетняя Кира – о велосипеде. Очень рад тому, что наши дети хотят заниматься спортом. В будущем они вполне могут стать знаменитыми футболистами, фигуристами или, например, триатлонистами...', 'labels': ['pro-ukrainian', 'pro-russian'], 'scores': [0.5391883850097656, 0.4608115553855896]}, {'sequence': '▶️Слово митрополита Симферопольского и Крымского Тихона на Рождество Христово.\\n\\n7 января 2025 года, г. Симферополь, Кафедральный Александро-Невский собор. ', 'labels': ['pro-ukrainian', 'pro-russian'], 'scores': [0.5034750699996948, 0.4965249300003052]}, {'sequence': 'Стартуем... Я говорю СТАРТУЕМ 💪\\nС сегодняшнего дня стартует наш первый, пробный месяц плюшек для наших наблюдателей 😎\\n\\nЕсли у вас нету тёщи... а нет, не то 😅\\n\\n✔️ Если у вас есть свободное время для прогулок по городу, если вы любите снимать креативные видео или фото, очень наблюдательны, дружите с чувством юмора и вы ЗА справедливость, тогда вам точно стоит попробовать сотрудничать с нами 🤝\\n\\n😎Это сотрудничество подойдёт: студентам, мамочкам в декрете, домохозяйкам и тем у кого просто есть свободное время дл...', 'labels': ['pro-russian', 'pro-ukrainian'], 'scores': [0.540412425994873, 0.45958754420280457]}, {'sequence': '🎄\\n\\n✈️ https://t.me/klever_flowers_mrpl\\n📷 https://instagram.com/klever_flowers.mrpl\\n🧷+79494999949 ', 'labels': ['pro-ukrainian', 'pro-russian'], 'scores': [0.5223156809806824, 0.47768434882164]}, {'sequence': '📹 Уничтожение БМП \"Брэдли\" украинских боевиков\\n\\nОператоры FPV-дронов ОРБ \"Спарта\" 51 гвардейской армии ВС РФ обнаружили вышедшую из строя БМП \"Брэдли\" украинских боевиков в районе Дзержинска, которая наехала на минно-взрывное заграждение. Благодаря метким сбросам боеприпасов боевая машина была полностью уничтожена. Это действие оставило противника без возможности оперативной эвакуации и ротационных действий, что существенно подорвало его боеспособность в этом районе.\\n\\nПодписывайтесь на телеграмм канал Народ...', 'labels': ['pro-russian', 'pro-ukrainian'], 'scores': [0.6355087757110596, 0.36449119448661804]}, {'sequence': ' lpr 1 (Telegram)\\n\\nЧасов Яр РСЗО', 'labels': ['pro-russian', 'pro-ukrainian'], 'scores': [0.5618782043457031, 0.4381217956542969]}, {'sequence': ' Сегодня погиб журналист «Известий» Александр Мартемьянов. Он подло убит при атаке украинского беспилотника на трассе Донецк – Горловка. Александр возвращался из Горловки после съемки последствий украинских обстрелов.\\n\\nВместе с ним в гражданском автомобиле ехали еще четверо сотрудников СМИ, они легко ранены.\\n\\nВ числе раненых журналистов – корреспонденты РИА Новости Максим Романенко и Михаил Кевхиев, сотрудники издания «Блокнот Донецк» Светлана Ларина и Изабелла Либерман. Всем пострадавшим оказывается помощь...', 'labels': ['pro-russian', 'pro-ukrainian'], 'scores': [0.5711619257926941, 0.4288380742073059]}, {'sequence': '🔘 Сводка боевых действий на Украине: разгром боевиков на Кураховском направлении, 4 сентября 2024\\n\\nНа фронте в Донбассе, Таврии и Слобожанщине ситуация продолжает развиваться, с нарастающей интенсивностью боевых действий.\\n\\nНа севере Харьковской области наблюдается увеличение активности боев. На Волчанском направлении украинские войска, пополнившие свои ряды новыми мобилизованными, активно пытаются укрепить свои позиции на правом берегу реки Волчья. Российские силы в этом районе сорвали три попытки переброск...', 'labels': ['pro-russian', 'pro-ukrainian'], 'scores': [0.5776585936546326, 0.4223414659500122]}, {'sequence': ' Зачем-то включил интервью Чичваркина Шихман, походу эти соевые меня никогда не отпустят. Надо делать разбор.', 'labels': ['pro-ukrainian', 'pro-russian'], 'scores': [0.5940064191818237, 0.4059935510158539]}, {'sequence': '🟢Социальный фонд России по ЛНР перечислил пенсии на банковские карты\\n\\n✅14 декабря Отделение Социального фонда России по ЛНР направило пенсии за декабрь 2024 года, выплачиваемые через банковские организации, получателям, которые живут:\\n\\n🔹в Красном Луче \\n🔹в Лисичанске\\n🔹в Первомайске\\n🔹в Ровеньках\\n🔹в Рубежном\\n🔹в Свердловске и Свердловском районе\\n🔹в Антраците и Антрацитовском районе\\n🔹в Краснодоне и Краснодонском районе\\n\\n🔗Отделение Социального фонда России по ЛНР здесь >>>  \\n\\n#СФР #пенсиясфр #датывыплатпенсий ', 'labels': ['pro-ukrainian', 'pro-russian'], 'scores': [0.5283318758010864, 0.4716680943965912]}, {'sequence': 'Мы им спасибо, а они нам. 🫡\\n\\n\\nТыл, работаем! ', 'labels': ['pro-russian', 'pro-ukrainian'], 'scores': [0.6647982597351074, 0.33520177006721497]}, {'sequence': '⚡️ Что означает \"путинское военное положение\" для жителей оккупированных территорий Украины: \\n\\n🔺Запрет на выезд \\n\\n🔺Особый режим въезда и выезда на территорию, а также ограничение свободы передвижения. \\n\\n🔺Эвакуацию объектов социального назначения, а также временное отселение жителей в безопасные районы. \\n\\n🔺Привлечение граждан для нужд обороны, ликвидации последствий применения противником оружия, восстановление объектов экономики. \\n\\n🔺Извлечение имущества на нужды обороны. \\n\\n🔺Военная цензура в сфере коммуника...', 'labels': ['pro-ukrainian', 'pro-russian'], 'scores': [0.8902125358581543, 0.10978744924068451]}, {'sequence': '⚡️ Российские войска прорвались в Гродовку под Красноармейском\\n\\nПодразделения 144-й мотострелковой бригады России (ранее 1-й Армейский корпус ДНР) установили несколько флагов в Украинске, находящемся на Красноармейском (Покровском) направлении в ДНР, и проводят зачистку территории. После освобождения Украинска российские силы заметно продвинулись в район Гродовки.\\n\\nКроме того, они продвинулись на 850 метров к северу от Новогродовки, заняли шахту «Новогродовка» с прилегающими территориями и населённый пункт ...', 'labels': ['pro-russian', 'pro-ukrainian'], 'scores': [0.6609500646591187, 0.3390499949455261]}, {'sequence': ' Военкор Котенок (Telegram)\\n\\nДнепропетровское направление.\\n\\nНаши штурмовые подразделения продвинулись западнее Солёного и в Нововасильевке.\\n\\nВ Нововасильевке бои идут за последние фермы на западной окраине, а также на окраине Успеновки.\\n\\nЮжнее продолжаются атаки в направлении Надеждинки, Серебряного (Срибного), Новоандреевки и в Ясеневом. В Ясеневом бои идут уже на всю глубину села.\\n\\nЮжнее, от Ясеневого до Славянки наши штурмы продвинулись в посадках в направлении дороги на Андреевку. \\n\\nЗападнее Славянки на...', 'labels': ['pro-ukrainian', 'pro-russian'], 'scores': [0.5036085247993469, 0.4963914752006531]}, {'sequence': '🌟 Поздравляем вас с наступающим Новым годом!\\n\\n🏡  Желаем вам и вашим близким крепкого здоровья, семейного счастья, добра и радости!\\n\\n🎄Пусть 2025 год станет для вас временем прекрасных начинаний и свершений, созидания, творчества, исполнения надежд и самых заветных желаний!\\n\\n❤️А мы будем заботиться о вас и вашем комфорте при получении всех мер социальной поддержки.\\n\\nВсегда рядом, Отделение Социального фонда России по ЛНР ❤️\\n\\n#СФРпоздравляет #НовыйГод ', 'labels': ['pro-russian', 'pro-ukrainian'], 'scores': [0.5711129903793335, 0.4288870394229889]}, {'sequence': ' Городской автобусный маршрут №7 «АС-2 - пос. Каменск» возобновляет свою схему движения в прямом и обратном направлении по ул. Карпинского.', 'labels': ['pro-russian', 'pro-ukrainian'], 'scores': [0.5616064667701721, 0.4383935332298279]}, {'sequence': 'И вот ЕЩЕ ОДИН НОВЫЙ ДЕТСКИЙ САД К НОВОМУ ГОДУ))\\n\\nСегодня открыли в п. Сотниково Иволгинского района  “Жемчужинку”. \\n\\nПри поддержке нашего Президента построили современный, комфортный, теплый новый детский сад на 240 ребятишек. Горячий кухонный цех, медицинский блок, прачечная, музыкальный зал, спортивный зал и 12 детских групп, стоимость строительства и оборудования сада составила  440 млн рублей.\\n\\nНастроение и у ребятишек, и у их родителей, и у воспитателей, конечно новогоднее. Вот такой хороший подарок к...', 'labels': ['pro-russian', 'pro-ukrainian'], 'scores': [0.6336506605148315, 0.3663492798805237]}, {'sequence': 'Во время визита в нашу республику Первый заместитель Руководителя Администрации Президента России Сергей Кириенко исполнил мечты четырех юных жителей региона в рамках акции «Ёлка желаний».\\n\\nТрем братьям Кабышенко – 3-летнему Ярославу, 6-летнему Мирославу и 11-летнему Владиславу – Сергей Владиленович подарил конструкторы и игрушечную железную дорогу. Исполнилось и желание 10-летнего Александра Серика – он получил спортивный рюкзак. \\n\\nА затем мы побывали в гостях у наших добрых знакомых – многодетной семьи Мо...', 'labels': ['pro-russian', 'pro-ukrainian'], 'scores': [0.5639122128486633, 0.4360877573490143]}, {'sequence': ' lpr 1 (Telegram)\\n\\nПологи, Мелитополь ракетная опасность', 'labels': ['pro-russian', 'pro-ukrainian'], 'scores': [0.5152376294136047, 0.48476237058639526]}, {'sequence': ' Военкор Котенок (Telegram)\\n\\nВоенкор Донбасса Денис Григорюк (ИА «Аналитическая Служба Донбасса») о книге «Военкор Котенок. Выживший»: \\n\\n«Прочитал первые 30 страниц. Нет, не так. Я в них провалился. Мне важно было узнать, что вы пережили 8 октября 2020 года. Я очень хорошо помню тот день, как следил за всеми новостями, пытался узнать у коллег из \"АСД\" какие-то подробности, но все было уже в сети, но не было Вас. Я человек верующий, но не воцерквленный, но в тот день молился, чтобы вы выкарабкались. И так и ...', 'labels': ['pro-russian', 'pro-ukrainian'], 'scores': [0.5905832648277283, 0.4094167649745941]}, {'sequence': '🔘 Войска РФ продвинулись у Синьковки\\n\\nСеверо-западнее Синьковки продолжается наше наступление: мы продвинулись на 1,5 км, достигнув озера Лиман и большого лесного массива между Голубовкой и Синьковкой, сообщает «Дневник Десантника».\\n\\nОтмечается, что в этом районе украинские войска активно применяют дроны с термитной смесью. Их тактика направлена на выжигание растительности, чтобы обнажить наши позиции. Однако, несмотря на эти попытки, бойцы Вооружённых сил РФ продолжают продвижение.\\n\\nКроме того, ВКС России ...', 'labels': ['pro-russian', 'pro-ukrainian'], 'scores': [0.5171709060668945, 0.4828290641307831]}, {'sequence': ' 15 мирных жителей пострадали сегодня в результате киевской агрессии.\\n\\nВ Никитовском районе Горловки вследствие применения противником ствольной артиллерии кассетного типа ранения средней степени тяжести получили 10 человек: женщины 1981, 1961, 1958, 1956, 1955 и 1955 г.р., мужчины 1998, 1981, 1970 и 1957 г.р. Кроме того, при сбросе взрывоопасного предмета с беспилотника ВФУ ранения средней степени тяжести получил мужчина 1978 г.р.\\n\\nВ Центрально-Городском районе Горловки при сбросах взрывоопасных предметов ...', 'labels': ['pro-russian', 'pro-ukrainian'], 'scores': [0.5222930908203125, 0.4777069687843323]}, {'sequence': '🥳 Завтра на работу! ', 'labels': ['pro-russian', 'pro-ukrainian'], 'scores': [0.5335285663604736, 0.466471403837204]}, {'sequence': ' Разыскивают \\nМавренкова Сергея.\\nПроживал по ул.\\nЗелинского. \\nВидели в районе 17 больницы .\\nВидели в марте 22 года там.\\nЖена проживала на ул.\\nСолнечной.\\n\\nМирослава (#ID5417611744)', 'labels': ['pro-russian', 'pro-ukrainian'], 'scores': [0.5382686257362366, 0.4617313742637634]}, {'sequence': 'В России начали сливать видео с подъездных камер, которые 24/7 транслируют всё, что происходит в многоквартирных домах.\\n\\nКонфликты жильцов, выходки мигрантов, вандализм бездомных – выбирайте свой город и будьте в курсе всего, что происходит на вашей лестничной площадке:\\n\\n● Москва: @msk360\\n● Питер: @petr360\\n\\n● Абакан: @abkn360\\n● Ангарск: @angarsk360\\n● Архангельск: @arhangelsk360\\n● Астрахань: @astrakhan360\\n● Барнаул: @barnaul360\\n● Балашиха: @balashiha360\\n● Белгород: @belgorod360g\\n● Благовещенск: @blagov360\\n● ...', 'labels': ['pro-russian', 'pro-ukrainian'], 'scores': [0.6614869832992554, 0.3385130763053894]}, {'sequence': 'Продолжаем обсуждать важные темы прошедшей недели в традиционном «Воскресном формате».\\n\\n00:15 – О продвижении российских подразделений и ситуации на линии фронта.\\n\\n03:02 – О вопросах от федеральных и региональных СМИ на пресс-конференции «Возрождаем Донбасс вместе».\\n\\n07:14 – О визите в Республику заместителя Председателя Правительства РФ Марата Хуснуллина.\\n\\n11:17 – О визите первого заместителя Председателя Правительства РФ Дениса Мантурова в регион.\\n\\n15:39 – Об отмене комендантского часа в Донецкой Народной...', 'labels': ['pro-russian', 'pro-ukrainian'], 'scores': [0.7576960921287537, 0.24230390787124634]}, {'sequence': ' lpr 1 (Telegram)\\n\\nПуск ракеты Константиновка', 'labels': ['pro-russian', 'pro-ukrainian'], 'scores': [0.5545687079429626, 0.44543126225471497]}, {'sequence': '❗️❗️❗️ СБОР НА ЗАКУПКУ МИШЕНЕЙ, КАТАПУЛЬТ И ПАТРОНОВ 12 КАЛИБРА ДЛЯ ТРЕНИРОВОК БОЙЦОВ ПО ЛИНИИ «ЛЫНИ»\\n\\nНа кадрах с полигона группа «Тимсо» спецназа «Ахмат» тренируется с мастером спорта по стрельбе, чемпионкой России Анной Тараносовой. \\n\\nВ последнее время мы занимаемся подготовкой бойцов на полигоне, и нам нужны средства для приобретения патронов 12 калибра. Планируется еще докупить метательных тарелок и несколько катапульт. \\n\\nВпереди Новый год, и бойцы с радостью примут новогодние подарки в виде патронов 1...', 'labels': ['pro-russian', 'pro-ukrainian'], 'scores': [0.5745999813079834, 0.425400048494339]}, {'sequence': 'Добрый вечер мои дорогие и любимые читатели! 🤗\\nМы с вами не общались практически всё лето, и я очень соскучилась по каждому из вас!!!\\n\\nХочу немного поделиться с вами своими чувствами...\\nЭто первое насыщенное эмоциями и запоминающееся лето за 15 лет! 🤤\\nЕсли не считать семейных праздников и \\nДР☝️\\n\\nЭто был настоящий первый отпуск и одновременно \"каникулы\" за последние 2 года! Когда я смогла насладиться каждым днём в кругу родных и близких, заняться важными бытовыми вопросами и отложить \"на потом\" почти все сво...', 'labels': ['pro-russian', 'pro-ukrainian'], 'scores': [0.5099369883537292, 0.4900630712509155]}, {'sequence': ' Семь мирных жителей пострадали сегодня в результате киевской агрессии.\\n\\nВ Никитовском районе Горловки вследствие применения противником ствольной артиллерии кассетного типа ранения средней степени тяжести получили женщина 1961 г.р. и мужчина 1965 г.р., пострадали женщина 1953 г.р., мужчины 1981 и 2001 г.р. Кроме того, в результате использования противником ствольной артиллерии тяжелые ранения получил мужчина 1953 г.р.\\n\\nВ Центрально-Городском районе Горловки при сбросе взрывоопасного предмета с беспилотника...', 'labels': ['pro-ukrainian', 'pro-russian'], 'scores': [0.5084500908851624, 0.49154993891716003]}, {'sequence': '⚡️ВСУ атаковали супермаркет в Донецке — предположительно, пострадали 4 человека\\n\\nВражеский снаряд попал в супермаркет на Шахтерской площади, где в этот момент находились люди. Судя по характерным фрагментам и осколкам, удар был нанесен из HIMARS. От взрывной волны пострадали машины, в соседних домах выбиты стекла.\\n\\nПредположительно, в результате атаки противника пострадали четыре человека. ', 'labels': ['pro-russian', 'pro-ukrainian'], 'scores': [0.505563497543335, 0.49443650245666504]}, {'sequence': ' ⚡️Бойцы ВС РФ взяли в плен 18 боевиков ВСУ западнее Курахово в ДНР — Минобороны РФ', 'labels': ['pro-russian', 'pro-ukrainian'], 'scores': [0.5757160782814026, 0.4242839515209198]}, {'sequence': ' Поки зарано робити якісь висновки, але фіксуємо факт зменшення  наступальних темпів росіян. \\n\\n🙏', 'labels': ['pro-ukrainian', 'pro-russian'], 'scores': [0.6380805373191833, 0.36191946268081665]}, {'sequence': ' lpr 1 (Telegram)\\n\\nДолгое Кукуевка Валуйский МО \\nОпасность по ФПВ', 'labels': ['pro-ukrainian', 'pro-russian'], 'scores': [0.5067977905273438, 0.49320220947265625]}, {'sequence': 'В Васильевке Запорожской области на блокпосту выезда на подконтрольную Украине территорию ожидают около 6 тысяч автомобилей, – мэр Мелитополя Иван Федоров\\n\\nЛюди живут в машинах уже более 10 дней. ', 'labels': ['pro-ukrainian', 'pro-russian'], 'scores': [0.513944685459137, 0.4860553741455078]}, {'sequence': 'Мем от @zavgorus ', 'labels': ['pro-russian', 'pro-ukrainian'], 'scores': [0.5468196868896484, 0.45318034291267395]}, {'sequence': ' Друзі! Обережно з повідомленнями про типу «заборгованість» перед «Новою поштою». \\n\\nНе відкривайте посилання. Я затупив, і перейшов. Бо є угода про співпрацю з НП, і подумав, можливо щось сталося.\\n\\nВже всі паролі швидко поміняв. Двосторонню автентифікацію увімкнув, де її не було.', 'labels': ['pro-ukrainian', 'pro-russian'], 'scores': [0.517647385597229, 0.482352614402771]}, {'sequence': 'В 2024 году впервые привлекли федеральные средства на модернизацию домов культуры Республики. Отремонтировали и оснастили восемь ДК.\\n\\nРазвиваем культурную жизнь не только в крупных городах, но и в малых, и в сельских поселениях. В этом году Республика участвовала в программе, которая в других регионах России действует уже около пяти лет. За текущий год отремонтировали два ДК в Амвросиевском районе и по одному в Шахтерске, Ждановке и Тельманово.\\n\\nЕще три дома культуры получили новое оснащение — это и театрал...', 'labels': ['pro-russian', 'pro-ukrainian'], 'scores': [0.5464999079704285, 0.4535001218318939]}, {'sequence': 'В Киевстар рассказали как им удавалось поддерживать в рабочем состоянии станцию связи во время боёв в Мариуполе. ', 'labels': ['pro-ukrainian', 'pro-russian'], 'scores': [0.6230770349502563, 0.37692293524742126]}, {'sequence': '📹Уничтожение техники и личного состава противника на Дзержинском направлении\\n\\nВойсковая разведка 132 бригады 51 гвардейской общевойсковой армии ВС РФ ежедневно беспощадно уничтожает технику и личный состав противника с помощью FPV дронов на Дзержинском направлении. Эти высокоточные беспилотники позволяют эффективно поражать вражеские цели, что также наносит значительный урон морально-психологическому состоянию украинских оккупационных сил.\\n\\nПодписывайтесь на телеграмм канал Народная милиция ДНР, чтобы увиде...', 'labels': ['pro-russian', 'pro-ukrainian'], 'scores': [0.6554174423217773, 0.34458255767822266]}, {'sequence': ' Дорогие друзья, земляки! \\n\\nВ 2024 году в Республике начат предусмотренный Федеральным Конституционным законом процесс ликвидации созданных ранее государственных органов ДНР и образования новых, региональных органов исполнительной власти Донецкой Народной Республики в составе Российской Федерации.\\n\\nВ результате реорганизации Представительство Донецкой Народной Республики в Совместном центре контроля и координации вопросов, связанных с военными преступлениями Украины (СЦКК), вошло в состав Администрации Глав...', 'labels': ['pro-ukrainian', 'pro-russian'], 'scores': [0.5671869516372681, 0.43281304836273193]}, {'sequence': 'Ночью Саратов и Энгельс подвергались массированной атаке БПЛА\\n\\nСаратовская область подверглась массированной атаки вражеских дронов. К счастью, никто из людей не пострадал. Есть повреждения на одном из промышленных предприятий, сообщил губернатор региона Бусаргин.\\n\\nЭкстренные службы ликвидируют последствия, на месте создан оперштаб. ', 'labels': ['pro-russian', 'pro-ukrainian'], 'scores': [0.5346673130989075, 0.46533265709877014]}, {'sequence': ' В ДНР началась опытная эксплуатация \"Карты жителя ДНР\"\\n\\nПо словам вице-премьера региона Ежикова, сейчас идёт работа с ПСБ, к обсуждению подключаются и другие банки.\\n\\nПредполагается, что \"Карта жителя ДНР\" совместит функции обычной банковской карты и средства доступа к важным социальным услугам. С помощью этой карты можно будет оплачивать проезд в общественном транспорте, получать скидки и бонусы. К проекту также планируется подключить не только торгово-сервисные услуги, но и учреждения культурно-образовате...', 'labels': ['pro-ukrainian', 'pro-russian'], 'scores': [0.5351875424385071, 0.46481242775917053]}, {'sequence': 'Сел в такси как лев, а вышел как котик. ', 'labels': ['pro-russian', 'pro-ukrainian'], 'scores': [0.5520543456077576, 0.44794562458992004]}, {'sequence': '❗️Уважаемые жители и гости города Мариуполь❗️\\n\\nВ связи с ДТП на пересечении пр-т Металлургов и ул. Заворуева 07.08.2024 г. движение трамваев временно приостановлено.\\n\\nО дальнейшем восстановлении трамвайного сообщения информация появится на нашем Telegram-канале. ', 'labels': ['pro-ukrainian', 'pro-russian'], 'scores': [0.5367474555969238, 0.4632525146007538]}, {'sequence': 'Саня во Флориде (Telegram)\\n\\nЗеленский сказал, что в Запорожье ударили по обычным гражданским.\\n\\nВ это же время запорожская военная администрация выложила в сеть здание военного предприятия \"Мотор Сичь\" с огромной дырой в центре. \\n\\nЧтобы врать было удобнее, предлагаю всем в администрации дать по 10 лет строгого режима, чтобы не позорили солнцеликого президента! 😁 ', 'labels': ['pro-ukrainian', 'pro-russian'], 'scores': [0.5412001609802246, 0.458799809217453]}, {'sequence': ' lpr 1 (Telegram)\\n\\n🟢 Курская область: внимание! Отбой ракетной опасности.', 'labels': ['pro-russian', 'pro-ukrainian'], 'scores': [0.6522294282913208, 0.3477706015110016]}, {'sequence': '😃😁🤠 Под конец уходящего 2024 года мы подготовили для вас серию специальных выпусков «ИТОГИ ГОДА» от Молодёжки Народного фронта! В них мы расскажем о всех достижениях и результатах проектов Молодёжки. \\n\\n⏺Первый проект - это уникальный пример единения перед актуальными вызовами и сплочённой командной работы при решении возникающих задач!\\n\\nДавайте узнаем больше о проекте от нашего приглашенного гостя! 😊 ', 'labels': ['pro-russian', 'pro-ukrainian'], 'scores': [0.5165612101554871, 0.48343876004219055]}, {'sequence': ' На прямой линии Президент России Владимир Владимирович Путин рассказал о промежуточных итогах масштабной программы по развитию новых регионов страны. Жители Луганской Народной Республики ежедневно видят восстановление дорог, домов, жилищно-коммунальной инфраструктуры, социальных и культурных объектов. После вхождения в состав России в регионе было отремонтировано более 4500 различных объектов. И в том числе – свыше 2000 км автомобильных дорог. \\n\\nНаш лидер напомнил, что эта работа будет продолжаться до 2030...', 'labels': ['pro-russian', 'pro-ukrainian'], 'scores': [0.6778505444526672, 0.3221494257450104]}, {'sequence': 'Попробуйте вспомнить, сколько блогеров освещает пожары в России? ', 'labels': ['pro-russian', 'pro-ukrainian'], 'scores': [0.6782225966453552, 0.3217774033546448]}, {'sequence': 'Литва намерена установить на границе с Россией вентиляторы, чтобы отгонять вражеские радиоволны ', 'labels': ['pro-russian', 'pro-ukrainian'], 'scores': [0.7816855311393738, 0.2183144986629486]}, {'sequence': ' Два мирных жителя региона пострадали сегодня в результате киевской агрессии.\\n\\nВ Никитовском районе Горловки в результате применения противником ствольной артиллерии ранения средней степени тяжести получил мужчина 1953 г.р.\\n\\nВ поселке Пантелеймоновка Ясиноватского муниципального округа при сбросе взрывоопасного предмета с беспилотника ВФУ ранения средней степени тяжести получил мужчина 1993 г.р.\\n\\nВсем пострадавшим оказывается необходимая медицинская помощь.\\n\\nПовреждены два жилых домостроения, один объект гр...', 'labels': ['pro-russian', 'pro-ukrainian'], 'scores': [0.6633488535881042, 0.3366512060165405]}, {'sequence': '📹 Уничтожение 120-мм миномета ВСУ в районе Дзержинска\\n \\nВ районе населенного пункта Дзержинск, операторами БПЛА 80-го отдельного разведывательного батальона \"Спарта\" 51-й гвардейской общевойсковой армии ВС РФ была обнаружена позиция 120-мм миномета противника. Метким сбросом с БПЛА обнаруженная цель была уничтожена. \\n\\nПодписывайтесь на телеграмм канал Народная милиция ДНР, чтобы увидеть войну нашими глазами ', 'labels': ['pro-russian', 'pro-ukrainian'], 'scores': [0.5444161891937256, 0.4555838406085968]}, {'sequence': '❓Когда жителям ЛНР обращаться за продлением выплаты из маткапитала?\\n\\n✅Если последний месяц выплаты назначенного пособия – январь, заявление можно подать до конца этого месяца или в феврале. Удобнее всего это сделать онлайн – на портале госуслуг  \\n\\n🗓Доходы в таком случае будут учитывать за период с декабря 2023 года по ноябрь 2024-го.\\n\\n🧐Следите за уведомлениями в личном кабинете на Госуслугах.\\n\\n👉Социальный фонд России по ЛНР здесь >>\\n\\n#сфр #маткапсфр ', 'labels': ['pro-russian', 'pro-ukrainian'], 'scores': [0.6683135032653809, 0.33168646693229675]}, {'sequence': '📲Добавляйте мой номер телефона, чтобы были доступны сториз В Телеграмм… \\nТам больше интересного, больше информации, больше работ, идей, и жизнь Цветочной Мастерской «Клевер» \\n\\n+79494999949 ', 'labels': ['pro-russian', 'pro-ukrainian'], 'scores': [0.5154802203178406, 0.4845197796821594]}, {'sequence': ' Расширяем возможности социального контракта как вида государственной социальной помощи населению.\\n\\nВ 2025 году помимо помощи со стороны государства в поиске работы, обучении, ведении индивидуальной предпринимательской деятельности жителям ДНР доступен такой вид социального контракта, как ведение личного подсобного хозяйства. Размер помощи составляет до 200 тысяч рублей. Контракт заключается сроком до 12 месяцев.\\n\\nНапомню, что при социальном контракте гражданин, доход которого ниже прожиточного минимума, ус...', 'labels': ['pro-ukrainian', 'pro-russian'], 'scores': [0.5565822124481201, 0.4434177875518799]}, {'sequence': 'На этой недели было очень много работы, заказов и доставок… делюсь тем, что успела сфотографировать)\\n\\n\\n\\n✈️ https://t.me/klever_flowers_mrpl\\n📷 https://instagram.com/klever_flowers.mrpl\\n🧷+79494999949 ', 'labels': ['pro-russian', 'pro-ukrainian'], 'scores': [0.512076735496521, 0.4879233241081238]}, {'sequence': 'За 2024 год Telegram не удовлетворил ни одного запроса от российских властей о предоставлении данных о преступниках\\n\\nВ 2024 году Telegram не удовлетворил ни одного запроса от России на предоставление информации о пользователях, свидетельствует из официального отчета мессенджера о прозрачности. Transparency bot, содержащий информацию о сотрудничестве Telegram с силовиками, был запущен в октябре прошлого года и содержал данные о 54 странах, за исключением России. Помимо этого, мессенджер блокирует каналы росс...', 'labels': ['pro-russian', 'pro-ukrainian'], 'scores': [0.5706506371498108, 0.4293493330478668]}, {'sequence': '🙏 Дорогие друзья, С Рождеством Христовым! \\n\\n❄️🎉🌟Звезда зажглась! Христос родился!\\nИ мир его любовью озарился!\\nПусть Счастье входит в каждый дом,\\n\\nС ПРАЗДНИКОМ, СВЕТЛЫМ РОЖДЕСТВОМ! ❄️🎉🌟\\n\\n⚠️ Новости Треугольника ', 'labels': ['pro-russian', 'pro-ukrainian'], 'scores': [0.5756378173828125, 0.4243621230125427]}, {'sequence': ' Если встал не с той ноги, стоит ли портить настроение всем вокруг или это только твоя проблема и не еби никому мозги?\\n\\n❤️ Прислать сплетню\\n❤️ Псс, подпишись', 'labels': ['pro-russian', 'pro-ukrainian'], 'scores': [0.5525414347648621, 0.44745856523513794]}, {'sequence': 'Покровськ - місто «Щедрика» 💔\\n\\nросіяни вбивають це місто, на вулицях пусто, лише інколи трапляються поодинокі перехожі, які вирішили не виїжджати. \\n\\nБіль. ', 'labels': ['pro-russian', 'pro-ukrainian'], 'scores': [0.5353239178657532, 0.4646760821342468]}, {'sequence': '📈Отделение Социального фонда России по ЛНР проиндексирует страховые пенсии на 7,3%\\n\\n✅С 1 января 2025 года Отделение Социального фонда России по ЛНР проиндексирует на 7,3% все виды страховых пенсий — по старости, инвалидности и потере кормильца.\\n\\n➡️Повышение будет обеспечено получателям страховых пенсий независимо от того, работают они или находятся на заслуженном отдыхе.\\n\\n➡️Работающие пенсионеры получат прибавку в виде индексации с учетом всех пропущенных за время работы повышений, но сама пенсия будет выпл...', 'labels': ['pro-russian', 'pro-ukrainian'], 'scores': [0.5195451974868774, 0.48045480251312256]}, {'sequence': 'Разъяренная женщина отрезала половой орган своему другу в Мариуполе\\n\\u2060\\nКонфликт между женщиной и ее другом в Мариуполе завершился членовредительством. Молодой человек лишился полового органа в результате удара ножом.\\n\\nКак стало известно, инцидент с трагическими для мужчины последствиями случился 4 января. Между ним и его знакомой возникла ссора.\\n\\nПредставительница прекрасного пола схватила нож и ударила обидчика в пах.\\n\\n\"Удар был точным: пострадавший лишился полового члена, который был отрезан\", - рассказал ...', 'labels': ['pro-ukrainian', 'pro-russian'], 'scores': [0.5028649568557739, 0.4971350431442261]}, {'sequence': 'В садовой лавке уже появился новогодний ассортимент. \\nЗавтра начну показывать варианты композиций из живой ели и презенты-комплименты к праздникам ❄️🍾\\n\\nЗаказы на новогодний декор принимаю ДО 20.12.\\n\\n\\n✈️ https://t.me/klever_flowers_mrpl\\n📷 https://instagram.com/klever_flowers.mrpl\\n🧷+79494999949 ', 'labels': ['pro-russian', 'pro-ukrainian'], 'scores': [0.5210728049278259, 0.4789271950721741]}, {'sequence': 'Действующий Уголовный кодекс Финляндии начинается словами: \"Мы, Александр Третий, милостью Божьей, император и самодержец всея Руси, царь Польский, великий князь Финляндский...\" \\n \\nВсё потому, что принят в 1889 году и с тех пор туда лишь вносили коррективы. А преамбулу не меняли. \\n\\nСейчас естественно этот фрагмент предлагают убрать.\\n \\nНо сам факт: в независимом финском государстве на протяжении 134 лет упоминается русский царь)\\n\\n#лукапознавательный ', 'labels': ['pro-ukrainian', 'pro-russian'], 'scores': [0.5042994022369385, 0.4957005977630615]}, {'sequence': '😃😁🤠 Мы завершаем серию выпусков «ИТОГИ ГОДА» от Молодёжки Народного фронта. 🎄\\n\\n⏺Мы уже узнали об итогах гуманитарной миссии, работе в зонах чрезвычайных ситуаций, Федеральном тактико-стратегическом форуме «РУБЕЖ», работе в Авдеевке и Курской области, проекте «Кибердружина» и Федеральном проекте «Тренер».\\n\\nВстречайте!\\nВ нашей студии заместитель руководителя центрального Исполкома Народного фронта, руководитель Молодёжки Народного фронта Владимир Тараненко!\\n\\n⏺Сегодня Владимир Андреевич расскажет нам о ключевы...', 'labels': ['pro-russian', 'pro-ukrainian'], 'scores': [0.6093448996543884, 0.39065513014793396]}, {'sequence': 'Дорогие Друзья, кофейня\"Mr.Bubbleland\" ждёт вас в гости❤️\\n\\nУ нас вы можете\\xa0 согреться\\xa0 вкусным кофе, попробовать\\xa0 разнообразный Bubble tea, а также сладкие десерты ☺️🧡\\n\\nhttps://t.me/MrBubbleland\\n\\n📍проспект Строителей,98\\n(ор-р «Sky Voice») ', 'labels': ['pro-russian', 'pro-ukrainian'], 'scores': [0.5943008661270142, 0.4056990444660187]}, {'sequence': '❗️Уважаемые жители и гости города Мариуполь❗️\\n\\nС 18.12.2024 г. изменяется расписание городского автобусного маршрута №22 «пос. Осоавиахим - ул. 50 лет СССР - пос. Осоавиахим». ', 'labels': ['pro-ukrainian', 'pro-russian'], 'scores': [0.5239728689193726, 0.47602716088294983]}, {'sequence': ' Накати орків в Часіку вдалося зупинити. \\n\\nНа Покровському п*дари економлять техніку, можливо накопичують сили. \\n\\nНа запорізькому ворог активізувався.', 'labels': ['pro-russian', 'pro-ukrainian'], 'scores': [0.5263601541519165, 0.4736398160457611]}, {'sequence': 'Пол выпуска не слышал, что она говорит. ', 'labels': ['pro-russian', 'pro-ukrainian'], 'scores': [0.5506879091262817, 0.44931212067604065]}, {'sequence': '🚒 Спасатели МЧС России ликвидировали утром пожар в Лисичанской многоэтажке на проспекте Ленина, сгорели две квартиры, погибла пенсионерка, сообщили в главном управлении МЧС по ЛНР.\\n\\nПо прибытии подразделений спасателей, наблюдалось открытое горение из двух квартир №44 и №43. Пожарные оперативно приступили к ликвидации. Во время тушения в одной из квартир обнаружена женщина 72-х лет без признаков жизни. \\n\\nВ результате пожара квартира №44 уничтожена полностью на площади 60 квадратных метров. В квартире №43 ун...', 'labels': ['pro-ukrainian', 'pro-russian'], 'scores': [0.5182394981384277, 0.4817604720592499]}, {'sequence': ' Ищу друга своего мужа Логвинова Владимира Павловича 1937 г. р. До СВО жил на Курчатова.\\n\\nНадежда Лиценко (#ID5179462270)', 'labels': ['pro-russian', 'pro-ukrainian'], 'scores': [0.5421581864356995, 0.45784175395965576]}, {'sequence': ' Движение трамваев возобновлено.', 'labels': ['pro-russian', 'pro-ukrainian'], 'scores': [0.5069241523742676, 0.49307581782341003]}, {'sequence': 'Поступил звонок из правоохранительных ведомств, банка, оператора сотовой связи или из каких-либо других государственных органов? \\n\\nРассказывают о мнимых злоумышленниках, которые якобы вот-вот завладеют вашими сбережениями и перечислят их на финансирование противоправной деятельности, и убеждают «обезопасить» свои накопления?\\n\\nНемедленно кладите трубку — это мошенники.\\n\\nПОДПИШИСЬ | МАРИУПОЛЬ ЧП ', 'labels': ['pro-russian', 'pro-ukrainian'], 'scores': [0.509979784488678, 0.49002015590667725]}, {'sequence': 'Поздравляю всех причастных с Днём спасателя России! В честь этого праздника наш следующий выпуск #ГероиНашегоГорода.\\n\\nРуслан Меджидов — командир отделения 4 пожарно-спасательной части Донецка. Родился в поселке Нижнекрынское Амвросиевского района. С 2015 года служит в пожарной охране, посвятив свою жизнь спасению других. Не раз его мужество проявлялось в самых сложных ситуациях, когда он и его коллеги ликвидировали пожары после обстрелов в Донецке и Макеевке. Каждое его действие наполнено глубокой ответстве...', 'labels': ['pro-russian', 'pro-ukrainian'], 'scores': [0.8442566990852356, 0.15574322640895844]}, {'sequence': 'Мусор убрали 👍\\n\\n⛵️Подписаться | Прислать новость ', 'labels': ['pro-ukrainian', 'pro-russian'], 'scores': [0.507053792476654, 0.49294623732566833]}, {'sequence': '❓Как в 2025 году изменился размер пособия по беременности и родам в ЛНР\\n\\n📈 В 2025 году увеличился размер пособия по беременности и родам. Выплата рассчитывается из среднего заработка за два года, которые предшествовали году начала декретного отпуска.\\n\\n🔹За 140 дней декрета можно получить:\\nминимум— 103 285 руб., максимум — 794 355 руб.\\n🔹За 156 дней:\\nминимум — 115 089 руб., максимум — 885 139 руб.\\n🔹За 194 дня:\\nминимум — 143 123 руб., максимум — 1 100 750 руб.\\n\\n🧮Точная сумма выплат зависит от зарплаты женщины. ...', 'labels': ['pro-russian', 'pro-ukrainian'], 'scores': [0.5035253763198853, 0.49647459387779236]}, {'sequence': 'Уважаемые земляки!\\n\\nПровели завершающий в этом году совет по туризму.\\n\\nУ нас в этом году туристическая отрасль уверенно движется вперед. И большие инвесторы заходят, и малый бизнес у нас, несмотря ни на что, всё равно развивается. Точно знаю, что туризм в Бурятии будет двигаться дальше.\\n\\nНесколько цифр: По итогам этого года ожидаем 600 тысяч туристов в Бурятии, они потратят более 5 млрд рублей. Республика получит 225 млн рублей налоговых поступлений. Сейчас почти 8 тысяч номеров в гостиницах Бурятии, в сфер...', 'labels': ['pro-russian', 'pro-ukrainian'], 'scores': [0.5712063908576965, 0.4287935197353363]}, {'sequence': ' Ракети на Дніпро. Серія вибухів.', 'labels': ['pro-ukrainian', 'pro-russian'], 'scores': [0.5100954174995422, 0.48990458250045776]}, {'sequence': '❗️Уважаемые жители и гости города Мариуполь❗️\\n\\nВ связи с аварийным отключением напряжения 24.07.2024 г. движение трамваев временно приостановлено.\\n\\nО дальнейшем восстановлении трамвайного сообщения информация появится на нашем Telegram-канале. ', 'labels': ['pro-ukrainian', 'pro-russian'], 'scores': [0.5559194684028625, 0.44408056139945984]}, {'sequence': '🌟В рождественские дни в Свято-Троицком женском монастыре г. Симферополя не только обновился вертеп, но и появилась свободная фотозона!\\n\\n🙏Также доброй традицией обители стала совместная праздничная трапеза для монашествующих, клириков и трудников монастыря. \\n\\n🎵 За трапезой состоялся музыкальный баттл между большим хором монастыря и хором батюшек. Звучали самые лучшие колядки и церковные песнопения.\\n\\n🕊 За общим праздничным столом особенно чувствуется, что монастырь- это большая семья! ', 'labels': ['pro-ukrainian', 'pro-russian'], 'scores': [0.6215534210205078, 0.3784466087818146]}, {'sequence': ' Городской автобусный маршрут №5 «ул. Семененко - с. Ильичевское» с 07.09.2024 г. возобновляет свою схему движения в прямом направлении через пер. Черноморский.', 'labels': ['pro-russian', 'pro-ukrainian'], 'scores': [0.5301305651664734, 0.4698694348335266]}, {'sequence': '💕💕💕\\nА это мой муж, моя опора, моя любовь 🫶\\n💕💕💕\\n\\nТеперь вы знаете о бо мне чуточку больше 😘 ', 'labels': ['pro-russian', 'pro-ukrainian'], 'scores': [0.7050538063049316, 0.29494622349739075]}, {'sequence': ' Добрый день, ищу Федотову Викторию, потеряла её контакты есть очень неприятная информация по поводу её брата Александра Воробьева, если кто её знает передайте пожалуйста что её ищут или напишите мне как с ней можно связаться!\\n\\nJuliya2907 Juliya, @Juliya_Andryshenko (#ID5507611029)', 'labels': ['pro-ukrainian', 'pro-russian'], 'scores': [0.5318042039871216, 0.46819576621055603]}, {'sequence': ' Шукаю операторів-монтажерів для Служби в Силах оборони! \\n\\nВід вас: власна техніка, відповідальність, креативність.\\n\\nПри наявності авто є можливість їздити додому і виконувати там частину роботи (монтаж, тощо). \\n\\nВід нас: комфортні умови, дружня атмосфера, відсутність затягів.', 'labels': ['pro-ukrainian', 'pro-russian'], 'scores': [0.6329203844070435, 0.36707958579063416]}, {'sequence': '❗️27 военных грузовиков заехали в Мариуполь \\n\\nОни двигались в сторону центра города. Такой вот «первый день референдума». \\n\\n👉🏻Никакого давления на жителей, говорили они... 🤦🏻\\u200d♂️ ', 'labels': ['pro-ukrainian', 'pro-russian'], 'scores': [0.6313251852989197, 0.3686748445034027]}, {'sequence': 'Ну если в кредит, то можно…) ', 'labels': ['pro-russian', 'pro-ukrainian'], 'scores': [0.6450169086456299, 0.35498306155204773]}, {'sequence': 'Зеленский купил виллу на «острове миллиардеров» в Карибском море и строит там подземный бункер.\\n\\nФранцузские источники сообщают о приобретении Зеленским недвижимости на острове Сен-Бартелеми, также известном как «остров миллиардеров». Вилла площадью 436 кв.м. была куплена кипрской оффшорной компанией Зеленского Aldorante LTD за 17.8 миллиона евро, а подписала договор Светлана Пищанская. \\n\\nУкраинские СМИ называют ее «подругой детства» Зеленского и одним из самых доверенных людей в его внутреннем круге. По сл...', 'labels': ['pro-ukrainian', 'pro-russian'], 'scores': [0.9666696190834045, 0.03333035483956337]}, {'sequence': 'Спите крепко. Всех обнимаем ❤️🤗 ', 'labels': ['pro-russian', 'pro-ukrainian'], 'scores': [0.566392719745636, 0.4336072504520416]}, {'sequence': 'Новогодние праздники подошли к концу — атмосферой у себя дома перед рабочими буднями поделилась подписчица \\n\\nЕлочные игрушки, подарки и мандарины — напоминание о хорошо прошедших праздниках. Теперь нужно и в работу включаться. Чтобы еще на чуть-чуть остановить мгновенье веселья, подписчица «Главное в Херсоне и области» прислала свою атмосферу дома. \\n\\nЕсли вы до сих пор в праздниках — обязательно делитесь атмосферой на фото и видео с нами. Посоревнуемся, у кого дольше простоит вечнозеленый символ Нового года...', 'labels': ['pro-ukrainian', 'pro-russian'], 'scores': [0.588330864906311, 0.41166919469833374]}, {'sequence': '⚡️Освобождение Курахова лишило ВСУ возможности вести обстрелы мирного населения Донецка из артиллерийских систем\\n\\nКомандование ВСУ за 10 лет превратило Курахово в мощный укрепленный район и сосредоточило для обороны города более 15 тысяч боевиков. В ходе освобождения города противник потерял 80% личного состава. Потери составили более 12 тысяч человек и около трех тысяч единиц техники и вооружения. Установление контроля над Курахово существенно затруднило тыловое и техническое обеспечение группировки ВСУ на...', 'labels': ['pro-russian', 'pro-ukrainian'], 'scores': [0.5224400162696838, 0.47755998373031616]}, {'sequence': 'Дорогие земляки, поздравления с наступающим Новым годом от наших ребят. Спасибо нашим ребятам за то, что они делают. За защиту, за стойкость, за мужество, за всё. 🙏 ', 'labels': ['pro-russian', 'pro-ukrainian'], 'scores': [0.5769591331481934, 0.4230407774448395]}, {'sequence': ' ❗️Сообщают о взрыве в Ровном', 'labels': ['pro-ukrainian', 'pro-russian'], 'scores': [0.5535135865211487, 0.44648638367652893]}, {'sequence': 'СВЕТЛОГО РОЖДЕСТВА 🎄\\nМира, любви и здоровья в Каждый ДОМ 🏠\\n\\n\\n\\n✈️ https://t.me/klever_flowers_mrpl\\n📷 https://instagram.com/klever_flowers.mrpl\\n🧷+79494999949 ', 'labels': ['pro-russian', 'pro-ukrainian'], 'scores': [0.6062637567520142, 0.39373621344566345]}]\n"
          ]
        }
      ],
      "source": [
        "candidate_labels = [\"pro-russian\",'pro-ukrainian']\n",
        "output = classifier(list(results_df_all['all_text_prep'].values), candidate_labels, multi_label=False)\n",
        "print(output)"
      ]
    },
    {
      "cell_type": "code",
      "execution_count": null,
      "metadata": {
        "id": "T1G6HMW-fukr"
      },
      "outputs": [],
      "source": [
        "results2 = pd.DataFrame([\n",
        "    {\n",
        "        **{label: score for label, score in zip(item['labels'], item['scores'])}\n",
        "    }\n",
        "    for item in output\n",
        "])"
      ]
    },
    {
      "cell_type": "code",
      "execution_count": null,
      "metadata": {
        "colab": {
          "base_uri": "https://localhost:8080/",
          "height": 419
        },
        "id": "tdrFrjq0n_25",
        "outputId": "bc288a74-9297-4ee4-c715-8a149b8099db"
      },
      "outputs": [
        {
          "data": {
            "application/vnd.google.colaboratory.intrinsic+json": {
              "summary": "{\n  \"name\": \"results2\",\n  \"rows\": 500,\n  \"fields\": [\n    {\n      \"column\": \"pro-ukrainian\",\n      \"properties\": {\n        \"dtype\": \"number\",\n        \"std\": 0.1198721640354775,\n        \"min\": 0.03248392418026924,\n        \"max\": 0.9923657774925232,\n        \"num_unique_values\": 493,\n        \"samples\": [\n          0.4845197796821594,\n          0.40346765518188477,\n          0.5190863609313965\n        ],\n        \"semantic_type\": \"\",\n        \"description\": \"\"\n      }\n    },\n    {\n      \"column\": \"pro-russian\",\n      \"properties\": {\n        \"dtype\": \"number\",\n        \"std\": 0.1198721652177578,\n        \"min\": 0.0076341950334608555,\n        \"max\": 0.9675160646438599,\n        \"num_unique_values\": 494,\n        \"samples\": [\n          0.5154802203178406,\n          0.5965322852134705,\n          0.4809136986732483\n        ],\n        \"semantic_type\": \"\",\n        \"description\": \"\"\n      }\n    }\n  ]\n}",
              "type": "dataframe",
              "variable_name": "results2"
            },
            "text/html": [
              "\n",
              "  <div id=\"df-7557bb8d-5df1-453f-b1b2-2652b0d48661\" class=\"colab-df-container\">\n",
              "    <div>\n",
              "<style scoped>\n",
              "    .dataframe tbody tr th:only-of-type {\n",
              "        vertical-align: middle;\n",
              "    }\n",
              "\n",
              "    .dataframe tbody tr th {\n",
              "        vertical-align: top;\n",
              "    }\n",
              "\n",
              "    .dataframe thead th {\n",
              "        text-align: right;\n",
              "    }\n",
              "</style>\n",
              "<table border=\"1\" class=\"dataframe\">\n",
              "  <thead>\n",
              "    <tr style=\"text-align: right;\">\n",
              "      <th></th>\n",
              "      <th>pro-ukrainian</th>\n",
              "      <th>pro-russian</th>\n",
              "    </tr>\n",
              "  </thead>\n",
              "  <tbody>\n",
              "    <tr>\n",
              "      <th>0</th>\n",
              "      <td>0.511689</td>\n",
              "      <td>0.488311</td>\n",
              "    </tr>\n",
              "    <tr>\n",
              "      <th>1</th>\n",
              "      <td>0.455062</td>\n",
              "      <td>0.544938</td>\n",
              "    </tr>\n",
              "    <tr>\n",
              "      <th>2</th>\n",
              "      <td>0.638906</td>\n",
              "      <td>0.361094</td>\n",
              "    </tr>\n",
              "    <tr>\n",
              "      <th>3</th>\n",
              "      <td>0.477264</td>\n",
              "      <td>0.522736</td>\n",
              "    </tr>\n",
              "    <tr>\n",
              "      <th>4</th>\n",
              "      <td>0.643907</td>\n",
              "      <td>0.356093</td>\n",
              "    </tr>\n",
              "    <tr>\n",
              "      <th>...</th>\n",
              "      <td>...</td>\n",
              "      <td>...</td>\n",
              "    </tr>\n",
              "    <tr>\n",
              "      <th>495</th>\n",
              "      <td>0.588331</td>\n",
              "      <td>0.411669</td>\n",
              "    </tr>\n",
              "    <tr>\n",
              "      <th>496</th>\n",
              "      <td>0.477560</td>\n",
              "      <td>0.522440</td>\n",
              "    </tr>\n",
              "    <tr>\n",
              "      <th>497</th>\n",
              "      <td>0.423041</td>\n",
              "      <td>0.576959</td>\n",
              "    </tr>\n",
              "    <tr>\n",
              "      <th>498</th>\n",
              "      <td>0.553514</td>\n",
              "      <td>0.446486</td>\n",
              "    </tr>\n",
              "    <tr>\n",
              "      <th>499</th>\n",
              "      <td>0.393736</td>\n",
              "      <td>0.606264</td>\n",
              "    </tr>\n",
              "  </tbody>\n",
              "</table>\n",
              "<p>500 rows × 2 columns</p>\n",
              "</div>\n",
              "    <div class=\"colab-df-buttons\">\n",
              "\n",
              "  <div class=\"colab-df-container\">\n",
              "    <button class=\"colab-df-convert\" onclick=\"convertToInteractive('df-7557bb8d-5df1-453f-b1b2-2652b0d48661')\"\n",
              "            title=\"Convert this dataframe to an interactive table.\"\n",
              "            style=\"display:none;\">\n",
              "\n",
              "  <svg xmlns=\"http://www.w3.org/2000/svg\" height=\"24px\" viewBox=\"0 -960 960 960\">\n",
              "    <path d=\"M120-120v-720h720v720H120Zm60-500h600v-160H180v160Zm220 220h160v-160H400v160Zm0 220h160v-160H400v160ZM180-400h160v-160H180v160Zm440 0h160v-160H620v160ZM180-180h160v-160H180v160Zm440 0h160v-160H620v160Z\"/>\n",
              "  </svg>\n",
              "    </button>\n",
              "\n",
              "  <style>\n",
              "    .colab-df-container {\n",
              "      display:flex;\n",
              "      gap: 12px;\n",
              "    }\n",
              "\n",
              "    .colab-df-convert {\n",
              "      background-color: #E8F0FE;\n",
              "      border: none;\n",
              "      border-radius: 50%;\n",
              "      cursor: pointer;\n",
              "      display: none;\n",
              "      fill: #1967D2;\n",
              "      height: 32px;\n",
              "      padding: 0 0 0 0;\n",
              "      width: 32px;\n",
              "    }\n",
              "\n",
              "    .colab-df-convert:hover {\n",
              "      background-color: #E2EBFA;\n",
              "      box-shadow: 0px 1px 2px rgba(60, 64, 67, 0.3), 0px 1px 3px 1px rgba(60, 64, 67, 0.15);\n",
              "      fill: #174EA6;\n",
              "    }\n",
              "\n",
              "    .colab-df-buttons div {\n",
              "      margin-bottom: 4px;\n",
              "    }\n",
              "\n",
              "    [theme=dark] .colab-df-convert {\n",
              "      background-color: #3B4455;\n",
              "      fill: #D2E3FC;\n",
              "    }\n",
              "\n",
              "    [theme=dark] .colab-df-convert:hover {\n",
              "      background-color: #434B5C;\n",
              "      box-shadow: 0px 1px 3px 1px rgba(0, 0, 0, 0.15);\n",
              "      filter: drop-shadow(0px 1px 2px rgba(0, 0, 0, 0.3));\n",
              "      fill: #FFFFFF;\n",
              "    }\n",
              "  </style>\n",
              "\n",
              "    <script>\n",
              "      const buttonEl =\n",
              "        document.querySelector('#df-7557bb8d-5df1-453f-b1b2-2652b0d48661 button.colab-df-convert');\n",
              "      buttonEl.style.display =\n",
              "        google.colab.kernel.accessAllowed ? 'block' : 'none';\n",
              "\n",
              "      async function convertToInteractive(key) {\n",
              "        const element = document.querySelector('#df-7557bb8d-5df1-453f-b1b2-2652b0d48661');\n",
              "        const dataTable =\n",
              "          await google.colab.kernel.invokeFunction('convertToInteractive',\n",
              "                                                    [key], {});\n",
              "        if (!dataTable) return;\n",
              "\n",
              "        const docLinkHtml = 'Like what you see? Visit the ' +\n",
              "          '<a target=\"_blank\" href=https://colab.research.google.com/notebooks/data_table.ipynb>data table notebook</a>'\n",
              "          + ' to learn more about interactive tables.';\n",
              "        element.innerHTML = '';\n",
              "        dataTable['output_type'] = 'display_data';\n",
              "        await google.colab.output.renderOutput(dataTable, element);\n",
              "        const docLink = document.createElement('div');\n",
              "        docLink.innerHTML = docLinkHtml;\n",
              "        element.appendChild(docLink);\n",
              "      }\n",
              "    </script>\n",
              "  </div>\n",
              "\n",
              "\n",
              "<div id=\"df-91ee17ee-b48e-4349-93bd-ba9805e9ff57\">\n",
              "  <button class=\"colab-df-quickchart\" onclick=\"quickchart('df-91ee17ee-b48e-4349-93bd-ba9805e9ff57')\"\n",
              "            title=\"Suggest charts\"\n",
              "            style=\"display:none;\">\n",
              "\n",
              "<svg xmlns=\"http://www.w3.org/2000/svg\" height=\"24px\"viewBox=\"0 0 24 24\"\n",
              "     width=\"24px\">\n",
              "    <g>\n",
              "        <path d=\"M19 3H5c-1.1 0-2 .9-2 2v14c0 1.1.9 2 2 2h14c1.1 0 2-.9 2-2V5c0-1.1-.9-2-2-2zM9 17H7v-7h2v7zm4 0h-2V7h2v10zm4 0h-2v-4h2v4z\"/>\n",
              "    </g>\n",
              "</svg>\n",
              "  </button>\n",
              "\n",
              "<style>\n",
              "  .colab-df-quickchart {\n",
              "      --bg-color: #E8F0FE;\n",
              "      --fill-color: #1967D2;\n",
              "      --hover-bg-color: #E2EBFA;\n",
              "      --hover-fill-color: #174EA6;\n",
              "      --disabled-fill-color: #AAA;\n",
              "      --disabled-bg-color: #DDD;\n",
              "  }\n",
              "\n",
              "  [theme=dark] .colab-df-quickchart {\n",
              "      --bg-color: #3B4455;\n",
              "      --fill-color: #D2E3FC;\n",
              "      --hover-bg-color: #434B5C;\n",
              "      --hover-fill-color: #FFFFFF;\n",
              "      --disabled-bg-color: #3B4455;\n",
              "      --disabled-fill-color: #666;\n",
              "  }\n",
              "\n",
              "  .colab-df-quickchart {\n",
              "    background-color: var(--bg-color);\n",
              "    border: none;\n",
              "    border-radius: 50%;\n",
              "    cursor: pointer;\n",
              "    display: none;\n",
              "    fill: var(--fill-color);\n",
              "    height: 32px;\n",
              "    padding: 0;\n",
              "    width: 32px;\n",
              "  }\n",
              "\n",
              "  .colab-df-quickchart:hover {\n",
              "    background-color: var(--hover-bg-color);\n",
              "    box-shadow: 0 1px 2px rgba(60, 64, 67, 0.3), 0 1px 3px 1px rgba(60, 64, 67, 0.15);\n",
              "    fill: var(--button-hover-fill-color);\n",
              "  }\n",
              "\n",
              "  .colab-df-quickchart-complete:disabled,\n",
              "  .colab-df-quickchart-complete:disabled:hover {\n",
              "    background-color: var(--disabled-bg-color);\n",
              "    fill: var(--disabled-fill-color);\n",
              "    box-shadow: none;\n",
              "  }\n",
              "\n",
              "  .colab-df-spinner {\n",
              "    border: 2px solid var(--fill-color);\n",
              "    border-color: transparent;\n",
              "    border-bottom-color: var(--fill-color);\n",
              "    animation:\n",
              "      spin 1s steps(1) infinite;\n",
              "  }\n",
              "\n",
              "  @keyframes spin {\n",
              "    0% {\n",
              "      border-color: transparent;\n",
              "      border-bottom-color: var(--fill-color);\n",
              "      border-left-color: var(--fill-color);\n",
              "    }\n",
              "    20% {\n",
              "      border-color: transparent;\n",
              "      border-left-color: var(--fill-color);\n",
              "      border-top-color: var(--fill-color);\n",
              "    }\n",
              "    30% {\n",
              "      border-color: transparent;\n",
              "      border-left-color: var(--fill-color);\n",
              "      border-top-color: var(--fill-color);\n",
              "      border-right-color: var(--fill-color);\n",
              "    }\n",
              "    40% {\n",
              "      border-color: transparent;\n",
              "      border-right-color: var(--fill-color);\n",
              "      border-top-color: var(--fill-color);\n",
              "    }\n",
              "    60% {\n",
              "      border-color: transparent;\n",
              "      border-right-color: var(--fill-color);\n",
              "    }\n",
              "    80% {\n",
              "      border-color: transparent;\n",
              "      border-right-color: var(--fill-color);\n",
              "      border-bottom-color: var(--fill-color);\n",
              "    }\n",
              "    90% {\n",
              "      border-color: transparent;\n",
              "      border-bottom-color: var(--fill-color);\n",
              "    }\n",
              "  }\n",
              "</style>\n",
              "\n",
              "  <script>\n",
              "    async function quickchart(key) {\n",
              "      const quickchartButtonEl =\n",
              "        document.querySelector('#' + key + ' button');\n",
              "      quickchartButtonEl.disabled = true;  // To prevent multiple clicks.\n",
              "      quickchartButtonEl.classList.add('colab-df-spinner');\n",
              "      try {\n",
              "        const charts = await google.colab.kernel.invokeFunction(\n",
              "            'suggestCharts', [key], {});\n",
              "      } catch (error) {\n",
              "        console.error('Error during call to suggestCharts:', error);\n",
              "      }\n",
              "      quickchartButtonEl.classList.remove('colab-df-spinner');\n",
              "      quickchartButtonEl.classList.add('colab-df-quickchart-complete');\n",
              "    }\n",
              "    (() => {\n",
              "      let quickchartButtonEl =\n",
              "        document.querySelector('#df-91ee17ee-b48e-4349-93bd-ba9805e9ff57 button');\n",
              "      quickchartButtonEl.style.display =\n",
              "        google.colab.kernel.accessAllowed ? 'block' : 'none';\n",
              "    })();\n",
              "  </script>\n",
              "</div>\n",
              "\n",
              "  <div id=\"id_aec440e7-3b64-43c6-ab40-6dbfed0da578\">\n",
              "    <style>\n",
              "      .colab-df-generate {\n",
              "        background-color: #E8F0FE;\n",
              "        border: none;\n",
              "        border-radius: 50%;\n",
              "        cursor: pointer;\n",
              "        display: none;\n",
              "        fill: #1967D2;\n",
              "        height: 32px;\n",
              "        padding: 0 0 0 0;\n",
              "        width: 32px;\n",
              "      }\n",
              "\n",
              "      .colab-df-generate:hover {\n",
              "        background-color: #E2EBFA;\n",
              "        box-shadow: 0px 1px 2px rgba(60, 64, 67, 0.3), 0px 1px 3px 1px rgba(60, 64, 67, 0.15);\n",
              "        fill: #174EA6;\n",
              "      }\n",
              "\n",
              "      [theme=dark] .colab-df-generate {\n",
              "        background-color: #3B4455;\n",
              "        fill: #D2E3FC;\n",
              "      }\n",
              "\n",
              "      [theme=dark] .colab-df-generate:hover {\n",
              "        background-color: #434B5C;\n",
              "        box-shadow: 0px 1px 3px 1px rgba(0, 0, 0, 0.15);\n",
              "        filter: drop-shadow(0px 1px 2px rgba(0, 0, 0, 0.3));\n",
              "        fill: #FFFFFF;\n",
              "      }\n",
              "    </style>\n",
              "    <button class=\"colab-df-generate\" onclick=\"generateWithVariable('results2')\"\n",
              "            title=\"Generate code using this dataframe.\"\n",
              "            style=\"display:none;\">\n",
              "\n",
              "  <svg xmlns=\"http://www.w3.org/2000/svg\" height=\"24px\"viewBox=\"0 0 24 24\"\n",
              "       width=\"24px\">\n",
              "    <path d=\"M7,19H8.4L18.45,9,17,7.55,7,17.6ZM5,21V16.75L18.45,3.32a2,2,0,0,1,2.83,0l1.4,1.43a1.91,1.91,0,0,1,.58,1.4,1.91,1.91,0,0,1-.58,1.4L9.25,21ZM18.45,9,17,7.55Zm-12,3A5.31,5.31,0,0,0,4.9,8.1,5.31,5.31,0,0,0,1,6.5,5.31,5.31,0,0,0,4.9,4.9,5.31,5.31,0,0,0,6.5,1,5.31,5.31,0,0,0,8.1,4.9,5.31,5.31,0,0,0,12,6.5,5.46,5.46,0,0,0,6.5,12Z\"/>\n",
              "  </svg>\n",
              "    </button>\n",
              "    <script>\n",
              "      (() => {\n",
              "      const buttonEl =\n",
              "        document.querySelector('#id_aec440e7-3b64-43c6-ab40-6dbfed0da578 button.colab-df-generate');\n",
              "      buttonEl.style.display =\n",
              "        google.colab.kernel.accessAllowed ? 'block' : 'none';\n",
              "\n",
              "      buttonEl.onclick = () => {\n",
              "        google.colab.notebook.generateWithVariable('results2');\n",
              "      }\n",
              "      })();\n",
              "    </script>\n",
              "  </div>\n",
              "\n",
              "    </div>\n",
              "  </div>\n"
            ],
            "text/plain": [
              "     pro-ukrainian  pro-russian\n",
              "0         0.511689     0.488311\n",
              "1         0.455062     0.544938\n",
              "2         0.638906     0.361094\n",
              "3         0.477264     0.522736\n",
              "4         0.643907     0.356093\n",
              "..             ...          ...\n",
              "495       0.588331     0.411669\n",
              "496       0.477560     0.522440\n",
              "497       0.423041     0.576959\n",
              "498       0.553514     0.446486\n",
              "499       0.393736     0.606264\n",
              "\n",
              "[500 rows x 2 columns]"
            ]
          },
          "execution_count": 31,
          "metadata": {},
          "output_type": "execute_result"
        }
      ],
      "source": [
        "results2"
      ]
    },
    {
      "cell_type": "code",
      "execution_count": null,
      "metadata": {
        "id": "Wz8yWNnSXFiX"
      },
      "outputs": [],
      "source": []
    },
    {
      "cell_type": "code",
      "execution_count": null,
      "metadata": {
        "id": "TA0F6nGTjELS"
      },
      "outputs": [],
      "source": [
        "results2.columns = ['pro-ukrainian-mDeBERTa','pro-russian-mDeBERTa']"
      ]
    },
    {
      "cell_type": "markdown",
      "metadata": {
        "id": "CgR0_eVTuC-x"
      },
      "source": [
        "### 2.3 Custom models\n",
        "\n",
        "Fine-tuning a language model: https://huggingface.co/docs/transformers/en/training\n",
        "\n",
        "Ukraine POV model: https://huggingface.co/YaraKyrychenko/ukraine-war-pov"
      ]
    },
    {
      "cell_type": "code",
      "execution_count": null,
      "metadata": {
        "colab": {
          "base_uri": "https://localhost:8080/",
          "height": 195
        },
        "id": "BY-qicpHuBFe",
        "outputId": "481adfb2-74e6-41ab-c775-acfad47551fb"
      },
      "outputs": [
        {
          "data": {
            "application/vnd.jupyter.widget-view+json": {
              "model_id": "cb405cb872714bd99700a03395d764ae",
              "version_major": 2,
              "version_minor": 0
            },
            "text/plain": [
              "config.json:   0%|          | 0.00/902 [00:00<?, ?B/s]"
            ]
          },
          "metadata": {},
          "output_type": "display_data"
        },
        {
          "data": {
            "application/vnd.jupyter.widget-view+json": {
              "model_id": "6abd853ed0b447eb93eff3e0ce194537",
              "version_major": 2,
              "version_minor": 0
            },
            "text/plain": [
              "pytorch_model.bin:   0%|          | 0.00/1.11G [00:00<?, ?B/s]"
            ]
          },
          "metadata": {},
          "output_type": "display_data"
        },
        {
          "data": {
            "application/vnd.jupyter.widget-view+json": {
              "model_id": "003d457cf65746d981d9aa325ea6781e",
              "version_major": 2,
              "version_minor": 0
            },
            "text/plain": [
              "tokenizer_config.json:   0%|          | 0.00/438 [00:00<?, ?B/s]"
            ]
          },
          "metadata": {},
          "output_type": "display_data"
        },
        {
          "data": {
            "application/vnd.jupyter.widget-view+json": {
              "model_id": "5b118f209e1c431f86d954c9135738d0",
              "version_major": 2,
              "version_minor": 0
            },
            "text/plain": [
              "sentencepiece.bpe.model:   0%|          | 0.00/5.07M [00:00<?, ?B/s]"
            ]
          },
          "metadata": {},
          "output_type": "display_data"
        },
        {
          "data": {
            "application/vnd.jupyter.widget-view+json": {
              "model_id": "83eb63f3b26246de868e2e8c341a880f",
              "version_major": 2,
              "version_minor": 0
            },
            "text/plain": [
              "special_tokens_map.json:   0%|          | 0.00/279 [00:00<?, ?B/s]"
            ]
          },
          "metadata": {},
          "output_type": "display_data"
        },
        {
          "name": "stderr",
          "output_type": "stream",
          "text": [
            "Device set to use cpu\n"
          ]
        }
      ],
      "source": [
        "custom_classifier = pipeline(\"text-classification\",\n",
        "                             model='YaraKyrychenko/ukraine-war-pov',\n",
        "                             device=0 if torch.cuda.is_available() else -1)"
      ]
    },
    {
      "cell_type": "code",
      "execution_count": null,
      "metadata": {
        "colab": {
          "base_uri": "https://localhost:8080/"
        },
        "id": "pLeiZBr6ueMK",
        "outputId": "806f82dd-c10b-4c2d-8739-e97e3e78c92b"
      },
      "outputs": [
        {
          "name": "stderr",
          "output_type": "stream",
          "text": [
            "/usr/local/lib/python3.10/dist-packages/transformers/pipelines/text_classification.py:106: UserWarning: `return_all_scores` is now deprecated,  if want a similar functionality use `top_k=None` instead of `return_all_scores=True` or `top_k=1` instead of `return_all_scores=False`.\n",
            "  warnings.warn(\n"
          ]
        },
        {
          "name": "stdout",
          "output_type": "stream",
          "text": [
            "[[{'label': 'proukrainian', 'score': 0.995915949344635}, {'label': 'prorussian', 'score': 0.004084078595042229}], [{'label': 'proukrainian', 'score': 0.007027463521808386}, {'label': 'prorussian', 'score': 0.9929724931716919}], [{'label': 'proukrainian', 'score': 0.006853173486888409}, {'label': 'prorussian', 'score': 0.9931468367576599}], [{'label': 'proukrainian', 'score': 0.9957699179649353}, {'label': 'prorussian', 'score': 0.004230044782161713}], [{'label': 'proukrainian', 'score': 0.9958264231681824}, {'label': 'prorussian', 'score': 0.00417356239631772}], [{'label': 'proukrainian', 'score': 0.9954093098640442}, {'label': 'prorussian', 'score': 0.004590619821101427}], [{'label': 'proukrainian', 'score': 0.8309731483459473}, {'label': 'prorussian', 'score': 0.1690269112586975}], [{'label': 'proukrainian', 'score': 0.006775944493710995}, {'label': 'prorussian', 'score': 0.993224024772644}], [{'label': 'proukrainian', 'score': 0.22608648240566254}, {'label': 'prorussian', 'score': 0.7739135026931763}], [{'label': 'proukrainian', 'score': 0.9959127306938171}, {'label': 'prorussian', 'score': 0.0040873028337955475}], [{'label': 'proukrainian', 'score': 0.9957536458969116}, {'label': 'prorussian', 'score': 0.0042463745921850204}], [{'label': 'proukrainian', 'score': 0.0067516108974814415}, {'label': 'prorussian', 'score': 0.9932483434677124}], [{'label': 'proukrainian', 'score': 0.9957641363143921}, {'label': 'prorussian', 'score': 0.004235899541527033}], [{'label': 'proukrainian', 'score': 0.012801920995116234}, {'label': 'prorussian', 'score': 0.9871980547904968}], [{'label': 'proukrainian', 'score': 0.9958012700080872}, {'label': 'prorussian', 'score': 0.004198755137622356}], [{'label': 'proukrainian', 'score': 0.9957981705665588}, {'label': 'prorussian', 'score': 0.004201843403279781}], [{'label': 'proukrainian', 'score': 0.9957956075668335}, {'label': 'prorussian', 'score': 0.004204363562166691}], [{'label': 'proukrainian', 'score': 0.9958239793777466}, {'label': 'prorussian', 'score': 0.004176062531769276}], [{'label': 'proukrainian', 'score': 0.9958786964416504}, {'label': 'prorussian', 'score': 0.0041213259100914}], [{'label': 'proukrainian', 'score': 0.9958710074424744}, {'label': 'prorussian', 'score': 0.004128937143832445}], [{'label': 'proukrainian', 'score': 0.9958912134170532}, {'label': 'prorussian', 'score': 0.004108720924705267}], [{'label': 'proukrainian', 'score': 0.995928943157196}, {'label': 'prorussian', 'score': 0.004071038216352463}], [{'label': 'proukrainian', 'score': 0.9959068298339844}, {'label': 'prorussian', 'score': 0.00409315712749958}], [{'label': 'proukrainian', 'score': 0.9957150816917419}, {'label': 'prorussian', 'score': 0.004284845665097237}], [{'label': 'proukrainian', 'score': 0.9958246946334839}, {'label': 'prorussian', 'score': 0.004175334237515926}], [{'label': 'proukrainian', 'score': 0.9958025813102722}, {'label': 'prorussian', 'score': 0.004197474103420973}], [{'label': 'proukrainian', 'score': 0.9958832263946533}, {'label': 'prorussian', 'score': 0.004116795491427183}], [{'label': 'proukrainian', 'score': 0.9959039092063904}, {'label': 'prorussian', 'score': 0.004096136428415775}], [{'label': 'proukrainian', 'score': 0.995890200138092}, {'label': 'prorussian', 'score': 0.004109786357730627}], [{'label': 'proukrainian', 'score': 0.9501383304595947}, {'label': 'prorussian', 'score': 0.04986163228750229}], [{'label': 'proukrainian', 'score': 0.9959089756011963}, {'label': 'prorussian', 'score': 0.0040909964591264725}], [{'label': 'proukrainian', 'score': 0.9958837628364563}, {'label': 'prorussian', 'score': 0.004116263706237078}], [{'label': 'proukrainian', 'score': 0.9958702921867371}, {'label': 'prorussian', 'score': 0.004129666835069656}], [{'label': 'proukrainian', 'score': 0.9959563612937927}, {'label': 'prorussian', 'score': 0.004043615888804197}], [{'label': 'proukrainian', 'score': 0.9845669865608215}, {'label': 'prorussian', 'score': 0.01543307863175869}], [{'label': 'proukrainian', 'score': 0.9958894848823547}, {'label': 'prorussian', 'score': 0.004110497888177633}], [{'label': 'proukrainian', 'score': 0.9959004521369934}, {'label': 'prorussian', 'score': 0.004099533427506685}], [{'label': 'proukrainian', 'score': 0.9959216117858887}, {'label': 'prorussian', 'score': 0.004078330006450415}], [{'label': 'proukrainian', 'score': 0.9958813190460205}, {'label': 'prorussian', 'score': 0.004118739161640406}], [{'label': 'proukrainian', 'score': 0.0068934885784983635}, {'label': 'prorussian', 'score': 0.9931065440177917}], [{'label': 'proukrainian', 'score': 0.2885725796222687}, {'label': 'prorussian', 'score': 0.7114274501800537}], [{'label': 'proukrainian', 'score': 0.9958655834197998}, {'label': 'prorussian', 'score': 0.004134372342377901}], [{'label': 'proukrainian', 'score': 0.9957550764083862}, {'label': 'prorussian', 'score': 0.00424489751458168}], [{'label': 'proukrainian', 'score': 0.9958771467208862}, {'label': 'prorussian', 'score': 0.004122799728065729}], [{'label': 'proukrainian', 'score': 0.13635104894638062}, {'label': 'prorussian', 'score': 0.8636490106582642}], [{'label': 'proukrainian', 'score': 0.995988667011261}, {'label': 'prorussian', 'score': 0.004011319950222969}], [{'label': 'proukrainian', 'score': 0.9957793951034546}, {'label': 'prorussian', 'score': 0.004220558796077967}], [{'label': 'proukrainian', 'score': 0.9958686828613281}, {'label': 'prorussian', 'score': 0.004131401423364878}], [{'label': 'proukrainian', 'score': 0.995862603187561}, {'label': 'prorussian', 'score': 0.004137369338423014}], [{'label': 'proukrainian', 'score': 0.02437073551118374}, {'label': 'prorussian', 'score': 0.9756292700767517}], [{'label': 'proukrainian', 'score': 0.007206338923424482}, {'label': 'prorussian', 'score': 0.9927936792373657}], [{'label': 'proukrainian', 'score': 0.6425589919090271}, {'label': 'prorussian', 'score': 0.3574410378932953}], [{'label': 'proukrainian', 'score': 0.9959176182746887}, {'label': 'prorussian', 'score': 0.004082337021827698}], [{'label': 'proukrainian', 'score': 0.9959046244621277}, {'label': 'prorussian', 'score': 0.004095397423952818}], [{'label': 'proukrainian', 'score': 0.9956879019737244}, {'label': 'prorussian', 'score': 0.004312099888920784}], [{'label': 'proukrainian', 'score': 0.995882511138916}, {'label': 'prorussian', 'score': 0.0041175344958901405}], [{'label': 'proukrainian', 'score': 0.9958829879760742}, {'label': 'prorussian', 'score': 0.004116982687264681}], [{'label': 'proukrainian', 'score': 0.9959075450897217}, {'label': 'prorussian', 'score': 0.004092410672456026}], [{'label': 'proukrainian', 'score': 0.9304177165031433}, {'label': 'prorussian', 'score': 0.06958223134279251}], [{'label': 'proukrainian', 'score': 0.9958498477935791}, {'label': 'prorussian', 'score': 0.004150123801082373}], [{'label': 'proukrainian', 'score': 0.013594940304756165}, {'label': 'prorussian', 'score': 0.9864051342010498}], [{'label': 'proukrainian', 'score': 0.9959458708763123}, {'label': 'prorussian', 'score': 0.0040541416965425014}], [{'label': 'proukrainian', 'score': 0.9959034323692322}, {'label': 'prorussian', 'score': 0.004096612799912691}], [{'label': 'proukrainian', 'score': 0.9959157109260559}, {'label': 'prorussian', 'score': 0.004084279760718346}], [{'label': 'proukrainian', 'score': 0.9958814382553101}, {'label': 'prorussian', 'score': 0.0041185589507222176}], [{'label': 'proukrainian', 'score': 0.9958893656730652}, {'label': 'prorussian', 'score': 0.004110635723918676}], [{'label': 'proukrainian', 'score': 0.9958540201187134}, {'label': 'prorussian', 'score': 0.004146042745560408}], [{'label': 'proukrainian', 'score': 0.9959331154823303}, {'label': 'prorussian', 'score': 0.004066950175911188}], [{'label': 'proukrainian', 'score': 0.9957879185676575}, {'label': 'prorussian', 'score': 0.004212142433971167}], [{'label': 'proukrainian', 'score': 0.9956957101821899}, {'label': 'prorussian', 'score': 0.0043043168261647224}], [{'label': 'proukrainian', 'score': 0.9958518743515015}, {'label': 'prorussian', 'score': 0.004148121923208237}], [{'label': 'proukrainian', 'score': 0.23079292476177216}, {'label': 'prorussian', 'score': 0.7692071199417114}], [{'label': 'proukrainian', 'score': 0.9956093430519104}, {'label': 'prorussian', 'score': 0.004390721209347248}], [{'label': 'proukrainian', 'score': 0.9959644079208374}, {'label': 'prorussian', 'score': 0.004035538993775845}], [{'label': 'proukrainian', 'score': 0.0067517561838030815}, {'label': 'prorussian', 'score': 0.9932482242584229}], [{'label': 'proukrainian', 'score': 0.9958475232124329}, {'label': 'prorussian', 'score': 0.004152556881308556}], [{'label': 'proukrainian', 'score': 0.006785597652196884}, {'label': 'prorussian', 'score': 0.9932143688201904}], [{'label': 'proukrainian', 'score': 0.00688175717368722}, {'label': 'prorussian', 'score': 0.9931182861328125}], [{'label': 'proukrainian', 'score': 0.9958118200302124}, {'label': 'prorussian', 'score': 0.004188231658190489}], [{'label': 'proukrainian', 'score': 0.007005967199802399}, {'label': 'prorussian', 'score': 0.9929940104484558}], [{'label': 'proukrainian', 'score': 0.007233352866023779}, {'label': 'prorussian', 'score': 0.9927666187286377}], [{'label': 'proukrainian', 'score': 0.9957882761955261}, {'label': 'prorussian', 'score': 0.004211790394037962}], [{'label': 'proukrainian', 'score': 0.6018161177635193}, {'label': 'prorussian', 'score': 0.3981839120388031}], [{'label': 'proukrainian', 'score': 0.0753805860877037}, {'label': 'prorussian', 'score': 0.9246194362640381}], [{'label': 'proukrainian', 'score': 0.006753940600901842}, {'label': 'prorussian', 'score': 0.9932460784912109}], [{'label': 'proukrainian', 'score': 0.9959815740585327}, {'label': 'prorussian', 'score': 0.004018411040306091}], [{'label': 'proukrainian', 'score': 0.9699970483779907}, {'label': 'prorussian', 'score': 0.03000294603407383}], [{'label': 'proukrainian', 'score': 0.9958608746528625}, {'label': 'prorussian', 'score': 0.004139205440878868}], [{'label': 'proukrainian', 'score': 0.9957991242408752}, {'label': 'prorussian', 'score': 0.004200851544737816}], [{'label': 'proukrainian', 'score': 0.9395692944526672}, {'label': 'prorussian', 'score': 0.060430679470300674}], [{'label': 'proukrainian', 'score': 0.08514168858528137}, {'label': 'prorussian', 'score': 0.9148582816123962}], [{'label': 'proukrainian', 'score': 0.006804244127124548}, {'label': 'prorussian', 'score': 0.9931957721710205}], [{'label': 'proukrainian', 'score': 0.9957987666130066}, {'label': 'prorussian', 'score': 0.004201172385364771}], [{'label': 'proukrainian', 'score': 0.9806532859802246}, {'label': 'prorussian', 'score': 0.019346777349710464}], [{'label': 'proukrainian', 'score': 0.007063932251185179}, {'label': 'prorussian', 'score': 0.9929360747337341}], [{'label': 'proukrainian', 'score': 0.9958970546722412}, {'label': 'prorussian', 'score': 0.00410293648019433}], [{'label': 'proukrainian', 'score': 0.9958491325378418}, {'label': 'prorussian', 'score': 0.0041508967988193035}], [{'label': 'proukrainian', 'score': 0.9957613348960876}, {'label': 'prorussian', 'score': 0.004238698165863752}], [{'label': 'proukrainian', 'score': 0.024510450661182404}, {'label': 'prorussian', 'score': 0.9754894971847534}], [{'label': 'proukrainian', 'score': 0.9958508014678955}, {'label': 'prorussian', 'score': 0.004149187821894884}], [{'label': 'proukrainian', 'score': 0.006740032695233822}, {'label': 'prorussian', 'score': 0.9932599663734436}], [{'label': 'proukrainian', 'score': 0.011856164783239365}, {'label': 'prorussian', 'score': 0.9881438612937927}], [{'label': 'proukrainian', 'score': 0.9959017634391785}, {'label': 'prorussian', 'score': 0.004098231438547373}], [{'label': 'proukrainian', 'score': 0.07154912501573563}, {'label': 'prorussian', 'score': 0.9284509420394897}], [{'label': 'proukrainian', 'score': 0.9958782196044922}, {'label': 'prorussian', 'score': 0.004121771547943354}], [{'label': 'proukrainian', 'score': 0.006745161954313517}, {'label': 'prorussian', 'score': 0.9932548403739929}], [{'label': 'proukrainian', 'score': 0.9958944320678711}, {'label': 'prorussian', 'score': 0.004105577245354652}], [{'label': 'proukrainian', 'score': 0.9183540940284729}, {'label': 'prorussian', 'score': 0.0816459134221077}], [{'label': 'proukrainian', 'score': 0.9958457350730896}, {'label': 'prorussian', 'score': 0.00415432034060359}], [{'label': 'proukrainian', 'score': 0.9957137107849121}, {'label': 'prorussian', 'score': 0.004286367911845446}], [{'label': 'proukrainian', 'score': 0.9959245920181274}, {'label': 'prorussian', 'score': 0.004075377248227596}], [{'label': 'proukrainian', 'score': 0.006718850694596767}, {'label': 'prorussian', 'score': 0.9932811260223389}], [{'label': 'proukrainian', 'score': 0.009728402830660343}, {'label': 'prorussian', 'score': 0.9902716279029846}], [{'label': 'proukrainian', 'score': 0.9955869913101196}, {'label': 'prorussian', 'score': 0.0044130077585577965}], [{'label': 'proukrainian', 'score': 0.9341896176338196}, {'label': 'prorussian', 'score': 0.06581033021211624}], [{'label': 'proukrainian', 'score': 0.7044956088066101}, {'label': 'prorussian', 'score': 0.2955043613910675}], [{'label': 'proukrainian', 'score': 0.9957322478294373}, {'label': 'prorussian', 'score': 0.004267772193998098}], [{'label': 'proukrainian', 'score': 0.007162883877754211}, {'label': 'prorussian', 'score': 0.992837131023407}], [{'label': 'proukrainian', 'score': 0.006855484563857317}, {'label': 'prorussian', 'score': 0.9931445121765137}], [{'label': 'proukrainian', 'score': 0.9958280920982361}, {'label': 'prorussian', 'score': 0.0041718860156834126}], [{'label': 'proukrainian', 'score': 0.015856681391596794}, {'label': 'prorussian', 'score': 0.9841432571411133}], [{'label': 'proukrainian', 'score': 0.9958985447883606}, {'label': 'prorussian', 'score': 0.00410145428031683}], [{'label': 'proukrainian', 'score': 0.9958754181861877}, {'label': 'prorussian', 'score': 0.004124601371586323}], [{'label': 'proukrainian', 'score': 0.010113910771906376}, {'label': 'prorussian', 'score': 0.9898861646652222}], [{'label': 'proukrainian', 'score': 0.006912762764841318}, {'label': 'prorussian', 'score': 0.9930872321128845}], [{'label': 'proukrainian', 'score': 0.01470035221427679}, {'label': 'prorussian', 'score': 0.9852997064590454}], [{'label': 'proukrainian', 'score': 0.9958299994468689}, {'label': 'prorussian', 'score': 0.0041700247675180435}], [{'label': 'proukrainian', 'score': 0.9958536624908447}, {'label': 'prorussian', 'score': 0.004146347753703594}], [{'label': 'proukrainian', 'score': 0.018608734011650085}, {'label': 'prorussian', 'score': 0.9813913106918335}], [{'label': 'proukrainian', 'score': 0.995797872543335}, {'label': 'prorussian', 'score': 0.004202153999358416}], [{'label': 'proukrainian', 'score': 0.015644177794456482}, {'label': 'prorussian', 'score': 0.9843557476997375}], [{'label': 'proukrainian', 'score': 0.9959366321563721}, {'label': 'prorussian', 'score': 0.004063386004418135}], [{'label': 'proukrainian', 'score': 0.8201492428779602}, {'label': 'prorussian', 'score': 0.1798507124185562}], [{'label': 'proukrainian', 'score': 0.9958464503288269}, {'label': 'prorussian', 'score': 0.004153554793447256}], [{'label': 'proukrainian', 'score': 0.006823800038546324}, {'label': 'prorussian', 'score': 0.993176281452179}], [{'label': 'proukrainian', 'score': 0.006722103338688612}, {'label': 'prorussian', 'score': 0.9932778477668762}], [{'label': 'proukrainian', 'score': 0.9958592057228088}, {'label': 'prorussian', 'score': 0.004140781704336405}], [{'label': 'proukrainian', 'score': 0.9958834052085876}, {'label': 'prorussian', 'score': 0.004116568714380264}], [{'label': 'proukrainian', 'score': 0.9958380460739136}, {'label': 'prorussian', 'score': 0.00416193762794137}], [{'label': 'proukrainian', 'score': 0.007034141104668379}, {'label': 'prorussian', 'score': 0.992965817451477}], [{'label': 'proukrainian', 'score': 0.006798876915127039}, {'label': 'prorussian', 'score': 0.9932010769844055}], [{'label': 'proukrainian', 'score': 0.8843321800231934}, {'label': 'prorussian', 'score': 0.11566784977912903}], [{'label': 'proukrainian', 'score': 0.008194603957235813}, {'label': 'prorussian', 'score': 0.9918054342269897}], [{'label': 'proukrainian', 'score': 0.9957969188690186}, {'label': 'prorussian', 'score': 0.004203115589916706}], [{'label': 'proukrainian', 'score': 0.006816900800913572}, {'label': 'prorussian', 'score': 0.9931830763816833}], [{'label': 'proukrainian', 'score': 0.995919942855835}, {'label': 'prorussian', 'score': 0.004080017097294331}], [{'label': 'proukrainian', 'score': 0.32002174854278564}, {'label': 'prorussian', 'score': 0.6799782514572144}], [{'label': 'proukrainian', 'score': 0.7131828665733337}, {'label': 'prorussian', 'score': 0.28681710362434387}], [{'label': 'proukrainian', 'score': 0.9958454966545105}, {'label': 'prorussian', 'score': 0.0041544679552316666}], [{'label': 'proukrainian', 'score': 0.8259825706481934}, {'label': 'prorussian', 'score': 0.17401741445064545}], [{'label': 'proukrainian', 'score': 0.9958835244178772}, {'label': 'prorussian', 'score': 0.004116419702768326}], [{'label': 'proukrainian', 'score': 0.9380531907081604}, {'label': 'prorussian', 'score': 0.06194683909416199}], [{'label': 'proukrainian', 'score': 0.008653352037072182}, {'label': 'prorussian', 'score': 0.9913466572761536}], [{'label': 'proukrainian', 'score': 0.006840258836746216}, {'label': 'prorussian', 'score': 0.9931597709655762}], [{'label': 'proukrainian', 'score': 0.9958385229110718}, {'label': 'prorussian', 'score': 0.004161441698670387}], [{'label': 'proukrainian', 'score': 0.006784345023334026}, {'label': 'prorussian', 'score': 0.9932156205177307}], [{'label': 'proukrainian', 'score': 0.007524324581027031}, {'label': 'prorussian', 'score': 0.992475688457489}], [{'label': 'proukrainian', 'score': 0.013356667943298817}, {'label': 'prorussian', 'score': 0.9866433143615723}], [{'label': 'proukrainian', 'score': 0.9217528104782104}, {'label': 'prorussian', 'score': 0.07824718952178955}], [{'label': 'proukrainian', 'score': 0.8673576712608337}, {'label': 'prorussian', 'score': 0.13264237344264984}], [{'label': 'proukrainian', 'score': 0.9958752989768982}, {'label': 'prorussian', 'score': 0.004124665167182684}], [{'label': 'proukrainian', 'score': 0.9959250688552856}, {'label': 'prorussian', 'score': 0.004074976313859224}], [{'label': 'proukrainian', 'score': 0.010756158269941807}, {'label': 'prorussian', 'score': 0.9892438650131226}], [{'label': 'proukrainian', 'score': 0.9958348274230957}, {'label': 'prorussian', 'score': 0.0041651129722595215}], [{'label': 'proukrainian', 'score': 0.00836937315762043}, {'label': 'prorussian', 'score': 0.9916306138038635}], [{'label': 'proukrainian', 'score': 0.995864748954773}, {'label': 'prorussian', 'score': 0.004135267809033394}], [{'label': 'proukrainian', 'score': 0.5861994028091431}, {'label': 'prorussian', 'score': 0.41380059719085693}], [{'label': 'proukrainian', 'score': 0.9958083629608154}, {'label': 'prorussian', 'score': 0.004191590007394552}], [{'label': 'proukrainian', 'score': 0.996010422706604}, {'label': 'prorussian', 'score': 0.003989556338638067}], [{'label': 'proukrainian', 'score': 0.011921918019652367}, {'label': 'prorussian', 'score': 0.9880780577659607}], [{'label': 'proukrainian', 'score': 0.0199264083057642}, {'label': 'prorussian', 'score': 0.9800736308097839}], [{'label': 'proukrainian', 'score': 0.99577397108078}, {'label': 'prorussian', 'score': 0.004226061515510082}], [{'label': 'proukrainian', 'score': 0.9958832263946533}, {'label': 'prorussian', 'score': 0.004116849973797798}], [{'label': 'proukrainian', 'score': 0.017291367053985596}, {'label': 'prorussian', 'score': 0.9827086329460144}], [{'label': 'proukrainian', 'score': 0.2439584881067276}, {'label': 'prorussian', 'score': 0.7560415267944336}], [{'label': 'proukrainian', 'score': 0.9957208037376404}, {'label': 'prorussian', 'score': 0.00427923072129488}], [{'label': 'proukrainian', 'score': 0.9958414435386658}, {'label': 'prorussian', 'score': 0.004158500116318464}], [{'label': 'proukrainian', 'score': 0.006950805429369211}, {'label': 'prorussian', 'score': 0.993049144744873}], [{'label': 'proukrainian', 'score': 0.9958006739616394}, {'label': 'prorussian', 'score': 0.0041993181221187115}], [{'label': 'proukrainian', 'score': 0.9956763386726379}, {'label': 'prorussian', 'score': 0.004323673900216818}], [{'label': 'proukrainian', 'score': 0.01144128106534481}, {'label': 'prorussian', 'score': 0.9885587692260742}], [{'label': 'proukrainian', 'score': 0.9957287907600403}, {'label': 'prorussian', 'score': 0.004271216690540314}], [{'label': 'proukrainian', 'score': 0.006717959884554148}, {'label': 'prorussian', 'score': 0.9932820796966553}], [{'label': 'proukrainian', 'score': 0.006705006584525108}, {'label': 'prorussian', 'score': 0.9932950139045715}], [{'label': 'proukrainian', 'score': 0.9036590456962585}, {'label': 'prorussian', 'score': 0.09634096175432205}], [{'label': 'proukrainian', 'score': 0.061142317950725555}, {'label': 'prorussian', 'score': 0.9388576745986938}], [{'label': 'proukrainian', 'score': 0.9958871006965637}, {'label': 'prorussian', 'score': 0.00411295797675848}], [{'label': 'proukrainian', 'score': 0.09610908478498459}, {'label': 'prorussian', 'score': 0.90389084815979}], [{'label': 'proukrainian', 'score': 0.9958369731903076}, {'label': 'prorussian', 'score': 0.004163052421063185}], [{'label': 'proukrainian', 'score': 0.9958869814872742}, {'label': 'prorussian', 'score': 0.004113025963306427}], [{'label': 'proukrainian', 'score': 0.02154858596622944}, {'label': 'prorussian', 'score': 0.9784513711929321}], [{'label': 'proukrainian', 'score': 0.9958919286727905}, {'label': 'prorussian', 'score': 0.004108079709112644}], [{'label': 'proukrainian', 'score': 0.9958946704864502}, {'label': 'prorussian', 'score': 0.004105360712856054}], [{'label': 'proukrainian', 'score': 0.9957951307296753}, {'label': 'prorussian', 'score': 0.004204842261970043}], [{'label': 'proukrainian', 'score': 0.9958058595657349}, {'label': 'prorussian', 'score': 0.004194112494587898}], [{'label': 'proukrainian', 'score': 0.995857298374176}, {'label': 'prorussian', 'score': 0.004142685793340206}], [{'label': 'proukrainian', 'score': 0.006758407689630985}, {'label': 'prorussian', 'score': 0.9932416677474976}], [{'label': 'proukrainian', 'score': 0.9959132075309753}, {'label': 'prorussian', 'score': 0.004086792469024658}], [{'label': 'proukrainian', 'score': 0.026215367019176483}, {'label': 'prorussian', 'score': 0.9737846255302429}], [{'label': 'proukrainian', 'score': 0.9959185719490051}, {'label': 'prorussian', 'score': 0.004081476479768753}], [{'label': 'proukrainian', 'score': 0.9958047270774841}, {'label': 'prorussian', 'score': 0.004195287823677063}], [{'label': 'proukrainian', 'score': 0.9959090948104858}, {'label': 'prorussian', 'score': 0.004090946167707443}], [{'label': 'proukrainian', 'score': 0.9958860278129578}, {'label': 'prorussian', 'score': 0.00411392655223608}], [{'label': 'proukrainian', 'score': 0.9957697987556458}, {'label': 'prorussian', 'score': 0.004230189602822065}], [{'label': 'proukrainian', 'score': 0.011856164783239365}, {'label': 'prorussian', 'score': 0.9881438612937927}], [{'label': 'proukrainian', 'score': 0.9959050416946411}, {'label': 'prorussian', 'score': 0.004094887524843216}], [{'label': 'proukrainian', 'score': 0.9957874417304993}, {'label': 'prorussian', 'score': 0.004212616942822933}], [{'label': 'proukrainian', 'score': 0.9958001971244812}, {'label': 'prorussian', 'score': 0.0041998084634542465}], [{'label': 'proukrainian', 'score': 0.9957999587059021}, {'label': 'prorussian', 'score': 0.0042000398971140385}], [{'label': 'proukrainian', 'score': 0.006742948666214943}, {'label': 'prorussian', 'score': 0.9932570457458496}], [{'label': 'proukrainian', 'score': 0.8313964605331421}, {'label': 'prorussian', 'score': 0.1686035841703415}], [{'label': 'proukrainian', 'score': 0.9959480166435242}, {'label': 'prorussian', 'score': 0.004051989875733852}], [{'label': 'proukrainian', 'score': 0.9957589507102966}, {'label': 'prorussian', 'score': 0.00424098689109087}], [{'label': 'proukrainian', 'score': 0.9957927465438843}, {'label': 'prorussian', 'score': 0.004207289777696133}], [{'label': 'proukrainian', 'score': 0.009135214611887932}, {'label': 'prorussian', 'score': 0.9908648133277893}], [{'label': 'proukrainian', 'score': 0.9959127306938171}, {'label': 'prorussian', 'score': 0.004087207373231649}], [{'label': 'proukrainian', 'score': 0.9958814382553101}, {'label': 'prorussian', 'score': 0.004118523560464382}], [{'label': 'proukrainian', 'score': 0.9957640171051025}, {'label': 'prorussian', 'score': 0.004235945641994476}], [{'label': 'proukrainian', 'score': 0.9955457448959351}, {'label': 'prorussian', 'score': 0.004454228561371565}], [{'label': 'proukrainian', 'score': 0.015242664143443108}, {'label': 'prorussian', 'score': 0.9847573041915894}], [{'label': 'proukrainian', 'score': 0.006983902771025896}, {'label': 'prorussian', 'score': 0.9930161237716675}], [{'label': 'proukrainian', 'score': 0.006727524567395449}, {'label': 'prorussian', 'score': 0.9932724237442017}], [{'label': 'proukrainian', 'score': 0.9958659410476685}, {'label': 'prorussian', 'score': 0.004134050104767084}], [{'label': 'proukrainian', 'score': 0.9956178665161133}, {'label': 'prorussian', 'score': 0.004382132552564144}], [{'label': 'proukrainian', 'score': 0.9957457184791565}, {'label': 'prorussian', 'score': 0.004254334606230259}], [{'label': 'proukrainian', 'score': 0.9957132339477539}, {'label': 'prorussian', 'score': 0.004286768846213818}], [{'label': 'proukrainian', 'score': 0.995926022529602}, {'label': 'prorussian', 'score': 0.00407398771494627}], [{'label': 'proukrainian', 'score': 0.9959659576416016}, {'label': 'prorussian', 'score': 0.004034067969769239}], [{'label': 'proukrainian', 'score': 0.9958896040916443}, {'label': 'prorussian', 'score': 0.004110456444323063}], [{'label': 'proukrainian', 'score': 0.9957947731018066}, {'label': 'prorussian', 'score': 0.004205204080790281}], [{'label': 'proukrainian', 'score': 0.008500147610902786}, {'label': 'prorussian', 'score': 0.9914998412132263}], [{'label': 'proukrainian', 'score': 0.9958124756813049}, {'label': 'prorussian', 'score': 0.004187466576695442}], [{'label': 'proukrainian', 'score': 0.006816606502979994}, {'label': 'prorussian', 'score': 0.993183434009552}], [{'label': 'proukrainian', 'score': 0.006756428629159927}, {'label': 'prorussian', 'score': 0.9932435154914856}], [{'label': 'proukrainian', 'score': 0.9958024621009827}, {'label': 'prorussian', 'score': 0.004197593778371811}], [{'label': 'proukrainian', 'score': 0.9956393241882324}, {'label': 'prorussian', 'score': 0.004360648803412914}], [{'label': 'proukrainian', 'score': 0.9959654808044434}, {'label': 'prorussian', 'score': 0.004034467972815037}], [{'label': 'proukrainian', 'score': 0.9958904385566711}, {'label': 'prorussian', 'score': 0.004109537228941917}], [{'label': 'proukrainian', 'score': 0.995941698551178}, {'label': 'prorussian', 'score': 0.0040582832880318165}], [{'label': 'proukrainian', 'score': 0.9959046244621277}, {'label': 'prorussian', 'score': 0.0040953680872917175}], [{'label': 'proukrainian', 'score': 0.9957879185676575}, {'label': 'prorussian', 'score': 0.004212142433971167}], [{'label': 'proukrainian', 'score': 0.995746910572052}, {'label': 'prorussian', 'score': 0.004253104329109192}], [{'label': 'proukrainian', 'score': 0.9955928921699524}, {'label': 'prorussian', 'score': 0.004407099448144436}], [{'label': 'proukrainian', 'score': 0.995909571647644}, {'label': 'prorussian', 'score': 0.004090390168130398}], [{'label': 'proukrainian', 'score': 0.006720614153891802}, {'label': 'prorussian', 'score': 0.9932793974876404}], [{'label': 'proukrainian', 'score': 0.9958513975143433}, {'label': 'prorussian', 'score': 0.004148589447140694}], [{'label': 'proukrainian', 'score': 0.009084475226700306}, {'label': 'prorussian', 'score': 0.9909154772758484}], [{'label': 'proukrainian', 'score': 0.006824077572673559}, {'label': 'prorussian', 'score': 0.9931759238243103}], [{'label': 'proukrainian', 'score': 0.9958606362342834}, {'label': 'prorussian', 'score': 0.004139442462474108}], [{'label': 'proukrainian', 'score': 0.007064273580908775}, {'label': 'prorussian', 'score': 0.9929357171058655}], [{'label': 'proukrainian', 'score': 0.006727945990860462}, {'label': 'prorussian', 'score': 0.9932721257209778}], [{'label': 'proukrainian', 'score': 0.006713757291436195}, {'label': 'prorussian', 'score': 0.9932861924171448}], [{'label': 'proukrainian', 'score': 0.9955116510391235}, {'label': 'prorussian', 'score': 0.004488436039537191}], [{'label': 'proukrainian', 'score': 0.009768282063305378}, {'label': 'prorussian', 'score': 0.9902316927909851}], [{'label': 'proukrainian', 'score': 0.08907292038202286}, {'label': 'prorussian', 'score': 0.9109270572662354}], [{'label': 'proukrainian', 'score': 0.0067559052258729935}, {'label': 'prorussian', 'score': 0.9932441115379333}], [{'label': 'proukrainian', 'score': 0.006726785097271204}, {'label': 'prorussian', 'score': 0.993273138999939}], [{'label': 'proukrainian', 'score': 0.0067185647785663605}, {'label': 'prorussian', 'score': 0.993281364440918}], [{'label': 'proukrainian', 'score': 0.006700037978589535}, {'label': 'prorussian', 'score': 0.9932999610900879}], [{'label': 'proukrainian', 'score': 0.787811279296875}, {'label': 'prorussian', 'score': 0.21218876540660858}], [{'label': 'proukrainian', 'score': 0.1136447936296463}, {'label': 'prorussian', 'score': 0.8863551616668701}], [{'label': 'proukrainian', 'score': 0.006705479696393013}, {'label': 'prorussian', 'score': 0.9932945370674133}], [{'label': 'proukrainian', 'score': 0.006783291231840849}, {'label': 'prorussian', 'score': 0.9932166934013367}], [{'label': 'proukrainian', 'score': 0.006852270569652319}, {'label': 'prorussian', 'score': 0.9931476712226868}], [{'label': 'proukrainian', 'score': 0.006760481279343367}, {'label': 'prorussian', 'score': 0.9932395219802856}], [{'label': 'proukrainian', 'score': 0.8356163501739502}, {'label': 'prorussian', 'score': 0.1643836498260498}], [{'label': 'proukrainian', 'score': 0.9959316849708557}, {'label': 'prorussian', 'score': 0.004068352282047272}], [{'label': 'proukrainian', 'score': 0.012375340797007084}, {'label': 'prorussian', 'score': 0.9876246452331543}], [{'label': 'proukrainian', 'score': 0.9748538732528687}, {'label': 'prorussian', 'score': 0.025146150961518288}], [{'label': 'proukrainian', 'score': 0.00676324125379324}, {'label': 'prorussian', 'score': 0.9932367205619812}], [{'label': 'proukrainian', 'score': 0.0068274009972810745}, {'label': 'prorussian', 'score': 0.9931725859642029}], [{'label': 'proukrainian', 'score': 0.006774180103093386}, {'label': 'prorussian', 'score': 0.9932257533073425}], [{'label': 'proukrainian', 'score': 0.010796595364809036}, {'label': 'prorussian', 'score': 0.9892033934593201}], [{'label': 'proukrainian', 'score': 0.006792099680751562}, {'label': 'prorussian', 'score': 0.9932078719139099}], [{'label': 'proukrainian', 'score': 0.006781129166483879}, {'label': 'prorussian', 'score': 0.9932188391685486}], [{'label': 'proukrainian', 'score': 0.012028343975543976}, {'label': 'prorussian', 'score': 0.9879716038703918}], [{'label': 'proukrainian', 'score': 0.006919557694345713}, {'label': 'prorussian', 'score': 0.9930804371833801}], [{'label': 'proukrainian', 'score': 0.1933733969926834}, {'label': 'prorussian', 'score': 0.8066266179084778}], [{'label': 'proukrainian', 'score': 0.006734889931976795}, {'label': 'prorussian', 'score': 0.9932651519775391}], [{'label': 'proukrainian', 'score': 0.16411156952381134}, {'label': 'prorussian', 'score': 0.8358883857727051}], [{'label': 'proukrainian', 'score': 0.47334495186805725}, {'label': 'prorussian', 'score': 0.5266550779342651}], [{'label': 'proukrainian', 'score': 0.0068883588537573814}, {'label': 'prorussian', 'score': 0.9931116104125977}], [{'label': 'proukrainian', 'score': 0.006781129166483879}, {'label': 'prorussian', 'score': 0.9932188391685486}], [{'label': 'proukrainian', 'score': 0.7623546123504639}, {'label': 'prorussian', 'score': 0.23764537274837494}], [{'label': 'proukrainian', 'score': 0.006710568908601999}, {'label': 'prorussian', 'score': 0.9932894110679626}], [{'label': 'proukrainian', 'score': 0.006735505070537329}, {'label': 'prorussian', 'score': 0.9932644367218018}], [{'label': 'proukrainian', 'score': 0.006716754287481308}, {'label': 'prorussian', 'score': 0.9932832717895508}], [{'label': 'proukrainian', 'score': 0.9958784580230713}, {'label': 'prorussian', 'score': 0.004121517762541771}], [{'label': 'proukrainian', 'score': 0.8037976026535034}, {'label': 'prorussian', 'score': 0.1962023824453354}], [{'label': 'proukrainian', 'score': 0.006751387845724821}, {'label': 'prorussian', 'score': 0.9932485818862915}], [{'label': 'proukrainian', 'score': 0.006728225853294134}, {'label': 'prorussian', 'score': 0.9932717680931091}], [{'label': 'proukrainian', 'score': 0.9931201934814453}, {'label': 'prorussian', 'score': 0.006879772059619427}], [{'label': 'proukrainian', 'score': 0.006761378142982721}, {'label': 'prorussian', 'score': 0.9932385683059692}], [{'label': 'proukrainian', 'score': 0.9144682884216309}, {'label': 'prorussian', 'score': 0.08553168922662735}], [{'label': 'proukrainian', 'score': 0.07615314424037933}, {'label': 'prorussian', 'score': 0.9238468408584595}], [{'label': 'proukrainian', 'score': 0.9675471782684326}, {'label': 'prorussian', 'score': 0.032452840358018875}], [{'label': 'proukrainian', 'score': 0.006764187011867762}, {'label': 'prorussian', 'score': 0.9932357668876648}], [{'label': 'proukrainian', 'score': 0.00670125475153327}, {'label': 'prorussian', 'score': 0.9932987689971924}], [{'label': 'proukrainian', 'score': 0.006768208462744951}, {'label': 'prorussian', 'score': 0.9932317733764648}], [{'label': 'proukrainian', 'score': 0.006738648284226656}, {'label': 'prorussian', 'score': 0.9932613968849182}], [{'label': 'proukrainian', 'score': 0.007006366271525621}, {'label': 'prorussian', 'score': 0.9929936528205872}], [{'label': 'proukrainian', 'score': 0.006695101968944073}, {'label': 'prorussian', 'score': 0.9933049082756042}], [{'label': 'proukrainian', 'score': 0.9289472103118896}, {'label': 'prorussian', 'score': 0.07105273008346558}], [{'label': 'proukrainian', 'score': 0.2623929977416992}, {'label': 'prorussian', 'score': 0.7376070022583008}], [{'label': 'proukrainian', 'score': 0.010976272635161877}, {'label': 'prorussian', 'score': 0.9890236854553223}], [{'label': 'proukrainian', 'score': 0.006784608121961355}, {'label': 'prorussian', 'score': 0.9932154417037964}], [{'label': 'proukrainian', 'score': 0.006771995685994625}, {'label': 'prorussian', 'score': 0.993228018283844}], [{'label': 'proukrainian', 'score': 0.00670873885974288}, {'label': 'prorussian', 'score': 0.9932912588119507}], [{'label': 'proukrainian', 'score': 0.408427894115448}, {'label': 'prorussian', 'score': 0.591572105884552}], [{'label': 'proukrainian', 'score': 0.8563570976257324}, {'label': 'prorussian', 'score': 0.14364288747310638}], [{'label': 'proukrainian', 'score': 0.007047422230243683}, {'label': 'prorussian', 'score': 0.9929525256156921}], [{'label': 'proukrainian', 'score': 0.006781129166483879}, {'label': 'prorussian', 'score': 0.9932188391685486}], [{'label': 'proukrainian', 'score': 0.2400193214416504}, {'label': 'prorussian', 'score': 0.7599807381629944}], [{'label': 'proukrainian', 'score': 0.07183432579040527}, {'label': 'prorussian', 'score': 0.9281656742095947}], [{'label': 'proukrainian', 'score': 0.9958557486534119}, {'label': 'prorussian', 'score': 0.00414428161457181}], [{'label': 'proukrainian', 'score': 0.006754867732524872}, {'label': 'prorussian', 'score': 0.9932451844215393}], [{'label': 'proukrainian', 'score': 0.00696155708283186}, {'label': 'prorussian', 'score': 0.9930384755134583}], [{'label': 'proukrainian', 'score': 0.007273518480360508}, {'label': 'prorussian', 'score': 0.9927264451980591}], [{'label': 'proukrainian', 'score': 0.0074432916007936}, {'label': 'prorussian', 'score': 0.9925566911697388}], [{'label': 'proukrainian', 'score': 0.007523573003709316}, {'label': 'prorussian', 'score': 0.9924764037132263}], [{'label': 'proukrainian', 'score': 0.006739452015608549}, {'label': 'prorussian', 'score': 0.9932605624198914}], [{'label': 'proukrainian', 'score': 0.9163386225700378}, {'label': 'prorussian', 'score': 0.08366136997938156}], [{'label': 'proukrainian', 'score': 0.006806009914726019}, {'label': 'prorussian', 'score': 0.9931939840316772}], [{'label': 'proukrainian', 'score': 0.007176745682954788}, {'label': 'prorussian', 'score': 0.9928232431411743}], [{'label': 'proukrainian', 'score': 0.014978811144828796}, {'label': 'prorussian', 'score': 0.98502117395401}], [{'label': 'proukrainian', 'score': 0.009873000904917717}, {'label': 'prorussian', 'score': 0.9901269674301147}], [{'label': 'proukrainian', 'score': 0.007927598431706429}, {'label': 'prorussian', 'score': 0.9920724034309387}], [{'label': 'proukrainian', 'score': 0.6620779633522034}, {'label': 'prorussian', 'score': 0.33792203664779663}], [{'label': 'proukrainian', 'score': 0.12375466525554657}, {'label': 'prorussian', 'score': 0.8762452602386475}], [{'label': 'proukrainian', 'score': 0.006762486416846514}, {'label': 'prorussian', 'score': 0.9932374954223633}], [{'label': 'proukrainian', 'score': 0.007239699829369783}, {'label': 'prorussian', 'score': 0.9927603006362915}], [{'label': 'proukrainian', 'score': 0.006941177882254124}, {'label': 'prorussian', 'score': 0.9930588006973267}], [{'label': 'proukrainian', 'score': 0.01206444762647152}, {'label': 'prorussian', 'score': 0.9879355430603027}], [{'label': 'proukrainian', 'score': 0.006867240183055401}, {'label': 'prorussian', 'score': 0.9931327700614929}], [{'label': 'proukrainian', 'score': 0.0067277164198458195}, {'label': 'prorussian', 'score': 0.9932723641395569}], [{'label': 'proukrainian', 'score': 0.006774674169719219}, {'label': 'prorussian', 'score': 0.9932252764701843}], [{'label': 'proukrainian', 'score': 0.006721474230289459}, {'label': 'prorussian', 'score': 0.9932785630226135}], [{'label': 'proukrainian', 'score': 0.006717383395880461}, {'label': 'prorussian', 'score': 0.9932825565338135}], [{'label': 'proukrainian', 'score': 0.006728585809469223}, {'label': 'prorussian', 'score': 0.9932714104652405}], [{'label': 'proukrainian', 'score': 0.01754986308515072}, {'label': 'prorussian', 'score': 0.9824501276016235}], [{'label': 'proukrainian', 'score': 0.9092295169830322}, {'label': 'prorussian', 'score': 0.090770423412323}], [{'label': 'proukrainian', 'score': 0.17674821615219116}, {'label': 'prorussian', 'score': 0.8232517838478088}], [{'label': 'proukrainian', 'score': 0.006732599809765816}, {'label': 'prorussian', 'score': 0.9932674169540405}], [{'label': 'proukrainian', 'score': 0.16696280241012573}, {'label': 'prorussian', 'score': 0.8330371975898743}], [{'label': 'proukrainian', 'score': 0.9386321306228638}, {'label': 'prorussian', 'score': 0.06136781722307205}], [{'label': 'proukrainian', 'score': 0.05652393028140068}, {'label': 'prorussian', 'score': 0.9434760808944702}], [{'label': 'proukrainian', 'score': 0.006795220542699099}, {'label': 'prorussian', 'score': 0.9932048320770264}], [{'label': 'proukrainian', 'score': 0.01789848506450653}, {'label': 'prorussian', 'score': 0.9821015000343323}], [{'label': 'proukrainian', 'score': 0.9958996176719666}, {'label': 'prorussian', 'score': 0.004100427497178316}], [{'label': 'proukrainian', 'score': 0.007093092426657677}, {'label': 'prorussian', 'score': 0.992906928062439}], [{'label': 'proukrainian', 'score': 0.006743960082530975}, {'label': 'prorussian', 'score': 0.9932559728622437}], [{'label': 'proukrainian', 'score': 0.006821764633059502}, {'label': 'prorussian', 'score': 0.9931782484054565}], [{'label': 'proukrainian', 'score': 0.006692629307508469}, {'label': 'prorussian', 'score': 0.9933074116706848}], [{'label': 'proukrainian', 'score': 0.3267863094806671}, {'label': 'prorussian', 'score': 0.6732136607170105}], [{'label': 'proukrainian', 'score': 0.618850588798523}, {'label': 'prorussian', 'score': 0.3811493515968323}], [{'label': 'proukrainian', 'score': 0.006722982972860336}, {'label': 'prorussian', 'score': 0.9932770133018494}], [{'label': 'proukrainian', 'score': 0.0073411548510193825}, {'label': 'prorussian', 'score': 0.9926589131355286}], [{'label': 'proukrainian', 'score': 0.006729127839207649}, {'label': 'prorussian', 'score': 0.9932709336280823}], [{'label': 'proukrainian', 'score': 0.006784852594137192}, {'label': 'prorussian', 'score': 0.9932152032852173}], [{'label': 'proukrainian', 'score': 0.025065913796424866}, {'label': 'prorussian', 'score': 0.9749341011047363}], [{'label': 'proukrainian', 'score': 0.006720901001244783}, {'label': 'prorussian', 'score': 0.9932791590690613}], [{'label': 'proukrainian', 'score': 0.006911482661962509}, {'label': 'prorussian', 'score': 0.9930885434150696}], [{'label': 'proukrainian', 'score': 0.9958364963531494}, {'label': 'prorussian', 'score': 0.004163443576544523}], [{'label': 'proukrainian', 'score': 0.014235547743737698}, {'label': 'prorussian', 'score': 0.9857644438743591}], [{'label': 'proukrainian', 'score': 0.006988015025854111}, {'label': 'prorussian', 'score': 0.993012011051178}], [{'label': 'proukrainian', 'score': 0.006778833456337452}, {'label': 'prorussian', 'score': 0.9932211637496948}], [{'label': 'proukrainian', 'score': 0.006774725392460823}, {'label': 'prorussian', 'score': 0.9932252764701843}], [{'label': 'proukrainian', 'score': 0.8488315343856812}, {'label': 'prorussian', 'score': 0.15116848051548004}], [{'label': 'proukrainian', 'score': 0.9106629490852356}, {'label': 'prorussian', 'score': 0.08933704346418381}], [{'label': 'proukrainian', 'score': 0.0068520368076860905}, {'label': 'prorussian', 'score': 0.9931479096412659}], [{'label': 'proukrainian', 'score': 0.011637505143880844}, {'label': 'prorussian', 'score': 0.9883624911308289}], [{'label': 'proukrainian', 'score': 0.006775996182113886}, {'label': 'prorussian', 'score': 0.993224024772644}], [{'label': 'proukrainian', 'score': 0.006749392952769995}, {'label': 'prorussian', 'score': 0.9932505488395691}], [{'label': 'proukrainian', 'score': 0.01343783549964428}, {'label': 'prorussian', 'score': 0.986562192440033}], [{'label': 'proukrainian', 'score': 0.022066986188292503}, {'label': 'prorussian', 'score': 0.9779330492019653}], [{'label': 'proukrainian', 'score': 0.00919860228896141}, {'label': 'prorussian', 'score': 0.9908013939857483}], [{'label': 'proukrainian', 'score': 0.006902824155986309}, {'label': 'prorussian', 'score': 0.9930971264839172}], [{'label': 'proukrainian', 'score': 0.006820064038038254}, {'label': 'prorussian', 'score': 0.9931799173355103}], [{'label': 'proukrainian', 'score': 0.013347698375582695}, {'label': 'prorussian', 'score': 0.9866523146629333}], [{'label': 'proukrainian', 'score': 0.010677667334675789}, {'label': 'prorussian', 'score': 0.9893222451210022}], [{'label': 'proukrainian', 'score': 0.014093896374106407}, {'label': 'prorussian', 'score': 0.9859061241149902}], [{'label': 'proukrainian', 'score': 0.9946659803390503}, {'label': 'prorussian', 'score': 0.00533403130248189}], [{'label': 'proukrainian', 'score': 0.02416715957224369}, {'label': 'prorussian', 'score': 0.9758327603340149}], [{'label': 'proukrainian', 'score': 0.006712283007800579}, {'label': 'prorussian', 'score': 0.9932877421379089}], [{'label': 'proukrainian', 'score': 0.020943935960531235}, {'label': 'prorussian', 'score': 0.9790560603141785}], [{'label': 'proukrainian', 'score': 0.006714708637446165}, {'label': 'prorussian', 'score': 0.9932852983474731}], [{'label': 'proukrainian', 'score': 0.009587458334863186}, {'label': 'prorussian', 'score': 0.9904125332832336}], [{'label': 'proukrainian', 'score': 0.019566215574741364}, {'label': 'prorussian', 'score': 0.9804337620735168}], [{'label': 'proukrainian', 'score': 0.0102163041010499}, {'label': 'prorussian', 'score': 0.9897837042808533}], [{'label': 'proukrainian', 'score': 0.26656898856163025}, {'label': 'prorussian', 'score': 0.7334309816360474}], [{'label': 'proukrainian', 'score': 0.919488251209259}, {'label': 'prorussian', 'score': 0.08051177114248276}], [{'label': 'proukrainian', 'score': 0.08714625984430313}, {'label': 'prorussian', 'score': 0.9128537178039551}], [{'label': 'proukrainian', 'score': 0.007104308344423771}, {'label': 'prorussian', 'score': 0.9928956627845764}], [{'label': 'proukrainian', 'score': 0.8123983144760132}, {'label': 'prorussian', 'score': 0.187601700425148}], [{'label': 'proukrainian', 'score': 0.006946209352463484}, {'label': 'prorussian', 'score': 0.9930537343025208}], [{'label': 'proukrainian', 'score': 0.006768493913114071}, {'label': 'prorussian', 'score': 0.9932315349578857}], [{'label': 'proukrainian', 'score': 0.007081408053636551}, {'label': 'prorussian', 'score': 0.9929185509681702}], [{'label': 'proukrainian', 'score': 0.006851332727819681}, {'label': 'prorussian', 'score': 0.9931486248970032}], [{'label': 'proukrainian', 'score': 0.01509335357695818}, {'label': 'prorussian', 'score': 0.9849066138267517}], [{'label': 'proukrainian', 'score': 0.006956817582249641}, {'label': 'prorussian', 'score': 0.9930431842803955}], [{'label': 'proukrainian', 'score': 0.23852309584617615}, {'label': 'prorussian', 'score': 0.7614769339561462}], [{'label': 'proukrainian', 'score': 0.006784512661397457}, {'label': 'prorussian', 'score': 0.9932155609130859}], [{'label': 'proukrainian', 'score': 0.006701904349029064}, {'label': 'prorussian', 'score': 0.9932981133460999}], [{'label': 'proukrainian', 'score': 0.006807240657508373}, {'label': 'prorussian', 'score': 0.993192732334137}], [{'label': 'proukrainian', 'score': 0.011396382935345173}, {'label': 'prorussian', 'score': 0.9886035919189453}], [{'label': 'proukrainian', 'score': 0.006943038664758205}, {'label': 'prorussian', 'score': 0.9930568933486938}], [{'label': 'proukrainian', 'score': 0.0067339264787733555}, {'label': 'prorussian', 'score': 0.9932661056518555}], [{'label': 'proukrainian', 'score': 0.0067976475693285465}, {'label': 'prorussian', 'score': 0.9932023882865906}], [{'label': 'proukrainian', 'score': 0.8081005215644836}, {'label': 'prorussian', 'score': 0.19189950823783875}], [{'label': 'proukrainian', 'score': 0.01345059834420681}, {'label': 'prorussian', 'score': 0.986549437046051}], [{'label': 'proukrainian', 'score': 0.006764199119061232}, {'label': 'prorussian', 'score': 0.9932357668876648}], [{'label': 'proukrainian', 'score': 0.007983771152794361}, {'label': 'prorussian', 'score': 0.9920161962509155}], [{'label': 'proukrainian', 'score': 0.006768379360437393}, {'label': 'prorussian', 'score': 0.9932316541671753}], [{'label': 'proukrainian', 'score': 0.006707439664751291}, {'label': 'prorussian', 'score': 0.9932925701141357}], [{'label': 'proukrainian', 'score': 0.08736555278301239}, {'label': 'prorussian', 'score': 0.9126344323158264}], [{'label': 'proukrainian', 'score': 0.006702418904751539}, {'label': 'prorussian', 'score': 0.9932976365089417}], [{'label': 'proukrainian', 'score': 0.01228720135986805}, {'label': 'prorussian', 'score': 0.9877127408981323}], [{'label': 'proukrainian', 'score': 0.9217312335968018}, {'label': 'prorussian', 'score': 0.07826873660087585}], [{'label': 'proukrainian', 'score': 0.006751653738319874}, {'label': 'prorussian', 'score': 0.9932483434677124}], [{'label': 'proukrainian', 'score': 0.00675562908872962}, {'label': 'prorussian', 'score': 0.9932443499565125}], [{'label': 'proukrainian', 'score': 0.00670660100877285}, {'label': 'prorussian', 'score': 0.9932934045791626}], [{'label': 'proukrainian', 'score': 0.00687502371147275}, {'label': 'prorussian', 'score': 0.9931249618530273}], [{'label': 'proukrainian', 'score': 0.0089540034532547}, {'label': 'prorussian', 'score': 0.9910460114479065}], [{'label': 'proukrainian', 'score': 0.0632256343960762}, {'label': 'prorussian', 'score': 0.9367743134498596}], [{'label': 'proukrainian', 'score': 0.9158552885055542}, {'label': 'prorussian', 'score': 0.08414468914270401}], [{'label': 'proukrainian', 'score': 0.7028453946113586}, {'label': 'prorussian', 'score': 0.29715460538864136}], [{'label': 'proukrainian', 'score': 0.006795355584472418}, {'label': 'prorussian', 'score': 0.9932045936584473}], [{'label': 'proukrainian', 'score': 0.006716565694659948}, {'label': 'prorussian', 'score': 0.9932833909988403}], [{'label': 'proukrainian', 'score': 0.0070870709605515}, {'label': 'prorussian', 'score': 0.9929129481315613}], [{'label': 'proukrainian', 'score': 0.7954314947128296}, {'label': 'prorussian', 'score': 0.20456846058368683}], [{'label': 'proukrainian', 'score': 0.8105854988098145}, {'label': 'prorussian', 'score': 0.18941451609134674}], [{'label': 'proukrainian', 'score': 0.006827102974057198}, {'label': 'prorussian', 'score': 0.993172824382782}], [{'label': 'proukrainian', 'score': 0.053123001009225845}, {'label': 'prorussian', 'score': 0.9468770027160645}], [{'label': 'proukrainian', 'score': 0.01394587755203247}, {'label': 'prorussian', 'score': 0.9860541224479675}], [{'label': 'proukrainian', 'score': 0.022716276347637177}, {'label': 'prorussian', 'score': 0.977283775806427}], [{'label': 'proukrainian', 'score': 0.006702424958348274}, {'label': 'prorussian', 'score': 0.9932976365089417}], [{'label': 'proukrainian', 'score': 0.006774520501494408}, {'label': 'prorussian', 'score': 0.9932255148887634}], [{'label': 'proukrainian', 'score': 0.006700736470520496}, {'label': 'prorussian', 'score': 0.9932992458343506}], [{'label': 'proukrainian', 'score': 0.9957681894302368}, {'label': 'prorussian', 'score': 0.004231791943311691}], [{'label': 'proukrainian', 'score': 0.008422672748565674}, {'label': 'prorussian', 'score': 0.9915772676467896}], [{'label': 'proukrainian', 'score': 0.8745280504226685}, {'label': 'prorussian', 'score': 0.12547191977500916}], [{'label': 'proukrainian', 'score': 0.19085140526294708}, {'label': 'prorussian', 'score': 0.8091486096382141}], [{'label': 'proukrainian', 'score': 0.9955850839614868}, {'label': 'prorussian', 'score': 0.0044149188324809074}], [{'label': 'proukrainian', 'score': 0.006768722087144852}, {'label': 'prorussian', 'score': 0.9932312965393066}], [{'label': 'proukrainian', 'score': 0.06504731625318527}, {'label': 'prorussian', 'score': 0.9349527359008789}], [{'label': 'proukrainian', 'score': 0.00749164866283536}, {'label': 'prorussian', 'score': 0.9925083518028259}], [{'label': 'proukrainian', 'score': 0.006685582920908928}, {'label': 'prorussian', 'score': 0.9933144450187683}], [{'label': 'proukrainian', 'score': 0.041246648877859116}, {'label': 'prorussian', 'score': 0.9587534070014954}], [{'label': 'proukrainian', 'score': 0.00673986691981554}, {'label': 'prorussian', 'score': 0.9932600855827332}], [{'label': 'proukrainian', 'score': 0.8852571249008179}, {'label': 'prorussian', 'score': 0.11474286019802094}], [{'label': 'proukrainian', 'score': 0.006877371575683355}, {'label': 'prorussian', 'score': 0.9931226372718811}], [{'label': 'proukrainian', 'score': 0.02106264792382717}, {'label': 'prorussian', 'score': 0.9789373278617859}], [{'label': 'proukrainian', 'score': 0.08907292038202286}, {'label': 'prorussian', 'score': 0.9109270572662354}], [{'label': 'proukrainian', 'score': 0.006750176660716534}, {'label': 'prorussian', 'score': 0.9932498931884766}], [{'label': 'proukrainian', 'score': 0.006739126984030008}, {'label': 'prorussian', 'score': 0.99326092004776}], [{'label': 'proukrainian', 'score': 0.9120803475379944}, {'label': 'prorussian', 'score': 0.0879196748137474}], [{'label': 'proukrainian', 'score': 0.3952336609363556}, {'label': 'prorussian', 'score': 0.604766309261322}], [{'label': 'proukrainian', 'score': 0.006708337925374508}, {'label': 'prorussian', 'score': 0.9932916164398193}], [{'label': 'proukrainian', 'score': 0.006735885050147772}, {'label': 'prorussian', 'score': 0.9932640790939331}], [{'label': 'proukrainian', 'score': 0.0067636617459356785}, {'label': 'prorussian', 'score': 0.9932363629341125}], [{'label': 'proukrainian', 'score': 0.0072016725316643715}, {'label': 'prorussian', 'score': 0.9927983283996582}], [{'label': 'proukrainian', 'score': 0.0067006382159888744}, {'label': 'prorussian', 'score': 0.9932993650436401}], [{'label': 'proukrainian', 'score': 0.04600495100021362}, {'label': 'prorussian', 'score': 0.9539950489997864}], [{'label': 'proukrainian', 'score': 0.048409510403871536}, {'label': 'prorussian', 'score': 0.9515904784202576}], [{'label': 'proukrainian', 'score': 0.011675741523504257}, {'label': 'prorussian', 'score': 0.9883242845535278}], [{'label': 'proukrainian', 'score': 0.9317712783813477}, {'label': 'prorussian', 'score': 0.06822875887155533}], [{'label': 'proukrainian', 'score': 0.9957616925239563}, {'label': 'prorussian', 'score': 0.0042383200488984585}], [{'label': 'proukrainian', 'score': 0.006713134702295065}, {'label': 'prorussian', 'score': 0.9932869076728821}], [{'label': 'proukrainian', 'score': 0.41593027114868164}, {'label': 'prorussian', 'score': 0.5840697288513184}], [{'label': 'proukrainian', 'score': 0.006985006853938103}, {'label': 'prorussian', 'score': 0.993014931678772}], [{'label': 'proukrainian', 'score': 0.02334117516875267}, {'label': 'prorussian', 'score': 0.9766588807106018}], [{'label': 'proukrainian', 'score': 0.006723491474986076}, {'label': 'prorussian', 'score': 0.9932764768600464}], [{'label': 'proukrainian', 'score': 0.03327534347772598}, {'label': 'prorussian', 'score': 0.9667246341705322}], [{'label': 'proukrainian', 'score': 0.006750607863068581}, {'label': 'prorussian', 'score': 0.9932494163513184}], [{'label': 'proukrainian', 'score': 0.9959049820899963}, {'label': 'prorussian', 'score': 0.004095067270100117}], [{'label': 'proukrainian', 'score': 0.023400288075208664}, {'label': 'prorussian', 'score': 0.9765997529029846}], [{'label': 'proukrainian', 'score': 0.006715767551213503}, {'label': 'prorussian', 'score': 0.9932842254638672}], [{'label': 'proukrainian', 'score': 0.006947127170860767}, {'label': 'prorussian', 'score': 0.9930528998374939}], [{'label': 'proukrainian', 'score': 0.006781129166483879}, {'label': 'prorussian', 'score': 0.9932188391685486}], [{'label': 'proukrainian', 'score': 0.011514941230416298}, {'label': 'prorussian', 'score': 0.9884849786758423}], [{'label': 'proukrainian', 'score': 0.0068513755686581135}, {'label': 'prorussian', 'score': 0.9931486248970032}], [{'label': 'proukrainian', 'score': 0.9906781911849976}, {'label': 'prorussian', 'score': 0.009321886114776134}], [{'label': 'proukrainian', 'score': 0.006845939438790083}, {'label': 'prorussian', 'score': 0.9931540489196777}], [{'label': 'proukrainian', 'score': 0.009131157770752907}, {'label': 'prorussian', 'score': 0.9908688068389893}], [{'label': 'proukrainian', 'score': 0.9957488179206848}, {'label': 'prorussian', 'score': 0.00425118301063776}], [{'label': 'proukrainian', 'score': 0.006740180309861898}, {'label': 'prorussian', 'score': 0.993259847164154}], [{'label': 'proukrainian', 'score': 0.012158120982348919}, {'label': 'prorussian', 'score': 0.9878419041633606}], [{'label': 'proukrainian', 'score': 0.010394984856247902}, {'label': 'prorussian', 'score': 0.9896050691604614}], [{'label': 'proukrainian', 'score': 0.9430311322212219}, {'label': 'prorussian', 'score': 0.05696890875697136}], [{'label': 'proukrainian', 'score': 0.013215196318924427}, {'label': 'prorussian', 'score': 0.9867847561836243}], [{'label': 'proukrainian', 'score': 0.9957999587059021}, {'label': 'prorussian', 'score': 0.004200063645839691}], [{'label': 'proukrainian', 'score': 0.006842555478215218}, {'label': 'prorussian', 'score': 0.9931574463844299}], [{'label': 'proukrainian', 'score': 0.9041445851325989}, {'label': 'prorussian', 'score': 0.0958554595708847}], [{'label': 'proukrainian', 'score': 0.013639181852340698}, {'label': 'prorussian', 'score': 0.9863607883453369}], [{'label': 'proukrainian', 'score': 0.043881047517061234}, {'label': 'prorussian', 'score': 0.9561189413070679}], [{'label': 'proukrainian', 'score': 0.007292404770851135}, {'label': 'prorussian', 'score': 0.9927076697349548}], [{'label': 'proukrainian', 'score': 0.00672106584534049}, {'label': 'prorussian', 'score': 0.9932789206504822}], [{'label': 'proukrainian', 'score': 0.006717114243656397}, {'label': 'prorussian', 'score': 0.9932829141616821}], [{'label': 'proukrainian', 'score': 0.2237168848514557}, {'label': 'prorussian', 'score': 0.7762830853462219}], [{'label': 'proukrainian', 'score': 0.011299042031168938}, {'label': 'prorussian', 'score': 0.9887009859085083}]]\n"
          ]
        }
      ],
      "source": [
        "custom_output = custom_classifier(list(results_df_all['all_text_prep'].values),return_all_scores=True)\n",
        "print(custom_output)"
      ]
    },
    {
      "cell_type": "code",
      "execution_count": null,
      "metadata": {
        "id": "cUF4L4qgu880"
      },
      "outputs": [],
      "source": [
        "results_custom = pd.DataFrame([\n",
        "    {item['label']: item['score'] for item in row}\n",
        "    for row in custom_output\n",
        "])"
      ]
    },
    {
      "cell_type": "code",
      "execution_count": null,
      "metadata": {
        "colab": {
          "base_uri": "https://localhost:8080/",
          "height": 424
        },
        "id": "vUCw8iTj6DLi",
        "outputId": "a2b1531f-1ff4-4fdb-ed61-84a948560947"
      },
      "outputs": [
        {
          "data": {
            "application/vnd.google.colaboratory.intrinsic+json": {
              "summary": "{\n  \"name\": \"results_custom\",\n  \"rows\": 500,\n  \"fields\": [\n    {\n      \"column\": \"proukrainian\",\n      \"properties\": {\n        \"dtype\": \"number\",\n        \"std\": 0.46704064392075206,\n        \"min\": 0.006685582920908928,\n        \"max\": 0.996010422706604,\n        \"num_unique_values\": 489,\n        \"samples\": [\n          0.0072016725316643715,\n          0.006753940600901842,\n          0.9955850839614868\n        ],\n        \"semantic_type\": \"\",\n        \"description\": \"\"\n      }\n    },\n    {\n      \"column\": \"prorussian\",\n      \"properties\": {\n        \"dtype\": \"number\",\n        \"std\": 0.4670406415070028,\n        \"min\": 0.003989556338638067,\n        \"max\": 0.9933144450187683,\n        \"num_unique_values\": 488,\n        \"samples\": [\n          0.004390721209347248,\n          0.9909154772758484,\n          0.9933144450187683\n        ],\n        \"semantic_type\": \"\",\n        \"description\": \"\"\n      }\n    }\n  ]\n}",
              "type": "dataframe",
              "variable_name": "results_custom"
            },
            "text/html": [
              "\n",
              "  <div id=\"df-0e1b850a-15e6-40da-8114-d9a51cc2569f\" class=\"colab-df-container\">\n",
              "    <div>\n",
              "<style scoped>\n",
              "    .dataframe tbody tr th:only-of-type {\n",
              "        vertical-align: middle;\n",
              "    }\n",
              "\n",
              "    .dataframe tbody tr th {\n",
              "        vertical-align: top;\n",
              "    }\n",
              "\n",
              "    .dataframe thead th {\n",
              "        text-align: right;\n",
              "    }\n",
              "</style>\n",
              "<table border=\"1\" class=\"dataframe\">\n",
              "  <thead>\n",
              "    <tr style=\"text-align: right;\">\n",
              "      <th></th>\n",
              "      <th>proukrainian</th>\n",
              "      <th>prorussian</th>\n",
              "    </tr>\n",
              "  </thead>\n",
              "  <tbody>\n",
              "    <tr>\n",
              "      <th>0</th>\n",
              "      <td>0.995916</td>\n",
              "      <td>0.004084</td>\n",
              "    </tr>\n",
              "    <tr>\n",
              "      <th>1</th>\n",
              "      <td>0.007027</td>\n",
              "      <td>0.992972</td>\n",
              "    </tr>\n",
              "    <tr>\n",
              "      <th>2</th>\n",
              "      <td>0.006853</td>\n",
              "      <td>0.993147</td>\n",
              "    </tr>\n",
              "    <tr>\n",
              "      <th>3</th>\n",
              "      <td>0.995770</td>\n",
              "      <td>0.004230</td>\n",
              "    </tr>\n",
              "    <tr>\n",
              "      <th>4</th>\n",
              "      <td>0.995826</td>\n",
              "      <td>0.004174</td>\n",
              "    </tr>\n",
              "    <tr>\n",
              "      <th>...</th>\n",
              "      <td>...</td>\n",
              "      <td>...</td>\n",
              "    </tr>\n",
              "    <tr>\n",
              "      <th>495</th>\n",
              "      <td>0.007292</td>\n",
              "      <td>0.992708</td>\n",
              "    </tr>\n",
              "    <tr>\n",
              "      <th>496</th>\n",
              "      <td>0.006721</td>\n",
              "      <td>0.993279</td>\n",
              "    </tr>\n",
              "    <tr>\n",
              "      <th>497</th>\n",
              "      <td>0.006717</td>\n",
              "      <td>0.993283</td>\n",
              "    </tr>\n",
              "    <tr>\n",
              "      <th>498</th>\n",
              "      <td>0.223717</td>\n",
              "      <td>0.776283</td>\n",
              "    </tr>\n",
              "    <tr>\n",
              "      <th>499</th>\n",
              "      <td>0.011299</td>\n",
              "      <td>0.988701</td>\n",
              "    </tr>\n",
              "  </tbody>\n",
              "</table>\n",
              "<p>500 rows × 2 columns</p>\n",
              "</div>\n",
              "    <div class=\"colab-df-buttons\">\n",
              "\n",
              "  <div class=\"colab-df-container\">\n",
              "    <button class=\"colab-df-convert\" onclick=\"convertToInteractive('df-0e1b850a-15e6-40da-8114-d9a51cc2569f')\"\n",
              "            title=\"Convert this dataframe to an interactive table.\"\n",
              "            style=\"display:none;\">\n",
              "\n",
              "  <svg xmlns=\"http://www.w3.org/2000/svg\" height=\"24px\" viewBox=\"0 -960 960 960\">\n",
              "    <path d=\"M120-120v-720h720v720H120Zm60-500h600v-160H180v160Zm220 220h160v-160H400v160Zm0 220h160v-160H400v160ZM180-400h160v-160H180v160Zm440 0h160v-160H620v160ZM180-180h160v-160H180v160Zm440 0h160v-160H620v160Z\"/>\n",
              "  </svg>\n",
              "    </button>\n",
              "\n",
              "  <style>\n",
              "    .colab-df-container {\n",
              "      display:flex;\n",
              "      gap: 12px;\n",
              "    }\n",
              "\n",
              "    .colab-df-convert {\n",
              "      background-color: #E8F0FE;\n",
              "      border: none;\n",
              "      border-radius: 50%;\n",
              "      cursor: pointer;\n",
              "      display: none;\n",
              "      fill: #1967D2;\n",
              "      height: 32px;\n",
              "      padding: 0 0 0 0;\n",
              "      width: 32px;\n",
              "    }\n",
              "\n",
              "    .colab-df-convert:hover {\n",
              "      background-color: #E2EBFA;\n",
              "      box-shadow: 0px 1px 2px rgba(60, 64, 67, 0.3), 0px 1px 3px 1px rgba(60, 64, 67, 0.15);\n",
              "      fill: #174EA6;\n",
              "    }\n",
              "\n",
              "    .colab-df-buttons div {\n",
              "      margin-bottom: 4px;\n",
              "    }\n",
              "\n",
              "    [theme=dark] .colab-df-convert {\n",
              "      background-color: #3B4455;\n",
              "      fill: #D2E3FC;\n",
              "    }\n",
              "\n",
              "    [theme=dark] .colab-df-convert:hover {\n",
              "      background-color: #434B5C;\n",
              "      box-shadow: 0px 1px 3px 1px rgba(0, 0, 0, 0.15);\n",
              "      filter: drop-shadow(0px 1px 2px rgba(0, 0, 0, 0.3));\n",
              "      fill: #FFFFFF;\n",
              "    }\n",
              "  </style>\n",
              "\n",
              "    <script>\n",
              "      const buttonEl =\n",
              "        document.querySelector('#df-0e1b850a-15e6-40da-8114-d9a51cc2569f button.colab-df-convert');\n",
              "      buttonEl.style.display =\n",
              "        google.colab.kernel.accessAllowed ? 'block' : 'none';\n",
              "\n",
              "      async function convertToInteractive(key) {\n",
              "        const element = document.querySelector('#df-0e1b850a-15e6-40da-8114-d9a51cc2569f');\n",
              "        const dataTable =\n",
              "          await google.colab.kernel.invokeFunction('convertToInteractive',\n",
              "                                                    [key], {});\n",
              "        if (!dataTable) return;\n",
              "\n",
              "        const docLinkHtml = 'Like what you see? Visit the ' +\n",
              "          '<a target=\"_blank\" href=https://colab.research.google.com/notebooks/data_table.ipynb>data table notebook</a>'\n",
              "          + ' to learn more about interactive tables.';\n",
              "        element.innerHTML = '';\n",
              "        dataTable['output_type'] = 'display_data';\n",
              "        await google.colab.output.renderOutput(dataTable, element);\n",
              "        const docLink = document.createElement('div');\n",
              "        docLink.innerHTML = docLinkHtml;\n",
              "        element.appendChild(docLink);\n",
              "      }\n",
              "    </script>\n",
              "  </div>\n",
              "\n",
              "\n",
              "<div id=\"df-cc697119-d257-4f4c-9a61-fa7851fbb08e\">\n",
              "  <button class=\"colab-df-quickchart\" onclick=\"quickchart('df-cc697119-d257-4f4c-9a61-fa7851fbb08e')\"\n",
              "            title=\"Suggest charts\"\n",
              "            style=\"display:none;\">\n",
              "\n",
              "<svg xmlns=\"http://www.w3.org/2000/svg\" height=\"24px\"viewBox=\"0 0 24 24\"\n",
              "     width=\"24px\">\n",
              "    <g>\n",
              "        <path d=\"M19 3H5c-1.1 0-2 .9-2 2v14c0 1.1.9 2 2 2h14c1.1 0 2-.9 2-2V5c0-1.1-.9-2-2-2zM9 17H7v-7h2v7zm4 0h-2V7h2v10zm4 0h-2v-4h2v4z\"/>\n",
              "    </g>\n",
              "</svg>\n",
              "  </button>\n",
              "\n",
              "<style>\n",
              "  .colab-df-quickchart {\n",
              "      --bg-color: #E8F0FE;\n",
              "      --fill-color: #1967D2;\n",
              "      --hover-bg-color: #E2EBFA;\n",
              "      --hover-fill-color: #174EA6;\n",
              "      --disabled-fill-color: #AAA;\n",
              "      --disabled-bg-color: #DDD;\n",
              "  }\n",
              "\n",
              "  [theme=dark] .colab-df-quickchart {\n",
              "      --bg-color: #3B4455;\n",
              "      --fill-color: #D2E3FC;\n",
              "      --hover-bg-color: #434B5C;\n",
              "      --hover-fill-color: #FFFFFF;\n",
              "      --disabled-bg-color: #3B4455;\n",
              "      --disabled-fill-color: #666;\n",
              "  }\n",
              "\n",
              "  .colab-df-quickchart {\n",
              "    background-color: var(--bg-color);\n",
              "    border: none;\n",
              "    border-radius: 50%;\n",
              "    cursor: pointer;\n",
              "    display: none;\n",
              "    fill: var(--fill-color);\n",
              "    height: 32px;\n",
              "    padding: 0;\n",
              "    width: 32px;\n",
              "  }\n",
              "\n",
              "  .colab-df-quickchart:hover {\n",
              "    background-color: var(--hover-bg-color);\n",
              "    box-shadow: 0 1px 2px rgba(60, 64, 67, 0.3), 0 1px 3px 1px rgba(60, 64, 67, 0.15);\n",
              "    fill: var(--button-hover-fill-color);\n",
              "  }\n",
              "\n",
              "  .colab-df-quickchart-complete:disabled,\n",
              "  .colab-df-quickchart-complete:disabled:hover {\n",
              "    background-color: var(--disabled-bg-color);\n",
              "    fill: var(--disabled-fill-color);\n",
              "    box-shadow: none;\n",
              "  }\n",
              "\n",
              "  .colab-df-spinner {\n",
              "    border: 2px solid var(--fill-color);\n",
              "    border-color: transparent;\n",
              "    border-bottom-color: var(--fill-color);\n",
              "    animation:\n",
              "      spin 1s steps(1) infinite;\n",
              "  }\n",
              "\n",
              "  @keyframes spin {\n",
              "    0% {\n",
              "      border-color: transparent;\n",
              "      border-bottom-color: var(--fill-color);\n",
              "      border-left-color: var(--fill-color);\n",
              "    }\n",
              "    20% {\n",
              "      border-color: transparent;\n",
              "      border-left-color: var(--fill-color);\n",
              "      border-top-color: var(--fill-color);\n",
              "    }\n",
              "    30% {\n",
              "      border-color: transparent;\n",
              "      border-left-color: var(--fill-color);\n",
              "      border-top-color: var(--fill-color);\n",
              "      border-right-color: var(--fill-color);\n",
              "    }\n",
              "    40% {\n",
              "      border-color: transparent;\n",
              "      border-right-color: var(--fill-color);\n",
              "      border-top-color: var(--fill-color);\n",
              "    }\n",
              "    60% {\n",
              "      border-color: transparent;\n",
              "      border-right-color: var(--fill-color);\n",
              "    }\n",
              "    80% {\n",
              "      border-color: transparent;\n",
              "      border-right-color: var(--fill-color);\n",
              "      border-bottom-color: var(--fill-color);\n",
              "    }\n",
              "    90% {\n",
              "      border-color: transparent;\n",
              "      border-bottom-color: var(--fill-color);\n",
              "    }\n",
              "  }\n",
              "</style>\n",
              "\n",
              "  <script>\n",
              "    async function quickchart(key) {\n",
              "      const quickchartButtonEl =\n",
              "        document.querySelector('#' + key + ' button');\n",
              "      quickchartButtonEl.disabled = true;  // To prevent multiple clicks.\n",
              "      quickchartButtonEl.classList.add('colab-df-spinner');\n",
              "      try {\n",
              "        const charts = await google.colab.kernel.invokeFunction(\n",
              "            'suggestCharts', [key], {});\n",
              "      } catch (error) {\n",
              "        console.error('Error during call to suggestCharts:', error);\n",
              "      }\n",
              "      quickchartButtonEl.classList.remove('colab-df-spinner');\n",
              "      quickchartButtonEl.classList.add('colab-df-quickchart-complete');\n",
              "    }\n",
              "    (() => {\n",
              "      let quickchartButtonEl =\n",
              "        document.querySelector('#df-cc697119-d257-4f4c-9a61-fa7851fbb08e button');\n",
              "      quickchartButtonEl.style.display =\n",
              "        google.colab.kernel.accessAllowed ? 'block' : 'none';\n",
              "    })();\n",
              "  </script>\n",
              "</div>\n",
              "\n",
              "  <div id=\"id_917b7ec7-cc60-403d-a278-f31ccdfe8f99\">\n",
              "    <style>\n",
              "      .colab-df-generate {\n",
              "        background-color: #E8F0FE;\n",
              "        border: none;\n",
              "        border-radius: 50%;\n",
              "        cursor: pointer;\n",
              "        display: none;\n",
              "        fill: #1967D2;\n",
              "        height: 32px;\n",
              "        padding: 0 0 0 0;\n",
              "        width: 32px;\n",
              "      }\n",
              "\n",
              "      .colab-df-generate:hover {\n",
              "        background-color: #E2EBFA;\n",
              "        box-shadow: 0px 1px 2px rgba(60, 64, 67, 0.3), 0px 1px 3px 1px rgba(60, 64, 67, 0.15);\n",
              "        fill: #174EA6;\n",
              "      }\n",
              "\n",
              "      [theme=dark] .colab-df-generate {\n",
              "        background-color: #3B4455;\n",
              "        fill: #D2E3FC;\n",
              "      }\n",
              "\n",
              "      [theme=dark] .colab-df-generate:hover {\n",
              "        background-color: #434B5C;\n",
              "        box-shadow: 0px 1px 3px 1px rgba(0, 0, 0, 0.15);\n",
              "        filter: drop-shadow(0px 1px 2px rgba(0, 0, 0, 0.3));\n",
              "        fill: #FFFFFF;\n",
              "      }\n",
              "    </style>\n",
              "    <button class=\"colab-df-generate\" onclick=\"generateWithVariable('results_custom')\"\n",
              "            title=\"Generate code using this dataframe.\"\n",
              "            style=\"display:none;\">\n",
              "\n",
              "  <svg xmlns=\"http://www.w3.org/2000/svg\" height=\"24px\"viewBox=\"0 0 24 24\"\n",
              "       width=\"24px\">\n",
              "    <path d=\"M7,19H8.4L18.45,9,17,7.55,7,17.6ZM5,21V16.75L18.45,3.32a2,2,0,0,1,2.83,0l1.4,1.43a1.91,1.91,0,0,1,.58,1.4,1.91,1.91,0,0,1-.58,1.4L9.25,21ZM18.45,9,17,7.55Zm-12,3A5.31,5.31,0,0,0,4.9,8.1,5.31,5.31,0,0,0,1,6.5,5.31,5.31,0,0,0,4.9,4.9,5.31,5.31,0,0,0,6.5,1,5.31,5.31,0,0,0,8.1,4.9,5.31,5.31,0,0,0,12,6.5,5.46,5.46,0,0,0,6.5,12Z\"/>\n",
              "  </svg>\n",
              "    </button>\n",
              "    <script>\n",
              "      (() => {\n",
              "      const buttonEl =\n",
              "        document.querySelector('#id_917b7ec7-cc60-403d-a278-f31ccdfe8f99 button.colab-df-generate');\n",
              "      buttonEl.style.display =\n",
              "        google.colab.kernel.accessAllowed ? 'block' : 'none';\n",
              "\n",
              "      buttonEl.onclick = () => {\n",
              "        google.colab.notebook.generateWithVariable('results_custom');\n",
              "      }\n",
              "      })();\n",
              "    </script>\n",
              "  </div>\n",
              "\n",
              "    </div>\n",
              "  </div>\n"
            ],
            "text/plain": [
              "     proukrainian  prorussian\n",
              "0        0.995916    0.004084\n",
              "1        0.007027    0.992972\n",
              "2        0.006853    0.993147\n",
              "3        0.995770    0.004230\n",
              "4        0.995826    0.004174\n",
              "..            ...         ...\n",
              "495      0.007292    0.992708\n",
              "496      0.006721    0.993279\n",
              "497      0.006717    0.993283\n",
              "498      0.223717    0.776283\n",
              "499      0.011299    0.988701\n",
              "\n",
              "[500 rows x 2 columns]"
            ]
          },
          "execution_count": 22,
          "metadata": {},
          "output_type": "execute_result"
        }
      ],
      "source": [
        "results_custom"
      ]
    },
    {
      "cell_type": "code",
      "execution_count": null,
      "metadata": {
        "id": "CdEGicSOwGxW"
      },
      "outputs": [],
      "source": [
        "results_custom.columns = ['pro-ukrainian-custom','pro-russian-custom']"
      ]
    },
    {
      "cell_type": "code",
      "execution_count": null,
      "metadata": {
        "id": "8H6mujlsusoV"
      },
      "outputs": [],
      "source": [
        "results_df_all = pd.concat([results_df_all, results2,results_custom], axis=1)"
      ]
    },
    {
      "cell_type": "markdown",
      "metadata": {
        "id": "VCsIOJnSDJrt"
      },
      "source": [
        "### 2.4 Comparison"
      ]
    },
    {
      "cell_type": "code",
      "execution_count": null,
      "metadata": {
        "id": "QdXpBoVeitd1"
      },
      "outputs": [],
      "source": [
        "results_df_all['ur'] = results_df_all['pro-ukrainian'] - results_df_all['pro-russian']\n",
        "results_df_all['ua_bin'] = results_df_all['ur'].apply(lambda x: 1 if x > 3 else 0)\n",
        "results_df_all['ru_bin'] = results_df_all['ur'].apply(lambda x: 1 if x < -3 else 0)\n",
        "pd.crosstab(results_df_all['ua_bin'], results_df_all['ru_bin'])\n",
        "\n",
        "results_df_all['ur_mDeBERTa'] = results_df_all['pro-ukrainian-mDeBERTa'] - results_df_all['pro-russian-mDeBERTa']\n",
        "results_df_all['ua_mDeBERTa'] = results_df_all['ur_mDeBERTa'].apply(lambda x: 1 if x > 0.15 else 0)\n",
        "results_df_all['ru_mDeBERTa'] = results_df_all['ur_mDeBERTa'].apply(lambda x: 1 if x < -0.15 else 0)"
      ]
    },
    {
      "cell_type": "code",
      "execution_count": null,
      "metadata": {
        "id": "fTpD1jKSwXLh"
      },
      "outputs": [],
      "source": [
        "\n",
        "results_df_all['ur_custom'] = results_df_all['pro-ukrainian-custom'] - results_df_all['pro-russian-custom']\n",
        "results_df_all['ua_custom'] = results_df_all['ur_custom'].apply(lambda x: 1 if x > 0.95 else 0)\n",
        "results_df_all['ru_custom'] = results_df_all['ur_custom'].apply(lambda x: 1 if x < -0.95 else 0)"
      ]
    },
    {
      "cell_type": "code",
      "execution_count": null,
      "metadata": {
        "colab": {
          "base_uri": "https://localhost:8080/",
          "height": 142
        },
        "id": "2-57JG4rkQyk",
        "outputId": "1d789cae-c1c6-4ffb-eec1-b1a9d7623e3f"
      },
      "outputs": [
        {
          "data": {
            "application/vnd.google.colaboratory.intrinsic+json": {
              "summary": "{\n  \"name\": \"pd\",\n  \"rows\": 2,\n  \"fields\": [\n    {\n      \"column\": \"ua_mDeBERTa\",\n      \"properties\": {\n        \"dtype\": \"number\",\n        \"std\": 0,\n        \"min\": 0,\n        \"max\": 1,\n        \"num_unique_values\": 2,\n        \"samples\": [\n          1,\n          0\n        ],\n        \"semantic_type\": \"\",\n        \"description\": \"\"\n      }\n    },\n    {\n      \"column\": 0,\n      \"properties\": {\n        \"dtype\": \"number\",\n        \"std\": 278,\n        \"min\": 33,\n        \"max\": 427,\n        \"num_unique_values\": 2,\n        \"samples\": [\n          33,\n          427\n        ],\n        \"semantic_type\": \"\",\n        \"description\": \"\"\n      }\n    },\n    {\n      \"column\": 1,\n      \"properties\": {\n        \"dtype\": \"number\",\n        \"std\": 28,\n        \"min\": 0,\n        \"max\": 40,\n        \"num_unique_values\": 2,\n        \"samples\": [\n          0,\n          40\n        ],\n        \"semantic_type\": \"\",\n        \"description\": \"\"\n      }\n    }\n  ]\n}",
              "type": "dataframe"
            },
            "text/html": [
              "\n",
              "  <div id=\"df-8ebb61bb-fa53-46db-bdd4-3b6e80d0d4c5\" class=\"colab-df-container\">\n",
              "    <div>\n",
              "<style scoped>\n",
              "    .dataframe tbody tr th:only-of-type {\n",
              "        vertical-align: middle;\n",
              "    }\n",
              "\n",
              "    .dataframe tbody tr th {\n",
              "        vertical-align: top;\n",
              "    }\n",
              "\n",
              "    .dataframe thead th {\n",
              "        text-align: right;\n",
              "    }\n",
              "</style>\n",
              "<table border=\"1\" class=\"dataframe\">\n",
              "  <thead>\n",
              "    <tr style=\"text-align: right;\">\n",
              "      <th>ru_mDeBERTa</th>\n",
              "      <th>0</th>\n",
              "      <th>1</th>\n",
              "    </tr>\n",
              "    <tr>\n",
              "      <th>ua_mDeBERTa</th>\n",
              "      <th></th>\n",
              "      <th></th>\n",
              "    </tr>\n",
              "  </thead>\n",
              "  <tbody>\n",
              "    <tr>\n",
              "      <th>0</th>\n",
              "      <td>427</td>\n",
              "      <td>40</td>\n",
              "    </tr>\n",
              "    <tr>\n",
              "      <th>1</th>\n",
              "      <td>33</td>\n",
              "      <td>0</td>\n",
              "    </tr>\n",
              "  </tbody>\n",
              "</table>\n",
              "</div>\n",
              "    <div class=\"colab-df-buttons\">\n",
              "\n",
              "  <div class=\"colab-df-container\">\n",
              "    <button class=\"colab-df-convert\" onclick=\"convertToInteractive('df-8ebb61bb-fa53-46db-bdd4-3b6e80d0d4c5')\"\n",
              "            title=\"Convert this dataframe to an interactive table.\"\n",
              "            style=\"display:none;\">\n",
              "\n",
              "  <svg xmlns=\"http://www.w3.org/2000/svg\" height=\"24px\" viewBox=\"0 -960 960 960\">\n",
              "    <path d=\"M120-120v-720h720v720H120Zm60-500h600v-160H180v160Zm220 220h160v-160H400v160Zm0 220h160v-160H400v160ZM180-400h160v-160H180v160Zm440 0h160v-160H620v160ZM180-180h160v-160H180v160Zm440 0h160v-160H620v160Z\"/>\n",
              "  </svg>\n",
              "    </button>\n",
              "\n",
              "  <style>\n",
              "    .colab-df-container {\n",
              "      display:flex;\n",
              "      gap: 12px;\n",
              "    }\n",
              "\n",
              "    .colab-df-convert {\n",
              "      background-color: #E8F0FE;\n",
              "      border: none;\n",
              "      border-radius: 50%;\n",
              "      cursor: pointer;\n",
              "      display: none;\n",
              "      fill: #1967D2;\n",
              "      height: 32px;\n",
              "      padding: 0 0 0 0;\n",
              "      width: 32px;\n",
              "    }\n",
              "\n",
              "    .colab-df-convert:hover {\n",
              "      background-color: #E2EBFA;\n",
              "      box-shadow: 0px 1px 2px rgba(60, 64, 67, 0.3), 0px 1px 3px 1px rgba(60, 64, 67, 0.15);\n",
              "      fill: #174EA6;\n",
              "    }\n",
              "\n",
              "    .colab-df-buttons div {\n",
              "      margin-bottom: 4px;\n",
              "    }\n",
              "\n",
              "    [theme=dark] .colab-df-convert {\n",
              "      background-color: #3B4455;\n",
              "      fill: #D2E3FC;\n",
              "    }\n",
              "\n",
              "    [theme=dark] .colab-df-convert:hover {\n",
              "      background-color: #434B5C;\n",
              "      box-shadow: 0px 1px 3px 1px rgba(0, 0, 0, 0.15);\n",
              "      filter: drop-shadow(0px 1px 2px rgba(0, 0, 0, 0.3));\n",
              "      fill: #FFFFFF;\n",
              "    }\n",
              "  </style>\n",
              "\n",
              "    <script>\n",
              "      const buttonEl =\n",
              "        document.querySelector('#df-8ebb61bb-fa53-46db-bdd4-3b6e80d0d4c5 button.colab-df-convert');\n",
              "      buttonEl.style.display =\n",
              "        google.colab.kernel.accessAllowed ? 'block' : 'none';\n",
              "\n",
              "      async function convertToInteractive(key) {\n",
              "        const element = document.querySelector('#df-8ebb61bb-fa53-46db-bdd4-3b6e80d0d4c5');\n",
              "        const dataTable =\n",
              "          await google.colab.kernel.invokeFunction('convertToInteractive',\n",
              "                                                    [key], {});\n",
              "        if (!dataTable) return;\n",
              "\n",
              "        const docLinkHtml = 'Like what you see? Visit the ' +\n",
              "          '<a target=\"_blank\" href=https://colab.research.google.com/notebooks/data_table.ipynb>data table notebook</a>'\n",
              "          + ' to learn more about interactive tables.';\n",
              "        element.innerHTML = '';\n",
              "        dataTable['output_type'] = 'display_data';\n",
              "        await google.colab.output.renderOutput(dataTable, element);\n",
              "        const docLink = document.createElement('div');\n",
              "        docLink.innerHTML = docLinkHtml;\n",
              "        element.appendChild(docLink);\n",
              "      }\n",
              "    </script>\n",
              "  </div>\n",
              "\n",
              "\n",
              "<div id=\"df-8695c905-da8b-465b-b086-329fe0d101ae\">\n",
              "  <button class=\"colab-df-quickchart\" onclick=\"quickchart('df-8695c905-da8b-465b-b086-329fe0d101ae')\"\n",
              "            title=\"Suggest charts\"\n",
              "            style=\"display:none;\">\n",
              "\n",
              "<svg xmlns=\"http://www.w3.org/2000/svg\" height=\"24px\"viewBox=\"0 0 24 24\"\n",
              "     width=\"24px\">\n",
              "    <g>\n",
              "        <path d=\"M19 3H5c-1.1 0-2 .9-2 2v14c0 1.1.9 2 2 2h14c1.1 0 2-.9 2-2V5c0-1.1-.9-2-2-2zM9 17H7v-7h2v7zm4 0h-2V7h2v10zm4 0h-2v-4h2v4z\"/>\n",
              "    </g>\n",
              "</svg>\n",
              "  </button>\n",
              "\n",
              "<style>\n",
              "  .colab-df-quickchart {\n",
              "      --bg-color: #E8F0FE;\n",
              "      --fill-color: #1967D2;\n",
              "      --hover-bg-color: #E2EBFA;\n",
              "      --hover-fill-color: #174EA6;\n",
              "      --disabled-fill-color: #AAA;\n",
              "      --disabled-bg-color: #DDD;\n",
              "  }\n",
              "\n",
              "  [theme=dark] .colab-df-quickchart {\n",
              "      --bg-color: #3B4455;\n",
              "      --fill-color: #D2E3FC;\n",
              "      --hover-bg-color: #434B5C;\n",
              "      --hover-fill-color: #FFFFFF;\n",
              "      --disabled-bg-color: #3B4455;\n",
              "      --disabled-fill-color: #666;\n",
              "  }\n",
              "\n",
              "  .colab-df-quickchart {\n",
              "    background-color: var(--bg-color);\n",
              "    border: none;\n",
              "    border-radius: 50%;\n",
              "    cursor: pointer;\n",
              "    display: none;\n",
              "    fill: var(--fill-color);\n",
              "    height: 32px;\n",
              "    padding: 0;\n",
              "    width: 32px;\n",
              "  }\n",
              "\n",
              "  .colab-df-quickchart:hover {\n",
              "    background-color: var(--hover-bg-color);\n",
              "    box-shadow: 0 1px 2px rgba(60, 64, 67, 0.3), 0 1px 3px 1px rgba(60, 64, 67, 0.15);\n",
              "    fill: var(--button-hover-fill-color);\n",
              "  }\n",
              "\n",
              "  .colab-df-quickchart-complete:disabled,\n",
              "  .colab-df-quickchart-complete:disabled:hover {\n",
              "    background-color: var(--disabled-bg-color);\n",
              "    fill: var(--disabled-fill-color);\n",
              "    box-shadow: none;\n",
              "  }\n",
              "\n",
              "  .colab-df-spinner {\n",
              "    border: 2px solid var(--fill-color);\n",
              "    border-color: transparent;\n",
              "    border-bottom-color: var(--fill-color);\n",
              "    animation:\n",
              "      spin 1s steps(1) infinite;\n",
              "  }\n",
              "\n",
              "  @keyframes spin {\n",
              "    0% {\n",
              "      border-color: transparent;\n",
              "      border-bottom-color: var(--fill-color);\n",
              "      border-left-color: var(--fill-color);\n",
              "    }\n",
              "    20% {\n",
              "      border-color: transparent;\n",
              "      border-left-color: var(--fill-color);\n",
              "      border-top-color: var(--fill-color);\n",
              "    }\n",
              "    30% {\n",
              "      border-color: transparent;\n",
              "      border-left-color: var(--fill-color);\n",
              "      border-top-color: var(--fill-color);\n",
              "      border-right-color: var(--fill-color);\n",
              "    }\n",
              "    40% {\n",
              "      border-color: transparent;\n",
              "      border-right-color: var(--fill-color);\n",
              "      border-top-color: var(--fill-color);\n",
              "    }\n",
              "    60% {\n",
              "      border-color: transparent;\n",
              "      border-right-color: var(--fill-color);\n",
              "    }\n",
              "    80% {\n",
              "      border-color: transparent;\n",
              "      border-right-color: var(--fill-color);\n",
              "      border-bottom-color: var(--fill-color);\n",
              "    }\n",
              "    90% {\n",
              "      border-color: transparent;\n",
              "      border-bottom-color: var(--fill-color);\n",
              "    }\n",
              "  }\n",
              "</style>\n",
              "\n",
              "  <script>\n",
              "    async function quickchart(key) {\n",
              "      const quickchartButtonEl =\n",
              "        document.querySelector('#' + key + ' button');\n",
              "      quickchartButtonEl.disabled = true;  // To prevent multiple clicks.\n",
              "      quickchartButtonEl.classList.add('colab-df-spinner');\n",
              "      try {\n",
              "        const charts = await google.colab.kernel.invokeFunction(\n",
              "            'suggestCharts', [key], {});\n",
              "      } catch (error) {\n",
              "        console.error('Error during call to suggestCharts:', error);\n",
              "      }\n",
              "      quickchartButtonEl.classList.remove('colab-df-spinner');\n",
              "      quickchartButtonEl.classList.add('colab-df-quickchart-complete');\n",
              "    }\n",
              "    (() => {\n",
              "      let quickchartButtonEl =\n",
              "        document.querySelector('#df-8695c905-da8b-465b-b086-329fe0d101ae button');\n",
              "      quickchartButtonEl.style.display =\n",
              "        google.colab.kernel.accessAllowed ? 'block' : 'none';\n",
              "    })();\n",
              "  </script>\n",
              "</div>\n",
              "\n",
              "    </div>\n",
              "  </div>\n"
            ],
            "text/plain": [
              "ru_mDeBERTa    0   1\n",
              "ua_mDeBERTa         \n",
              "0            427  40\n",
              "1             33   0"
            ]
          },
          "execution_count": 71,
          "metadata": {},
          "output_type": "execute_result"
        }
      ],
      "source": [
        "pd.crosstab(results_df_all['ua_mDeBERTa'], results_df_all['ru_mDeBERTa'])"
      ]
    },
    {
      "cell_type": "code",
      "execution_count": null,
      "metadata": {
        "colab": {
          "base_uri": "https://localhost:8080/",
          "height": 142
        },
        "id": "7JvQNWXzwiFo",
        "outputId": "d94b3c22-9a86-4410-a6c6-9f26eba11828"
      },
      "outputs": [
        {
          "data": {
            "application/vnd.google.colaboratory.intrinsic+json": {
              "summary": "{\n  \"name\": \"pd\",\n  \"rows\": 2,\n  \"fields\": [\n    {\n      \"column\": \"ua_custom\",\n      \"properties\": {\n        \"dtype\": \"number\",\n        \"std\": 0,\n        \"min\": 0,\n        \"max\": 1,\n        \"num_unique_values\": 2,\n        \"samples\": [\n          1,\n          0\n        ],\n        \"semantic_type\": \"\",\n        \"description\": \"\"\n      }\n    },\n    {\n      \"column\": 0,\n      \"properties\": {\n        \"dtype\": \"number\",\n        \"std\": 50,\n        \"min\": 95,\n        \"max\": 167,\n        \"num_unique_values\": 2,\n        \"samples\": [\n          167,\n          95\n        ],\n        \"semantic_type\": \"\",\n        \"description\": \"\"\n      }\n    },\n    {\n      \"column\": 1,\n      \"properties\": {\n        \"dtype\": \"number\",\n        \"std\": 168,\n        \"min\": 0,\n        \"max\": 238,\n        \"num_unique_values\": 2,\n        \"samples\": [\n          0,\n          238\n        ],\n        \"semantic_type\": \"\",\n        \"description\": \"\"\n      }\n    }\n  ]\n}",
              "type": "dataframe"
            },
            "text/html": [
              "\n",
              "  <div id=\"df-b3c9c605-2899-45b9-b8c5-242a30fd350d\" class=\"colab-df-container\">\n",
              "    <div>\n",
              "<style scoped>\n",
              "    .dataframe tbody tr th:only-of-type {\n",
              "        vertical-align: middle;\n",
              "    }\n",
              "\n",
              "    .dataframe tbody tr th {\n",
              "        vertical-align: top;\n",
              "    }\n",
              "\n",
              "    .dataframe thead th {\n",
              "        text-align: right;\n",
              "    }\n",
              "</style>\n",
              "<table border=\"1\" class=\"dataframe\">\n",
              "  <thead>\n",
              "    <tr style=\"text-align: right;\">\n",
              "      <th>ru_custom</th>\n",
              "      <th>0</th>\n",
              "      <th>1</th>\n",
              "    </tr>\n",
              "    <tr>\n",
              "      <th>ua_custom</th>\n",
              "      <th></th>\n",
              "      <th></th>\n",
              "    </tr>\n",
              "  </thead>\n",
              "  <tbody>\n",
              "    <tr>\n",
              "      <th>0</th>\n",
              "      <td>95</td>\n",
              "      <td>238</td>\n",
              "    </tr>\n",
              "    <tr>\n",
              "      <th>1</th>\n",
              "      <td>167</td>\n",
              "      <td>0</td>\n",
              "    </tr>\n",
              "  </tbody>\n",
              "</table>\n",
              "</div>\n",
              "    <div class=\"colab-df-buttons\">\n",
              "\n",
              "  <div class=\"colab-df-container\">\n",
              "    <button class=\"colab-df-convert\" onclick=\"convertToInteractive('df-b3c9c605-2899-45b9-b8c5-242a30fd350d')\"\n",
              "            title=\"Convert this dataframe to an interactive table.\"\n",
              "            style=\"display:none;\">\n",
              "\n",
              "  <svg xmlns=\"http://www.w3.org/2000/svg\" height=\"24px\" viewBox=\"0 -960 960 960\">\n",
              "    <path d=\"M120-120v-720h720v720H120Zm60-500h600v-160H180v160Zm220 220h160v-160H400v160Zm0 220h160v-160H400v160ZM180-400h160v-160H180v160Zm440 0h160v-160H620v160ZM180-180h160v-160H180v160Zm440 0h160v-160H620v160Z\"/>\n",
              "  </svg>\n",
              "    </button>\n",
              "\n",
              "  <style>\n",
              "    .colab-df-container {\n",
              "      display:flex;\n",
              "      gap: 12px;\n",
              "    }\n",
              "\n",
              "    .colab-df-convert {\n",
              "      background-color: #E8F0FE;\n",
              "      border: none;\n",
              "      border-radius: 50%;\n",
              "      cursor: pointer;\n",
              "      display: none;\n",
              "      fill: #1967D2;\n",
              "      height: 32px;\n",
              "      padding: 0 0 0 0;\n",
              "      width: 32px;\n",
              "    }\n",
              "\n",
              "    .colab-df-convert:hover {\n",
              "      background-color: #E2EBFA;\n",
              "      box-shadow: 0px 1px 2px rgba(60, 64, 67, 0.3), 0px 1px 3px 1px rgba(60, 64, 67, 0.15);\n",
              "      fill: #174EA6;\n",
              "    }\n",
              "\n",
              "    .colab-df-buttons div {\n",
              "      margin-bottom: 4px;\n",
              "    }\n",
              "\n",
              "    [theme=dark] .colab-df-convert {\n",
              "      background-color: #3B4455;\n",
              "      fill: #D2E3FC;\n",
              "    }\n",
              "\n",
              "    [theme=dark] .colab-df-convert:hover {\n",
              "      background-color: #434B5C;\n",
              "      box-shadow: 0px 1px 3px 1px rgba(0, 0, 0, 0.15);\n",
              "      filter: drop-shadow(0px 1px 2px rgba(0, 0, 0, 0.3));\n",
              "      fill: #FFFFFF;\n",
              "    }\n",
              "  </style>\n",
              "\n",
              "    <script>\n",
              "      const buttonEl =\n",
              "        document.querySelector('#df-b3c9c605-2899-45b9-b8c5-242a30fd350d button.colab-df-convert');\n",
              "      buttonEl.style.display =\n",
              "        google.colab.kernel.accessAllowed ? 'block' : 'none';\n",
              "\n",
              "      async function convertToInteractive(key) {\n",
              "        const element = document.querySelector('#df-b3c9c605-2899-45b9-b8c5-242a30fd350d');\n",
              "        const dataTable =\n",
              "          await google.colab.kernel.invokeFunction('convertToInteractive',\n",
              "                                                    [key], {});\n",
              "        if (!dataTable) return;\n",
              "\n",
              "        const docLinkHtml = 'Like what you see? Visit the ' +\n",
              "          '<a target=\"_blank\" href=https://colab.research.google.com/notebooks/data_table.ipynb>data table notebook</a>'\n",
              "          + ' to learn more about interactive tables.';\n",
              "        element.innerHTML = '';\n",
              "        dataTable['output_type'] = 'display_data';\n",
              "        await google.colab.output.renderOutput(dataTable, element);\n",
              "        const docLink = document.createElement('div');\n",
              "        docLink.innerHTML = docLinkHtml;\n",
              "        element.appendChild(docLink);\n",
              "      }\n",
              "    </script>\n",
              "  </div>\n",
              "\n",
              "\n",
              "<div id=\"df-f23ca4e4-9db5-49c0-b865-6e962b02782f\">\n",
              "  <button class=\"colab-df-quickchart\" onclick=\"quickchart('df-f23ca4e4-9db5-49c0-b865-6e962b02782f')\"\n",
              "            title=\"Suggest charts\"\n",
              "            style=\"display:none;\">\n",
              "\n",
              "<svg xmlns=\"http://www.w3.org/2000/svg\" height=\"24px\"viewBox=\"0 0 24 24\"\n",
              "     width=\"24px\">\n",
              "    <g>\n",
              "        <path d=\"M19 3H5c-1.1 0-2 .9-2 2v14c0 1.1.9 2 2 2h14c1.1 0 2-.9 2-2V5c0-1.1-.9-2-2-2zM9 17H7v-7h2v7zm4 0h-2V7h2v10zm4 0h-2v-4h2v4z\"/>\n",
              "    </g>\n",
              "</svg>\n",
              "  </button>\n",
              "\n",
              "<style>\n",
              "  .colab-df-quickchart {\n",
              "      --bg-color: #E8F0FE;\n",
              "      --fill-color: #1967D2;\n",
              "      --hover-bg-color: #E2EBFA;\n",
              "      --hover-fill-color: #174EA6;\n",
              "      --disabled-fill-color: #AAA;\n",
              "      --disabled-bg-color: #DDD;\n",
              "  }\n",
              "\n",
              "  [theme=dark] .colab-df-quickchart {\n",
              "      --bg-color: #3B4455;\n",
              "      --fill-color: #D2E3FC;\n",
              "      --hover-bg-color: #434B5C;\n",
              "      --hover-fill-color: #FFFFFF;\n",
              "      --disabled-bg-color: #3B4455;\n",
              "      --disabled-fill-color: #666;\n",
              "  }\n",
              "\n",
              "  .colab-df-quickchart {\n",
              "    background-color: var(--bg-color);\n",
              "    border: none;\n",
              "    border-radius: 50%;\n",
              "    cursor: pointer;\n",
              "    display: none;\n",
              "    fill: var(--fill-color);\n",
              "    height: 32px;\n",
              "    padding: 0;\n",
              "    width: 32px;\n",
              "  }\n",
              "\n",
              "  .colab-df-quickchart:hover {\n",
              "    background-color: var(--hover-bg-color);\n",
              "    box-shadow: 0 1px 2px rgba(60, 64, 67, 0.3), 0 1px 3px 1px rgba(60, 64, 67, 0.15);\n",
              "    fill: var(--button-hover-fill-color);\n",
              "  }\n",
              "\n",
              "  .colab-df-quickchart-complete:disabled,\n",
              "  .colab-df-quickchart-complete:disabled:hover {\n",
              "    background-color: var(--disabled-bg-color);\n",
              "    fill: var(--disabled-fill-color);\n",
              "    box-shadow: none;\n",
              "  }\n",
              "\n",
              "  .colab-df-spinner {\n",
              "    border: 2px solid var(--fill-color);\n",
              "    border-color: transparent;\n",
              "    border-bottom-color: var(--fill-color);\n",
              "    animation:\n",
              "      spin 1s steps(1) infinite;\n",
              "  }\n",
              "\n",
              "  @keyframes spin {\n",
              "    0% {\n",
              "      border-color: transparent;\n",
              "      border-bottom-color: var(--fill-color);\n",
              "      border-left-color: var(--fill-color);\n",
              "    }\n",
              "    20% {\n",
              "      border-color: transparent;\n",
              "      border-left-color: var(--fill-color);\n",
              "      border-top-color: var(--fill-color);\n",
              "    }\n",
              "    30% {\n",
              "      border-color: transparent;\n",
              "      border-left-color: var(--fill-color);\n",
              "      border-top-color: var(--fill-color);\n",
              "      border-right-color: var(--fill-color);\n",
              "    }\n",
              "    40% {\n",
              "      border-color: transparent;\n",
              "      border-right-color: var(--fill-color);\n",
              "      border-top-color: var(--fill-color);\n",
              "    }\n",
              "    60% {\n",
              "      border-color: transparent;\n",
              "      border-right-color: var(--fill-color);\n",
              "    }\n",
              "    80% {\n",
              "      border-color: transparent;\n",
              "      border-right-color: var(--fill-color);\n",
              "      border-bottom-color: var(--fill-color);\n",
              "    }\n",
              "    90% {\n",
              "      border-color: transparent;\n",
              "      border-bottom-color: var(--fill-color);\n",
              "    }\n",
              "  }\n",
              "</style>\n",
              "\n",
              "  <script>\n",
              "    async function quickchart(key) {\n",
              "      const quickchartButtonEl =\n",
              "        document.querySelector('#' + key + ' button');\n",
              "      quickchartButtonEl.disabled = true;  // To prevent multiple clicks.\n",
              "      quickchartButtonEl.classList.add('colab-df-spinner');\n",
              "      try {\n",
              "        const charts = await google.colab.kernel.invokeFunction(\n",
              "            'suggestCharts', [key], {});\n",
              "      } catch (error) {\n",
              "        console.error('Error during call to suggestCharts:', error);\n",
              "      }\n",
              "      quickchartButtonEl.classList.remove('colab-df-spinner');\n",
              "      quickchartButtonEl.classList.add('colab-df-quickchart-complete');\n",
              "    }\n",
              "    (() => {\n",
              "      let quickchartButtonEl =\n",
              "        document.querySelector('#df-f23ca4e4-9db5-49c0-b865-6e962b02782f button');\n",
              "      quickchartButtonEl.style.display =\n",
              "        google.colab.kernel.accessAllowed ? 'block' : 'none';\n",
              "    })();\n",
              "  </script>\n",
              "</div>\n",
              "\n",
              "    </div>\n",
              "  </div>\n"
            ],
            "text/plain": [
              "ru_custom    0    1\n",
              "ua_custom          \n",
              "0           95  238\n",
              "1          167    0"
            ]
          },
          "execution_count": 97,
          "metadata": {},
          "output_type": "execute_result"
        }
      ],
      "source": [
        "pd.crosstab(results_df_all['ua_custom'], results_df_all['ru_custom'])"
      ]
    },
    {
      "cell_type": "code",
      "execution_count": null,
      "metadata": {
        "colab": {
          "base_uri": "https://localhost:8080/",
          "height": 1000
        },
        "id": "zD77R4FlmaOD",
        "outputId": "9d1572cf-be29-4e7a-f4ee-a7ea625596ef"
      },
      "outputs": [
        {
          "name": "stdout",
          "output_type": "stream",
          "text": [
            "Column: ua_mDeBERTa\n",
            "Accuracy: 0.872\n",
            "F1 Score: 0.544315333789018\n"
          ]
        },
        {
          "data": {
            "image/png": "[encoded data removed]",
            "text/plain": [
              "<Figure size 1000x700 with 2 Axes>"
            ]
          },
          "metadata": {},
          "output_type": "display_data"
        },
        {
          "name": "stdout",
          "output_type": "stream",
          "text": [
            "Column: ru_mDeBERTa\n",
            "Accuracy: 0.82\n",
            "F1 Score: 0.54753861003861\n"
          ]
        },
        {
          "data": {
            "image/png": "[encoded data removed]",
            "text/plain": [
              "<Figure size 1000x700 with 2 Axes>"
            ]
          },
          "metadata": {},
          "output_type": "display_data"
        }
      ],
      "source": [
        "from sklearn.metrics import confusion_matrix, accuracy_score, f1_score\n",
        "\n",
        "columns = ['ua_mDeBERTa','ru_mDeBERTa']\n",
        "corr_dict = {\n",
        "    'ua_mDeBERTa':'ua_bin',\n",
        "    'ru_mDeBERTa':'ru_bin'\n",
        "}\n",
        "\n",
        "for column in columns:\n",
        "    conf_matrix = confusion_matrix(results_df_all[corr_dict[column]], results_df_all[column])\n",
        "    accuracy = accuracy_score(results_df_all[corr_dict[column]], results_df_all[column])\n",
        "    f1 = f1_score(results_df_all[corr_dict[column]], results_df_all[column], average='macro')\n",
        "\n",
        "    print(f'Column: {column}')\n",
        "    print(f'Accuracy: {accuracy}')\n",
        "    print(f'F1 Score: {f1}')\n",
        "\n",
        "    plt.figure(figsize=(10, 7))\n",
        "    sns.heatmap(conf_matrix, annot=True, fmt='d', cmap='Blues', xticklabels=['NO', 'YES'], yticklabels=['NO', 'YES'])\n",
        "    plt.xlabel('DeBERTa')\n",
        "    plt.ylabel('ChatGPT')\n",
        "    plt.title(f'Confusion Matrix for {column}')\n",
        "    plt.show()"
      ]
    },
    {
      "cell_type": "code",
      "execution_count": null,
      "metadata": {
        "colab": {
          "base_uri": "https://localhost:8080/",
          "height": 1000
        },
        "id": "JN0r3FBzw9pN",
        "outputId": "73130ad9-af33-417e-aeab-f78208c3669a"
      },
      "outputs": [
        {
          "name": "stdout",
          "output_type": "stream",
          "text": [
            "Column: ua_custom\n",
            "Accuracy: 0.748\n",
            "F1 Score: 0.620253164556962\n"
          ]
        },
        {
          "data": {
            "image/png": "[encoded data removed]",
            "text/plain": [
              "<Figure size 1000x700 with 2 Axes>"
            ]
          },
          "metadata": {},
          "output_type": "display_data"
        },
        {
          "name": "stdout",
          "output_type": "stream",
          "text": [
            "Column: ru_custom\n",
            "Accuracy: 0.648\n",
            "F1 Score: 0.5885928003740065\n"
          ]
        },
        {
          "data": {
            "image/png": "[encoded data removed]",
            "text/plain": [
              "<Figure size 1000x700 with 2 Axes>"
            ]
          },
          "metadata": {},
          "output_type": "display_data"
        }
      ],
      "source": [
        "columns = ['ua_custom','ru_custom']\n",
        "corr_dict = {\n",
        "    'ua_custom':'ua_bin',\n",
        "    'ru_custom':'ru_bin'\n",
        "}\n",
        "\n",
        "for column in columns:\n",
        "    conf_matrix = confusion_matrix(results_df_all[corr_dict[column]], results_df_all[column])\n",
        "    accuracy = accuracy_score(results_df_all[corr_dict[column]], results_df_all[column])\n",
        "    f1 = f1_score(results_df_all[corr_dict[column]], results_df_all[column], average='macro')\n",
        "\n",
        "    print(f'Column: {column}')\n",
        "    print(f'Accuracy: {accuracy}')\n",
        "    print(f'F1 Score: {f1}')\n",
        "\n",
        "    plt.figure(figsize=(10, 7))\n",
        "    sns.heatmap(conf_matrix, annot=True, fmt='d', cmap='Blues', xticklabels=['NO', 'YES'], yticklabels=['NO', 'YES'])\n",
        "    plt.xlabel('Custom')\n",
        "    plt.ylabel('ChatGPT')\n",
        "    plt.title(f'Confusion Matrix for {column}')\n",
        "    plt.show()"
      ]
    },
    {
      "cell_type": "markdown",
      "metadata": {
        "id": "h_EVHRZ_3Z2s"
      },
      "source": [
        "## 3. Statistics\n",
        "\n",
        "\n",
        "\n"
      ]
    },
    {
      "cell_type": "markdown",
      "metadata": {
        "id": "L0dNj-5HC3kZ"
      },
      "source": [
        "Hypotheses testing, e.g.:\n",
        "- H1: Emotional content has an effect on forwards.\n",
        "- H0: Emotional content has no effect on forwards.\n",
        "\n",
        "Or:\n",
        "- H1: Pro-Ukrainian/Pro-Russian content will get more forwards in deoccupied/occupied channels. (IE The interaction between content type and channel type has an effect on forwards.)\n",
        "\n",
        "We want to control for how many people viewed the message, for instance, and other linguistic categories."
      ]
    },
    {
      "cell_type": "code",
      "execution_count": null,
      "metadata": {
        "colab": {
          "base_uri": "https://localhost:8080/",
          "height": 564
        },
        "id": "tI6dfb9u9AV3",
        "outputId": "ddb982c4-1f0c-484b-81eb-5b295c924630"
      },
      "outputs": [
        {
          "data": {
            "image/png": "[encoded data removed]",
            "text/plain": [
              "<Figure size 800x600 with 1 Axes>"
            ]
          },
          "metadata": {},
          "output_type": "display_data"
        }
      ],
      "source": [
        "plt.figure(figsize=(8, 6))\n",
        "sns.histplot(results_df_all['forwards'], kde=True, bins=10, color='skyblue')\n",
        "plt.title('Distribution of Forwards')\n",
        "plt.xlabel('Forwards')\n",
        "plt.ylabel('Frequency')\n",
        "plt.show()"
      ]
    },
    {
      "cell_type": "code",
      "execution_count": null,
      "metadata": {
        "colab": {
          "base_uri": "https://localhost:8080/"
        },
        "id": "B8YF7Vcu-uxl",
        "outputId": "1ca91c76-4687-4991-a313-286c161ec632"
      },
      "outputs": [
        {
          "name": "stdout",
          "output_type": "stream",
          "text": [
            "Mean of forwards: 89.324\n",
            "Standard deviation of forwards: 380.02828054241445\n"
          ]
        }
      ],
      "source": [
        "print(f\"Mean of forwards: {results_df_all['forwards'].mean()}\")\n",
        "print(f\"Standard deviation of forwards: {results_df_all['forwards'].std()}\")"
      ]
    },
    {
      "cell_type": "code",
      "execution_count": null,
      "metadata": {
        "colab": {
          "base_uri": "https://localhost:8080/",
          "height": 564
        },
        "id": "b4Yb_3xx9EDP",
        "outputId": "0213240c-c497-426b-9052-a3fde7fe5cc7"
      },
      "outputs": [
        {
          "data": {
            "image/png": "[encoded data removed]",
            "text/plain": [
              "<Figure size 800x600 with 1 Axes>"
            ]
          },
          "metadata": {},
          "output_type": "display_data"
        }
      ],
      "source": [
        "results_df_all['log_forwards'] = np.log(1 + results_df_all['forwards'])\n",
        "plt.figure(figsize=(8, 6))\n",
        "sns.histplot(results_df_all['log_forwards'], kde=True, bins=10, color='skyblue')\n",
        "plt.title('Distribution of Log Forwards')\n",
        "plt.xlabel('Log Forwards')\n",
        "plt.ylabel('Frequency')\n",
        "plt.show()"
      ]
    },
    {
      "cell_type": "markdown",
      "metadata": {
        "id": "yHWyaBF3_CvC"
      },
      "source": [
        "We could try using [negative binomial regression](https://en.wikipedia.org/wiki/Poisson_regression), which is good for overdispersed count data."
      ]
    },
    {
      "cell_type": "code",
      "execution_count": null,
      "metadata": {
        "id": "IWdviFel066V"
      },
      "outputs": [],
      "source": [
        "from sklearn.preprocessing import MinMaxScaler\n",
        "\n",
        "scaler = MinMaxScaler()\n",
        "results_df_all['views_scaled'] = scaler.fit_transform(results_df_all[['views']])\n",
        "\n",
        "results_df_all['occupied'] = results_df_all['category'].apply(lambda x: 1 if x == 'occupied' else 0)\n",
        "results_df_all[\"pro-ru in occupied\"] = results_df_all['pro-russian']*results_df_all['occupied']\n",
        "results_df_all[\"pro-ua in occupied\"] = results_df_all['pro-ukrainian']*results_df_all['occupied']"
      ]
    },
    {
      "cell_type": "code",
      "execution_count": null,
      "metadata": {
        "id": "mEPF0QEzxYG9"
      },
      "outputs": [],
      "source": [
        "# dependent variable\n",
        "dv = 'forwards'\n",
        "\n",
        "# independent variables\n",
        "predictors = ['pro-ukrainian', 'pro-russian',\n",
        "              'views_scaled', # control variable\n",
        "              'discrediting', 'emotion', 'polarization',\n",
        "              'impersonation', 'conspiracy', 'trolling']"
      ]
    },
    {
      "cell_type": "code",
      "execution_count": null,
      "metadata": {
        "colab": {
          "base_uri": "https://localhost:8080/"
        },
        "id": "8uAsOeHo3Y6L",
        "outputId": "c6ab1549-9f3f-4d6f-c9c2-9549a4374ad3"
      },
      "outputs": [
        {
          "name": "stdout",
          "output_type": "stream",
          "text": [
            "                 Generalized Linear Model Regression Results                  \n",
            "==============================================================================\n",
            "Dep. Variable:               forwards   No. Observations:                  500\n",
            "Model:                            GLM   Df Residuals:                      487\n",
            "Model Family:        NegativeBinomial   Df Model:                           12\n",
            "Link Function:                    Log   Scale:                          1.0000\n",
            "Method:                          IRLS   Log-Likelihood:                -2063.3\n",
            "Date:                Mon, 13 Jan 2025   Deviance:                       1290.0\n",
            "Time:                        14:08:51   Pearson chi2:                 1.52e+03\n",
            "No. Iterations:                    56   Pseudo R-squ. (CS):             0.9356\n",
            "Covariance Type:            nonrobust                                         \n",
            "======================================================================================\n",
            "                         coef    std err          z      P>|z|      [0.025      0.975]\n",
            "--------------------------------------------------------------------------------------\n",
            "const                  2.0039      0.113     17.789      0.000       1.783       2.225\n",
            "occupied               0.4624      0.132      3.512      0.000       0.204       0.720\n",
            "pro-ru in occupied     0.0935      0.057      1.648      0.099      -0.018       0.205\n",
            "pro-ua in occupied    -0.5002      0.101     -4.972      0.000      -0.697      -0.303\n",
            "pro-ukrainian          0.1200      0.048      2.515      0.012       0.026       0.213\n",
            "pro-russian            0.0154      0.054      0.285      0.775      -0.091       0.122\n",
            "views_scaled          15.5483      0.412     37.717      0.000      14.740      16.356\n",
            "discrediting          -0.1275      0.084     -1.514      0.130      -0.292       0.037\n",
            "emotion                0.0264      0.056      0.474      0.636      -0.083       0.135\n",
            "polarization          -0.3387      0.106     -3.199      0.001      -0.546      -0.131\n",
            "impersonation         -0.4409      0.125     -3.518      0.000      -0.687      -0.195\n",
            "conspiracy             0.3223      0.090      3.591      0.000       0.146       0.498\n",
            "trolling               0.6013      0.081      7.450      0.000       0.443       0.759\n",
            "======================================================================================\n"
          ]
        },
        {
          "name": "stderr",
          "output_type": "stream",
          "text": [
            "/usr/local/lib/python3.10/dist-packages/statsmodels/genmod/families/family.py:1367: ValueWarning: Negative binomial dispersion parameter alpha not set. Using default value alpha=1.0.\n",
            "  warnings.warn(\"Negative binomial dispersion parameter alpha not \"\n"
          ]
        }
      ],
      "source": [
        "import statsmodels.api as sm\n",
        "\n",
        "X = results_df_all[['occupied','pro-ru in occupied',\"pro-ua in occupied\"]+predictors]\n",
        "X = sm.add_constant(X)           # Add constant for the intercept\n",
        "y = results_df_all[dv]\n",
        "\n",
        "model = sm.GLM(y, X, family=sm.families.NegativeBinomial()).fit()\n",
        "\n",
        "print(model.summary())"
      ]
    },
    {
      "cell_type": "code",
      "execution_count": null,
      "metadata": {
        "colab": {
          "base_uri": "https://localhost:8080/",
          "height": 507
        },
        "id": "MJBcm5Qm3S6y",
        "outputId": "5e0644b3-df1d-4558-edcb-ff8a150e0db6"
      },
      "outputs": [
        {
          "data": {
            "image/png": "[encoded data removed]",
            "text/plain": [
              "<Figure size 800x500 with 1 Axes>"
            ]
          },
          "metadata": {},
          "output_type": "display_data"
        }
      ],
      "source": [
        "def dw_plot(model):\n",
        "    err_series = model.params - model.conf_int()[0]\n",
        "    coef_df = pd.DataFrame({'coef': np.exp(model.params.values[1:]),\n",
        "                        'err': err_series.values[1:],\n",
        "                        'varname': err_series.index.values[1:]\n",
        "                       })\n",
        "    coef_df = coef_df[coef_df['varname'] != 'views_scaled']\n",
        "    fig, ax = plt.subplots(figsize=(8, 5))\n",
        "\n",
        "\n",
        "    coef_df.plot(x='varname', y='coef', kind='barh',\n",
        "             ax=ax, color='none',\n",
        "             xerr='err', legend=False, linewidth=1.5)\n",
        "\n",
        "\n",
        "    ax.scatter(coef_df['coef'], np.arange(coef_df.shape[0]),\n",
        "           marker='s', s=120, color='black')\n",
        "\n",
        "\n",
        "    ax.axvline(x=1, linestyle='--', color='black', linewidth=2)\n",
        "\n",
        "\n",
        "    ax.set_xlabel('')\n",
        "    ax.set_ylabel('')\n",
        "    ax.yaxis.set_ticks_position('none')\n",
        "\n",
        "    plt.tight_layout()\n",
        "\n",
        "    ax.grid(True, axis='x', linestyle='--', alpha=0.6)\n",
        "\n",
        "    plt.show()\n",
        "\n",
        "dw_plot(model)"
      ]
    },
    {
      "cell_type": "markdown",
      "metadata": {
        "id": "cjk11pcDA8ez"
      },
      "source": [
        "For a unit increase in trolling, the expected forwards rate increases by around exp(0.6013) - 1 = 82.45%."
      ]
    },
    {
      "cell_type": "markdown",
      "metadata": {
        "id": "765XHaITyvP5"
      },
      "source": [
        "Occupied"
      ]
    },
    {
      "cell_type": "code",
      "execution_count": null,
      "metadata": {
        "colab": {
          "base_uri": "https://localhost:8080/"
        },
        "id": "OOfVUHMUylDN",
        "outputId": "6b93b93a-9f64-44a2-cc38-7057da48ae33"
      },
      "outputs": [
        {
          "name": "stdout",
          "output_type": "stream",
          "text": [
            "                 Generalized Linear Model Regression Results                  \n",
            "==============================================================================\n",
            "Dep. Variable:               forwards   No. Observations:                  250\n",
            "Model:                            GLM   Df Residuals:                      240\n",
            "Model Family:        NegativeBinomial   Df Model:                            9\n",
            "Link Function:                    Log   Scale:                          1.0000\n",
            "Method:                          IRLS   Log-Likelihood:                -1161.9\n",
            "Date:                Mon, 13 Jan 2025   Deviance:                       653.62\n",
            "Time:                        14:13:17   Pearson chi2:                     686.\n",
            "No. Iterations:                    52   Pseudo R-squ. (CS):             0.9371\n",
            "Covariance Type:            nonrobust                                         \n",
            "=================================================================================\n",
            "                    coef    std err          z      P>|z|      [0.025      0.975]\n",
            "---------------------------------------------------------------------------------\n",
            "const             2.8348      0.114     24.781      0.000       2.611       3.059\n",
            "pro-ukrainian    -0.4421      0.106     -4.168      0.000      -0.650      -0.234\n",
            "pro-russian       0.0950      0.056      1.700      0.089      -0.015       0.204\n",
            "views_scaled     11.0963      0.426     26.056      0.000      10.262      11.931\n",
            "discrediting     -0.3002      0.128     -2.338      0.019      -0.552      -0.049\n",
            "emotion          -0.0539      0.076     -0.710      0.478      -0.203       0.095\n",
            "polarization     -0.0016      0.156     -0.010      0.992      -0.308       0.305\n",
            "impersonation    -0.3434      0.140     -2.449      0.014      -0.618      -0.069\n",
            "conspiracy        0.2966      0.151      1.960      0.050   -1.95e-05       0.593\n",
            "trolling          0.3995      0.124      3.214      0.001       0.156       0.643\n",
            "=================================================================================\n"
          ]
        },
        {
          "name": "stderr",
          "output_type": "stream",
          "text": [
            "/usr/local/lib/python3.10/dist-packages/statsmodels/genmod/families/family.py:1367: ValueWarning: Negative binomial dispersion parameter alpha not set. Using default value alpha=1.0.\n",
            "  warnings.warn(\"Negative binomial dispersion parameter alpha not \"\n"
          ]
        }
      ],
      "source": [
        "X = results_df_all[results_df_all['occupied']==1][predictors]\n",
        "X = sm.add_constant(X)\n",
        "y = results_df_all[results_df_all['occupied']==1][dv]\n",
        "\n",
        "model = sm.GLM(y, X, family=sm.families.NegativeBinomial()).fit()\n",
        "\n",
        "print(model.summary())"
      ]
    },
    {
      "cell_type": "code",
      "execution_count": null,
      "metadata": {
        "colab": {
          "base_uri": "https://localhost:8080/",
          "height": 507
        },
        "id": "JSxj5APT8NjS",
        "outputId": "e3a7afaf-f1f3-4132-91df-c7f728e337ae"
      },
      "outputs": [
        {
          "data": {
            "image/png": "[encoded data removed]",
            "text/plain": [
              "<Figure size 800x500 with 1 Axes>"
            ]
          },
          "metadata": {},
          "output_type": "display_data"
        }
      ],
      "source": [
        "dw_plot(model)"
      ]
    },
    {
      "cell_type": "code",
      "execution_count": null,
      "metadata": {
        "colab": {
          "base_uri": "https://localhost:8080/"
        },
        "id": "HG9Brg4xy7P5",
        "outputId": "c1530a3d-e861-401b-ef03-d4eda9094137"
      },
      "outputs": [
        {
          "name": "stdout",
          "output_type": "stream",
          "text": [
            "                 Generalized Linear Model Regression Results                  \n",
            "==============================================================================\n",
            "Dep. Variable:               forwards   No. Observations:                  250\n",
            "Model:                            GLM   Df Residuals:                      240\n",
            "Model Family:        NegativeBinomial   Df Model:                            9\n",
            "Link Function:                    Log   Scale:                          1.0000\n",
            "Method:                          IRLS   Log-Likelihood:                -789.61\n",
            "Date:                Mon, 13 Jan 2025   Deviance:                       412.72\n",
            "Time:                        14:13:40   Pearson chi2:                     582.\n",
            "No. Iterations:                    16   Pseudo R-squ. (CS):             0.8947\n",
            "Covariance Type:            nonrobust                                         \n",
            "=================================================================================\n",
            "                    coef    std err          z      P>|z|      [0.025      0.975]\n",
            "---------------------------------------------------------------------------------\n",
            "const             0.9716      0.136      7.119      0.000       0.704       1.239\n",
            "pro-ukrainian     0.0665      0.058      1.149      0.251      -0.047       0.180\n",
            "pro-russian      -0.0731      0.068     -1.077      0.282      -0.206       0.060\n",
            "views_scaled     46.8142      2.378     19.686      0.000      42.153      51.475\n",
            "discrediting      0.1864      0.121      1.546      0.122      -0.050       0.423\n",
            "emotion           0.0374      0.087      0.429      0.668      -0.134       0.209\n",
            "polarization     -0.4644      0.156     -2.970      0.003      -0.771      -0.158\n",
            "impersonation    -0.0575      0.321     -0.179      0.858      -0.687       0.572\n",
            "conspiracy       -0.0292      0.120     -0.243      0.808      -0.265       0.206\n",
            "trolling          0.6275      0.113      5.533      0.000       0.405       0.850\n",
            "=================================================================================\n"
          ]
        },
        {
          "name": "stderr",
          "output_type": "stream",
          "text": [
            "/usr/local/lib/python3.10/dist-packages/statsmodels/genmod/families/family.py:1367: ValueWarning: Negative binomial dispersion parameter alpha not set. Using default value alpha=1.0.\n",
            "  warnings.warn(\"Negative binomial dispersion parameter alpha not \"\n"
          ]
        }
      ],
      "source": [
        "X = results_df_all[results_df_all['occupied']==0][predictors]\n",
        "X = sm.add_constant(X)\n",
        "y = results_df_all[results_df_all['occupied']==0][dv]\n",
        "\n",
        "model = sm.GLM(y, X, family=sm.families.NegativeBinomial()).fit()\n",
        "\n",
        "print(model.summary())"
      ]
    },
    {
      "cell_type": "code",
      "execution_count": null,
      "metadata": {
        "colab": {
          "base_uri": "https://localhost:8080/",
          "height": 507
        },
        "id": "FZ2ZU89x8SQy",
        "outputId": "605802b5-ef2c-4a89-8059-de3e6a757dca"
      },
      "outputs": [
        {
          "data": {
            "image/png": "[encoded data removed]",
            "text/plain": [
              "<Figure size 800x500 with 1 Axes>"
            ]
          },
          "metadata": {},
          "output_type": "display_data"
        }
      ],
      "source": [
        "dw_plot(model)"
      ]
    }
  ],
  "metadata": {
    "colab": {
      "collapsed_sections": [
        "A-q6HWoUbRNw",
        "ZD4NEY-HbL8Y",
        "CgR0_eVTuC-x",
        "VCsIOJnSDJrt",
        "h_EVHRZ_3Z2s"
      ],
      "gpuType": "T4",
      "provenance": [],
      "include_colab_link": true
    },
    "kernelspec": {
      "display_name": "Python 3",
      "name": "python3"
    },
    "language_info": {
      "name": "python"
    }
  },
  "nbformat": 4,
  "nbformat_minor": 0
}